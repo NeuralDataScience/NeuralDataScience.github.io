{
 "cells": [
  {
   "cell_type": "markdown",
   "id": "139ef0a1",
   "metadata": {},
   "source": [
    "# Single-Cell Electrophysiology Data\n",
    "\n",
    "The Allen Cell Types dataset contains data recorded from cells using whole-cell patch clamp while injecting different current waveforms into the cells. It includes many pre-computed neuron metrics such as adaptation ratio, interspike interval, and spike rate, and intrinsic electrophysiology characteristics including resting membrane potential, rheobase, and more.\n",
    "\n",
    "Single cell recording data is the simplest time series we can typically think of — it’s one vector of numbers, over time. In the notebook for this section, we’ll show how you can interact with single-cell recording data from the Allen Institute for Brain Science. This dataset contains data recorded from cells using whole-cell patch clamp while injecting different current waveforms into the cells. It includes many pre-computed neuron metrics such as adaptation ratio, interspike interval, and spike rate, and intrinsic electrophysiology characteristics including resting membrane potential, rheobase, and more.\n",
    "\n",
    "### Learning objectives\n",
    "\n",
    "After completing this lesson, you'll be able to:\n",
    "* download single cell electophysiology data from the Allen Brain Cell Types Database\n",
    "* access and plot pre-computed features\n",
    "* parameterize an action potential with your own code\n",
    "* plot the morphology of single cells\n",
    "<hr>"
   ]
  },
  {
   "cell_type": "markdown",
   "id": "3814c6b0",
   "metadata": {},
   "source": [
    "## Setup\n",
    "\n",
    "First, we'll import the packages we need, including the Allen SDK. If you don't have the allensdk installed, run `!pip install allensdk`. There is more information on installing the AllenSDK in the <a href=\"http://alleninstitute.github.io/AllenSDK/install.html\">install guide</a>. We'll also import two specific things from the allenSDK: `CellTypesCache` and `CellTypesApi`."
   ]
  },
  {
   "cell_type": "code",
   "execution_count": 1,
   "id": "43d6557e",
   "metadata": {},
   "outputs": [
    {
     "name": "stdout",
     "output_type": "stream",
     "text": [
      "Packages were successfully imported.\n"
     ]
    }
   ],
   "source": [
    "import allensdk\n",
    "\n",
    "# Import the \"Cell Types Cache\" from the AllenSDK core package\n",
    "from allensdk.core.cell_types_cache import CellTypesCache\n",
    "\n",
    "# Import CellTypesApi, which will allow us to query the database.\n",
    "from allensdk.api.queries.cell_types_api import CellTypesApi\n",
    "\n",
    "# Import packages \n",
    "import pandas as pd\n",
    "import numpy as np\n",
    "import matplotlib.pyplot as plt\n",
    "\n",
    "print('Packages were successfully imported.')"
   ]
  },
  {
   "cell_type": "markdown",
   "id": "cecc4da1",
   "metadata": {},
   "source": [
    "Next, we need to create a CellTypesCache object (`ctc`), and we'll initalize it with a manifest file."
   ]
  },
  {
   "cell_type": "code",
   "execution_count": 3,
   "id": "0488a1f8",
   "metadata": {},
   "outputs": [],
   "source": [
    "ctc = CellTypesCache(manifest_file='cell_types/manifest.json')"
   ]
  },
  {
   "cell_type": "markdown",
   "id": "4c406155",
   "metadata": {},
   "source": [
    "## Get metadata about cells\n",
    "The `get_cells()` method downloads metadata for cells in the database. The database contains human cells and mouse cells. By default, `get_cells()` downloads metadata for *all* cells in the database. Alternatively, you can filter the database to only include cells collected from a certain species.\n",
    "Look through <a href=\"https://allensdk.readthedocs.io/en/latest/allensdk.core.cell_types_cache.html\">the documentation for the CellTypesCache</a> for more information on the `get_cells` method."
   ]
  },
  {
   "cell_type": "code",
   "execution_count": 7,
   "id": "cf6d0c06",
   "metadata": {},
   "outputs": [
    {
     "name": "stdout",
     "output_type": "stream",
     "text": [
      "Number of cells: 2333\n"
     ]
    },
    {
     "data": {
      "text/html": [
       "<div>\n",
       "<style scoped>\n",
       "    .dataframe tbody tr th:only-of-type {\n",
       "        vertical-align: middle;\n",
       "    }\n",
       "\n",
       "    .dataframe tbody tr th {\n",
       "        vertical-align: top;\n",
       "    }\n",
       "\n",
       "    .dataframe thead th {\n",
       "        text-align: right;\n",
       "    }\n",
       "</style>\n",
       "<table border=\"1\" class=\"dataframe\">\n",
       "  <thead>\n",
       "    <tr style=\"text-align: right;\">\n",
       "      <th></th>\n",
       "      <th>reporter_status</th>\n",
       "      <th>cell_soma_location</th>\n",
       "      <th>species</th>\n",
       "      <th>name</th>\n",
       "      <th>structure_layer_name</th>\n",
       "      <th>structure_area_id</th>\n",
       "      <th>structure_area_abbrev</th>\n",
       "      <th>transgenic_line</th>\n",
       "      <th>dendrite_type</th>\n",
       "      <th>apical</th>\n",
       "      <th>reconstruction_type</th>\n",
       "      <th>disease_state</th>\n",
       "      <th>donor_id</th>\n",
       "      <th>structure_hemisphere</th>\n",
       "      <th>normalized_depth</th>\n",
       "    </tr>\n",
       "    <tr>\n",
       "      <th>id</th>\n",
       "      <th></th>\n",
       "      <th></th>\n",
       "      <th></th>\n",
       "      <th></th>\n",
       "      <th></th>\n",
       "      <th></th>\n",
       "      <th></th>\n",
       "      <th></th>\n",
       "      <th></th>\n",
       "      <th></th>\n",
       "      <th></th>\n",
       "      <th></th>\n",
       "      <th></th>\n",
       "      <th></th>\n",
       "      <th></th>\n",
       "    </tr>\n",
       "  </thead>\n",
       "  <tbody>\n",
       "    <tr>\n",
       "      <th>525011903</th>\n",
       "      <td>None</td>\n",
       "      <td>[273.0, 354.0, 216.0]</td>\n",
       "      <td>Homo Sapiens</td>\n",
       "      <td>H16.03.003.01.14.02</td>\n",
       "      <td>3</td>\n",
       "      <td>12113</td>\n",
       "      <td>FroL</td>\n",
       "      <td></td>\n",
       "      <td>spiny</td>\n",
       "      <td>intact</td>\n",
       "      <td>None</td>\n",
       "      <td>epilepsy</td>\n",
       "      <td>524848408</td>\n",
       "      <td>right</td>\n",
       "      <td>NaN</td>\n",
       "    </tr>\n",
       "    <tr>\n",
       "      <th>565871768</th>\n",
       "      <td>positive</td>\n",
       "      <td>[8966.56330957526, 1429.52689052075, 8567.3896...</td>\n",
       "      <td>Mus musculus</td>\n",
       "      <td>Oxtr-2A-Cre;Ai14-293837.03.01.02</td>\n",
       "      <td>5</td>\n",
       "      <td>385</td>\n",
       "      <td>VISp</td>\n",
       "      <td>Oxtr-T2A-Cre</td>\n",
       "      <td>aspiny</td>\n",
       "      <td>NA</td>\n",
       "      <td>None</td>\n",
       "      <td></td>\n",
       "      <td>563340157</td>\n",
       "      <td>left</td>\n",
       "      <td>0.582057</td>\n",
       "    </tr>\n",
       "    <tr>\n",
       "      <th>469801138</th>\n",
       "      <td>positive</td>\n",
       "      <td>[7872.53138541818, 993.212032389272, 3127.1530...</td>\n",
       "      <td>Mus musculus</td>\n",
       "      <td>Pvalb-IRES-Cre;Ai14-170927.05.02.01</td>\n",
       "      <td>4</td>\n",
       "      <td>385</td>\n",
       "      <td>VISp</td>\n",
       "      <td>Pvalb-IRES-Cre</td>\n",
       "      <td>aspiny</td>\n",
       "      <td>NA</td>\n",
       "      <td>None</td>\n",
       "      <td></td>\n",
       "      <td>319194354</td>\n",
       "      <td>right</td>\n",
       "      <td>0.469578</td>\n",
       "    </tr>\n",
       "    <tr>\n",
       "      <th>528642047</th>\n",
       "      <td>None</td>\n",
       "      <td>[69.0, 254.0, 96.0]</td>\n",
       "      <td>Homo Sapiens</td>\n",
       "      <td>H16.06.009.01.02.06.05</td>\n",
       "      <td>5</td>\n",
       "      <td>12141</td>\n",
       "      <td>MTG</td>\n",
       "      <td></td>\n",
       "      <td>aspiny</td>\n",
       "      <td>NA</td>\n",
       "      <td>None</td>\n",
       "      <td>epilepsy</td>\n",
       "      <td>528574320</td>\n",
       "      <td>left</td>\n",
       "      <td>NaN</td>\n",
       "    </tr>\n",
       "    <tr>\n",
       "      <th>605889373</th>\n",
       "      <td>positive</td>\n",
       "      <td>[9400.0, 1520.74232706376, 2188.13845194139]</td>\n",
       "      <td>Mus musculus</td>\n",
       "      <td>Vipr2-IRES2-Cre;Slc32a1-T2A-FlpO;Ai65-337419.0...</td>\n",
       "      <td>2/3</td>\n",
       "      <td>385</td>\n",
       "      <td>VISp</td>\n",
       "      <td>Slc32a1-T2A-FlpO|Vipr2-IRES2-Cre</td>\n",
       "      <td>aspiny</td>\n",
       "      <td>NA</td>\n",
       "      <td>None</td>\n",
       "      <td></td>\n",
       "      <td>605622695</td>\n",
       "      <td>right</td>\n",
       "      <td>NaN</td>\n",
       "    </tr>\n",
       "  </tbody>\n",
       "</table>\n",
       "</div>"
      ],
      "text/plain": [
       "          reporter_status                                 cell_soma_location  \\\n",
       "id                                                                             \n",
       "525011903            None                              [273.0, 354.0, 216.0]   \n",
       "565871768        positive  [8966.56330957526, 1429.52689052075, 8567.3896...   \n",
       "469801138        positive  [7872.53138541818, 993.212032389272, 3127.1530...   \n",
       "528642047            None                                [69.0, 254.0, 96.0]   \n",
       "605889373        positive       [9400.0, 1520.74232706376, 2188.13845194139]   \n",
       "\n",
       "                species                                               name  \\\n",
       "id                                                                           \n",
       "525011903  Homo Sapiens                                H16.03.003.01.14.02   \n",
       "565871768  Mus musculus                   Oxtr-2A-Cre;Ai14-293837.03.01.02   \n",
       "469801138  Mus musculus                Pvalb-IRES-Cre;Ai14-170927.05.02.01   \n",
       "528642047  Homo Sapiens                             H16.06.009.01.02.06.05   \n",
       "605889373  Mus musculus  Vipr2-IRES2-Cre;Slc32a1-T2A-FlpO;Ai65-337419.0...   \n",
       "\n",
       "          structure_layer_name  structure_area_id structure_area_abbrev  \\\n",
       "id                                                                        \n",
       "525011903                    3              12113                  FroL   \n",
       "565871768                    5                385                  VISp   \n",
       "469801138                    4                385                  VISp   \n",
       "528642047                    5              12141                   MTG   \n",
       "605889373                  2/3                385                  VISp   \n",
       "\n",
       "                            transgenic_line dendrite_type  apical  \\\n",
       "id                                                                  \n",
       "525011903                                           spiny  intact   \n",
       "565871768                      Oxtr-T2A-Cre        aspiny      NA   \n",
       "469801138                    Pvalb-IRES-Cre        aspiny      NA   \n",
       "528642047                                          aspiny      NA   \n",
       "605889373  Slc32a1-T2A-FlpO|Vipr2-IRES2-Cre        aspiny      NA   \n",
       "\n",
       "          reconstruction_type disease_state   donor_id structure_hemisphere  \\\n",
       "id                                                                            \n",
       "525011903                None      epilepsy  524848408                right   \n",
       "565871768                None                563340157                 left   \n",
       "469801138                None                319194354                right   \n",
       "528642047                None      epilepsy  528574320                 left   \n",
       "605889373                None                605622695                right   \n",
       "\n",
       "           normalized_depth  \n",
       "id                           \n",
       "525011903               NaN  \n",
       "565871768          0.582057  \n",
       "469801138          0.469578  \n",
       "528642047               NaN  \n",
       "605889373               NaN  "
      ]
     },
     "execution_count": 7,
     "metadata": {},
     "output_type": "execute_result"
    }
   ],
   "source": [
    "# Download metadata for all cells in the database\n",
    "all_cells = ctc.get_cells()\n",
    "\n",
    "# Convert it to a dataframe with the cell id as the index\n",
    "all_cells_df = pd.DataFrame(all_cells).set_index('id')\n",
    "\n",
    "print('Number of cells:',len(all_cells_df))\n",
    "all_cells_df.head()"
   ]
  },
  {
   "cell_type": "markdown",
   "id": "34f881cc",
   "metadata": {},
   "source": [
    "## Get Electrophysiology Data\n",
    "\n",
    "The `get_ephys_data()` method can download electrophysiology traces for a single cell in the database. This method returns a class instance with helper methods for retrieving stimulus and response traces out of an NWB file. If we take a look at `specimen_ephys_data` we can see that it is an NWBDataSet object.  In order to use `get_ephys_data()`, you must specify the id of the cell specimen whose electrophysiology you would like to download.\n",
    "\n",
    "The source documentation for all the methods we cover can be found on the <a href = 'https://allensdk.readthedocs.io/en/latest/allensdk.core.nwb_data_set.html'> Allen Brain Atlas website</a>. The `get_experiment_sweep_numbers()` method returns all of the sweep numbers for experiments in the file. Each sweep contains metadata and electrophysiology data.\n",
    "\n",
    "<mark>*Note*: This cell will take a few seconds to run.</mark>"
   ]
  },
  {
   "cell_type": "code",
   "execution_count": 28,
   "id": "59182e5c",
   "metadata": {},
   "outputs": [
    {
     "name": "stderr",
     "output_type": "stream",
     "text": [
      "2022-10-13 12:22:57,468 allensdk.api.api.retrieve_file_over_http INFO     Downloading URL: http://api.brain-map.org/api/v2/well_known_file_download/491200026\n"
     ]
    },
    {
     "name": "stdout",
     "output_type": "stream",
     "text": [
      "<class 'allensdk.core.nwb_data_set.NwbDataSet'>\n",
      "[10, 11, 12, 13, 14, 15, 17, 18, 19, 20, 21, 22, 23, 29, 30, 34, 35, 36, 37, 38, 39, 40, 41, 42, 43, 44, 45, 46, 48, 5, 50, 51, 52, 53, 54, 55, 56, 57, 58, 6, 60, 64, 65, 66, 67, 69, 7, 70, 71, 73, 74, 75, 76, 77, 78, 79, 8, 80, 81, 82, 83, 84, 85, 86, 87, 88, 89, 9, 90, 91, 92, 93, 94, 96, 97, 99]\n"
     ]
    }
   ],
   "source": [
    "# Get the cell_id for a cell in our dataframe\n",
    "cell_id = all_cells_df.index[2]\n",
    "\n",
    "# Get electrophysiological traces of our cell\n",
    "specimen_ephys_data = ctc.get_ephys_data(specimen_id = cell_id)\n",
    "\n",
    "# Retrieve sweep numbers for cell\n",
    "sweep_numbers = specimen_ephys_data.get_experiment_sweep_numbers()\n",
    "\n",
    "print(type(specimen_ephys_data))\n",
    "print(sweep_numbers)"
   ]
  },
  {
   "cell_type": "markdown",
   "id": "547645f2",
   "metadata": {},
   "source": [
    "Now that we have sweep numbers to choose from, we can take a look at a sweep's metadata by calling `get_sweep_metadata()`. This returns a dictionary containing information such as stimulus parameters and recording quality."
   ]
  },
  {
   "cell_type": "code",
   "execution_count": 38,
   "id": "932b60bf",
   "metadata": {},
   "outputs": [
    {
     "name": "stdout",
     "output_type": "stream",
     "text": [
      "{'aibs_stimulus_amplitude_pa': 560.0, 'aibs_stimulus_name': 'Short Square', 'gain': 0.01, 'initial_access_resistance': 17.857716, 'seal': 1.0445606}\n"
     ]
    },
    {
     "name": "stderr",
     "output_type": "stream",
     "text": [
      "/Users/ashley/anaconda3/lib/python3.7/site-packages/allensdk/core/nwb_data_set.py:386: H5pyDeprecationWarning: dataset.value has been deprecated. Use dataset[()] instead.\n",
      "  sweep_metadata[field] = stim_details[field].value\n"
     ]
    }
   ],
   "source": [
    "# Select a sweep number \n",
    "sweep_number = sweep_numbers[10]\n",
    "\n",
    "# Retrieve metadata for selected sweep\n",
    "specimen_metadata = specimen_ephys_data.get_sweep_metadata(sweep_number)\n",
    "print(specimen_metadata)"
   ]
  },
  {
   "cell_type": "markdown",
   "id": "6fc81e72",
   "metadata": {},
   "source": [
    "The `get_sweep()` method returns a dictionary containing the stimulus, response, index_range, and sampling rate for a particular sweep."
   ]
  },
  {
   "cell_type": "code",
   "execution_count": 39,
   "id": "7f470b26",
   "metadata": {},
   "outputs": [
    {
     "name": "stdout",
     "output_type": "stream",
     "text": [
      "{'stimulus': array([0., 0., 0., ..., 0., 0., 0.], dtype=float32), 'response': array([-0.07228125, -0.07234375, -0.07234375, ..., -0.07265625,\n",
      "       -0.07271875, -0.0726875 ], dtype=float32), 'stimulus_unit': 'Amps', 'index_range': (150000, 404600), 'sampling_rate': 200000.0}\n"
     ]
    },
    {
     "name": "stderr",
     "output_type": "stream",
     "text": [
      "/Users/ashley/anaconda3/lib/python3.7/site-packages/allensdk/core/nwb_data_set.py:108: H5pyDeprecationWarning: dataset.value has been deprecated. Use dataset[()] instead.\n",
      "  stimulus = stimulus_dataset.value\n",
      "/Users/ashley/anaconda3/lib/python3.7/site-packages/allensdk/core/nwb_data_set.py:109: H5pyDeprecationWarning: dataset.value has been deprecated. Use dataset[()] instead.\n",
      "  response = swp['response']['timeseries']['data'].value\n",
      "/Users/ashley/anaconda3/lib/python3.7/site-packages/allensdk/core/nwb_data_set.py:125: H5pyDeprecationWarning: dataset.value has been deprecated. Use dataset[()] instead.\n",
      "  swp_idx_start = swp['stimulus']['idx_start'].value\n",
      "/Users/ashley/anaconda3/lib/python3.7/site-packages/allensdk/core/nwb_data_set.py:126: H5pyDeprecationWarning: dataset.value has been deprecated. Use dataset[()] instead.\n",
      "  swp_length = swp['stimulus']['count'].value\n",
      "/Users/ashley/anaconda3/lib/python3.7/site-packages/allensdk/core/nwb_data_set.py:135: H5pyDeprecationWarning: dataset.value has been deprecated. Use dataset[()] instead.\n",
      "  exp_idx_start = exp['stimulus']['idx_start'].value\n",
      "/Users/ashley/anaconda3/lib/python3.7/site-packages/allensdk/core/nwb_data_set.py:136: H5pyDeprecationWarning: dataset.value has been deprecated. Use dataset[()] instead.\n",
      "  exp_length = exp['stimulus']['count'].value\n"
     ]
    }
   ],
   "source": [
    "sweep_data = specimen_ephys_data.get_sweep(sweep_number)\n",
    "print(sweep_data)"
   ]
  },
  {
   "cell_type": "markdown",
   "id": "6b8c1956",
   "metadata": {},
   "source": [
    "Now that you've pulled down some data, chosen a cell, and chosen a sweep number, let's plot that data. We can look closer at the action potential by plotting the raw recording. Our `sweep_data` variable has all the data we need to plot our sweep; the stimulus current injected into our cell, the cell's response, and sampling rate of the sweep. "
   ]
  },
  {
   "cell_type": "code",
   "execution_count": 40,
   "id": "025502b4",
   "metadata": {},
   "outputs": [
    {
     "data": {
      "image/png": "[encoded data removed]",
      "text/plain": [
       "<Figure size 648x648 with 2 Axes>"
      ]
     },
     "metadata": {
      "needs_background": "light"
     },
     "output_type": "display_data"
    }
   ],
   "source": [
    "# Get the stimulus trace (in amps) and convert to pA\n",
    "stim_current = sweep_data['stimulus'] * 1e12\n",
    "\n",
    "# Get the voltage trace (in volts) and convert to mV\n",
    "response_voltage = sweep_data['response'] * 1e3\n",
    "\n",
    "# Get the sampling rate and can create a time axis for our data\n",
    "sampling_rate = sweep_data['sampling_rate'] # in Hz\n",
    "timestamps = (np.arange(0, len(response_voltage)) * (1.0 / sampling_rate))\n",
    "\n",
    "fig, ax = plt.subplots(2, 1, sharex=True, figsize=(9,9))\n",
    "\n",
    "ax[0].set_title('Cell: '+str(cell_id)+', Sweep: '+str(sweep_number))\n",
    "ax[0].plot(timestamps, response_voltage)\n",
    "ax[0].set_ylabel('Cell Response (mV)')\n",
    "ax[1].plot(timestamps, stim_current)\n",
    "ax[1].set_xlabel('Time (sec)')\n",
    "ax[1].set_ylabel('Input Current (nA)')\n",
    "#ax[1].set_xlim([2,2.2])\n",
    "\n",
    "plt.show()"
   ]
  },
  {
   "cell_type": "markdown",
   "id": "50ae58d0",
   "metadata": {},
   "source": [
    "## Compute your own cell features"
   ]
  },
  {
   "cell_type": "code",
   "execution_count": null,
   "id": "f6d331cb",
   "metadata": {},
   "outputs": [],
   "source": []
  }
 ],
 "metadata": {
  "kernelspec": {
   "display_name": "Python 3 (ipykernel)",
   "language": "python",
   "name": "python3"
  },
  "language_info": {
   "codemirror_mode": {
    "name": "ipython",
    "version": 3
   },
   "file_extension": ".py",
   "mimetype": "text/x-python",
   "name": "python",
   "nbconvert_exporter": "python",
   "pygments_lexer": "ipython3",
   "version": "3.12.2"
  }
 },
 "nbformat": 4,
 "nbformat_minor": 5
}
