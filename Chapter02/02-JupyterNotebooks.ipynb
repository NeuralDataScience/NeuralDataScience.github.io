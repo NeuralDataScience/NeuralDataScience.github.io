{
 "cells": [
  {
   "cell_type": "markdown",
   "metadata": {},
   "source": [
    "# Introduction to Jupyter Notebooks\n",
    "\n",
    "This first notebook will introduce you using Google Colab/Jupyter Notebooks, a handy coding environment for learning as well as sharing code with others.\n",
    "\n",
    "\n",
    "## At the end of this notebook, you'll be able to:\n",
    "* Recognize the main features of Jupyter Notebooks\n",
    "* Use notebooks to run Python Code\n",
    "* Identify and edit simple Markdown code\n",
    "* Create a list and a NumPy array\n",
    "* Use matplotlib to create line and scatter plots\n",
    "\n",
    "## Saving your work\n",
    "<mark>To save a copy of this notebook for yourself in Google Colab, go to `File > Save a copy` in Drive. These files will show up in a folder called “Colab Notebooks” in your Drive. Otherwise, your changes here will not be saved.</mark>\n",
    "\n",
    "<hr>"
   ]
  },
  {
   "cell_type": "markdown",
   "metadata": {},
   "source": [
    "## Part I. About Jupyter Notebooks\n",
    "\n",
    "Jupyter notebooks are a way to combine executable code, code outputs, and text into one connected file. They run in a web browser, but don't require the internet (unless you're running it on Colab or a Jupyter Hub). \n",
    "\n",
    "The <b>'kernel'</b> is the thing that executes your code. It is what connects the notebook (as you see it) with the part of your computer, or the DataHub computers, that runs code.\n",
    "\n",
    "\n",
    "### Types of Cells\n",
    "Jupyter Notebooks have two types of cells, a <b>Markdown</b> (like this one) and <b>Code</b>. Most of the time you won't need to run the Markdown cells, just read through them. However, when we get to a code cell, you need to tell Jupyter to run the lines of code that it contains.\n",
    "\n",
    "Code cells will be read by the Python interpreter. In other words, the Python kernel will run whatever it recognizes as code within the cell.\n",
    " \n",
    "><b>Task:</b> Run the cell below! You can run a cell (this box) by pressing shift-enter or by pressing the run arrow."
   ]
  },
  {
   "cell_type": "code",
   "execution_count": null,
   "metadata": {
    "scrolled": true
   },
   "outputs": [],
   "source": [
    "# In Python, anything with a \"#\" in front of it is code annotation,\n",
    "# and is not read by the computer.\n",
    "# \n",
    "# Click in this cell and then press shift and enter simultaneously.\n",
    "# The print function below generates a message.\n",
    "print('Nice work!')"
   ]
  },
  {
   "cell_type": "markdown",
   "metadata": {},
   "source": [
    "## Part II. Using Markdown\n",
    "Markdown is useful because it can be formatted using simple symbols. [Here's a full cheatsheet of markdown](https://github.com/adam-p/markdown-here/wiki/Markdown-Cheatsheet) for more tips, but the main syntax is below:\n",
    "* You can create bulleted lists using asterisks.\n",
    "* Similarly, you can create numbered lists using numbers.\n",
    "* You can **bold** with two asterisks or underscores on either side (`**bold**`) or *italicize* with one asterisk or underscore (`*italicize*`)\n",
    "* Pound signs (#) create headers. More pound signs means a smaller header.\n",
    "\n",
    "><b>Task:</b> Edit the markdown cell below with a quick biography of yourself. You should have your name as a big header, a short quippy subtitle for yourself as a smaller header, and a three bullet points that use both <b>bold</b> and <i>italic</i>."
   ]
  },
  {
   "cell_type": "markdown",
   "metadata": {},
   "source": [
    "Edit this markdown cell!"
   ]
  },
  {
   "cell_type": "markdown",
   "metadata": {},
   "source": [
    "<a id=\"python\"></a>\n",
    "## Part III: Basic Python Syntax\n",
    "\n",
    "Like any language, Python follows a set of rules, known as the language **syntax**. Below, we'll see how to write expressions in Python, create variables, and then manipulate those variables."
   ]
  },
  {
   "cell_type": "markdown",
   "metadata": {},
   "source": [
    "### Python Expressions\n",
    "\n",
    "We can perform various arithmetic operations in Python:\n",
    "\n",
    "<p align=\"center\">\n",
    "\n",
    "| Symbol |    Operation   | Usage |\n",
    "|:------:|:--------------:|:-----:|\n",
    "|    +   |    Addition    |  10+2 |\n",
    "|    -   |   Subtraction  |  10-2 |\n",
    "|    *   | Multiplication |  10*2 |\n",
    "|    /   |    Division    |  10/2 |\n",
    "|   **   |    Exponent    | 10**2 |\n",
    "| %      |    Modulo      |  10%2 |\n",
    "\n",
    "</p>\n",
    "\n",
    "**Notes**:\n",
    "* The default order of operations is the same as in mathematics! (PEMDAS)\n",
    "* If you want a whole number from your division, use // instead"
   ]
  },
  {
   "cell_type": "markdown",
   "metadata": {},
   "source": [
    "><b>Task:</b> Try each of the operators above. Before using the modulo operator, predict what it will output, and make sure it produces what you expect. You can use `print()` statements to see the outcome of multiple lines of code."
   ]
  },
  {
   "cell_type": "code",
   "execution_count": null,
   "metadata": {},
   "outputs": [],
   "source": [
    "# Let's play with numbers weee\n"
   ]
  },
  {
   "cell_type": "markdown",
   "metadata": {},
   "source": [
    "## Variables\n",
    "Variables enable us to store a value and come back to it later. They are defined with `name = value`. *Assignment is not the same thing as equality,* as in mathematics. Instead, think of this as storing a value in a jar (the variable). \n",
    "\n",
    "### Assigning variables\n",
    "><b>Task:</b> Create two variables: <code>a</code> & <code>b</code>. Then, use an expression that combines <code>a</code> and <code>b</code>, and assign this to <code>c</code>. In the end, <code>c</code> should be equal to <b>6</b>."
   ]
  },
  {
   "cell_type": "code",
   "execution_count": null,
   "metadata": {},
   "outputs": [],
   "source": [
    "# Complete the task above here\n",
    "a = ..."
   ]
  },
  {
   "cell_type": "markdown",
   "metadata": {},
   "source": [
    "<b>Note</b>: Most code cells will not give you an output unless you ask for it. You can use `print( )` to output a variable or string. However, cells that *only* contain one variable will print its value.\n",
    "\n",
    "Usefully, you can run your cells out of order. This is useful for testing and debugging.\n",
    "\n",
    "><b>Task</b>: Change your equation for <code>c</code> in the cell above and then use <code>print(c)</code> to check its value. For example, if you originally multipled two times three, change the equation to two plus three."
   ]
  },
  {
   "cell_type": "markdown",
   "metadata": {},
   "source": [
    "<a id=\"plots\"></a>\n",
    "## Part IV: Generate some plots\n",
    "\n",
    "### Step 1. Import packages \n",
    "We can take advantage of pre-packaged code for many common functions in Python. But first, we need to tell Python to import it. This is a really common step for most Python code."
   ]
  },
  {
   "cell_type": "markdown",
   "metadata": {},
   "source": [
    "Below, we'll import a package called \"numpy\" and nickname it \"np\" and \"matplotlib.pyplot\" and nickname it \"plt.\"\n",
    "\n",
    "><b>Task:</b> Add <code>as plt</code> after <code>import matplotlib.pyplot</code> to instruct Python to import the [Matplotlib pyplot package](https://matplotlib.org/stable/tutorials/introductory/pyplot.html) but nickname it plt. When you see <code>plt</code> in our script, it's actually calling scripts from this package.\n",
    "\n",
    "After you import it, we'll use `%whos` to show all of the variables in the namespace, including our packages. Having printed messages like these is a really nice way to check that your cell actually ran, and that your packages are available."
   ]
  },
  {
   "cell_type": "code",
   "execution_count": null,
   "metadata": {},
   "outputs": [],
   "source": [
    "# Add your code here\n",
    "import matplotlib.pyplot\n",
    "\n",
    "%whos"
   ]
  },
  {
   "cell_type": "markdown",
   "metadata": {},
   "source": [
    "### Step 2: Enter some data to plot\n",
    "**Lists** are a type of **data structure** in Python. They are defined using brackets `[ ]` with individual items separated by commas. For example, if you wanted to create a list, you could write:\n",
    "\n",
    "```\n",
    "my_list = [1,3,2,5]\n",
    "```\n",
    "\n",
    "> **Task**: Below, generate a random list of 10 numbers for Python to plot. Assign it to `random_list`."
   ]
  },
  {
   "cell_type": "code",
   "execution_count": 2,
   "metadata": {},
   "outputs": [],
   "source": [
    "# Replace the ... with your list of numbers. Don't forget brackets!\n",
    "random_list = ..."
   ]
  },
  {
   "cell_type": "markdown",
   "metadata": {},
   "source": [
    "><b>Task</b>: Let's make sure Python did what we wanted it to do -- store our random list as a variable called <code>random_list</code>. Check by typing the variable name into the next cell, and running it. If that worked, you should see a list of values."
   ]
  },
  {
   "cell_type": "code",
   "execution_count": null,
   "metadata": {},
   "outputs": [],
   "source": []
  },
  {
   "cell_type": "markdown",
   "metadata": {},
   "source": [
    "### Step 3: Plot your data\n",
    "Let's pretend this is data from an awesome experiment we ran. We need to plot the data. Remember that we imported <code>matplotlib.pyplot</code> as <code>plt</code>. We can now use the `plt.plot()` function to plot our random list. `plot` is matploblib pyplot's basic plotting function.\n",
    "\n",
    ">**Task**: In the cell below, run `plt.plot()`, giving it just one argument: `random_list`. In the following line, use `plt.show()` (without any arguments) to cleanly show the plot."
   ]
  },
  {
   "cell_type": "code",
   "execution_count": null,
   "metadata": {
    "scrolled": true
   },
   "outputs": [],
   "source": []
  },
  {
   "cell_type": "markdown",
   "metadata": {},
   "source": [
    "\n",
    "><b>Tasks:</b>\n",
    "> 1. Add axes to your plots by adding <code>plt.xlabel('yourxlabelhere')</code> and <code>plt.ylabel('yourylabel')</code>. Add those above <i>before</i> <code>plt.show()</code>.\n",
    "> 2. Add some markers to your line! Do this by adding an additional argument to <code>plt.plot(random_list)</code>, so that it says <code>plt.plot(random_list, marker =\"o\")</code>. <a href=\"https://matplotlib.org/api/markers_api.html\">You can add various markers of your choosing!</a>."
   ]
  },
  {
   "cell_type": "markdown",
   "metadata": {},
   "source": [
    "### Step 4: Add some more data\n",
    "\n",
    "Let's create another random list and create a scatterplot of the data. To do so, we'll take a couple of steps.\n",
    "\n",
    "1. Import another package, called `numpy` (numerical python). The convention is to import this as np.\n",
    "2. Convert our list into a numpy array. This will allow us to perform numerical operations on it.\n",
    "3. <b>Task</b>: Create a second array named <code>random_array_2</code> where each value is **equal to all of the values in random_array times two**. You can do this with the same operators as above. For example, if we wanted to divide all of the values in `random_array`, we would use `random_array/2`. "
   ]
  },
  {
   "cell_type": "code",
   "execution_count": 4,
   "metadata": {},
   "outputs": [],
   "source": [
    "# 1 - Import numpy\n",
    "import numpy as np\n",
    "\n",
    "# 2 - Convert random_list to an array\n",
    "random_array = np.array(random_list)\n",
    "\n",
    "# 3 - Create random_array_2 below\n",
    "random_array_2 = ... "
   ]
  },
  {
   "cell_type": "markdown",
   "metadata": {},
   "source": [
    "><b>Task</b>: In the box below, make a scatterplot of your data using the matplotlib's scatter function. You should plot `random_array` on the x axis, and `random_array_2` on the y axis. Be sure to label your axes as well. You can find documentation on the scatter function <a href=\"https://matplotlib.org/api/_as_gen/matplotlib.pyplot.scatter.html\">here</a> or <a href=\"https://matplotlib.org/gallery/lines_bars_and_markers/scatter_symbol.html#sphx-glr-gallery-lines-bars-and-markers-scatter-symbol-py\">here (for more fun)</a>."
   ]
  },
  {
   "cell_type": "code",
   "execution_count": null,
   "metadata": {},
   "outputs": [],
   "source": []
  },
  {
   "cell_type": "markdown",
   "metadata": {},
   "source": [
    "### Step 5: Celebrate\n",
    "That's the Jupyter Notebook tutorial! You're ready to tackle more complex notebooks."
   ]
  },
  {
   "cell_type": "code",
   "execution_count": null,
   "metadata": {},
   "outputs": [],
   "source": [
    "from IPython.display import HTML\n",
    "HTML('<img src=\"https://media.tenor.com/images/99cff34bdcb675975b2b0cc661f2e4ce/tenor.gif\">')"
   ]
  },
  {
   "cell_type": "markdown",
   "metadata": {},
   "source": [
    "<hr>\n",
    "\n",
    "## Resources\n",
    "For additional Jupyter Notebook information and practice, see [this tutorial](https://www.dataquest.io/blog/jupyter-notebook-tutorial/) from DataQuest. \n",
    "\n",
    "## About this Notebook\n",
    "This notebook was created by [Ashley Juavinett](https://github.com/ajuavinett) for classes at UC San Diego."
   ]
  }
 ],
 "metadata": {
  "kernelspec": {
   "display_name": "Python 3 (ipykernel)",
   "language": "python",
   "name": "python3"
  },
  "language_info": {
   "codemirror_mode": {
    "name": "ipython",
    "version": 3
   },
   "file_extension": ".py",
   "mimetype": "text/x-python",
   "name": "python",
   "nbconvert_exporter": "python",
   "pygments_lexer": "ipython3",
   "version": "3.11.0"
  }
 },
 "nbformat": 4,
 "nbformat_minor": 2
}
