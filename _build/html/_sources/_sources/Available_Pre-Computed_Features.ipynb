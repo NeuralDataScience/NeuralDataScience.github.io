{
 "cells": [
  {
   "cell_type": "markdown",
   "metadata": {},
   "source": [
    "# Available Pre-Computed Features"
   ]
  },
  {
   "cell_type": "markdown",
   "metadata": {},
   "source": [
    "The Allen Institute also has many more precomputed features. Many of them give access to more information on the electrophysiology, morphology, and metadata on the cells available in the Allen. We will demonstrate some of these features below."
   ]
  },
  {
   "cell_type": "code",
   "execution_count": 1,
   "metadata": {},
   "outputs": [],
   "source": [
    "#Import all the necessary packages and initalize an instance of the cache\n",
    "import pandas as pd\n",
    "from allensdk.core.cell_types_cache import CellTypesCache\n",
    "from allensdk.api.queries.cell_types_api import CellTypesApi\n",
    "ctc = CellTypesCache(manifest_file='cell_types/manifest.json')"
   ]
  },
  {
   "cell_type": "markdown",
   "metadata": {},
   "source": [
    "The `all_features` method can be used to access the morphology and electrophysiology of all the cells in the database and merges the two into a single table. This method can take into two optional inputs; `dataframe` and `require_reconstructon`."
   ]
  },
  {
   "cell_type": "code",
   "execution_count": 2,
   "metadata": {},
   "outputs": [
    {
     "name": "stderr",
     "output_type": "stream",
     "text": [
      "/Users/VictorMagdaleno/opt/anaconda3/lib/python3.7/site-packages/allensdk/core/cell_types_cache.py:271: UserWarning: dataframe argument is deprecated.\n",
      "  warnings.warn(\"dataframe argument is deprecated.\")\n"
     ]
    },
    {
     "data": {
      "text/html": [
       "<div>\n",
       "<style scoped>\n",
       "    .dataframe tbody tr th:only-of-type {\n",
       "        vertical-align: middle;\n",
       "    }\n",
       "\n",
       "    .dataframe tbody tr th {\n",
       "        vertical-align: top;\n",
       "    }\n",
       "\n",
       "    .dataframe thead th {\n",
       "        text-align: right;\n",
       "    }\n",
       "</style>\n",
       "<table border=\"1\" class=\"dataframe\">\n",
       "  <thead>\n",
       "    <tr style=\"text-align: right;\">\n",
       "      <th></th>\n",
       "      <th>adaptation</th>\n",
       "      <th>avg_isi</th>\n",
       "      <th>electrode_0_pa</th>\n",
       "      <th>f_i_curve_slope</th>\n",
       "      <th>fast_trough_t_long_square</th>\n",
       "      <th>fast_trough_t_ramp</th>\n",
       "      <th>fast_trough_t_short_square</th>\n",
       "      <th>fast_trough_v_long_square</th>\n",
       "      <th>fast_trough_v_ramp</th>\n",
       "      <th>fast_trough_v_short_square</th>\n",
       "      <th>...</th>\n",
       "      <th>overall_width</th>\n",
       "      <th>scale_factor_x</th>\n",
       "      <th>scale_factor_y</th>\n",
       "      <th>scale_factor_z</th>\n",
       "      <th>soma_surface</th>\n",
       "      <th>superseded</th>\n",
       "      <th>tags</th>\n",
       "      <th>total_length</th>\n",
       "      <th>total_surface</th>\n",
       "      <th>total_volume</th>\n",
       "    </tr>\n",
       "  </thead>\n",
       "  <tbody>\n",
       "    <tr>\n",
       "      <th>0</th>\n",
       "      <td>NaN</td>\n",
       "      <td>134.700000</td>\n",
       "      <td>22.697498</td>\n",
       "      <td>8.335459e-02</td>\n",
       "      <td>1.18768</td>\n",
       "      <td>13.295200</td>\n",
       "      <td>1.025916</td>\n",
       "      <td>-56.375004</td>\n",
       "      <td>-57.385420</td>\n",
       "      <td>-57.431251</td>\n",
       "      <td>...</td>\n",
       "      <td>581.674568</td>\n",
       "      <td>0.1144</td>\n",
       "      <td>0.1144</td>\n",
       "      <td>0.28</td>\n",
       "      <td>444.247484</td>\n",
       "      <td>False</td>\n",
       "      <td>3D Neuron Reconstruction morphology</td>\n",
       "      <td>9995.218601</td>\n",
       "      <td>16666.213729</td>\n",
       "      <td>2355.765059</td>\n",
       "    </tr>\n",
       "    <tr>\n",
       "      <th>1</th>\n",
       "      <td>NaN</td>\n",
       "      <td>NaN</td>\n",
       "      <td>-24.887498</td>\n",
       "      <td>-3.913630e-19</td>\n",
       "      <td>1.09984</td>\n",
       "      <td>20.650105</td>\n",
       "      <td>1.025460</td>\n",
       "      <td>-54.000000</td>\n",
       "      <td>-54.828129</td>\n",
       "      <td>-54.656254</td>\n",
       "      <td>...</td>\n",
       "      <td>391.393464</td>\n",
       "      <td>0.1144</td>\n",
       "      <td>0.1144</td>\n",
       "      <td>0.28</td>\n",
       "      <td>1997.534304</td>\n",
       "      <td>False</td>\n",
       "      <td>3D Neuron Reconstruction morphology</td>\n",
       "      <td>6533.385774</td>\n",
       "      <td>13173.179026</td>\n",
       "      <td>2962.024123</td>\n",
       "    </tr>\n",
       "    <tr>\n",
       "      <th>2</th>\n",
       "      <td>0.044825</td>\n",
       "      <td>91.322222</td>\n",
       "      <td>-46.761876</td>\n",
       "      <td>2.238637e-01</td>\n",
       "      <td>1.19024</td>\n",
       "      <td>3.826338</td>\n",
       "      <td>1.025363</td>\n",
       "      <td>-44.937504</td>\n",
       "      <td>-43.635419</td>\n",
       "      <td>-47.395833</td>\n",
       "      <td>...</td>\n",
       "      <td>236.976305</td>\n",
       "      <td>0.1144</td>\n",
       "      <td>0.1144</td>\n",
       "      <td>0.28</td>\n",
       "      <td>522.952356</td>\n",
       "      <td>False</td>\n",
       "      <td>3D Neuron Reconstruction morphology</td>\n",
       "      <td>2067.805445</td>\n",
       "      <td>3180.344934</td>\n",
       "      <td>460.354199</td>\n",
       "    </tr>\n",
       "    <tr>\n",
       "      <th>3</th>\n",
       "      <td>0.002303</td>\n",
       "      <td>8.756140</td>\n",
       "      <td>-33.787497</td>\n",
       "      <td>6.366711e-01</td>\n",
       "      <td>1.72910</td>\n",
       "      <td>16.728967</td>\n",
       "      <td>1.023988</td>\n",
       "      <td>-60.968754</td>\n",
       "      <td>-63.145835</td>\n",
       "      <td>-66.856253</td>\n",
       "      <td>...</td>\n",
       "      <td>332.948545</td>\n",
       "      <td>0.1144</td>\n",
       "      <td>0.1144</td>\n",
       "      <td>0.28</td>\n",
       "      <td>76.604264</td>\n",
       "      <td>False</td>\n",
       "      <td>3D Neuron Reconstruction morphology</td>\n",
       "      <td>3488.103438</td>\n",
       "      <td>2371.871389</td>\n",
       "      <td>129.985840</td>\n",
       "    </tr>\n",
       "    <tr>\n",
       "      <th>4</th>\n",
       "      <td>0.093492</td>\n",
       "      <td>112.245000</td>\n",
       "      <td>3.015000</td>\n",
       "      <td>1.500000e-01</td>\n",
       "      <td>1.10920</td>\n",
       "      <td>5.458287</td>\n",
       "      <td>1.025020</td>\n",
       "      <td>-51.062504</td>\n",
       "      <td>-57.916670</td>\n",
       "      <td>-56.531254</td>\n",
       "      <td>...</td>\n",
       "      <td>374.603996</td>\n",
       "      <td>0.1144</td>\n",
       "      <td>0.1144</td>\n",
       "      <td>0.28</td>\n",
       "      <td>77.936062</td>\n",
       "      <td>False</td>\n",
       "      <td>3D Neuron Reconstruction morphology</td>\n",
       "      <td>2977.161146</td>\n",
       "      <td>2703.134880</td>\n",
       "      <td>204.115177</td>\n",
       "    </tr>\n",
       "  </tbody>\n",
       "</table>\n",
       "<p>5 rows × 85 columns</p>\n",
       "</div>"
      ],
      "text/plain": [
       "   adaptation     avg_isi  electrode_0_pa  f_i_curve_slope  \\\n",
       "0         NaN  134.700000       22.697498     8.335459e-02   \n",
       "1         NaN         NaN      -24.887498    -3.913630e-19   \n",
       "2    0.044825   91.322222      -46.761876     2.238637e-01   \n",
       "3    0.002303    8.756140      -33.787497     6.366711e-01   \n",
       "4    0.093492  112.245000        3.015000     1.500000e-01   \n",
       "\n",
       "   fast_trough_t_long_square  fast_trough_t_ramp  fast_trough_t_short_square  \\\n",
       "0                    1.18768           13.295200                    1.025916   \n",
       "1                    1.09984           20.650105                    1.025460   \n",
       "2                    1.19024            3.826338                    1.025363   \n",
       "3                    1.72910           16.728967                    1.023988   \n",
       "4                    1.10920            5.458287                    1.025020   \n",
       "\n",
       "   fast_trough_v_long_square  fast_trough_v_ramp  fast_trough_v_short_square  \\\n",
       "0                 -56.375004          -57.385420                  -57.431251   \n",
       "1                 -54.000000          -54.828129                  -54.656254   \n",
       "2                 -44.937504          -43.635419                  -47.395833   \n",
       "3                 -60.968754          -63.145835                  -66.856253   \n",
       "4                 -51.062504          -57.916670                  -56.531254   \n",
       "\n",
       "   ...  overall_width  scale_factor_x  scale_factor_y  scale_factor_z  \\\n",
       "0  ...     581.674568          0.1144          0.1144            0.28   \n",
       "1  ...     391.393464          0.1144          0.1144            0.28   \n",
       "2  ...     236.976305          0.1144          0.1144            0.28   \n",
       "3  ...     332.948545          0.1144          0.1144            0.28   \n",
       "4  ...     374.603996          0.1144          0.1144            0.28   \n",
       "\n",
       "   soma_surface  superseded                                 tags  \\\n",
       "0    444.247484       False  3D Neuron Reconstruction morphology   \n",
       "1   1997.534304       False  3D Neuron Reconstruction morphology   \n",
       "2    522.952356       False  3D Neuron Reconstruction morphology   \n",
       "3     76.604264       False  3D Neuron Reconstruction morphology   \n",
       "4     77.936062       False  3D Neuron Reconstruction morphology   \n",
       "\n",
       "   total_length  total_surface  total_volume  \n",
       "0   9995.218601   16666.213729   2355.765059  \n",
       "1   6533.385774   13173.179026   2962.024123  \n",
       "2   2067.805445    3180.344934    460.354199  \n",
       "3   3488.103438    2371.871389    129.985840  \n",
       "4   2977.161146    2703.134880    204.115177  \n",
       "\n",
       "[5 rows x 85 columns]"
      ]
     },
     "execution_count": 2,
     "metadata": {},
     "output_type": "execute_result"
    }
   ],
   "source": [
    "all_features = ctc.get_all_features(dataframe = True)\n",
    "all_features.head()"
   ]
  },
  {
   "cell_type": "markdown",
   "metadata": {},
   "source": [
    "Since we set the `dataframe` parameter to `True`, the method returns our data as a nice and neat pandas dataframe. If set to `False`, the method returns a dictionary. We can all check to make sure all the columns are there by executing the `get_ephys_features` and `get_morphology_features` seperately and comparing the columns."
   ]
  },
  {
   "cell_type": "code",
   "execution_count": 3,
   "metadata": {},
   "outputs": [
    {
     "data": {
      "text/plain": [
       "Index(['adaptation', 'avg_isi', 'electrode_0_pa', 'f_i_curve_slope',\n",
       "       'fast_trough_t_long_square', 'fast_trough_t_ramp',\n",
       "       'fast_trough_t_short_square', 'fast_trough_v_long_square',\n",
       "       'fast_trough_v_ramp', 'fast_trough_v_short_square', 'has_burst',\n",
       "       'has_delay', 'has_pause', 'id_x', 'input_resistance_mohm', 'latency',\n",
       "       'peak_t_long_square', 'peak_t_ramp', 'peak_t_short_square',\n",
       "       'peak_v_long_square', 'peak_v_ramp', 'peak_v_short_square',\n",
       "       'rheobase_sweep_id', 'rheobase_sweep_number', 'ri', 'sag', 'seal_gohm',\n",
       "       'slow_trough_t_long_square', 'slow_trough_t_ramp',\n",
       "       'slow_trough_t_short_square', 'slow_trough_v_long_square',\n",
       "       'slow_trough_v_ramp', 'slow_trough_v_short_square', 'specimen_id',\n",
       "       'tau', 'threshold_i_long_square', 'threshold_i_ramp',\n",
       "       'threshold_i_short_square', 'threshold_t_long_square',\n",
       "       'threshold_t_ramp', 'threshold_t_short_square',\n",
       "       'threshold_v_long_square', 'threshold_v_ramp',\n",
       "       'threshold_v_short_square', 'thumbnail_sweep_id',\n",
       "       'trough_t_long_square', 'trough_t_ramp', 'trough_t_short_square',\n",
       "       'trough_v_long_square', 'trough_v_ramp', 'trough_v_short_square',\n",
       "       'upstroke_downstroke_ratio_long_square',\n",
       "       'upstroke_downstroke_ratio_ramp',\n",
       "       'upstroke_downstroke_ratio_short_square', 'vm_for_sag', 'vrest',\n",
       "       'average_bifurcation_angle_local', 'average_bifurcation_angle_remote',\n",
       "       'average_contraction', 'average_diameter', 'average_fragmentation',\n",
       "       'average_parent_daughter_ratio', 'hausdorff_dimension', 'id_y',\n",
       "       'max_branch_order', 'max_euclidean_distance', 'max_path_distance',\n",
       "       'neuron_reconstruction_type', 'number_bifurcations', 'number_branches',\n",
       "       'number_nodes', 'number_stems', 'number_tips', 'overall_depth',\n",
       "       'overall_height', 'overall_width', 'scale_factor_x', 'scale_factor_y',\n",
       "       'scale_factor_z', 'soma_surface', 'superseded', 'tags', 'total_length',\n",
       "       'total_surface', 'total_volume'],\n",
       "      dtype='object')"
      ]
     },
     "execution_count": 3,
     "metadata": {},
     "output_type": "execute_result"
    }
   ],
   "source": [
    "all_features_columns = all_features.columns\n",
    "all_features_columns"
   ]
  },
  {
   "cell_type": "code",
   "execution_count": 4,
   "metadata": {},
   "outputs": [
    {
     "name": "stdout",
     "output_type": "stream",
     "text": [
      "True\n"
     ]
    }
   ],
   "source": [
    "# Store all ephys columns in a variable \n",
    "ephys = pd.DataFrame(ctc.get_ephys_features())\n",
    "ephys_columns = ephys.columns\n",
    "\n",
    "# Store all morphology columns in a variable \n",
    "morphology = pd.DataFrame(ctc.get_morphology_features())\n",
    "morphology_columns = morphology.columns \n",
    "\n",
    "# Combine the two into one list\n",
    "ephys_and_morphology = list(morphology_columns) + list(ephys_columns)\n",
    "\n",
    "# Sort and Compare the columns to make sure they are all there \n",
    "print(list(all_features_columns).sort() == ephys_and_morphology.sort())"
   ]
  },
  {
   "cell_type": "markdown",
   "metadata": {},
   "source": [
    "By default, `get_all_features()` only returns ephys and morphology features for cells that have reconstructions. To access all cells regardless of reconstruction, set the parameter `require_recontruction` to `False`."
   ]
  },
  {
   "cell_type": "markdown",
   "metadata": {},
   "source": [
    "The `get_ephys_data()` method can download electrophysiology traces for a single cell in the database. This method returns a  class instance with helper methods for retrieving stimulus and response traces out of an NWB file. In order to use this method, you must specify the id of the cell specimen whose electrophysiology you would like to download. "
   ]
  },
  {
   "cell_type": "markdown",
   "metadata": {},
   "source": [
    "Below we have created a pandas dataframe from the data on human cells and set the row indices to be the `id` column. This will give us the metadata on human cells along and ID's to choose from. "
   ]
  },
  {
   "cell_type": "code",
   "execution_count": 16,
   "metadata": {},
   "outputs": [
    {
     "data": {
      "text/html": [
       "<div>\n",
       "<style scoped>\n",
       "    .dataframe tbody tr th:only-of-type {\n",
       "        vertical-align: middle;\n",
       "    }\n",
       "\n",
       "    .dataframe tbody tr th {\n",
       "        vertical-align: top;\n",
       "    }\n",
       "\n",
       "    .dataframe thead th {\n",
       "        text-align: right;\n",
       "    }\n",
       "</style>\n",
       "<table border=\"1\" class=\"dataframe\">\n",
       "  <thead>\n",
       "    <tr style=\"text-align: right;\">\n",
       "      <th></th>\n",
       "      <th>reporter_status</th>\n",
       "      <th>cell_soma_location</th>\n",
       "      <th>species</th>\n",
       "      <th>name</th>\n",
       "      <th>structure_layer_name</th>\n",
       "      <th>structure_area_id</th>\n",
       "      <th>structure_area_abbrev</th>\n",
       "      <th>transgenic_line</th>\n",
       "      <th>dendrite_type</th>\n",
       "      <th>apical</th>\n",
       "      <th>reconstruction_type</th>\n",
       "      <th>disease_state</th>\n",
       "      <th>donor_id</th>\n",
       "      <th>structure_hemisphere</th>\n",
       "      <th>normalized_depth</th>\n",
       "    </tr>\n",
       "    <tr>\n",
       "      <th>id</th>\n",
       "      <th></th>\n",
       "      <th></th>\n",
       "      <th></th>\n",
       "      <th></th>\n",
       "      <th></th>\n",
       "      <th></th>\n",
       "      <th></th>\n",
       "      <th></th>\n",
       "      <th></th>\n",
       "      <th></th>\n",
       "      <th></th>\n",
       "      <th></th>\n",
       "      <th></th>\n",
       "      <th></th>\n",
       "      <th></th>\n",
       "    </tr>\n",
       "  </thead>\n",
       "  <tbody>\n",
       "    <tr>\n",
       "      <th>525011903</th>\n",
       "      <td>None</td>\n",
       "      <td>[273.0, 354.0, 216.0]</td>\n",
       "      <td>Homo Sapiens</td>\n",
       "      <td>H16.03.003.01.14.02</td>\n",
       "      <td>3</td>\n",
       "      <td>12113</td>\n",
       "      <td>FroL</td>\n",
       "      <td></td>\n",
       "      <td>spiny</td>\n",
       "      <td>intact</td>\n",
       "      <td>None</td>\n",
       "      <td>epilepsy</td>\n",
       "      <td>524848408</td>\n",
       "      <td>right</td>\n",
       "      <td>NaN</td>\n",
       "    </tr>\n",
       "  </tbody>\n",
       "</table>\n",
       "</div>"
      ],
      "text/plain": [
       "          reporter_status     cell_soma_location       species  \\\n",
       "id                                                               \n",
       "525011903            None  [273.0, 354.0, 216.0]  Homo Sapiens   \n",
       "\n",
       "                          name structure_layer_name  structure_area_id  \\\n",
       "id                                                                       \n",
       "525011903  H16.03.003.01.14.02                    3              12113   \n",
       "\n",
       "          structure_area_abbrev transgenic_line dendrite_type  apical  \\\n",
       "id                                                                      \n",
       "525011903                  FroL                         spiny  intact   \n",
       "\n",
       "          reconstruction_type disease_state   donor_id structure_hemisphere  \\\n",
       "id                                                                            \n",
       "525011903                None      epilepsy  524848408                right   \n",
       "\n",
       "           normalized_depth  \n",
       "id                           \n",
       "525011903               NaN  "
      ]
     },
     "execution_count": 16,
     "metadata": {},
     "output_type": "execute_result"
    }
   ],
   "source": [
    "human_df = pd.DataFrame(ctc.get_cells(species = [CellTypesApi.HUMAN])).set_index('id')\n",
    "human_df.head(1)"
   ]
  },
  {
   "cell_type": "markdown",
   "metadata": {},
   "source": [
    "Now that we have some specimen ID's to choose from, we can execute the `get_ephys_data()` method on our CellTypesCache instance. Lets try to get the electropysiology data from the first entry in our dataframe and store it in a variable. "
   ]
  },
  {
   "cell_type": "code",
   "execution_count": 17,
   "metadata": {},
   "outputs": [],
   "source": [
    "specimen1_ephys = ctc.get_ephys_data(specimen_id = 525011903)"
   ]
  },
  {
   "cell_type": "markdown",
   "metadata": {},
   "source": [
    "We now have a NwbDataSet instance with methods that can help us access electrophysiology traces from our specimen of interest. "
   ]
  },
  {
   "cell_type": "code",
   "execution_count": 18,
   "metadata": {},
   "outputs": [
    {
     "data": {
      "text/plain": [
       "[10,\n",
       " 100,\n",
       " 101,\n",
       " 102,\n",
       " 103,\n",
       " 104,\n",
       " 105,\n",
       " 106,\n",
       " 107,\n",
       " 108,\n",
       " 109,\n",
       " 11,\n",
       " 110,\n",
       " 111,\n",
       " 112,\n",
       " 115,\n",
       " 12,\n",
       " 13,\n",
       " 14,\n",
       " 15,\n",
       " 16,\n",
       " 17,\n",
       " 18,\n",
       " 19,\n",
       " 20,\n",
       " 21,\n",
       " 22,\n",
       " 23,\n",
       " 24,\n",
       " 25,\n",
       " 26,\n",
       " 27,\n",
       " 28,\n",
       " 29,\n",
       " 30,\n",
       " 31,\n",
       " 32,\n",
       " 33,\n",
       " 34,\n",
       " 35,\n",
       " 36,\n",
       " 37,\n",
       " 38,\n",
       " 39,\n",
       " 4,\n",
       " 40,\n",
       " 41,\n",
       " 42,\n",
       " 43,\n",
       " 44,\n",
       " 45,\n",
       " 46,\n",
       " 47,\n",
       " 49,\n",
       " 5,\n",
       " 50,\n",
       " 51,\n",
       " 52,\n",
       " 53,\n",
       " 54,\n",
       " 55,\n",
       " 56,\n",
       " 57,\n",
       " 58,\n",
       " 59,\n",
       " 6,\n",
       " 60,\n",
       " 62,\n",
       " 63,\n",
       " 65,\n",
       " 66,\n",
       " 67,\n",
       " 68,\n",
       " 69,\n",
       " 7,\n",
       " 70,\n",
       " 71,\n",
       " 72,\n",
       " 73,\n",
       " 74,\n",
       " 75,\n",
       " 76,\n",
       " 77,\n",
       " 78,\n",
       " 79,\n",
       " 8,\n",
       " 80,\n",
       " 81,\n",
       " 82,\n",
       " 83,\n",
       " 84,\n",
       " 85,\n",
       " 86,\n",
       " 87,\n",
       " 88,\n",
       " 9,\n",
       " 90,\n",
       " 91,\n",
       " 92,\n",
       " 93,\n",
       " 94,\n",
       " 95,\n",
       " 96,\n",
       " 97,\n",
       " 98,\n",
       " 99]"
      ]
     },
     "execution_count": 18,
     "metadata": {},
     "output_type": "execute_result"
    }
   ],
   "source": [
    "specimen1_ephys.get_experiment_sweep_numbers()"
   ]
  },
  {
   "cell_type": "code",
   "execution_count": 19,
   "metadata": {},
   "outputs": [
    {
     "data": {
      "text/plain": [
       "{'stimulus': array([0., 0., 0., ..., 0., 0., 0.], dtype=float32),\n",
       " 'response': array([-0.06978125, -0.06975   , -0.06975   , ..., -0.06981251,\n",
       "        -0.06984375, -0.06978125], dtype=float32),\n",
       " 'stimulus_unit': 'Amps',\n",
       " 'index_range': (37500, 183449),\n",
       " 'sampling_rate': 50000.0}"
      ]
     },
     "execution_count": 19,
     "metadata": {},
     "output_type": "execute_result"
    }
   ],
   "source": [
    "specimen1_ephys.get_sweep(100)"
   ]
  },
  {
   "cell_type": "code",
   "execution_count": 20,
   "metadata": {},
   "outputs": [
    {
     "data": {
      "text/plain": [
       "{'stimulus': array([0., 0., 0., ..., 0., 0., 0.], dtype=float32),\n",
       " 'response': array([-0.07109375, -0.07106251, -0.07109375, ..., -0.07106251,\n",
       "        -0.07103125, -0.07106251], dtype=float32),\n",
       " 'stimulus_unit': 'Amps',\n",
       " 'index_range': (37500, 101149),\n",
       " 'sampling_rate': 50000.0}"
      ]
     },
     "execution_count": 20,
     "metadata": {},
     "output_type": "execute_result"
    }
   ],
   "source": [
    "specimen1_ephys.get_sweep(12)"
   ]
  },
  {
   "cell_type": "code",
   "execution_count": 21,
   "metadata": {},
   "outputs": [
    {
     "data": {
      "text/plain": [
       "{'aibs_stimulus_amplitude_pa': 830.000013163357,\n",
       " 'aibs_stimulus_name': 'Short Square - Triple',\n",
       " 'initial_access_resistance': 12.931512,\n",
       " 'seal': 1.125671168}"
      ]
     },
     "execution_count": 21,
     "metadata": {},
     "output_type": "execute_result"
    }
   ],
   "source": [
    "specimen1_ephys.get_sweep_metadata(100)"
   ]
  },
  {
   "cell_type": "code",
   "execution_count": 22,
   "metadata": {},
   "outputs": [
    {
     "data": {
      "text/plain": [
       "array([2.02302, 2.18604, 2.34908])"
      ]
     },
     "execution_count": 22,
     "metadata": {},
     "output_type": "execute_result"
    }
   ],
   "source": [
    "specimen1_ephys.get_spike_times(100)"
   ]
  },
  {
   "cell_type": "markdown",
   "metadata": {},
   "source": [
    "There are also other helper methods such as `set_sweep_times()` and `set_sweep()` that allow you to overwrite in the NWB files. For more information on hwo to use these two methods, please visit <a href=\"https://allensdk.readthedocs.io/en/latest/allensdk.core.nwb_data_set.html\">here</a>."
   ]
  }
 ],
 "metadata": {
  "kernelspec": {
   "display_name": "Python 3",
   "language": "python",
   "name": "python3"
  },
  "language_info": {
   "codemirror_mode": {
    "name": "ipython",
    "version": 3
   },
   "file_extension": ".py",
   "mimetype": "text/x-python",
   "name": "python",
   "nbconvert_exporter": "python",
   "pygments_lexer": "ipython3",
   "version": "3.7.6"
  }
 },
 "nbformat": 4,
 "nbformat_minor": 4
}
