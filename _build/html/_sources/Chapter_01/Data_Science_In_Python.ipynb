{
 "cells": [
  {
   "cell_type": "markdown",
   "metadata": {},
   "source": [
    "# Data Science in Python\n",
    "\n",
    "**Python** is one of the main tools used by data scientists and neuroscientists alike. Python is a coding language that allows us to efficiently and flexibly work with data, run various statistical analyses, and visualize our results.\n",
    "\n",
    "The pages in this section will introduce you to three primary **packages** that are useful for doing data science in Python: [NumPy](https://neuraldatascience.github.io/Chapter_2/NumPy.html), [Pandas](https://neuraldatascience.github.io/Chapter_2/Pandas.html), and [SciPy](https://neuraldatascience.github.io/Chapter_2/SciPy.html). We'll also introduce the concept of version control, and encourage you to think carefully how you comment, organize, and ultimately share your code.\n",
    "\n",
    "### Chapter Learning Objectives\n",
    "- Identify the main packages used for data science in Python\n",
    "- Learn and implement commonly used functions in NumPy, Pandas, and SciPy\n",
    "\n",
    "### Resources for Learning Python\n",
    "These notebooks assume that you already have some foundational knowledge about how to use Python. If you are in the early stages of using Python, we recommend the following resources before digging in here:\n",
    "- Online free courses like [Codeacademy](https://www.codecademy.com/catalog/language/python) and [DataQuest](http://dataquest.io) are great to get started.\n",
    "- [The official beginner's guide](https://wiki.python.org/moin/BeginnersGuide), by the folks at Python.\n",
    "- Ellis, Donaghue, and Voytek, [COGS 18: Introduction to Python](http://cogs18.github.io)\n",
    "- VanderPlas, [Whirlwind Tour of Python](https://github.com/jakevdp/WhirlwindTourOfPython/)\n",
    "- VanderPlas, [Python Data Science Handbook](https://jakevdp.github.io/PythonDataScienceHandbook/)\n",
    "- Software Carpentry, [Plotting and Programming in Python](https://swcarpentry.github.io/python-novice-plotting/)"
   ]
  }
 ],
 "metadata": {
  "kernelspec": {
   "display_name": "Python 3",
   "language": "python",
   "name": "python3"
  },
  "language_info": {
   "codemirror_mode": {
    "name": "ipython",
    "version": 3
   },
   "file_extension": ".py",
   "mimetype": "text/x-python",
   "name": "python",
   "nbconvert_exporter": "python",
   "pygments_lexer": "ipython3",
   "version": "3.7.3"
  }
 },
 "nbformat": 4,
 "nbformat_minor": 4
}
