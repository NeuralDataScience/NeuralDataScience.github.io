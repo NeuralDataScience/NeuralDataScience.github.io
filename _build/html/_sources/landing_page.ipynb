{
 "cells": [
  {
   "cell_type": "markdown",
   "metadata": {},
   "source": [
    "# Teaching and Learning with NWB Datasets"
   ]
  },
  {
   "cell_type": "markdown",
   "metadata": {},
   "source": [
    "With a rapidly growing field comes a growing body of diverse data. In neuroscience, and in research more broadly, there are many obstacles when it comes to data sharing with other labs. Most labs collect and store their data in different data formats and analyze their data with custom analysis code, making it tough to compare and integrate data.\n",
    "\n",
    "That's where [Neurodata Without Borders](https://www.nwb.org/) (NWB) comes in. NWB is a consortium of researchers who are aiming to \"standardize neuroscience data on an international scale.\" The use of this standard dataset format will make sharing and contributing to open source projects easier, ultimately accelerating discovery. There is much more about NWB on [their website](https://www.nwb.org/about-nwb/).\n",
    "\n",
    "\n",
    "## About this online textbook\n",
    "\n",
    "A standardized data format like NWB also opens possibilities for more easily integrating these cutting-edge datasets into the classroom. This online textbook aims to provide interactive and self-guided resources for researchers, educators, and students who would like to use open neuroscience datasets for research and/or teaching. Within, you'll find tutorials in the form of interactive notebooks for how to use Python to wrangle NWB datasets. At the end of each chapter, there are problem sets so that you can test your skills at wrangling and analyzing the data.\n",
    "\n",
    "## Using this textbook\n",
    "\n",
    "This textbook is designed for educators, students, and self-guided learners who would like to work with NWB datasets. It expects that you have some knowledge of Python, though Chapter 1 reviews some of the specialized packages we'll use. Throughout the book, you'll also find many recommendations for places to learn more. Chapters 2-5 are self-contained and can be completed out of order, depending on which type of data you're most interested in working with.\n",
    "\n",
    "Using the rocket icon in the top right corner, you can launch any of these notebooks in either Google Colab or Binder."
   ]
  },
  {
   "cell_type": "markdown",
   "metadata": {},
   "source": [
    "## Support\n",
    "<img src=\"https://github.com/NeuralDataScience/NeuralDataScience.github.io/blob/master/The_Kavli_Foundation_Logo_Blue_Red.png?raw=true\"\n",
    "     alt=\"Kavli Logo\"\n",
    "     style=\"float: left; margin-right: 10px;\"\n",
    "     width=\"500\"/>\n",
    "<br clear=\"left\"/>\n",
    "\n",
    "This work is supported by a [Kavli Foundation Seed Grant](https://www.nwb.org/projects/) meant to increase the access to Neurodata Without Borders datasets.\n",
    "\n",
    "<br clear=\"left\"/>\n",
    "<img src=\"https://www.braininitiative.org/wp-content/uploads/2017/02/nwb.png\"\n",
    "     alt=\"Kavli Logo\"\n",
    "     style=\"float: left; margin-right: 10px;\" />\n",
    "<br clear=\"left\"/>\n",
    "\n",
    "Many thanks to the NWB team for their feedback and input."
   ]
  },
  {
   "cell_type": "markdown",
   "metadata": {},
   "source": [
    "## Additional resources \n",
    "There are several great online resources for neural data science beyond NWB formats:\n",
    "\n",
    "- [Data Science in Practice](https://datascienceinpractice.github.io/)\n",
    "- [Neural Data Science by Nylen & Wallisch](https://www.sciencedirect.com/book/9780128040430/neural-data-science)\n",
    "- [Foundations of Data Science](https://www.inferentialthinking.com/chapters/intro.html)\n",
    "- [Computational Neuroscience](https://mrgreene09.github.io/computational-neuroscience-textbook/index.html), open textbook written by students\n",
    "- [Neuromatch Academy](http://www.neuromatchacademy.org/syllabus), online computational neuroscience course"
   ]
  },
  {
   "cell_type": "markdown",
   "metadata": {},
   "source": [
    "## License\n",
    "\n",
    "This work is distributed under a [CC-BY-SA-4.0 license](https://creativecommons.org/licenses/by-sa/4.0/). You are free to use and adapt these resources, but if you generate a derivative of these resources, they should be distributed with a similar license."
   ]
  }
 ],
 "metadata": {
  "kernelspec": {
   "display_name": "Python 3",
   "language": "python",
   "name": "python3"
  },
  "language_info": {
   "codemirror_mode": {
    "name": "ipython",
    "version": 3
   },
   "file_extension": ".py",
   "mimetype": "text/x-python",
   "name": "python",
   "nbconvert_exporter": "python",
   "pygments_lexer": "ipython3",
   "version": "3.7.3"
  }
 },
 "nbformat": 4,
 "nbformat_minor": 4
}
