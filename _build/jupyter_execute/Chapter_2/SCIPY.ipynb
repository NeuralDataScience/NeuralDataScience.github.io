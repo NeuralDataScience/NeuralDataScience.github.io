{
 "cells": [
  {
   "cell_type": "markdown",
   "metadata": {},
   "source": [
    "# SciPy"
   ]
  },
  {
   "cell_type": "markdown",
   "metadata": {},
   "source": [
    "## What is SciPy"
   ]
  },
  {
   "cell_type": "markdown",
   "metadata": {},
   "source": [
    "SciPy stands for (Sci)entific (Py)thon. It is an open-source Python library that contains modules for scientific computing such as linear algrbra, optimization, image/signal processing,, statistics, and many more. SciPy uses the NumPy `array` as it's base data struture, but also builds upon `Pandas`, `Matplotlib`, and `SymPy`."
   ]
  },
  {
   "cell_type": "code",
   "execution_count": 1,
   "metadata": {},
   "outputs": [],
   "source": [
    "import numpy as np \n",
    "import pandas as pd \n",
    "from allensdk.core.cell_types_cache import CellTypesCache\n",
    "from allensdk.api.queries.cell_types_api import CellTypesApi\n",
    "import matplotlib.pyplot as plt\n",
    "from scipy import stats \n",
    "from scipy import linalg\n",
    "ctc = CellTypesCache(manifest_file='cell_types/manifest.json')"
   ]
  },
  {
   "cell_type": "markdown",
   "metadata": {},
   "source": [
    "We will be demonstrating SciPy using the Allen Cell Types Dataset. We will discuss what this dataset contains and how to navigate through it in a later chapter. "
   ]
  },
  {
   "cell_type": "code",
   "execution_count": 2,
   "metadata": {},
   "outputs": [
    {
     "data": {
      "text/html": [
       "<div>\n",
       "<style scoped>\n",
       "    .dataframe tbody tr th:only-of-type {\n",
       "        vertical-align: middle;\n",
       "    }\n",
       "\n",
       "    .dataframe tbody tr th {\n",
       "        vertical-align: top;\n",
       "    }\n",
       "\n",
       "    .dataframe thead th {\n",
       "        text-align: right;\n",
       "    }\n",
       "</style>\n",
       "<table border=\"1\" class=\"dataframe\">\n",
       "  <thead>\n",
       "    <tr style=\"text-align: right;\">\n",
       "      <th></th>\n",
       "      <th>reporter_status</th>\n",
       "      <th>cell_soma_location</th>\n",
       "      <th>species</th>\n",
       "      <th>name</th>\n",
       "      <th>structure_layer_name</th>\n",
       "      <th>structure_area_id</th>\n",
       "      <th>structure_area_abbrev</th>\n",
       "      <th>transgenic_line</th>\n",
       "      <th>dendrite_type</th>\n",
       "      <th>apical</th>\n",
       "      <th>...</th>\n",
       "      <th>trough_t_ramp</th>\n",
       "      <th>trough_t_short_square</th>\n",
       "      <th>trough_v_long_square</th>\n",
       "      <th>trough_v_ramp</th>\n",
       "      <th>trough_v_short_square</th>\n",
       "      <th>upstroke_downstroke_ratio_long_square</th>\n",
       "      <th>upstroke_downstroke_ratio_ramp</th>\n",
       "      <th>upstroke_downstroke_ratio_short_square</th>\n",
       "      <th>vm_for_sag</th>\n",
       "      <th>vrest</th>\n",
       "    </tr>\n",
       "    <tr>\n",
       "      <th>id</th>\n",
       "      <th></th>\n",
       "      <th></th>\n",
       "      <th></th>\n",
       "      <th></th>\n",
       "      <th></th>\n",
       "      <th></th>\n",
       "      <th></th>\n",
       "      <th></th>\n",
       "      <th></th>\n",
       "      <th></th>\n",
       "      <th></th>\n",
       "      <th></th>\n",
       "      <th></th>\n",
       "      <th></th>\n",
       "      <th></th>\n",
       "      <th></th>\n",
       "      <th></th>\n",
       "      <th></th>\n",
       "      <th></th>\n",
       "      <th></th>\n",
       "      <th></th>\n",
       "    </tr>\n",
       "  </thead>\n",
       "  <tbody>\n",
       "    <tr>\n",
       "      <th>525011903</th>\n",
       "      <td>None</td>\n",
       "      <td>[273.0, 354.0, 216.0]</td>\n",
       "      <td>Homo Sapiens</td>\n",
       "      <td>H16.03.003.01.14.02</td>\n",
       "      <td>3</td>\n",
       "      <td>12113</td>\n",
       "      <td>FroL</td>\n",
       "      <td></td>\n",
       "      <td>spiny</td>\n",
       "      <td>intact</td>\n",
       "      <td>...</td>\n",
       "      <td>4.134987</td>\n",
       "      <td>1.375253</td>\n",
       "      <td>-53.968754</td>\n",
       "      <td>-59.510420</td>\n",
       "      <td>-71.197919</td>\n",
       "      <td>2.895461</td>\n",
       "      <td>2.559876</td>\n",
       "      <td>3.099787</td>\n",
       "      <td>-88.843758</td>\n",
       "      <td>-70.561035</td>\n",
       "    </tr>\n",
       "    <tr>\n",
       "      <th>528642047</th>\n",
       "      <td>None</td>\n",
       "      <td>[69.0, 254.0, 96.0]</td>\n",
       "      <td>Homo Sapiens</td>\n",
       "      <td>H16.06.009.01.02.06.05</td>\n",
       "      <td>5</td>\n",
       "      <td>12141</td>\n",
       "      <td>MTG</td>\n",
       "      <td></td>\n",
       "      <td>aspiny</td>\n",
       "      <td>NA</td>\n",
       "      <td>...</td>\n",
       "      <td>NaN</td>\n",
       "      <td>1.051160</td>\n",
       "      <td>-67.468758</td>\n",
       "      <td>NaN</td>\n",
       "      <td>-70.875002</td>\n",
       "      <td>1.891881</td>\n",
       "      <td>NaN</td>\n",
       "      <td>1.989616</td>\n",
       "      <td>-101.000000</td>\n",
       "      <td>-69.209610</td>\n",
       "    </tr>\n",
       "    <tr>\n",
       "      <th>537256313</th>\n",
       "      <td>None</td>\n",
       "      <td>[322.0, 255.0, 92.0]</td>\n",
       "      <td>Homo Sapiens</td>\n",
       "      <td>H16.03.006.01.05.02</td>\n",
       "      <td>4</td>\n",
       "      <td>12141</td>\n",
       "      <td>MTG</td>\n",
       "      <td></td>\n",
       "      <td>spiny</td>\n",
       "      <td>truncated</td>\n",
       "      <td>...</td>\n",
       "      <td>5.694547</td>\n",
       "      <td>1.389900</td>\n",
       "      <td>-52.125004</td>\n",
       "      <td>-51.520836</td>\n",
       "      <td>-72.900002</td>\n",
       "      <td>3.121182</td>\n",
       "      <td>3.464528</td>\n",
       "      <td>3.054681</td>\n",
       "      <td>-87.531250</td>\n",
       "      <td>-72.628105</td>\n",
       "    </tr>\n",
       "    <tr>\n",
       "      <th>519832676</th>\n",
       "      <td>None</td>\n",
       "      <td>[79.0, 273.0, 91.0]</td>\n",
       "      <td>Homo Sapiens</td>\n",
       "      <td>H16.03.001.01.09.01</td>\n",
       "      <td>3</td>\n",
       "      <td>12141</td>\n",
       "      <td>MTG</td>\n",
       "      <td></td>\n",
       "      <td>spiny</td>\n",
       "      <td>truncated</td>\n",
       "      <td>...</td>\n",
       "      <td>9.962780</td>\n",
       "      <td>1.211020</td>\n",
       "      <td>-53.875004</td>\n",
       "      <td>-52.416668</td>\n",
       "      <td>-73.693753</td>\n",
       "      <td>4.574865</td>\n",
       "      <td>3.817988</td>\n",
       "      <td>4.980603</td>\n",
       "      <td>-84.218758</td>\n",
       "      <td>-72.547661</td>\n",
       "    </tr>\n",
       "    <tr>\n",
       "      <th>596020931</th>\n",
       "      <td>None</td>\n",
       "      <td>[66.0, 220.0, 105.0]</td>\n",
       "      <td>Homo Sapiens</td>\n",
       "      <td>H17.06.009.11.04.02</td>\n",
       "      <td>4</td>\n",
       "      <td>12141</td>\n",
       "      <td>MTG</td>\n",
       "      <td></td>\n",
       "      <td>aspiny</td>\n",
       "      <td>NA</td>\n",
       "      <td>...</td>\n",
       "      <td>14.667340</td>\n",
       "      <td>1.336668</td>\n",
       "      <td>-63.593754</td>\n",
       "      <td>-63.239583</td>\n",
       "      <td>-75.518753</td>\n",
       "      <td>1.452890</td>\n",
       "      <td>1.441754</td>\n",
       "      <td>1.556087</td>\n",
       "      <td>-82.531250</td>\n",
       "      <td>-74.260269</td>\n",
       "    </tr>\n",
       "  </tbody>\n",
       "</table>\n",
       "<p>5 rows × 70 columns</p>\n",
       "</div>"
      ],
      "text/plain": [
       "          reporter_status     cell_soma_location       species  \\\n",
       "id                                                               \n",
       "525011903            None  [273.0, 354.0, 216.0]  Homo Sapiens   \n",
       "528642047            None    [69.0, 254.0, 96.0]  Homo Sapiens   \n",
       "537256313            None   [322.0, 255.0, 92.0]  Homo Sapiens   \n",
       "519832676            None    [79.0, 273.0, 91.0]  Homo Sapiens   \n",
       "596020931            None   [66.0, 220.0, 105.0]  Homo Sapiens   \n",
       "\n",
       "                             name structure_layer_name  structure_area_id  \\\n",
       "id                                                                          \n",
       "525011903     H16.03.003.01.14.02                    3              12113   \n",
       "528642047  H16.06.009.01.02.06.05                    5              12141   \n",
       "537256313     H16.03.006.01.05.02                    4              12141   \n",
       "519832676     H16.03.001.01.09.01                    3              12141   \n",
       "596020931     H17.06.009.11.04.02                    4              12141   \n",
       "\n",
       "          structure_area_abbrev transgenic_line dendrite_type     apical  ...  \\\n",
       "id                                                                        ...   \n",
       "525011903                  FroL                         spiny     intact  ...   \n",
       "528642047                   MTG                        aspiny         NA  ...   \n",
       "537256313                   MTG                         spiny  truncated  ...   \n",
       "519832676                   MTG                         spiny  truncated  ...   \n",
       "596020931                   MTG                        aspiny         NA  ...   \n",
       "\n",
       "          trough_t_ramp trough_t_short_square  trough_v_long_square  \\\n",
       "id                                                                    \n",
       "525011903      4.134987              1.375253            -53.968754   \n",
       "528642047           NaN              1.051160            -67.468758   \n",
       "537256313      5.694547              1.389900            -52.125004   \n",
       "519832676      9.962780              1.211020            -53.875004   \n",
       "596020931     14.667340              1.336668            -63.593754   \n",
       "\n",
       "          trough_v_ramp  trough_v_short_square  \\\n",
       "id                                               \n",
       "525011903    -59.510420             -71.197919   \n",
       "528642047           NaN             -70.875002   \n",
       "537256313    -51.520836             -72.900002   \n",
       "519832676    -52.416668             -73.693753   \n",
       "596020931    -63.239583             -75.518753   \n",
       "\n",
       "           upstroke_downstroke_ratio_long_square  \\\n",
       "id                                                 \n",
       "525011903                               2.895461   \n",
       "528642047                               1.891881   \n",
       "537256313                               3.121182   \n",
       "519832676                               4.574865   \n",
       "596020931                               1.452890   \n",
       "\n",
       "           upstroke_downstroke_ratio_ramp  \\\n",
       "id                                          \n",
       "525011903                        2.559876   \n",
       "528642047                             NaN   \n",
       "537256313                        3.464528   \n",
       "519832676                        3.817988   \n",
       "596020931                        1.441754   \n",
       "\n",
       "           upstroke_downstroke_ratio_short_square  vm_for_sag      vrest  \n",
       "id                                                                        \n",
       "525011903                                3.099787  -88.843758 -70.561035  \n",
       "528642047                                1.989616 -101.000000 -69.209610  \n",
       "537256313                                3.054681  -87.531250 -72.628105  \n",
       "519832676                                4.980603  -84.218758 -72.547661  \n",
       "596020931                                1.556087  -82.531250 -74.260269  \n",
       "\n",
       "[5 rows x 70 columns]"
      ]
     },
     "execution_count": 2,
     "metadata": {},
     "output_type": "execute_result"
    }
   ],
   "source": [
    "# Download meatadata for only human cells \n",
    "human_cells = pd.DataFrame(ctc.get_cells(species=[CellTypesApi.HUMAN])).set_index('id')\n",
    "\n",
    "# Download electrophysiology data \n",
    "ephys_df = pd.DataFrame(ctc.get_ephys_features()).set_index('specimen_id')\n",
    "\n",
    "# Combine our ephys data with our metadata for human cells \n",
    "human_ephys_df = human_cells.join(ephys_df)\n",
    "human_ephys_df.head()"
   ]
  },
  {
   "cell_type": "markdown",
   "metadata": {},
   "source": [
    "## SciPy for two-sample statistics"
   ]
  },
  {
   "cell_type": "code",
   "execution_count": 3,
   "metadata": {},
   "outputs": [],
   "source": [
    "# Set up our two samples \n",
    "spiny_df = human_ephys_df[human_ephys_df['dendrite_type']== 'spiny']\n",
    "aspiny_df = human_ephys_df[human_ephys_df['dendrite_type']== 'aspiny']"
   ]
  },
  {
   "cell_type": "markdown",
   "metadata": {},
   "source": [
    "Most often, the goal of our hypothesis testing is to test whether or not two distributions are different, or if a distribution has a different mean than the underlying population distribution.\n",
    "\n",
    "If we know our distributions are normal (i.e. they're generated from a normal distribution!) we could use parametric statistics to test our hypothesis. To test for differences between normal populations, we can use the independent t-test in our stats package: `stats.ttest_ind()`. If we had paired samples, we would use a dependent t-test: `stats.ttest_rel()`.\n",
    "\n",
    "\n",
    "If one of our populations is skewed, however, we cannot use a t-test. A t-test assumes that the populations are normally distributed. For skewed populations, we can use either the Mann-Whitney U (for independent samples: `stats.mannwhitneyu()`) or the Wilcoxon Signed Rank Test (for dependent/paired samples: `stats.wilcoxon()`)."
   ]
  },
  {
   "cell_type": "markdown",
   "metadata": {},
   "source": [
    "Below we will run a statistical test that compares `aspiny_df['tau']` to `spiny_df['tau']`. Before we decide what test to run, we must first check the skewness of our data. To test for skewness, we can use `stats.skewtest()`. **If the skew test gives us a p-value of less than 0.05, the population is skewed.**"
   ]
  },
  {
   "cell_type": "code",
   "execution_count": 4,
   "metadata": {},
   "outputs": [
    {
     "name": "stdout",
     "output_type": "stream",
     "text": [
      "Spiny skew test pvalue: 1.4148485388194806e-12\n",
      "Aspiny skew test pvalue: 1.1827442418538926e-09\n"
     ]
    },
    {
     "data": {
      "image/png": "[encoded data removed]",
      "text/plain": [
       "<Figure size 432x288 with 1 Axes>"
      ]
     },
     "metadata": {
      "filenames": {
       "image/png": "/Users/VictorMagdaleno/NeuralDataScience.github.io/_build/jupyter_execute/Chapter_2/SciPy_10_1.png"
      },
      "needs_background": "light"
     },
     "output_type": "display_data"
    },
    {
     "data": {
      "image/png": "[encoded data removed]",
      "text/plain": [
       "<Figure size 432x288 with 1 Axes>"
      ]
     },
     "metadata": {
      "filenames": {
       "image/png": "/Users/VictorMagdaleno/NeuralDataScience.github.io/_build/jupyter_execute/Chapter_2/SciPy_10_2.png"
      },
      "needs_background": "light"
     },
     "output_type": "display_data"
    }
   ],
   "source": [
    "# Subselect our samples \n",
    "sample_1 = spiny_df['tau']\n",
    "sample_2 = aspiny_df['tau']\n",
    "\n",
    "# Run the skew test\n",
    "stats_1, pvalue_1 = stats.skewtest(sample_1) \n",
    "stats_2, pvalue_2 = stats.skewtest(sample_2)\n",
    "\n",
    "# Print the p-value of both skew tests\n",
    "print('Spiny skew test pvalue: ' + str(pvalue_1))\n",
    "print('Aspiny skew test pvalue: ' + str(pvalue_2))\n",
    "\n",
    "# Plot our distributions \n",
    "plt.hist(sample_1)\n",
    "plt.show()\n",
    "plt.hist(sample_2)\n",
    "plt.show()"
   ]
  },
  {
   "cell_type": "markdown",
   "metadata": {},
   "source": [
    "Our pvalues indicate that both of our samples are skewed, therefore we will continure with the Mann-Whitney U test. "
   ]
  },
  {
   "cell_type": "code",
   "execution_count": 5,
   "metadata": {},
   "outputs": [
    {
     "name": "stdout",
     "output_type": "stream",
     "text": [
      "MannwhitneyuResult(statistic=4759.0, pvalue=3.864465154121331e-18)\n"
     ]
    }
   ],
   "source": [
    "print(stats.mannwhitneyu(sample_1, sample_2))"
   ]
  },
  {
   "cell_type": "markdown",
   "metadata": {},
   "source": [
    "## SciPy for Linear Algebra"
   ]
  },
  {
   "cell_type": "markdown",
   "metadata": {},
   "source": [
    "SciPy can be used to find solutions to mathematical algorithms as well. The package has a module with many tools that are helpful with linear algebra. The funtions availabe can help with solving the determinant of a matrix, solve for eigen values, and other liniar algebra problems. After importing the linear algebra module, `linalg` from the SciPy package, it is important to use the syntax `linalg.function()` when executing a function from the module. "
   ]
  },
  {
   "cell_type": "markdown",
   "metadata": {},
   "source": [
    "The `linalg.det()` method is used to solve for the the determinant of a matrix. This function only takes in square matrices as an argument, inputting a non-square matrix will result in an error. Please visit <a href = 'https://docs.scipy.org/doc/scipy/reference/generated/scipy.linalg.det.html'> here</a> for the original documentation. "
   ]
  },
  {
   "cell_type": "code",
   "execution_count": 6,
   "metadata": {},
   "outputs": [
    {
     "name": "stdout",
     "output_type": "stream",
     "text": [
      "[[1 3 5 2]\n",
      " [6 3 9 7]\n",
      " [2 7 8 5]\n",
      " [9 4 1 8]]\n"
     ]
    }
   ],
   "source": [
    "# Assign our square matrix\n",
    "matrix = np.array([[1,3,5,2], [6,3,9,7], [2,7,8,5], [9,4,1,8]])\n",
    "print(matrix)"
   ]
  },
  {
   "cell_type": "code",
   "execution_count": 7,
   "metadata": {},
   "outputs": [
    {
     "name": "stdout",
     "output_type": "stream",
     "text": [
      "-237.00000000000006\n"
     ]
    }
   ],
   "source": [
    "print(linalg.det(matrix))"
   ]
  },
  {
   "cell_type": "markdown",
   "metadata": {},
   "source": [
    "The `linalg.lu()` method is used to solve the LU decomposition of a matrix. It will return the  permutation matrix, p, the lower triangular matrix with unit diagonal elements, l,  and the upper triangular, u. You can look at the <a href = 'https://docs.scipy.org/doc/scipy/reference/generated/scipy.linalg.lu.html' > original documentation</a> for more information. "
   ]
  },
  {
   "cell_type": "code",
   "execution_count": 8,
   "metadata": {},
   "outputs": [
    {
     "name": "stdout",
     "output_type": "stream",
     "text": [
      "Permutation matrix:\n",
      "[[0. 0. 0. 1.]\n",
      " [0. 0. 1. 0.]\n",
      " [0. 1. 0. 0.]\n",
      " [1. 0. 0. 0.]]\n",
      "\n",
      "\n",
      "Lower triangular:\n",
      "[[1.         0.         0.         0.        ]\n",
      " [0.22222222 1.         0.         0.        ]\n",
      " [0.66666667 0.05454545 1.         0.        ]\n",
      " [0.11111111 0.41818182 0.20689655 1.        ]]\n",
      "\n",
      "\n",
      "Upper Triangle\n",
      "[[ 9.          4.          1.          8.        ]\n",
      " [ 0.          6.11111111  7.77777778  3.22222222]\n",
      " [ 0.          0.          7.90909091  1.49090909]\n",
      " [ 0.          0.          0.         -0.54482759]]\n"
     ]
    }
   ],
   "source": [
    "# Assign our matrix \n",
    "p, l, u = linalg.lu(matrix)\n",
    "print('Permutation matrix:')\n",
    "print(p)\n",
    "print('\\n')\n",
    "print('Lower triangular:')\n",
    "print(l)\n",
    "print('\\n')\n",
    "print('Upper Triangle')\n",
    "print(u)"
   ]
  },
  {
   "cell_type": "markdown",
   "metadata": {},
   "source": [
    "Now that we have p, l, and u, we can used a funtion from numpy, `np.dot()` to execute the dot product of l and u to return our matrix. "
   ]
  },
  {
   "cell_type": "code",
   "execution_count": 9,
   "metadata": {},
   "outputs": [
    {
     "name": "stdout",
     "output_type": "stream",
     "text": [
      "[[9. 4. 1. 8.]\n",
      " [2. 7. 8. 5.]\n",
      " [6. 3. 9. 7.]\n",
      " [1. 3. 5. 2.]]\n"
     ]
    }
   ],
   "source": [
    "print(np.dot(l,u))"
   ]
  },
  {
   "cell_type": "markdown",
   "metadata": {},
   "source": [
    "You can also find the eigen values and eigen vectors with SciPy. The method `linalg.eig()` takes in a complex or real matrix and returns its eigenvalues. Please visit <a href = 'https://docs.scipy.org/doc/scipy/reference/generated/scipy.linalg.eig.html'> here</a> for the orignal documentation."
   ]
  },
  {
   "cell_type": "code",
   "execution_count": 10,
   "metadata": {},
   "outputs": [
    {
     "name": "stdout",
     "output_type": "stream",
     "text": [
      "[20.15126564+0.j          1.64808546+0.83387563j  1.64808546-0.83387563j\n",
      " -3.44743656+0.j        ]\n",
      "\n",
      "\n",
      "[[-2.94498514e-01+0.j         -4.63909706e-01+0.08050438j\n",
      "  -4.63909706e-01-0.08050438j -2.00900213e-04+0.j        ]\n",
      " [-5.98355615e-01+0.j         -1.69258696e-01+0.00537595j\n",
      "  -1.69258696e-01-0.00537595j -8.69603794e-01+0.j        ]\n",
      " [-5.83737468e-01+0.j         -2.96214773e-01-0.07015942j\n",
      "  -2.96214773e-01+0.07015942j  4.14828984e-01+0.j        ]\n",
      " [-4.63132542e-01+0.j          8.10533088e-01+0.j\n",
      "   8.10533088e-01-0.j          2.67779977e-01+0.j        ]]\n"
     ]
    }
   ],
   "source": [
    "eigen_values, eigen_vectors = linalg.eig(matrix) \n",
    "print(eigen_values)\n",
    "print('\\n')\n",
    "print(eigen_vectors) "
   ]
  },
  {
   "cell_type": "markdown",
   "metadata": {},
   "source": [
    "Lastly, SciPy can be used to solve linear systems of equations. Please visit <a href = 'https://docs.scipy.org/doc/scipy/reference/generated/scipy.linalg.solve.html'> here</a> for the orignal documentation."
   ]
  },
  {
   "cell_type": "code",
   "execution_count": 11,
   "metadata": {},
   "outputs": [
    {
     "name": "stdout",
     "output_type": "stream",
     "text": [
      "[[ 0.04219409]\n",
      " [ 0.76793249]\n",
      " [-0.31223629]\n",
      " [ 0.60759494]]\n"
     ]
    }
   ],
   "source": [
    "array = [[2],[4],[6],[8]]\n",
    "print(linalg.solve(matrix, array))"
   ]
  },
  {
   "cell_type": "markdown",
   "metadata": {},
   "source": [
    "## SciPy for FFT"
   ]
  },
  {
   "cell_type": "code",
   "execution_count": null,
   "metadata": {},
   "outputs": [],
   "source": []
  },
  {
   "cell_type": "code",
   "execution_count": null,
   "metadata": {},
   "outputs": [],
   "source": []
  },
  {
   "cell_type": "code",
   "execution_count": null,
   "metadata": {},
   "outputs": [],
   "source": []
  },
  {
   "cell_type": "code",
   "execution_count": null,
   "metadata": {},
   "outputs": [],
   "source": []
  },
  {
   "cell_type": "code",
   "execution_count": null,
   "metadata": {},
   "outputs": [],
   "source": []
  },
  {
   "cell_type": "markdown",
   "metadata": {},
   "source": [
    "## Additional Resources"
   ]
  },
  {
   "cell_type": "markdown",
   "metadata": {},
   "source": []
  },
  {
   "cell_type": "code",
   "execution_count": null,
   "metadata": {},
   "outputs": [],
   "source": []
  }
 ],
 "metadata": {
  "kernelspec": {
   "display_name": "Python 3",
   "language": "python",
   "name": "python3"
  },
  "language_info": {
   "codemirror_mode": {
    "name": "ipython",
    "version": 3
   },
   "file_extension": ".py",
   "mimetype": "text/x-python",
   "name": "python",
   "nbconvert_exporter": "python",
   "pygments_lexer": "ipython3",
   "version": "3.7.6"
  }
 },
 "nbformat": 4,
 "nbformat_minor": 4
}