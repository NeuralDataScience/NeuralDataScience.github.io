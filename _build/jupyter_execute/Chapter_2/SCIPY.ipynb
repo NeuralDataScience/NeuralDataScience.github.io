{
 "cells": [
  {
   "cell_type": "markdown",
   "metadata": {},
   "source": [
    "# SciPy"
   ]
  },
  {
   "cell_type": "markdown",
   "metadata": {},
   "source": [
    "## What is SciPy"
   ]
  },
  {
   "cell_type": "markdown",
   "metadata": {},
   "source": [
    "SciPy stands for (Sci)entific (Py)thon. It is an open-source Python library that contains modules for scientific computing such as linear algrbra, optimization, image/signal processing,, statistics, and many more. SciPy uses the NumPy `array` as it's base data struture, but also builds upon `Pandas`, `Matplotlib`, and `SymPy`."
   ]
  },
  {
   "cell_type": "code",
   "execution_count": 1,
   "metadata": {},
   "outputs": [],
   "source": [
    "import numpy as np \n",
    "import pandas as pd \n",
    "from allensdk.core.cell_types_cache import CellTypesCache\n",
    "from allensdk.api.queries.cell_types_api import CellTypesApi\n",
    "import matplotlib.pyplot as plt\n",
    "from scipy import stats \n",
    "from scipy import linalg\n",
    "ctc = CellTypesCache(manifest_file='cell_types/manifest.json')"
   ]
  },
  {
   "cell_type": "markdown",
   "metadata": {},
   "source": [
    "We will be demonstrating SciPy using the Allen Cell Types Dataset. We will discuss what this dataset contains and how to navigate through it in a later chapter. "
   ]
  },
  {
   "cell_type": "code",
   "execution_count": 2,
   "metadata": {},
   "outputs": [
    {
     "data": {
      "text/html": [
       "<div>\n",
       "<style scoped>\n",
       "    .dataframe tbody tr th:only-of-type {\n",
       "        vertical-align: middle;\n",
       "    }\n",
       "\n",
       "    .dataframe tbody tr th {\n",
       "        vertical-align: top;\n",
       "    }\n",
       "\n",
       "    .dataframe thead th {\n",
       "        text-align: right;\n",
       "    }\n",
       "</style>\n",
       "<table border=\"1\" class=\"dataframe\">\n",
       "  <thead>\n",
       "    <tr style=\"text-align: right;\">\n",
       "      <th></th>\n",
       "      <th>reporter_status</th>\n",
       "      <th>cell_soma_location</th>\n",
       "      <th>species</th>\n",
       "      <th>name</th>\n",
       "      <th>structure_layer_name</th>\n",
       "      <th>structure_area_id</th>\n",
       "      <th>structure_area_abbrev</th>\n",
       "      <th>transgenic_line</th>\n",
       "      <th>dendrite_type</th>\n",
       "      <th>apical</th>\n",
       "      <th>...</th>\n",
       "      <th>trough_t_ramp</th>\n",
       "      <th>trough_t_short_square</th>\n",
       "      <th>trough_v_long_square</th>\n",
       "      <th>trough_v_ramp</th>\n",
       "      <th>trough_v_short_square</th>\n",
       "      <th>upstroke_downstroke_ratio_long_square</th>\n",
       "      <th>upstroke_downstroke_ratio_ramp</th>\n",
       "      <th>upstroke_downstroke_ratio_short_square</th>\n",
       "      <th>vm_for_sag</th>\n",
       "      <th>vrest</th>\n",
       "    </tr>\n",
       "    <tr>\n",
       "      <th>id</th>\n",
       "      <th></th>\n",
       "      <th></th>\n",
       "      <th></th>\n",
       "      <th></th>\n",
       "      <th></th>\n",
       "      <th></th>\n",
       "      <th></th>\n",
       "      <th></th>\n",
       "      <th></th>\n",
       "      <th></th>\n",
       "      <th></th>\n",
       "      <th></th>\n",
       "      <th></th>\n",
       "      <th></th>\n",
       "      <th></th>\n",
       "      <th></th>\n",
       "      <th></th>\n",
       "      <th></th>\n",
       "      <th></th>\n",
       "      <th></th>\n",
       "      <th></th>\n",
       "    </tr>\n",
       "  </thead>\n",
       "  <tbody>\n",
       "    <tr>\n",
       "      <th>525011903</th>\n",
       "      <td>None</td>\n",
       "      <td>[273.0, 354.0, 216.0]</td>\n",
       "      <td>Homo Sapiens</td>\n",
       "      <td>H16.03.003.01.14.02</td>\n",
       "      <td>3</td>\n",
       "      <td>12113</td>\n",
       "      <td>FroL</td>\n",
       "      <td></td>\n",
       "      <td>spiny</td>\n",
       "      <td>intact</td>\n",
       "      <td>...</td>\n",
       "      <td>4.134987</td>\n",
       "      <td>1.375253</td>\n",
       "      <td>-53.968754</td>\n",
       "      <td>-59.510420</td>\n",
       "      <td>-71.197919</td>\n",
       "      <td>2.895461</td>\n",
       "      <td>2.559876</td>\n",
       "      <td>3.099787</td>\n",
       "      <td>-88.843758</td>\n",
       "      <td>-70.561035</td>\n",
       "    </tr>\n",
       "    <tr>\n",
       "      <th>528642047</th>\n",
       "      <td>None</td>\n",
       "      <td>[69.0, 254.0, 96.0]</td>\n",
       "      <td>Homo Sapiens</td>\n",
       "      <td>H16.06.009.01.02.06.05</td>\n",
       "      <td>5</td>\n",
       "      <td>12141</td>\n",
       "      <td>MTG</td>\n",
       "      <td></td>\n",
       "      <td>aspiny</td>\n",
       "      <td>NA</td>\n",
       "      <td>...</td>\n",
       "      <td>NaN</td>\n",
       "      <td>1.051160</td>\n",
       "      <td>-67.468758</td>\n",
       "      <td>NaN</td>\n",
       "      <td>-70.875002</td>\n",
       "      <td>1.891881</td>\n",
       "      <td>NaN</td>\n",
       "      <td>1.989616</td>\n",
       "      <td>-101.000000</td>\n",
       "      <td>-69.209610</td>\n",
       "    </tr>\n",
       "    <tr>\n",
       "      <th>537256313</th>\n",
       "      <td>None</td>\n",
       "      <td>[322.0, 255.0, 92.0]</td>\n",
       "      <td>Homo Sapiens</td>\n",
       "      <td>H16.03.006.01.05.02</td>\n",
       "      <td>4</td>\n",
       "      <td>12141</td>\n",
       "      <td>MTG</td>\n",
       "      <td></td>\n",
       "      <td>spiny</td>\n",
       "      <td>truncated</td>\n",
       "      <td>...</td>\n",
       "      <td>5.694547</td>\n",
       "      <td>1.389900</td>\n",
       "      <td>-52.125004</td>\n",
       "      <td>-51.520836</td>\n",
       "      <td>-72.900002</td>\n",
       "      <td>3.121182</td>\n",
       "      <td>3.464528</td>\n",
       "      <td>3.054681</td>\n",
       "      <td>-87.531250</td>\n",
       "      <td>-72.628105</td>\n",
       "    </tr>\n",
       "    <tr>\n",
       "      <th>519832676</th>\n",
       "      <td>None</td>\n",
       "      <td>[79.0, 273.0, 91.0]</td>\n",
       "      <td>Homo Sapiens</td>\n",
       "      <td>H16.03.001.01.09.01</td>\n",
       "      <td>3</td>\n",
       "      <td>12141</td>\n",
       "      <td>MTG</td>\n",
       "      <td></td>\n",
       "      <td>spiny</td>\n",
       "      <td>truncated</td>\n",
       "      <td>...</td>\n",
       "      <td>9.962780</td>\n",
       "      <td>1.211020</td>\n",
       "      <td>-53.875004</td>\n",
       "      <td>-52.416668</td>\n",
       "      <td>-73.693753</td>\n",
       "      <td>4.574865</td>\n",
       "      <td>3.817988</td>\n",
       "      <td>4.980603</td>\n",
       "      <td>-84.218758</td>\n",
       "      <td>-72.547661</td>\n",
       "    </tr>\n",
       "    <tr>\n",
       "      <th>596020931</th>\n",
       "      <td>None</td>\n",
       "      <td>[66.0, 220.0, 105.0]</td>\n",
       "      <td>Homo Sapiens</td>\n",
       "      <td>H17.06.009.11.04.02</td>\n",
       "      <td>4</td>\n",
       "      <td>12141</td>\n",
       "      <td>MTG</td>\n",
       "      <td></td>\n",
       "      <td>aspiny</td>\n",
       "      <td>NA</td>\n",
       "      <td>...</td>\n",
       "      <td>14.667340</td>\n",
       "      <td>1.336668</td>\n",
       "      <td>-63.593754</td>\n",
       "      <td>-63.239583</td>\n",
       "      <td>-75.518753</td>\n",
       "      <td>1.452890</td>\n",
       "      <td>1.441754</td>\n",
       "      <td>1.556087</td>\n",
       "      <td>-82.531250</td>\n",
       "      <td>-74.260269</td>\n",
       "    </tr>\n",
       "  </tbody>\n",
       "</table>\n",
       "<p>5 rows × 70 columns</p>\n",
       "</div>"
      ],
      "text/plain": [
       "          reporter_status     cell_soma_location       species  \\\n",
       "id                                                               \n",
       "525011903            None  [273.0, 354.0, 216.0]  Homo Sapiens   \n",
       "528642047            None    [69.0, 254.0, 96.0]  Homo Sapiens   \n",
       "537256313            None   [322.0, 255.0, 92.0]  Homo Sapiens   \n",
       "519832676            None    [79.0, 273.0, 91.0]  Homo Sapiens   \n",
       "596020931            None   [66.0, 220.0, 105.0]  Homo Sapiens   \n",
       "\n",
       "                             name structure_layer_name  structure_area_id  \\\n",
       "id                                                                          \n",
       "525011903     H16.03.003.01.14.02                    3              12113   \n",
       "528642047  H16.06.009.01.02.06.05                    5              12141   \n",
       "537256313     H16.03.006.01.05.02                    4              12141   \n",
       "519832676     H16.03.001.01.09.01                    3              12141   \n",
       "596020931     H17.06.009.11.04.02                    4              12141   \n",
       "\n",
       "          structure_area_abbrev transgenic_line dendrite_type     apical  ...  \\\n",
       "id                                                                        ...   \n",
       "525011903                  FroL                         spiny     intact  ...   \n",
       "528642047                   MTG                        aspiny         NA  ...   \n",
       "537256313                   MTG                         spiny  truncated  ...   \n",
       "519832676                   MTG                         spiny  truncated  ...   \n",
       "596020931                   MTG                        aspiny         NA  ...   \n",
       "\n",
       "          trough_t_ramp trough_t_short_square  trough_v_long_square  \\\n",
       "id                                                                    \n",
       "525011903      4.134987              1.375253            -53.968754   \n",
       "528642047           NaN              1.051160            -67.468758   \n",
       "537256313      5.694547              1.389900            -52.125004   \n",
       "519832676      9.962780              1.211020            -53.875004   \n",
       "596020931     14.667340              1.336668            -63.593754   \n",
       "\n",
       "          trough_v_ramp  trough_v_short_square  \\\n",
       "id                                               \n",
       "525011903    -59.510420             -71.197919   \n",
       "528642047           NaN             -70.875002   \n",
       "537256313    -51.520836             -72.900002   \n",
       "519832676    -52.416668             -73.693753   \n",
       "596020931    -63.239583             -75.518753   \n",
       "\n",
       "           upstroke_downstroke_ratio_long_square  \\\n",
       "id                                                 \n",
       "525011903                               2.895461   \n",
       "528642047                               1.891881   \n",
       "537256313                               3.121182   \n",
       "519832676                               4.574865   \n",
       "596020931                               1.452890   \n",
       "\n",
       "           upstroke_downstroke_ratio_ramp  \\\n",
       "id                                          \n",
       "525011903                        2.559876   \n",
       "528642047                             NaN   \n",
       "537256313                        3.464528   \n",
       "519832676                        3.817988   \n",
       "596020931                        1.441754   \n",
       "\n",
       "           upstroke_downstroke_ratio_short_square  vm_for_sag      vrest  \n",
       "id                                                                        \n",
       "525011903                                3.099787  -88.843758 -70.561035  \n",
       "528642047                                1.989616 -101.000000 -69.209610  \n",
       "537256313                                3.054681  -87.531250 -72.628105  \n",
       "519832676                                4.980603  -84.218758 -72.547661  \n",
       "596020931                                1.556087  -82.531250 -74.260269  \n",
       "\n",
       "[5 rows x 70 columns]"
      ]
     },
     "execution_count": 2,
     "metadata": {},
     "output_type": "execute_result"
    }
   ],
   "source": [
    "# Download meatadata for only human cells \n",
    "human_cells = pd.DataFrame(ctc.get_cells(species=[CellTypesApi.HUMAN])).set_index('id')\n",
    "\n",
    "# Download electrophysiology data \n",
    "ephys_df = pd.DataFrame(ctc.get_ephys_features()).set_index('specimen_id')\n",
    "\n",
    "# Combine our ephys data with our metadata for human cells \n",
    "human_ephys_df = human_cells.join(ephys_df)\n",
    "human_ephys_df.head()"
   ]
  },
  {
   "cell_type": "markdown",
   "metadata": {},
   "source": [
    "## SciPy for two-sample statistics"
   ]
  },
  {
   "cell_type": "code",
   "execution_count": 3,
   "metadata": {},
   "outputs": [],
   "source": [
    "# Set up our two samples \n",
    "spiny_df = human_ephys_df[human_ephys_df['dendrite_type']== 'spiny']\n",
    "aspiny_df = human_ephys_df[human_ephys_df['dendrite_type']== 'aspiny']"
   ]
  },
  {
   "cell_type": "markdown",
   "metadata": {},
   "source": [
    "Most often, the goal of our hypothesis testing is to test whether or not two distributions are different, or if a distribution has a different mean than the underlying population distribution.\n",
    "\n",
    "If we know our distributions are normal (i.e. they're generated from a normal distribution!) we could use parametric statistics to test our hypothesis. To test for differences between normal populations, we can use the independent t-test in our stats package: `stats.ttest_ind()`. If we had paired samples, we would use a dependent t-test: `stats.ttest_rel()`.\n",
    "\n",
    "\n",
    "If one of our populations is skewed, however, we cannot use a t-test. A t-test assumes that the populations are normally distributed. For skewed populations, we can use either the Mann-Whitney U (for independent samples: `stats.mannwhitneyu()`) or the Wilcoxon Signed Rank Test (for dependent/paired samples: `stats.wilcoxon()`)."
   ]
  },
  {
   "cell_type": "markdown",
   "metadata": {},
   "source": [
    "Below we will run a statistical test that compares `aspiny_df['tau']` to `spiny_df['tau']`. Before we decide what test to run, we must first check the skewness of our data. To test for skewness, we can use `stats.skewtest()`. **If the skew test gives us a p-value of less than 0.05, the population is skewed.**"
   ]
  },
  {
   "cell_type": "code",
   "execution_count": 4,
   "metadata": {},
   "outputs": [
    {
     "name": "stdout",
     "output_type": "stream",
     "text": [
      "Spiny skew test pvalue: 1.4148485388194806e-12\n",
      "Aspiny skew test pvalue: 1.1827442418538926e-09\n"
     ]
    },
    {
     "data": {
      "image/png": "[encoded data removed]",
      "text/plain": [
       "<Figure size 432x288 with 1 Axes>"
      ]
     },
     "metadata": {
      "filenames": {
       "image/png": "/Users/VictorMagdaleno/NeuralDataScience.github.io/_build/jupyter_execute/Chapter_2/SciPy_10_1.png"
      },
      "needs_background": "light"
     },
     "output_type": "display_data"
    },
    {
     "data": {
      "image/png": "[encoded data removed]",
      "text/plain": [
       "<Figure size 432x288 with 1 Axes>"
      ]
     },
     "metadata": {
      "filenames": {
       "image/png": "/Users/VictorMagdaleno/NeuralDataScience.github.io/_build/jupyter_execute/Chapter_2/SciPy_10_2.png"
      },
      "needs_background": "light"
     },
     "output_type": "display_data"
    }
   ],
   "source": [
    "# Subselect our samples \n",
    "sample_1 = spiny_df['tau']\n",
    "sample_2 = aspiny_df['tau']\n",
    "\n",
    "# Run the skew test\n",
    "stats_1, pvalue_1 = stats.skewtest(sample_1) \n",
    "stats_2, pvalue_2 = stats.skewtest(sample_2)\n",
    "\n",
    "# Print the p-value of both skew tests\n",
    "print('Spiny skew test pvalue: ' + str(pvalue_1))\n",
    "print('Aspiny skew test pvalue: ' + str(pvalue_2))\n",
    "\n",
    "# Plot our distributions \n",
    "plt.hist(sample_1)\n",
    "plt.show()\n",
    "plt.hist(sample_2)\n",
    "plt.show()"
   ]
  },
  {
   "cell_type": "markdown",
   "metadata": {},
   "source": [
    "Our pvalues indicate that both of our samples are skewed, therefore we will continure with the Mann-Whitney U test. "
   ]
  },
  {
   "cell_type": "code",
   "execution_count": 5,
   "metadata": {},
   "outputs": [
    {
     "name": "stdout",
     "output_type": "stream",
     "text": [
      "MannwhitneyuResult(statistic=4759.0, pvalue=3.864465154121331e-18)\n"
     ]
    }
   ],
   "source": [
    "print(stats.mannwhitneyu(sample_1, sample_2))"
   ]
  },
  {
   "cell_type": "markdown",
   "metadata": {},
   "source": [
    "## SciPy for Linear Algebra"
   ]
  },
  {
   "cell_type": "markdown",
   "metadata": {},
   "source": [
    "SciPy can be used to find solutions to mathematical algorithms as well. The package has a module with many tools that are helpful with linear algebra. The funtions availabe can help with solving the determinant of a matrix, solve for eigen values, and other liniar algebra problems. After importing the linear algebra module, `linalg` from the SciPy package, it is important to use the syntax `linalg.function()` when executing a function from the module. "
   ]
  },
  {
   "cell_type": "markdown",
   "metadata": {},
   "source": [
    "The `linalg.det()` method is used to solve for the the determinant of a matrix. This function only takes in square matrices as an argument, inputting a non-square matrix will result in an error. Please visit <a href = 'https://docs.scipy.org/doc/scipy/reference/generated/scipy.linalg.det.html'> here</a> for the original documentation. "
   ]
  },
  {
   "cell_type": "code",
   "execution_count": 6,
   "metadata": {},
   "outputs": [
    {
     "name": "stdout",
     "output_type": "stream",
     "text": [
      "[[1 3 5 2]\n",
      " [6 3 9 7]\n",
      " [2 7 8 5]\n",
      " [9 4 1 8]]\n"
     ]
    }
   ],
   "source": [
    "# Assign our square matrix\n",
    "matrix = np.array([[1,3,5,2], [6,3,9,7], [2,7,8,5], [9,4,1,8]])\n",
    "print(matrix)"
   ]
  },
  {
   "cell_type": "code",
   "execution_count": 7,
   "metadata": {},
   "outputs": [
    {
     "name": "stdout",
     "output_type": "stream",
     "text": [
      "-237.00000000000006\n"
     ]
    }
   ],
   "source": [
    "print(linalg.det(matrix))"
   ]
  },
  {
   "cell_type": "markdown",
   "metadata": {},
   "source": [
    "The `linalg.lu()` method is used to solve the LU decomposition of a matrix. It will return the  permutation matrix, p, the lower triangular matrix with unit diagonal elements, l,  and the upper triangular, u. You can look at the <a href = 'https://docs.scipy.org/doc/scipy/reference/generated/scipy.linalg.lu.html' > original documentation</a> for more information. "
   ]
  },
  {
   "cell_type": "code",
   "execution_count": 8,
   "metadata": {},
   "outputs": [
    {
     "name": "stdout",
     "output_type": "stream",
     "text": [
      "Permutation matrix:\n",
      "[[0. 0. 0. 1.]\n",
      " [0. 0. 1. 0.]\n",
      " [0. 1. 0. 0.]\n",
      " [1. 0. 0. 0.]]\n",
      "\n",
      "\n",
      "Lower triangular:\n",
      "[[1.         0.         0.         0.        ]\n",
      " [0.22222222 1.         0.         0.        ]\n",
      " [0.66666667 0.05454545 1.         0.        ]\n",
      " [0.11111111 0.41818182 0.20689655 1.        ]]\n",
      "\n",
      "\n",
      "Upper Triangle\n",
      "[[ 9.          4.          1.          8.        ]\n",
      " [ 0.          6.11111111  7.77777778  3.22222222]\n",
      " [ 0.          0.          7.90909091  1.49090909]\n",
      " [ 0.          0.          0.         -0.54482759]]\n"
     ]
    }
   ],
   "source": [
    "# Assign our matrix \n",
    "p, l, u = linalg.lu(matrix)\n",
    "print('Permutation matrix:')\n",
    "print(p)\n",
    "print('\\n')\n",
    "print('Lower triangular:')\n",
    "print(l)\n",
    "print('\\n')\n",
    "print('Upper Triangle')\n",
    "print(u)"
   ]
  },
  {
   "cell_type": "markdown",
   "metadata": {},
   "source": [
    "Now that we have p, l, and u, we can used a funtion from numpy, `np.dot()` to execute the dot product of l and u to return our matrix. "
   ]
  },
  {
   "cell_type": "code",
   "execution_count": 9,
   "metadata": {},
   "outputs": [
    {
     "name": "stdout",
     "output_type": "stream",
     "text": [
      "[[9. 4. 1. 8.]\n",
      " [2. 7. 8. 5.]\n",
      " [6. 3. 9. 7.]\n",
      " [1. 3. 5. 2.]]\n"
     ]
    }
   ],
   "source": [
    "print(np.dot(l,u))"
   ]
  },
  {
   "cell_type": "markdown",
   "metadata": {},
   "source": [
    "You can also find the eigen values and eigen vectors with SciPy. The method `linalg.eig()` takes in a complex or real matrix and returns its eigenvalues. Please visit <a href = 'https://docs.scipy.org/doc/scipy/reference/generated/scipy.linalg.eig.html'> here</a> for the orignal documentation."
   ]
  },
  {
   "cell_type": "code",
   "execution_count": 10,
   "metadata": {},
   "outputs": [
    {
     "name": "stdout",
     "output_type": "stream",
     "text": [
      "[20.15126564+0.j          1.64808546+0.83387563j  1.64808546-0.83387563j\n",
      " -3.44743656+0.j        ]\n",
      "\n",
      "\n",
      "[[-2.94498514e-01+0.j         -4.63909706e-01+0.08050438j\n",
      "  -4.63909706e-01-0.08050438j -2.00900213e-04+0.j        ]\n",
      " [-5.98355615e-01+0.j         -1.69258696e-01+0.00537595j\n",
      "  -1.69258696e-01-0.00537595j -8.69603794e-01+0.j        ]\n",
      " [-5.83737468e-01+0.j         -2.96214773e-01-0.07015942j\n",
      "  -2.96214773e-01+0.07015942j  4.14828984e-01+0.j        ]\n",
      " [-4.63132542e-01+0.j          8.10533088e-01+0.j\n",
      "   8.10533088e-01-0.j          2.67779977e-01+0.j        ]]\n"
     ]
    }
   ],
   "source": [
    "eigen_values, eigen_vectors = linalg.eig(matrix) \n",
    "print(eigen_values)\n",
    "print('\\n')\n",
    "print(eigen_vectors) "
   ]
  },
  {
   "cell_type": "markdown",
   "metadata": {},
   "source": [
    "Lastly, SciPy can be used to solve linear systems of equations. Please visit <a href = 'https://docs.scipy.org/doc/scipy/reference/generated/scipy.linalg.solve.html'> here</a> for the orignal documentation."
   ]
  },
  {
   "cell_type": "code",
   "execution_count": 11,
   "metadata": {},
   "outputs": [
    {
     "name": "stdout",
     "output_type": "stream",
     "text": [
      "[[ 0.04219409]\n",
      " [ 0.76793249]\n",
      " [-0.31223629]\n",
      " [ 0.60759494]]\n"
     ]
    }
   ],
   "source": [
    "array = [[2],[4],[6],[8]]\n",
    "print(linalg.solve(matrix, array))"
   ]
  },
  {
   "cell_type": "markdown",
   "metadata": {},
   "source": [
    "## SciPy for FFT"
   ]
  },
  {
   "cell_type": "markdown",
   "metadata": {},
   "source": [
    "Let's first generate a sine wave. We'll then generate a second sine wave and add these together to understand what a fourier transform of this data would look like. Sine waves are defined by their frequency, ampltitude, and and phase. "
   ]
  },
  {
   "cell_type": "code",
   "execution_count": 12,
   "metadata": {},
   "outputs": [
    {
     "name": "stdout",
     "output_type": "stream",
     "text": [
      "You've created a complex signal with two sin waves, it looks like this:"
     ]
    },
    {
     "name": "stdout",
     "output_type": "stream",
     "text": [
      "\n",
      "[ 0.          1.47439991  2.08519495  1.48970011  0.07282654 -1.28516247\n",
      " -1.73971525 -0.9915122   0.53292413  1.93848187  2.40138863  1.66610567\n",
      "  0.19943724 -1.09111077 -1.40482347 -0.53084714  1.02457393  2.34344933\n",
      "  2.64978051  1.77764376  0.27124849 -0.94338912 -1.11709493 -0.12950467\n",
      "  1.43829796  2.65429147  2.79773083  1.79391154  0.25921309 -0.87075038\n",
      " -0.90555508  0.18351981  1.74615215  2.84526973  2.82232648  1.69456043\n",
      "  0.14458863 -0.89138407 -0.78833049  0.39055267  1.93196998  2.90282491\n",
      "  2.71311393  1.47185272 -0.07867731 -1.01069639 -0.77059328  0.48712609\n",
      "  1.99306173  2.82707791  2.47339433  1.13175262 -0.40305218 -1.22060289\n",
      " -0.84403858  0.48231033  1.94034552  2.63174967  2.11992873  0.69342222\n",
      " -0.80812029 -1.5004171  -0.98795545  0.39745719  1.79689699  2.34251012\n",
      "  1.68108704  0.18717967 -1.26280101 -1.81923201 -1.17176498  0.26350358\n",
      "  1.59508858  1.99394982  1.19365596 -0.34884385 -1.72882574 -2.13951596\n",
      " -1.35872776  0.11715217  1.37265455  1.62552844  0.69867805 -0.87295939\n",
      " -2.16506855 -2.4215031  -1.51038607 -0.0036222   1.16814322  1.27697384\n",
      "  0.23680688 -1.34459205 -2.53222567 -2.62786482 -1.59121986 -0.06421317\n",
      "  1.01628945  0.98366972 -0.15628002 -1.72882537 -2.79729789 -2.72811589\n",
      " -1.57297081 -0.03762605  0.94384942  0.77257042 -0.4538759  -2.00028872\n",
      " -2.93735296 -2.7022398  -1.43812718  0.0921744   0.96638583  0.6591204\n",
      " -0.64118171 -2.1459351  -2.94212909 -2.54310883 -1.18216036  0.32820494\n",
      "  1.08638016  0.64553743 -0.71684373 -2.16638653 -2.81517573 -2.25741512\n",
      " -0.81424972  0.65993593  1.29289322  0.7206598  -0.692914   -2.07569135\n",
      " -2.5733991  -1.86500303 -0.35640926  1.06435804  1.56281436  0.86137393\n",
      " -0.59324003 -1.89952345 -2.24506578 -1.39667963  0.15888389  1.50852037\n",
      "  1.86355342  1.03545473 -0.45047402 -1.67203558 -1.86649794 -0.89075814\n",
      "  0.69228366  1.95324482  2.15686085  1.20548496 -0.30205319 -1.43173593\n",
      " -1.47784682 -0.38873698  1.20197385  2.35758369  2.4033293   1.33339409\n",
      " -0.18562314 -1.21687133 -1.11843804  0.06938192  1.64835905  2.68350055\n",
      "  2.56705006  1.38508442 -0.13444119 -1.06085796 -0.82223292  0.44958982\n",
      "  1.99850132  2.9002282   2.61987956  1.33460187 -0.17329901 -0.98829474\n",
      " -0.61393553  0.72765888  2.22978557  2.98779512  2.54481636  1.16736204\n",
      " -0.31544305 -1.01202613 -0.50620012  0.89178     2.33238713  2.93930863\n",
      "  2.33809309  0.88205263 -0.56085455 -1.13159852 -0.49826434  0.94374399\n",
      "  2.3102546   2.76172856  2.00973769  0.49098778 -0.89609186 -1.33329087\n",
      " -0.57616702  0.89853024  2.18049461  2.47504112  1.5825372   0.01887107\n",
      " -1.29571509 -1.59171638 -0.71452375  0.78235267  1.97123209  2.1099297\n",
      "  1.08952395 -0.49989026 -1.72512787 -1.87280792 -0.87965142  0.62939344\n",
      "  1.7181973   1.70421498  0.57027654 -1.02500769 -2.14450529 -2.137838\n",
      " -1.03367474  0.47760828  1.46044012  1.29848001  0.06646661 -1.51482552\n",
      " -2.51334999 -2.34800292 -1.1391332   0.3640957   1.23567343  0.93139163\n",
      " -0.38282981 -1.93100089 -2.79514459 -2.46903474 -1.16354794  0.32057336\n",
      "  1.07579109  0.63526422 -0.74550978 -2.24280425 -2.96155738 -2.47530093\n",
      " -1.08341299  0.36949224  1.00308503  0.43238392 -1.         -2.43053938\n",
      " -2.99571025 -2.35291175 -0.88714229  0.52124465  1.02760444  0.33252192\n",
      " -1.13757835 -2.4876847  -2.89412705 -2.10147081 -0.57662604  0.77279405\n",
      "  1.14596598  0.33192635 -1.1631911  -2.4215072  -2.66713509 -1.73426303\n",
      " -0.16721248  1.1078885   1.34175427  0.41390957 -1.0946721  -2.25207847\n",
      " -2.3376726  -1.27685668  0.31388467  1.49883394  1.58746591  0.55096047\n",
      " -0.96045719 -2.00980935 -1.93864172 -0.76428128  0.83056896  1.90962138\n",
      "  1.84776934  0.70813353 -0.796063   -1.73179237 -1.50911587 -0.23710996\n",
      "  1.34188723  2.30004343  2.08369917  0.84731657 -0.63974373 -1.45738083\n",
      " -1.08984464  0.26309767]\n"
     ]
    }
   ],
   "source": [
    "sampling_freq = 1024 # Sampling frequency \n",
    "duration = 0.3 # 0.3 seconds of signal\n",
    "freq1 = 7 # 7 Hz signal\n",
    "freq2 = 130 # 130 Hz signal\n",
    "\n",
    "# Generate a time vector\n",
    "time_vector = np.arange(0, duration, 1/sampling_freq)\n",
    "\n",
    "# Generate a sine wave\n",
    "signal_1 = np.sin(2 * np.pi * freq1 * time_vector) \n",
    "# Generate another sine wave, with double the power\n",
    "signal_2 = np.sin(2 * np.pi * freq2 * time_vector) * 2 \n",
    "                                                       \n",
    "# Add the signals we created above into one signal\n",
    "combined_signal = signal_1 + signal_2\n",
    "\n",
    "print('You\\'ve created a complex signal with two sin waves, it looks like this:')\n",
    "print(combined_signal)"
   ]
  },
  {
   "cell_type": "markdown",
   "metadata": {},
   "source": [
    "What we have are the signal values for our complex signal composed of the two sin waves. To see our `combined_signal` we must plot it using `plt.plot()`."
   ]
  },
  {
   "cell_type": "code",
   "execution_count": 13,
   "metadata": {},
   "outputs": [
    {
     "data": {
      "image/png": "[encoded data removed]",
      "text/plain": [
       "<Figure size 864x288 with 1 Axes>"
      ]
     },
     "metadata": {
      "filenames": {
       "image/png": "/Users/VictorMagdaleno/NeuralDataScience.github.io/_build/jupyter_execute/Chapter_2/SciPy_30_0.png"
      },
      "needs_background": "light"
     },
     "output_type": "display_data"
    }
   ],
   "source": [
    "# Set up our figure\n",
    "fig = plt.figure(figsize=(12, 4))\n",
    "\n",
    "# Plot 0.5 seconds of data\n",
    "plt.plot(time_vector, combined_signal) \n",
    "plt.ylabel('Signal',fontsize=14)\n",
    "plt.xlabel('Time',fontsize=14)\n",
    "plt.show()"
   ]
  },
  {
   "cell_type": "code",
   "execution_count": 14,
   "metadata": {},
   "outputs": [],
   "source": [
    "# plt.plot(time_vector, signal_1)\n",
    "# plt.show()\n",
    "# plt.plot(time_vector, signal_2)\n",
    "# plt.show()"
   ]
  },
  {
   "cell_type": "markdown",
   "metadata": {},
   "source": [
    "Below, we'll calculate the **Fourier Transform**, which will determine the frequencies that are in our sample. We'll implement this with Welch's Method, which consists in averaging consecutive Fourier transform of small windows of the signal, with or without overlapping. Basically, we calculate the fourier transform of a signal across a few sliding windows, and then calculate the mean PSD from all the sliding windows.\n",
    "\n",
    "The freqs vector contains the x-axis (frequency bins) and the psd vector contains the y-axis values (power spectral density). The units of the power spectral density, when working with EEG data, is usually $\\mu$V^2 per Hz."
   ]
  },
  {
   "cell_type": "code",
   "execution_count": 15,
   "metadata": {},
   "outputs": [
    {
     "name": "stderr",
     "output_type": "stream",
     "text": [
      "/Users/VictorMagdaleno/opt/anaconda3/lib/python3.7/site-packages/scipy/signal/spectral.py:1966: UserWarning: nperseg = 4096 is greater than input length  = 308, using nperseg = 308\n",
      "  .format(nperseg, input_length))\n"
     ]
    },
    {
     "data": {
      "image/png": "[encoded data removed]",
      "text/plain": [
       "<Figure size 432x288 with 1 Axes>"
      ]
     },
     "metadata": {
      "filenames": {
       "image/png": "/Users/VictorMagdaleno/NeuralDataScience.github.io/_build/jupyter_execute/Chapter_2/SciPy_33_1.png"
      },
      "needs_background": "light"
     },
     "output_type": "display_data"
    }
   ],
   "source": [
    "# Import signal processing module \n",
    "from scipy import signal\n",
    "\n",
    "# Define sliding window length (4 seconds, which will give us 2 full cycles at 0.5 Hz)\n",
    "win = 4 * sampling_freq\n",
    "freqs, psd = signal.welch(combined_signal, sampling_freq, nperseg=win)\n",
    "\n",
    "# Plot our data\n",
    "plt.plot(freqs,psd) # Plot a select range of frequencies\n",
    "plt.ylabel('Power')\n",
    "plt.xlabel('Frequency (Hz)')\n",
    "plt.title('FFT of a complex signal')\n",
    "plt.show()"
   ]
  },
  {
   "cell_type": "markdown",
   "metadata": {},
   "source": [
    "The Fourier Transformation shows us the signal frequencies that make up our combined signal. "
   ]
  },
  {
   "cell_type": "markdown",
   "metadata": {},
   "source": [
    "***Possible section on the Nyquist Theory***"
   ]
  },
  {
   "cell_type": "code",
   "execution_count": null,
   "metadata": {},
   "outputs": [],
   "source": []
  },
  {
   "cell_type": "code",
   "execution_count": null,
   "metadata": {},
   "outputs": [],
   "source": []
  },
  {
   "cell_type": "code",
   "execution_count": null,
   "metadata": {},
   "outputs": [],
   "source": []
  },
  {
   "cell_type": "markdown",
   "metadata": {},
   "source": [
    "## Additional Resources"
   ]
  },
  {
   "cell_type": "markdown",
   "metadata": {},
   "source": []
  },
  {
   "cell_type": "code",
   "execution_count": null,
   "metadata": {},
   "outputs": [],
   "source": []
  }
 ],
 "metadata": {
  "kernelspec": {
   "display_name": "Python 3",
   "language": "python",
   "name": "python3"
  },
  "language_info": {
   "codemirror_mode": {
    "name": "ipython",
    "version": 3
   },
   "file_extension": ".py",
   "mimetype": "text/x-python",
   "name": "python",
   "nbconvert_exporter": "python",
   "pygments_lexer": "ipython3",
   "version": "3.7.6"
  }
 },
 "nbformat": 4,
 "nbformat_minor": 4
}