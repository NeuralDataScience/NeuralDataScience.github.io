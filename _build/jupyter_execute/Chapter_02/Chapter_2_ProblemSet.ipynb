{
 "cells": [
  {
   "cell_type": "markdown",
   "id": "148081b9",
   "metadata": {},
   "source": [
    "## Chapter 2 Problem Set\n",
    "\n",
    "1. In [Chapter 2.1](https://neuraldatascience.github.io/Chapter_02/Obtaining_Datasets_with_DANDI.html), we demonstrated how to download a particular DANDIset. Modify this code to download another dataset, and dig in to see what's there.\n",
    "\n",
    "2. In [2.3](https://neuraldatascience.github.io/Chapter_02/Working_with_NWB_format_in_Python.html), we created two functions. One of these functions plots binned firing rates over time. Modify this function to accept a NumPy array that is neurons x spike times, and to plot an average firing rate over time. Bonus: add a shaded standard deviation around your average firing rate.\n",
    "\n",
    "3. In [2.2](https://neuraldatascience.github.io/Chapter_02/Sample_Visualizations.html), we looked at the Economo & Svoboda (2018) extracellular data and produced a table of trial times. In 2.2, we showed how to plot a PSTH for single neurons. Use the `interval_trial` table we created in 2.2 to find trials where the mouse either had a \"correct\" or \"incorrect\" response. Take an average of firing rates across all neurons in the incorrect and correct, and plot. Is there a difference?\n",
    "\n"
   ]
  }
 ],
 "metadata": {
  "kernelspec": {
   "display_name": "Python 3",
   "language": "python",
   "name": "python3"
  },
  "language_info": {
   "codemirror_mode": {
    "name": "ipython",
    "version": 3
   },
   "file_extension": ".py",
   "mimetype": "text/x-python",
   "name": "python",
   "nbconvert_exporter": "python",
   "pygments_lexer": "ipython3",
   "version": "3.7.3"
  }
 },
 "nbformat": 4,
 "nbformat_minor": 5
}