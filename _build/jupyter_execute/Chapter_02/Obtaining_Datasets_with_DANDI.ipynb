{
 "cells": [
  {
   "cell_type": "markdown",
   "metadata": {},
   "source": [
    "# Obtaining Datasets with DANDI"
   ]
  },
  {
   "cell_type": "markdown",
   "metadata": {},
   "source": [
    "[DANDI](https://www.dandiarchive.org/) is an open source data archive for neuroscience datasets, called **Dandisets**. DANDI allows scientists to submit and download neural datasets to promote research collaboration and consistent and transparent data standards. DANDI also [provides a solution](https://www.dandiarchive.org/handbook/01_introduction/) to the difficulties that come from housing data in the many other general domains (i.e. Dropbox, Google Drive, etc.). Usefully for our purposes here, many of the datasets on DANDI are in NWB format.\n",
    "\n",
    "There are two primary ways to work with Dandisets:\n",
    "1. You can **download the datasets locally**, either via the [DANDI Web Application](https://gui.dandiarchive.org/#/dandiset) or using the DANDI Python client below. If you download via the website, you'll need to create an account.\n",
    "2. You can **stream datasets directly** from DANDI (under development).\n",
    "\n",
    "Below, we demonstrate how to do both of these. For additional information on either of these methods, please refer to the [DANDI documentation](https://gui.dandiarchive.org/). "
   ]
  },
  {
   "cell_type": "markdown",
   "metadata": {},
   "source": [
    "## Option 1: Downloading Dandisets using Python "
   ]
  },
  {
   "cell_type": "markdown",
   "metadata": {},
   "source": [
    "First, we need to ensure that you have the [`DANDI` client](https://pypi.org/project/dandi/) installed on your computer. The cell below will try to import DANDI. If you have an old version of DANDI, it will prompt you to install a newer version. Type \"Y\" if you would like to install a new version (this is recommended). If you don't have DANDI at all, it will install the most recent version."
   ]
  },
  {
   "cell_type": "code",
   "execution_count": 1,
   "metadata": {},
   "outputs": [
    {
     "name": "stdout",
     "output_type": "stream",
     "text": [
      "DANDI installed & imported.\n"
     ]
    }
   ],
   "source": [
    "try:\n",
    "    import dandi\n",
    "    if dandi.__version__>='0.26.0':\n",
    "        print('DANDI installed & imported.')\n",
    "    else:\n",
    "        response = input('Old version of DANDI installed. Would you like to install a newer version of DANDI? (Y/N)')\n",
    "        if response == 'Y':\n",
    "            !pip install --upgrade dandi\n",
    "except ImportError as e:\n",
    "    !pip install dandi"
   ]
  },
  {
   "cell_type": "markdown",
   "metadata": {},
   "source": [
    "The cell below will download [this dataset](https://gui.dandiarchive.org/#/dandiset/000006) from DANDI. This dataset contains 32-channel extracellular recordings from mouse cortex.\n",
    "\n",
    "<mark>**Note:** Downloading this dataset may take several minutes, depending on your internet connection.</mark>"
   ]
  },
  {
   "cell_type": "code",
   "execution_count": 2,
   "metadata": {
    "scrolled": true
   },
   "outputs": [
    {
     "name": "stdout",
     "output_type": "stream",
     "text": [
      "PATH                 SIZE DONE    DONE% CHECKSUM STATUS MESSAGE   \r\n",
      "dandiset.yaml                                           updating  \r\n",
      "Summary:                  0 Bytes                       1 updating\r\n",
      "                          <0.00%                                  \r\n",
      "2021-08-24 10:45:12,305 [    INFO] Logs saved in /Users/ashley/Library/Logs/dandi-cli/20210824174510Z-70262.log\r\n",
      "Error: ./000006/dandiset.yaml\r\n"
     ]
    }
   ],
   "source": [
    "!dandi download https://dandiarchive.org/dandiset/000006/draft"
   ]
  },
  {
   "cell_type": "markdown",
   "metadata": {},
   "source": [
    "Once the cell above completes running, you will see a new folder 📁\"00006\" wherever you're running this notebook."
   ]
  },
  {
   "cell_type": "markdown",
   "metadata": {},
   "source": [
    "## Option 2: Streaming the Dandiset\n",
    "\n",
    "**This is under development.**"
   ]
  },
  {
   "cell_type": "code",
   "execution_count": 3,
   "metadata": {},
   "outputs": [
    {
     "name": "stderr",
     "output_type": "stream",
     "text": [
      "/Users/ashley/anaconda3/lib/python3.7/site-packages/dask/config.py:168: YAMLLoadWarning: calling yaml.load() without Loader=... is deprecated, as the default Loader is unsafe. Please read https://msg.pyyaml.org/load for full details.\n",
      "  data = yaml.load(f.read()) or {}\n",
      "/Users/ashley/anaconda3/lib/python3.7/site-packages/distributed/config.py:20: YAMLLoadWarning: calling yaml.load() without Loader=... is deprecated, as the default Loader is unsafe. Please read https://msg.pyyaml.org/load for full details.\n",
      "  defaults = yaml.load(f)\n"
     ]
    },
    {
     "data": {
      "text/plain": [
       "Ellipsis"
      ]
     },
     "execution_count": 3,
     "metadata": {},
     "output_type": "execute_result"
    }
   ],
   "source": [
    "# Import necessary packages\n",
    "from pynwb import NWBHDF5IO\n",
    "from nwbwidgets import nwb2widget\n",
    "import requests\n",
    "\n",
    "..."
   ]
  },
  {
   "cell_type": "markdown",
   "metadata": {},
   "source": [
    "The following section will go over the the structure of an NWBFile and how to access data from this new file type. "
   ]
  }
 ],
 "metadata": {
  "kernelspec": {
   "display_name": "Python 3",
   "language": "python",
   "name": "python3"
  },
  "language_info": {
   "codemirror_mode": {
    "name": "ipython",
    "version": 3
   },
   "file_extension": ".py",
   "mimetype": "text/x-python",
   "name": "python",
   "nbconvert_exporter": "python",
   "pygments_lexer": "ipython3",
   "version": "3.7.3"
  }
 },
 "nbformat": 4,
 "nbformat_minor": 2
}