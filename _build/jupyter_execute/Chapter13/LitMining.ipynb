{
 "cells": [
  {
   "cell_type": "markdown",
   "id": "132cc677-5b55-483c-9f7a-b0fa2e76045b",
   "metadata": {},
   "source": [
    "# Literature Mining\n",
    "\n",
    "Here, we'll briefly demonstrate the use of `lisc` to mine PubMed literature."
   ]
  },
  {
   "cell_type": "code",
   "execution_count": 1,
   "id": "fc913447-ab63-4294-9166-22b98c89580f",
   "metadata": {},
   "outputs": [
    {
     "name": "stdout",
     "output_type": "stream",
     "text": [
      "Collecting lisc\n",
      "  Downloading lisc-0.4.0-py3-none-any.whl.metadata (8.5 kB)\n",
      "Requirement already satisfied: numpy>=1.17.1 in /opt/miniconda3/envs/jb_py311/lib/python3.11/site-packages (from lisc) (1.26.4)\n",
      "Requirement already satisfied: requests in /opt/miniconda3/envs/jb_py311/lib/python3.11/site-packages (from lisc) (2.32.4)\n",
      "Requirement already satisfied: lxml in /opt/miniconda3/envs/jb_py311/lib/python3.11/site-packages (from lisc) (6.0.0)\n",
      "Requirement already satisfied: beautifulsoup4 in /opt/miniconda3/envs/jb_py311/lib/python3.11/site-packages (from lisc) (4.13.4)\n",
      "Requirement already satisfied: soupsieve>1.2 in /opt/miniconda3/envs/jb_py311/lib/python3.11/site-packages (from beautifulsoup4->lisc) (2.7)\n",
      "Requirement already satisfied: typing-extensions>=4.0.0 in /opt/miniconda3/envs/jb_py311/lib/python3.11/site-packages (from beautifulsoup4->lisc) (4.14.1)\n",
      "Requirement already satisfied: charset_normalizer<4,>=2 in /opt/miniconda3/envs/jb_py311/lib/python3.11/site-packages (from requests->lisc) (3.4.2)\n",
      "Requirement already satisfied: idna<4,>=2.5 in /opt/miniconda3/envs/jb_py311/lib/python3.11/site-packages (from requests->lisc) (3.10)\n",
      "Requirement already satisfied: urllib3<3,>=1.21.1 in /opt/miniconda3/envs/jb_py311/lib/python3.11/site-packages (from requests->lisc) (2.5.0)\n",
      "Requirement already satisfied: certifi>=2017.4.17 in /opt/miniconda3/envs/jb_py311/lib/python3.11/site-packages (from requests->lisc) (2025.7.9)\n",
      "Downloading lisc-0.4.0-py3-none-any.whl (101 kB)\n",
      "Installing collected packages: lisc\n",
      "Successfully installed lisc-0.4.0\n"
     ]
    }
   ],
   "source": [
    "# Install if necessary\n",
    "!pip install lisc"
   ]
  },
  {
   "cell_type": "code",
   "execution_count": 13,
   "id": "ff593b9d-8688-401a-92ab-0c7c9949b219",
   "metadata": {},
   "outputs": [
    {
     "name": "stdout",
     "output_type": "stream",
     "text": [
      "[<lisc.data.articles.Articles object at 0x10f068110>, <lisc.data.articles.Articles object at 0x10f068090>, <lisc.data.articles.Articles object at 0x10f44a4d0>]\n"
     ]
    }
   ],
   "source": [
    "# Import the Words object, which is used for words collection\n",
    "from lisc import Words\n",
    "\n",
    "# Set some search terms of interest\n",
    "terms = [['prefrontal'], ['working memory'],['Parkinson\\'s disease']]\n",
    "\n",
    "# Initialize Words object and set the terms to search for\n",
    "words = Words()\n",
    "words.add_terms(terms)\n",
    "\n",
    "# Collect words data\n",
    "words.run_collection(retmax=5)\n",
    "\n",
    "# Check the collected words data\n",
    "print(words.results)"
   ]
  },
  {
   "cell_type": "code",
   "execution_count": 14,
   "id": "0abeac40-8bbf-48e7-ba64-2c2a71f00b92",
   "metadata": {},
   "outputs": [
    {
     "name": "stdout",
     "output_type": "stream",
     "text": [
      "['Shared Mechanisms in Dementia and Depression: The Modulatory Role of Physical Exercise.', 'Theta burst stimulation (TBS) in methamphetamine use disorder: a meta-analysis and systematic review.', 'Differentiated Presynaptic Input to OLMɑ2 Cells Along the Hippocampal Dorsoventral Axis: Implications for Hippocampal Microcircuit Function.', 'fNIRS evidence of abnormal frontotemporal cortex activation and functional connectivity in depressed patients after stroke: neuromodulatory mechanisms from mild to moderate depression.', \"Efficacy of Yijinjing-inspired exercises on sleep disorders in Parkinson's disease: a controlled fNIRS study.\"]\n"
     ]
    }
   ],
   "source": [
    "# Look at the first five titles\n",
    "print(words.results[0].titles)"
   ]
  },
  {
   "cell_type": "code",
   "execution_count": 15,
   "id": "2ed46d48-a6e1-41cb-a9fb-ae940435eebe",
   "metadata": {},
   "outputs": [
    {
     "name": "stdout",
     "output_type": "stream",
     "text": [
      "Running counts for:  prefrontal\n",
      "Running counts for:  working memory\n",
      "Running counts for:  Parkinson's disease\n",
      "[[   0 6486 1658]\n",
      " [6486    0  798]\n",
      " [1658  798    0]]\n"
     ]
    }
   ],
   "source": [
    "# Import the Counts object, which is used for co-occurrence analysis\n",
    "from lisc import Counts\n",
    "\n",
    "# Initialize counts object & add the terms that we want to collect co-occurrences for\n",
    "counts = Counts()\n",
    "counts.add_terms(terms)\n",
    "\n",
    "# Collect co-occurrence data\n",
    "counts.run_collection(verbose=True)\n",
    "\n",
    "# Check out the raw count data\n",
    "print(counts.counts)"
   ]
  },
  {
   "cell_type": "code",
   "execution_count": 22,
   "id": "f5cfa60c-38da-43c0-8cf7-1d6e13ac11e9",
   "metadata": {},
   "outputs": [
    {
     "name": "stdout",
     "output_type": "stream",
     "text": [
      "Unloading terms.\n",
      "Unloading terms.\n",
      "For  'prefrontal cortex'  the highest association is  'working memory'       with        5242\n",
      "For  'hippocampus'        the highest association is  'Alzheimer's disease'  with       18059\n",
      "For  'habenula'           the highest association is  'Parkinson's disease'  with          68\n"
     ]
    }
   ],
   "source": [
    "# Define some new terms\n",
    "terms_a = [['prefrontal cortex'], ['hippocampus'], ['habenula']]\n",
    "terms_b = [['working memory'], ['Parkinson\\'s disease'], ['Alzheimer\\'s disease','dementia']]\n",
    "\n",
    "# Set terms lists, indicating they are separate lists with the 'A' and 'B' labels\n",
    "counts.add_terms(terms_a, dim='A')\n",
    "counts.add_terms(terms_b, dim='B')\n",
    "\n",
    "# Collect co-occurrence data\n",
    "counts.run_collection()\n",
    "\n",
    "# Look at the collected counts data for the first set of terms\n",
    "counts.check_data(data_type='counts', dim='A')# Compute the association index"
   ]
  },
  {
   "cell_type": "code",
   "execution_count": 25,
   "id": "1a4bd282-dcfd-44ad-8524-03577786e920",
   "metadata": {},
   "outputs": [
    {
     "name": "stdout",
     "output_type": "stream",
     "text": [
      "[[5.20757791e-02 6.74312877e-03 6.68048384e-03]\n",
      " [1.49328457e-02 6.93482329e-03 4.28465340e-02]\n",
      " [3.32129364e-04 5.35846559e-04 7.30392287e-05]]\n"
     ]
    }
   ],
   "source": [
    "# Compute the Jaccard index\n",
    "counts.compute_score('association')\n",
    "\n",
    "# Check out the computed score\n",
    "print(counts.score)"
   ]
  },
  {
   "cell_type": "code",
   "execution_count": 29,
   "id": "ec376812-f617-4cec-8d39-b25558c9e3d9",
   "metadata": {},
   "outputs": [
    {
     "data": {
      "image/png": "[encoded data removed]",
      "text/plain": [
       "<Figure size 640x480 with 4 Axes>"
      ]
     },
     "metadata": {},
     "output_type": "display_data"
    }
   ],
   "source": [
    "# Import plots that are available for co-occurrence analysis\n",
    "from lisc.plts.counts import plot_matrix, plot_clustermap, plot_dendrogram\n",
    "\n",
    "# Plot a clustermap of the association index data\n",
    "plot_clustermap(counts, attribute='score')\n"
   ]
  }
 ],
 "metadata": {
  "kernelspec": {
   "display_name": "Python 3.11(JupyterBook Env)",
   "language": "python",
   "name": "jb_py311"
  },
  "language_info": {
   "codemirror_mode": {
    "name": "ipython",
    "version": 3
   },
   "file_extension": ".py",
   "mimetype": "text/x-python",
   "name": "python",
   "nbconvert_exporter": "python",
   "pygments_lexer": "ipython3",
   "version": "3.11.13"
  }
 },
 "nbformat": 4,
 "nbformat_minor": 5
}