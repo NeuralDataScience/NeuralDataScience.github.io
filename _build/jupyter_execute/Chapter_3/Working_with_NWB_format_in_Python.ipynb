{
 "cells": [
  {
   "cell_type": "markdown",
   "metadata": {},
   "source": [
    "# Working with NWB in Python "
   ]
  },
  {
   "cell_type": "markdown",
   "metadata": {},
   "source": [
    "## About NWB"
   ]
  },
  {
   "cell_type": "markdown",
   "metadata": {},
   "source": [
    "- many obstacles in data sharing, especially in neuroscience \n",
    "- there is currently too much data in neuroscience to work with \n",
    "- too much data makes it difficult to share and analyze with scientisits around the worls \n",
    "- \"The aim of Neurodata Without Borders is to standardize neuroscience data on an international scale\"\n",
    "- creating a standard format for neuroscience data will mamke it easier to share and contribute to open soruce projects which will accelerate discovery "
   ]
  },
  {
   "cell_type": "markdown",
   "metadata": {},
   "source": [
    "## Goal"
   ]
  },
  {
   "cell_type": "markdown",
   "metadata": {},
   "source": [
    "- develop a unified, extensible, open-source data format for cellular-based neurophysiology data\n",
    "- create a standard for neuroscience datasets to imporve the collaboration of neuroscience projects around the world "
   ]
  },
  {
   "cell_type": "markdown",
   "metadata": {},
   "source": [
    "## Current Conflict "
   ]
  },
  {
   "cell_type": "markdown",
   "metadata": {},
   "source": [
    "- neuroscience does not have a standardized way to collect and share data\n",
    "- no common standard means it is difficult for labs to share and compare results with one another \n",
    "- not being able to compare results and replicate experiments slows down the overall progression of the field "
   ]
  },
  {
   "cell_type": "markdown",
   "metadata": {},
   "source": [
    "## Neurodata Without Borders: Neurophysiolgy "
   ]
  },
  {
   "cell_type": "markdown",
   "metadata": {},
   "source": [
    "- a common standard to share, store, and build analysis tools for neuroscience data \n",
    "- contains software to stadardize data, API's to read and write data, and important datasets in the neuroscience community that have been converted to NWB format \n",
    "- takes into account experimental design, experimental subjects, behavior, data aquisition, neural activity, and extensions "
   ]
  },
  {
   "cell_type": "markdown",
   "metadata": {},
   "source": [
    "## NWB Tutorials: Object IDs "
   ]
  },
  {
   "cell_type": "code",
   "execution_count": 1,
   "metadata": {},
   "outputs": [
    {
     "name": "stdout",
     "output_type": "stream",
     "text": [
      "de5bd026-104d-4f20-91f9-d19616f97e9a\n",
      "e6238374-891a-4210-b605-b96d21ee07f9\n"
     ]
    }
   ],
   "source": [
    "from pynwb import NWBFile, TimeSeries\n",
    "from datetime import datetime\n",
    "from dateutil.tz import tzlocal\n",
    "import numpy as np\n",
    "\n",
    "# set up the NWBFile\n",
    "start_time = datetime(2019, 4, 3, 11, tzinfo=tzlocal())\n",
    "nwbfile = NWBFile(session_description='demonstrate NWB object IDs',\n",
    "                  identifier='NWB456',\n",
    "                  session_start_time=start_time)\n",
    "\n",
    "# make some fake data\n",
    "timestamps = np.linspace(0, 100, 1024)\n",
    "data = np.sin(0.333 * timestamps) + np.cos(0.1 * timestamps) + np.random.randn(len(timestamps))\n",
    "test_ts = TimeSeries(name='raw_timeseries', data=data, unit='m', timestamps=timestamps)\n",
    "\n",
    "# add it to the NWBFile\n",
    "nwbfile.add_acquisition(test_ts)\n",
    "\n",
    "# print the object ID of the NWB file\n",
    "print(nwbfile.object_id)\n",
    "\n",
    "# print the object ID of the TimeSeries\n",
    "print(test_ts.object_id)"
   ]
  },
  {
   "cell_type": "code",
   "execution_count": 2,
   "metadata": {},
   "outputs": [
    {
     "data": {
      "text/plain": [
       "{'de5bd026-104d-4f20-91f9-d19616f97e9a': root pynwb.file.NWBFile at 0x140427104138512\n",
       " Fields:\n",
       "   acquisition: {\n",
       "     raw_timeseries <class 'pynwb.base.TimeSeries'>\n",
       "   }\n",
       "   file_create_date: [datetime.datetime(2021, 1, 8, 20, 20, 39, 334526, tzinfo=tzlocal())]\n",
       "   identifier: NWB456\n",
       "   session_description: demonstrate NWB object IDs\n",
       "   session_start_time: 2019-04-03 11:00:00-07:00\n",
       "   timestamps_reference_time: 2019-04-03 11:00:00-07:00,\n",
       " 'e6238374-891a-4210-b605-b96d21ee07f9': raw_timeseries pynwb.base.TimeSeries at 0x140427109729808\n",
       " Fields:\n",
       "   comments: no comments\n",
       "   conversion: 1.0\n",
       "   data: [ 0.80394986  1.73303555  1.92593701 ...  0.07172483 -1.59537533\n",
       "   1.64695438]\n",
       "   description: no description\n",
       "   interval: 1\n",
       "   resolution: -1.0\n",
       "   timestamps: [0.00000000e+00 9.77517107e-02 1.95503421e-01 ... 9.98044966e+01\n",
       "  9.99022483e+01 1.00000000e+02]\n",
       "   timestamps_unit: seconds\n",
       "   unit: m}"
      ]
     },
     "execution_count": 2,
     "metadata": {},
     "output_type": "execute_result"
    }
   ],
   "source": [
    "nwbfile.objects"
   ]
  },
  {
   "cell_type": "code",
   "execution_count": 3,
   "metadata": {},
   "outputs": [
    {
     "name": "stdout",
     "output_type": "stream",
     "text": [
      "root pynwb.file.NWBFile at 0x140427104138512\n",
      "Fields:\n",
      "  acquisition: {\n",
      "    raw_timeseries <class 'pynwb.base.TimeSeries'>\n",
      "  }\n",
      "  file_create_date: [datetime.datetime(2021, 1, 8, 20, 20, 39, 334526, tzinfo=tzlocal())]\n",
      "  identifier: NWB456\n",
      "  session_description: demonstrate NWB object IDs\n",
      "  session_start_time: 2019-04-03 11:00:00-07:00\n",
      "  timestamps_reference_time: 2019-04-03 11:00:00-07:00\n",
      "\n",
      "raw_timeseries pynwb.base.TimeSeries at 0x140427109729808\n",
      "Fields:\n",
      "  comments: no comments\n",
      "  conversion: 1.0\n",
      "  data: [ 0.80394986  1.73303555  1.92593701 ...  0.07172483 -1.59537533\n",
      "  1.64695438]\n",
      "  description: no description\n",
      "  interval: 1\n",
      "  resolution: -1.0\n",
      "  timestamps: [0.00000000e+00 9.77517107e-02 1.95503421e-01 ... 9.98044966e+01\n",
      " 9.99022483e+01 1.00000000e+02]\n",
      "  timestamps_unit: seconds\n",
      "  unit: m\n",
      "\n"
     ]
    }
   ],
   "source": [
    "for oid in nwbfile.objects:\n",
    "    print(nwbfile.objects[oid])"
   ]
  },
  {
   "cell_type": "code",
   "execution_count": 4,
   "metadata": {},
   "outputs": [
    {
     "data": {
      "text/plain": [
       "raw_timeseries pynwb.base.TimeSeries at 0x140427109729808\n",
       "Fields:\n",
       "  comments: no comments\n",
       "  conversion: 1.0\n",
       "  data: [ 0.80394986  1.73303555  1.92593701 ...  0.07172483 -1.59537533\n",
       "  1.64695438]\n",
       "  description: no description\n",
       "  interval: 1\n",
       "  resolution: -1.0\n",
       "  timestamps: [0.00000000e+00 9.77517107e-02 1.95503421e-01 ... 9.98044966e+01\n",
       " 9.99022483e+01 1.00000000e+02]\n",
       "  timestamps_unit: seconds\n",
       "  unit: m"
      ]
     },
     "execution_count": 4,
     "metadata": {},
     "output_type": "execute_result"
    }
   ],
   "source": [
    "ts_id = test_ts.object_id\n",
    "my_ts = nwbfile.objects[ts_id]  # test_ts == my_ts\n",
    "my_ts"
   ]
  },
  {
   "cell_type": "code",
   "execution_count": 5,
   "metadata": {},
   "outputs": [
    {
     "name": "stdout",
     "output_type": "stream",
     "text": [
      "de5bd026-104d-4f20-91f9-d19616f97e9a: NWBFile \"root\"\n",
      "e6238374-891a-4210-b605-b96d21ee07f9: TimeSeries \"raw_timeseries\"\n"
     ]
    }
   ],
   "source": [
    "for obj in nwbfile.objects.values():\n",
    "    print('%s: %s \"%s\"' % (obj.object_id, obj.neurodata_type, obj.name))\n"
   ]
  },
  {
   "cell_type": "markdown",
   "metadata": {},
   "source": [
    "## NWB Tutorials: NWB Basics "
   ]
  },
  {
   "cell_type": "code",
   "execution_count": 6,
   "metadata": {},
   "outputs": [
    {
     "name": "stdout",
     "output_type": "stream",
     "text": [
      "root pynwb.file.NWBFile at 0x140427114115408\n",
      "Fields:\n",
      "  file_create_date: [datetime.datetime(2017, 4, 15, 12, 0, tzinfo=tzlocal())]\n",
      "  identifier: NWB123\n",
      "  session_description: demonstrate NWBFile basics\n",
      "  session_start_time: 2017-04-03 11:00:00-07:00\n",
      "  timestamps_reference_time: 2017-04-03 11:00:00-07:00\n",
      "\n"
     ]
    }
   ],
   "source": [
    "# The NWB file \n",
    "start_time2 = datetime(2017, 4, 3, 11, tzinfo=tzlocal())\n",
    "create_date2 = datetime(2017, 4, 15, 12, tzinfo=tzlocal())\n",
    "\n",
    "nwbfile2 = NWBFile(session_description='demonstrate NWBFile basics',  # required\n",
    "                  identifier='NWB123',  # required\n",
    "                  session_start_time=start_time2,  # required\n",
    "                  file_create_date=create_date2)  # optional\n",
    "print(nwbfile2)"
   ]
  },
  {
   "cell_type": "code",
   "execution_count": 7,
   "metadata": {},
   "outputs": [
    {
     "name": "stdout",
     "output_type": "stream",
     "text": [
      "[0, 1, 2, 3, 4, 5, 6, 7, 8, 9]\n",
      "test_timeseries pynwb.base.TimeSeries at 0x140427072820368\n",
      "Fields:\n",
      "  comments: no comments\n",
      "  conversion: 1.0\n",
      "  data: [100 110 120 130 140 150 160 170 180 190]\n",
      "  description: no description\n",
      "  interval: 1\n",
      "  resolution: -1.0\n",
      "  timestamps: [0 1 2 3 4 5 6 7 8 9]\n",
      "  timestamps_unit: seconds\n",
      "  unit: m\n",
      "\n"
     ]
    }
   ],
   "source": [
    "# Time Series Data\n",
    "from pynwb import TimeSeries\n",
    "\n",
    "data2 = list(range(100, 200, 10))\n",
    "timestamps2 = list(range(10))\n",
    "test_ts2 = TimeSeries(name='test_timeseries', data=data2, unit='m', timestamps=timestamps2)\n",
    "print(timestamps2)\n",
    "print(test_ts2)"
   ]
  },
  {
   "cell_type": "code",
   "execution_count": 8,
   "metadata": {},
   "outputs": [
    {
     "data": {
      "text/plain": [
       "test_timeseries pynwb.base.TimeSeries at 0x140427072820880\n",
       "Fields:\n",
       "  comments: no comments\n",
       "  conversion: 1.0\n",
       "  data: [100 110 120 130 140 150 160 170 180 190]\n",
       "  description: no description\n",
       "  rate: 1.0\n",
       "  resolution: -1.0\n",
       "  starting_time: 0.0\n",
       "  starting_time_unit: seconds\n",
       "  unit: m"
      ]
     },
     "execution_count": 8,
     "metadata": {},
     "output_type": "execute_result"
    }
   ],
   "source": [
    "# Uniform Sampled rate \n",
    "rate_ts = TimeSeries(name='test_timeseries', data=data2, unit='m', starting_time=0.0, rate=1.0)\n",
    "rate_ts"
   ]
  },
  {
   "cell_type": "code",
   "execution_count": 9,
   "metadata": {},
   "outputs": [],
   "source": [
    "nwbfile2.add_acquisition(test_ts)"
   ]
  },
  {
   "cell_type": "code",
   "execution_count": 10,
   "metadata": {},
   "outputs": [
    {
     "data": {
      "text/plain": [
       "root pynwb.file.NWBFile at 0x140427114115408\n",
       "Fields:\n",
       "  acquisition: {\n",
       "    raw_timeseries <class 'pynwb.base.TimeSeries'>\n",
       "  }\n",
       "  file_create_date: [datetime.datetime(2017, 4, 15, 12, 0, tzinfo=tzlocal())]\n",
       "  identifier: NWB123\n",
       "  session_description: demonstrate NWBFile basics\n",
       "  session_start_time: 2017-04-03 11:00:00-07:00\n",
       "  timestamps_reference_time: 2017-04-03 11:00:00-07:00"
      ]
     },
     "execution_count": 10,
     "metadata": {},
     "output_type": "execute_result"
    }
   ],
   "source": [
    "nwbfile2"
   ]
  },
  {
   "cell_type": "code",
   "execution_count": 11,
   "metadata": {},
   "outputs": [
    {
     "ename": "KeyError",
     "evalue": "'test_timeseries'",
     "output_type": "error",
     "traceback": [
      "\u001b[0;31m---------------------------------------------------------------------------\u001b[0m",
      "\u001b[0;31mKeyError\u001b[0m                                  Traceback (most recent call last)",
      "\u001b[0;32m<ipython-input-11-c7c538c793a6>\u001b[0m in \u001b[0;36m<module>\u001b[0;34m\u001b[0m\n\u001b[0;32m----> 1\u001b[0;31m \u001b[0mnwbfile2\u001b[0m\u001b[0;34m.\u001b[0m\u001b[0macquisition\u001b[0m\u001b[0;34m[\u001b[0m\u001b[0;34m'test_timeseries'\u001b[0m\u001b[0;34m]\u001b[0m\u001b[0;34m\u001b[0m\u001b[0;34m\u001b[0m\u001b[0m\n\u001b[0m",
      "\u001b[0;32m~/opt/anaconda3/lib/python3.7/site-packages/hdmf/utils.py\u001b[0m in \u001b[0;36m__getitem__\u001b[0;34m(self, args)\u001b[0m\n\u001b[1;32m    886\u001b[0m                 \u001b[0;32mreturn\u001b[0m \u001b[0msuper\u001b[0m\u001b[0;34m(\u001b[0m\u001b[0;34m)\u001b[0m\u001b[0;34m.\u001b[0m\u001b[0m__getitem__\u001b[0m\u001b[0;34m(\u001b[0m\u001b[0mval\u001b[0m\u001b[0;34m)\u001b[0m\u001b[0;34m\u001b[0m\u001b[0;34m\u001b[0m\u001b[0m\n\u001b[1;32m    887\u001b[0m         \u001b[0;32melse\u001b[0m\u001b[0;34m:\u001b[0m\u001b[0;34m\u001b[0m\u001b[0;34m\u001b[0m\u001b[0m\n\u001b[0;32m--> 888\u001b[0;31m             \u001b[0;32mreturn\u001b[0m \u001b[0msuper\u001b[0m\u001b[0;34m(\u001b[0m\u001b[0;34m)\u001b[0m\u001b[0;34m.\u001b[0m\u001b[0m__getitem__\u001b[0m\u001b[0;34m(\u001b[0m\u001b[0mkey\u001b[0m\u001b[0;34m)\u001b[0m\u001b[0;34m\u001b[0m\u001b[0;34m\u001b[0m\u001b[0m\n\u001b[0m\u001b[1;32m    889\u001b[0m \u001b[0;34m\u001b[0m\u001b[0m\n\u001b[1;32m    890\u001b[0m     \u001b[0;32mdef\u001b[0m \u001b[0m__setitem__\u001b[0m\u001b[0;34m(\u001b[0m\u001b[0mself\u001b[0m\u001b[0;34m,\u001b[0m \u001b[0mkey\u001b[0m\u001b[0;34m,\u001b[0m \u001b[0mvalue\u001b[0m\u001b[0;34m)\u001b[0m\u001b[0;34m:\u001b[0m\u001b[0;34m\u001b[0m\u001b[0;34m\u001b[0m\u001b[0m\n",
      "\u001b[0;31mKeyError\u001b[0m: 'test_timeseries'"
     ]
    }
   ],
   "source": [
    "nwbfile2.acquisition['test_timeseries']"
   ]
  },
  {
   "cell_type": "code",
   "execution_count": 28,
   "metadata": {},
   "outputs": [
    {
     "data": {
      "text/plain": [
       "{'45510545-f026-4d0a-bdab-748260b5f117': root pynwb.file.NWBFile at 0x140236634051536\n",
       " Fields:\n",
       "   acquisition: {\n",
       "     test_timeseries <class 'pynwb.base.TimeSeries'>\n",
       "   }\n",
       "   file_create_date: [datetime.datetime(2017, 4, 15, 12, 0, tzinfo=tzlocal())]\n",
       "   identifier: NWB123\n",
       "   session_description: demonstrate NWBFile basics\n",
       "   session_start_time: 2017-04-03 11:00:00-07:00\n",
       "   timestamps_reference_time: 2017-04-03 11:00:00-07:00,\n",
       " '5b5a6346-f27c-443a-8f17-b0f0dafb18b6': test_timeseries pynwb.base.TimeSeries at 0x140236634142608\n",
       " Fields:\n",
       "   comments: no comments\n",
       "   conversion: 1.0\n",
       "   data: [100 110 120 130 140 150 160 170 180 190]\n",
       "   description: no description\n",
       "   interval: 1\n",
       "   resolution: -1.0\n",
       "   timestamps: [0 1 2 3 4 5 6 7 8 9]\n",
       "   timestamps_unit: seconds\n",
       "   unit: m}"
      ]
     },
     "execution_count": 28,
     "metadata": {},
     "output_type": "execute_result"
    }
   ],
   "source": [
    "nwbfile2.objects"
   ]
  },
  {
   "cell_type": "code",
   "execution_count": null,
   "metadata": {},
   "outputs": [],
   "source": [
    "# Writing an NWB file "
   ]
  }
 ],
 "metadata": {
  "kernelspec": {
   "display_name": "Python 3",
   "language": "python",
   "name": "python3"
  },
  "language_info": {
   "codemirror_mode": {
    "name": "ipython",
    "version": 3
   },
   "file_extension": ".py",
   "mimetype": "text/x-python",
   "name": "python",
   "nbconvert_exporter": "python",
   "pygments_lexer": "ipython3",
   "version": "3.7.6"
  }
 },
 "nbformat": 4,
 "nbformat_minor": 4
}