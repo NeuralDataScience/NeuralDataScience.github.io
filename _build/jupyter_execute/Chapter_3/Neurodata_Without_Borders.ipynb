{
 "cells": [
  {
   "cell_type": "markdown",
   "metadata": {},
   "source": [
    "# Neurodata Without Borders "
   ]
  },
  {
   "cell_type": "markdown",
   "metadata": {},
   "source": [
    "**About NWB**"
   ]
  },
  {
   "cell_type": "markdown",
   "metadata": {},
   "source": [
    "- many obstacles in data sharing, especially in neuroscience \n",
    "- there is currently too much data in neuroscience to work with \n",
    "- too much data makes it difficult to share and analyze with scientisits around the worls \n",
    "- \"The aim of Neurodata Without Borders is to standardize neuroscience data on an international scale\"\n",
    "- creating a standard format for neuroscience data will mamke it easier to share and contribute to open soruce projects which will accelerate discovery "
   ]
  },
  {
   "cell_type": "markdown",
   "metadata": {},
   "source": [
    "**Goal**"
   ]
  },
  {
   "cell_type": "markdown",
   "metadata": {},
   "source": [
    "- develop a unified, extensible, open-source data format for cellular-based neurophysiology data\n",
    "- create a standard for neuroscience datasets to imporve the collaboration of neuroscience projects around the world "
   ]
  },
  {
   "cell_type": "markdown",
   "metadata": {},
   "source": [
    "**Current Conflict**"
   ]
  },
  {
   "cell_type": "markdown",
   "metadata": {},
   "source": [
    "- neuroscience does not have a standardized way to collect and share data\n",
    "- no common standard means it is difficult for labs to share and compare results with one another \n",
    "- not being able to compare results and replicate experiments slows down the overall progression of the field "
   ]
  },
  {
   "cell_type": "markdown",
   "metadata": {},
   "source": [
    "**Neurodata Without Borders: Neurophysiolgy**"
   ]
  },
  {
   "cell_type": "markdown",
   "metadata": {},
   "source": [
    "- a common standard to share, store, and build analysis tools for neuroscience data \n",
    "- contains software to stadardize data, API's to read and write data, and important datasets in the neuroscience community that have been converted to NWB format \n",
    "- takes into account experimental design, experimental subjects, behavior, data aquisition, neural activity, and extensions "
   ]
  },
  {
   "cell_type": "code",
   "execution_count": null,
   "metadata": {},
   "outputs": [],
   "source": []
  },
  {
   "cell_type": "markdown",
   "metadata": {},
   "source": [
    "\n",
    "```{toctree}\n",
    ":hidden:\n",
    ":titlesonly:\n",
    "\n",
    "\n",
    "Working_with_NWB_format_in_Python\n",
    "```\n"
   ]
  }
 ],
 "metadata": {
  "kernelspec": {
   "display_name": "Python 3",
   "language": "python",
   "name": "python3"
  },
  "language_info": {
   "codemirror_mode": {
    "name": "ipython",
    "version": 3
   },
   "file_extension": ".py",
   "mimetype": "text/x-python",
   "name": "python",
   "nbconvert_exporter": "python",
   "pygments_lexer": "ipython3",
   "version": "3.7.6"
  }
 },
 "nbformat": 4,
 "nbformat_minor": 4
}