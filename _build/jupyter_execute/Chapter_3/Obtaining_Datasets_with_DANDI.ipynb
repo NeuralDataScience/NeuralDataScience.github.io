{
 "cells": [
  {
   "cell_type": "markdown",
   "metadata": {},
   "source": [
    "# Obtaining Datasets with DANDI"
   ]
  },
  {
   "cell_type": "markdown",
   "metadata": {},
   "source": [
    "## What is DANDI"
   ]
  },
  {
   "cell_type": "markdown",
   "metadata": {},
   "source": [
    "DANDI is an open source data archive for cellular neuophysiology datasets. DANDI allows the download and submission of neural datasets to promote research collaboration and consistent and transparent data standards. All datasets on DANDI are formatted in **BRAIN Initiative**, one of them being **Neurodata Without Borders** format (NWB Files). DANDI provides a solution to rapid growing field where a dataset standard is needed to share the immense amount of data. DANDI also provides a solution to the difficulties that come from housing data in the many other general domains (i.e. Dropbox, Google Drive, etc.)."
   ]
  },
  {
   "cell_type": "markdown",
   "metadata": {},
   "source": [
    "## Downloading DANDIsets "
   ]
  },
  {
   "cell_type": "markdown",
   "metadata": {},
   "source": [
    "First, we need to ensure that you have the [`DANDI` client](https://pypi.org/project/dandi/) installed on your computer. The cell below will try to import dandi, and if that fails, it will install it. "
   ]
  },
  {
   "cell_type": "code",
   "execution_count": 1,
   "metadata": {},
   "outputs": [
    {
     "name": "stdout",
     "output_type": "stream",
     "text": [
      "DANDI imported.\n"
     ]
    }
   ],
   "source": [
    "try:\n",
    "    import dandi\n",
    "    print('DANDI imported.')\n",
    "except ImportError as e:\n",
    "    !pip install \"dandi>=0.6.0\""
   ]
  },
  {
   "cell_type": "markdown",
   "metadata": {},
   "source": [
    "All available **Dandisets** can be found on the <a href = 'https://gui.dandiarchive.org/#/'> DANDI Web Application</a>. You will need to creat an account with DANDI before downloading any Dandiset to your local device. The cell below will download [this dataset](https://gui.dandiarchive.org/#/dandiset/000006) from DANDI. Downloading Dandisets may take several minutes, depending on your internet connection and the size of the files."
   ]
  },
  {
   "cell_type": "code",
   "execution_count": 8,
   "metadata": {
    "scrolled": true
   },
   "outputs": [
    {
     "name": "stdout",
     "output_type": "stream",
     "text": [
      "2021-01-27 10:30:58,491 [    INFO] Traversing remote dandisets (000006) recursively\n",
      "PATH                                         SIZE      DONE            DONE% CHECKSUM STATUS          MESSAGE   \n",
      "dandiset.yaml                                                                         done            updated   \n",
      "sub-anm369962/sub-anm369962_ses-20170309.nwb 796.9 kB  796.9 kB         100%    -     done                      \n",
      "sub-anm369962/sub-anm369962_ses-20170310.nwb 6.6 MB    6.6 MB           100%    -     done                      \n",
      "sub-anm369962/sub-anm369962_ses-20170313.nwb 11.5 MB   11.5 MB          100%    -     done                      \n",
      "sub-anm369962/sub-anm369962_ses-20170314.nwb 7.5 MB    7.5 MB           100%    -     done                      \n",
      "sub-anm369962/sub-anm369962_ses-20170316.nwb 609.6 kB  609.6 kB         100%    -     done                      \n",
      "sub-anm369962/sub-anm369962_ses-20170317.nwb 8.2 MB    8.2 MB           100%    -     done                      \n",
      "sub-anm369963/sub-anm369963_ses-20170226.nwb 6.4 MB    6.4 MB           100%    -     done                      \n",
      "sub-anm369963/sub-anm369963_ses-20170227.nwb 6.5 MB    6.5 MB           100%    -     done                      \n",
      "sub-anm369963/sub-anm369963_ses-20170228.nwb 276.6 kB  276.6 kB         100%    -     done                      \n",
      "sub-anm369963/sub-anm369963_ses-20170301.nwb 493.5 kB  493.5 kB         100%    -     done                      \n",
      "sub-anm369963/sub-anm369963_ses-20170302.nwb 281.0 kB  281.0 kB         100%    -     done                      \n",
      "sub-anm369963/sub-anm369963_ses-20170306.nwb 6.7 MB    6.7 MB           100%    -     done                      \n",
      "sub-anm369963/sub-anm369963_ses-20170309.nwb 450.9 kB  450.9 kB         100%    -     done                      \n",
      "sub-anm369963/sub-anm369963_ses-20170310.nwb 604.8 kB  604.8 kB         100%    -     done                      \n",
      "sub-anm369964/sub-anm369964_ses-20170320.nwb 7.7 MB    7.7 MB           100%    -     done                      \n",
      "sub-anm369964/sub-anm369964_ses-20170321.nwb 499.9 kB  499.9 kB         100%    -     done                      \n",
      "sub-anm369964/sub-anm369964_ses-20170322.nwb 5.0 MB    5.0 MB           100%    -     done                      \n",
      "sub-anm369964/sub-anm369964_ses-20170323.nwb 426.4 kB  426.4 kB         100%    -     done                      \n",
      "sub-anm372793/sub-anm372793_ses-20170504.nwb 357.8 kB  357.8 kB         100%    -     done                      \n",
      "sub-anm372793/sub-anm372793_ses-20170508.nwb 357.4 kB  357.4 kB         100%    -     done                      \n",
      "sub-anm372793/sub-anm372793_ses-20170512.nwb 470.8 kB  470.8 kB         100%    -     done                      \n",
      "sub-anm372793/sub-anm372793_ses-20170513.nwb 5.5 MB    5.5 MB           100%    -     done                      \n",
      "sub-anm372793/sub-anm372793_ses-20170514.nwb 5.5 MB    5.5 MB           100%    -     done                      \n",
      "sub-anm372794/sub-anm372794_ses-20170621.nwb 654.2 kB  654.2 kB         100%    -     done                      \n",
      "sub-anm372794/sub-anm372794_ses-20170622.nwb 602.8 kB  602.8 kB         100%    -     done                      \n",
      "sub-anm372794/sub-anm372794_ses-20170624.nwb 4.8 MB    4.8 MB           100%    -     done                      \n",
      "sub-anm372794/sub-anm372794_ses-20170625.nwb 5.7 MB    5.7 MB           100%    -     done                      \n",
      "sub-anm372794/sub-anm372794_ses-20170626.nwb 4.9 MB    4.9 MB           100%    -     done                      \n",
      "sub-anm372794/sub-anm372794_ses-20170627.nwb 553.4 kB  553.4 kB         100%    -     done                      \n",
      "sub-anm372795/sub-anm372795_ses-20170714.nwb 465.5 kB  465.5 kB         100%    -     done                      \n",
      "sub-anm372795/sub-anm372795_ses-20170715.nwb 323.2 kB  323.2 kB         100%    -     done                      \n",
      "sub-anm372795/sub-anm372795_ses-20170716.nwb 813.2 kB  813.2 kB         100%    -     done                      \n",
      "sub-anm372795/sub-anm372795_ses-20170718.nwb 452.3 kB  452.3 kB         100%    -     done                      \n",
      "sub-anm372797/sub-anm372797_ses-20170615.nwb 6.0 MB    6.0 MB           100%    -     done                      \n",
      "sub-anm372797/sub-anm372797_ses-20170617.nwb 338.9 kB  338.9 kB         100%    -     done                      \n",
      "sub-anm372904/sub-anm372904_ses-20170615.nwb 388.2 kB  388.2 kB         100%    -     done                      \n",
      "sub-anm372904/sub-anm372904_ses-20170616.nwb 362.6 kB  362.6 kB         100%    -     done                      \n",
      "sub-anm372904/sub-anm372904_ses-20170617.nwb 384.9 kB  384.9 kB         100%    -     done                      \n",
      "sub-anm372904/sub-anm372904_ses-20170618.nwb 9.4 MB    9.4 MB           100%    -     done                      \n",
      "sub-anm372904/sub-anm372904_ses-20170619.nwb 4.1 MB    4.1 MB           100%    -     done                      \n",
      "sub-anm372905/sub-anm372905_ses-20170715.nwb 344.0 kB  344.0 kB         100%    -     done                      \n",
      "sub-anm372905/sub-anm372905_ses-20170716.nwb 554.0 kB  554.0 kB         100%    -     done                      \n",
      "sub-anm372905/sub-anm372905_ses-20170717.nwb 448.4 kB  448.4 kB         100%    -     done                      \n",
      "sub-anm372906/sub-anm372906_ses-20170608.nwb 6.9 MB    6.9 MB           100%    -     done                      \n",
      "sub-anm372906/sub-anm372906_ses-20170610.nwb 374.8 kB  374.8 kB         100%    -     done                      \n",
      "sub-anm372906/sub-anm372906_ses-20170611.nwb 338.7 kB  338.7 kB         100%    -     done                      \n",
      "sub-anm372906/sub-anm372906_ses-20170612.nwb 324.3 kB  324.3 kB         100%    -     done                      \n",
      "sub-anm372907/sub-anm372907_ses-20170608.nwb 438.9 kB  438.9 kB         100%    -     done                      \n",
      "sub-anm372907/sub-anm372907_ses-20170610.nwb 349.7 kB  349.7 kB         100%    -     done                      \n",
      "sub-anm372907/sub-anm372907_ses-20170612.nwb 444.5 kB  444.5 kB         100%    -     done                      \n",
      "sub-anm372907/sub-anm372907_ses-20170613.nwb 259.0 kB  259.0 kB         100%    -     done                      \n",
      "sub-anm372909/sub-anm372909_ses-20170520.nwb 352.9 kB  352.9 kB         100%    -     done                      \n",
      "sub-anm372909/sub-anm372909_ses-20170522.nwb 5.7 MB    5.7 MB           100%    -     done                      \n",
      "Summary:                                     139.6 MB  139.6 MB                       54 done         1 updated \n",
      "                                                       100.00%                                                  \n"
     ]
    }
   ],
   "source": [
    "!dandi download https://dandiarchive.org/dandiset/000006/draft"
   ]
  },
  {
   "cell_type": "markdown",
   "metadata": {},
   "source": [
    "## Reading our NWB file"
   ]
  },
  {
   "cell_type": "markdown",
   "metadata": {},
   "source": [
    "To access the data in our nwb file we must read the file. This is done in two steps:\n",
    "\n",
    "- assign our file as an NWBHDF5IO object\n",
    "- read our file\n",
    "\n",
    "The first step is done using the NWBHDF5IO class to create our NWBHDF5IO object and map our file to HDF5 format. Once we have done this, we can use the `read()` method to return our nwb file. For more information on how to read NWB files, please visit the <a href = 'https://pynwb.readthedocs.io/en/stable/tutorials/general/file.html'> Reading an NWB file</a> section from the NWB Basics Tutorial. For more information on the NWBHDF5IO class, please visit the <a href = 'https://pynwb.readthedocs.io/en/stable/pynwb.html#pynwb.NWBHDF5IO'> original documentation</a>.\n",
    "\n",
    "**Note**: a downloaded dandiset may contain multiple NWB files that pertain to various subjects and multiple sessions for a given experiment. Make sure you specify the exact file path to the single NWB file you wish to read. "
   ]
  },
  {
   "cell_type": "code",
   "execution_count": 9,
   "metadata": {},
   "outputs": [
    {
     "name": "stdout",
     "output_type": "stream",
     "text": [
      "<class 'pynwb.file.NWBFile'>\n"
     ]
    }
   ],
   "source": [
    "from pynwb import NWBHDF5IO\n",
    "\n",
    "# Read 1 session file from 1 subject from our Dandiset \n",
    "io = NWBHDF5IO('000006/sub-anm369962/sub-anm369962_ses-20170309.nwb', 'r')\n",
    "nwb_file = io.read()\n",
    "print(type(nwb_file))"
   ]
  },
  {
   "cell_type": "markdown",
   "metadata": {},
   "source": [
    "If you wish to access the related publications of the experimental data that you just downloaded, you can do so by executing the `related_publications` method on your NWB file object. "
   ]
  },
  {
   "cell_type": "code",
   "execution_count": 13,
   "metadata": {},
   "outputs": [
    {
     "data": {
      "text/plain": [
       "('doi:10.1038/s41586-018-0642-9',)"
      ]
     },
     "execution_count": 13,
     "metadata": {},
     "output_type": "execute_result"
    }
   ],
   "source": [
    "nwb_file.related_publications"
   ]
  }
 ],
 "metadata": {
  "kernelspec": {
   "display_name": "Python 3",
   "language": "python",
   "name": "python3"
  },
  "language_info": {
   "codemirror_mode": {
    "name": "ipython",
    "version": 3
   },
   "file_extension": ".py",
   "mimetype": "text/x-python",
   "name": "python",
   "nbconvert_exporter": "python",
   "pygments_lexer": "ipython3",
   "version": "3.7.6"
  }
 },
 "nbformat": 4,
 "nbformat_minor": 2
}