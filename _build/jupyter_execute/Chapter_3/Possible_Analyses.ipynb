{
 "cells": [
  {
   "cell_type": "markdown",
   "metadata": {},
   "source": [
    "# Possible Analyses"
   ]
  },
  {
   "cell_type": "code",
   "execution_count": 1,
   "metadata": {},
   "outputs": [
    {
     "name": "stdout",
     "output_type": "stream",
     "text": [
      "h5py version 2.10.0 already installed\n"
     ]
    }
   ],
   "source": [
    "# This will ensure that the correct version of the h5py package is installed\n",
    "try:\n",
    "    import h5py\n",
    "    if h5py.__version__ == '2.10.0':\n",
    "         print('h5py version ' + h5py.__version__ + ' already installed')\n",
    "    else:\n",
    "        print('h5py installed with an older version. some features may not work.')\n",
    "except ImportError as e:\n",
    "    !pip install h5py == '2.10.0'"
   ]
  },
  {
   "cell_type": "code",
   "execution_count": 2,
   "metadata": {},
   "outputs": [
    {
     "name": "stdout",
     "output_type": "stream",
     "text": [
      "<class 'pynwb.file.NWBFile'>\n"
     ]
    }
   ],
   "source": [
    "# Import necessary packages\n",
    "import numpy as np\n",
    "import pandas as pd \n",
    "from matplotlib import pyplot as plt\n",
    "from pynwb import NWBHDF5IO\n",
    "# read the file \n",
    "io = NWBHDF5IO('000006/sub-anm369962/sub-anm369962_ses-20170310.nwb', 'r')\n",
    "nwb_file = io.read()\n",
    "print(type(nwb_file))"
   ]
  },
  {
   "cell_type": "markdown",
   "metadata": {},
   "source": [
    "Now that we are familiar with the structure of an `NWBFile` as well as the groups encapsulated within it, we are ready to work with the data. \n",
    "\n",
    "The first group that we will look at is `units` becasue it contains information on our neural spikes. Let familiarize ourselves with our dataframe once again. This time we will subselect our dataframe to only contain neurons with `fair` quality. "
   ]
  },
  {
   "cell_type": "code",
   "execution_count": 3,
   "metadata": {},
   "outputs": [
    {
     "data": {
      "text/html": [
       "<div>\n",
       "<style scoped>\n",
       "    .dataframe tbody tr th:only-of-type {\n",
       "        vertical-align: middle;\n",
       "    }\n",
       "\n",
       "    .dataframe tbody tr th {\n",
       "        vertical-align: top;\n",
       "    }\n",
       "\n",
       "    .dataframe thead th {\n",
       "        text-align: right;\n",
       "    }\n",
       "</style>\n",
       "<table border=\"1\" class=\"dataframe\">\n",
       "  <thead>\n",
       "    <tr style=\"text-align: right;\">\n",
       "      <th></th>\n",
       "      <th>depth</th>\n",
       "      <th>quality</th>\n",
       "      <th>cell_type</th>\n",
       "      <th>spike_times</th>\n",
       "      <th>electrodes</th>\n",
       "    </tr>\n",
       "    <tr>\n",
       "      <th>id</th>\n",
       "      <th></th>\n",
       "      <th></th>\n",
       "      <th></th>\n",
       "      <th></th>\n",
       "      <th></th>\n",
       "    </tr>\n",
       "  </thead>\n",
       "  <tbody>\n",
       "    <tr>\n",
       "      <th>2</th>\n",
       "      <td>665.0</td>\n",
       "      <td>Fair</td>\n",
       "      <td>unidentified</td>\n",
       "      <td>[329.95417899999956, 330.01945899999953, 330.0...</td>\n",
       "      <td>x        y        z       imp  \\\n",
       "id ...</td>\n",
       "    </tr>\n",
       "    <tr>\n",
       "      <th>5</th>\n",
       "      <td>715.0</td>\n",
       "      <td>Fair</td>\n",
       "      <td>unidentified</td>\n",
       "      <td>[331.09961899999956, 332.14505899999955, 333.3...</td>\n",
       "      <td>x        y        z       imp  \\\n",
       "id ...</td>\n",
       "    </tr>\n",
       "    <tr>\n",
       "      <th>6</th>\n",
       "      <td>715.0</td>\n",
       "      <td>Fair</td>\n",
       "      <td>unidentified</td>\n",
       "      <td>[329.91129899999953, 329.92869899999954, 330.0...</td>\n",
       "      <td>x        y        z       imp  \\\n",
       "id ...</td>\n",
       "    </tr>\n",
       "    <tr>\n",
       "      <th>7</th>\n",
       "      <td>765.0</td>\n",
       "      <td>Fair</td>\n",
       "      <td>unidentified</td>\n",
       "      <td>[330.26357899999954, 330.3849389999996, 330.60...</td>\n",
       "      <td>x        y        z       imp  \\\n",
       "id ...</td>\n",
       "    </tr>\n",
       "    <tr>\n",
       "      <th>10</th>\n",
       "      <td>815.0</td>\n",
       "      <td>Fair</td>\n",
       "      <td>unidentified</td>\n",
       "      <td>[329.8969389999996, 329.94389899999953, 329.95...</td>\n",
       "      <td>x        y        z       imp  \\\n",
       "id ...</td>\n",
       "    </tr>\n",
       "  </tbody>\n",
       "</table>\n",
       "</div>"
      ],
      "text/plain": [
       "    depth quality     cell_type  \\\n",
       "id                                \n",
       "2   665.0    Fair  unidentified   \n",
       "5   715.0    Fair  unidentified   \n",
       "6   715.0    Fair  unidentified   \n",
       "7   765.0    Fair  unidentified   \n",
       "10  815.0    Fair  unidentified   \n",
       "\n",
       "                                          spike_times  \\\n",
       "id                                                      \n",
       "2   [329.95417899999956, 330.01945899999953, 330.0...   \n",
       "5   [331.09961899999956, 332.14505899999955, 333.3...   \n",
       "6   [329.91129899999953, 329.92869899999954, 330.0...   \n",
       "7   [330.26357899999954, 330.3849389999996, 330.60...   \n",
       "10  [329.8969389999996, 329.94389899999953, 329.95...   \n",
       "\n",
       "                                           electrodes  \n",
       "id                                                     \n",
       "2             x        y        z       imp  \\\n",
       "id ...  \n",
       "5             x        y        z       imp  \\\n",
       "id ...  \n",
       "6             x        y        z       imp  \\\n",
       "id ...  \n",
       "7             x        y        z       imp  \\\n",
       "id ...  \n",
       "10            x        y        z       imp  \\\n",
       "id ...  "
      ]
     },
     "execution_count": 3,
     "metadata": {},
     "output_type": "execute_result"
    }
   ],
   "source": [
    "units = nwb_file.units\n",
    "units_df = units.to_dataframe()\n",
    "units_df = units_df[units_df['quality']=='Fair']\n",
    "units_df.head()"
   ]
  },
  {
   "cell_type": "markdown",
   "metadata": {},
   "source": [
    "The `spike_times` column the times at which the recorded neuron fired. Each neuron has a list of spike times for their `spike_times` column. "
   ]
  },
  {
   "cell_type": "code",
   "execution_count": 4,
   "metadata": {},
   "outputs": [
    {
     "data": {
      "text/plain": [
       "id\n",
       "5     [331.09961899999956, 332.14505899999955, 333.3...\n",
       "6     [329.91129899999953, 329.92869899999954, 330.0...\n",
       "7     [330.26357899999954, 330.3849389999996, 330.60...\n",
       "10    [329.8969389999996, 329.94389899999953, 329.95...\n",
       "11    [330.08321899999953, 331.0170989999996, 331.19...\n",
       "Name: spike_times, dtype: object"
      ]
     },
     "execution_count": 4,
     "metadata": {},
     "output_type": "execute_result"
    }
   ],
   "source": [
    "# return the first 10 spike times for neurons 2-8\n",
    "neural_data = units_df['spike_times'][1:6][:10]\n",
    "neural_data"
   ]
  },
  {
   "cell_type": "markdown",
   "metadata": {},
   "source": [
    "A spike raster plot can be created using the funtion `plt.eventplot`. A spike raster plot displays the spiking of neurons overtime. In a spike raster plot, the y-axis corresponds to the neuron being recorded and the x-axis represents the time. Each horizontal line in the plot represents the spiking of a neuron. Spike raster plots are useful as they reveal firing rate correlations between groups of neurons. For more inormation on `plt.eventplot` please visit the <a href = 'https://matplotlib.org/3.1.1/api/_as_gen/matplotlib.pyplot.eventplot.html'> matplotlib documentation</a>. \n",
    "\n",
    "We have created a function called `rasterPlot()` that creates a spike raster plot from the `spike_times` column in `units`. `rasterPlot()` takes in the arguments units_df, neuron_start, neuron_end, start_time, and end_time. Below are decriptions of each argument. \n",
    "\n",
    "- `unit_df`: dataframe containing spike time data\n",
    "- `neuron_start`: index of first neruon of interest \n",
    "- `neuron_end`: index of last neuron of interest\n",
    "- `start_time`: start time for desired time interval \n",
    "- `end_time`: end time for desired time interval"
   ]
  },
  {
   "cell_type": "code",
   "execution_count": 5,
   "metadata": {},
   "outputs": [
    {
     "data": {
      "image/png": "[encoded data removed]",
      "text/plain": [
       "<Figure size 1080x216 with 1 Axes>"
      ]
     },
     "metadata": {
      "filenames": {
       "image/png": "/Users/VictorMagdaleno/NeuralDataScience.github.io/_build/jupyter_execute/Chapter_3/Possible_Analyses_8_0.png"
      },
      "needs_background": "light"
     },
     "output_type": "display_data"
    }
   ],
   "source": [
    "from matplotlib.widgets import Slider\n",
    "\n",
    "# Set different colors for each neuron \n",
    "color_codes = np.array([[0, 0, 0],\n",
    "                        [1, 0, 0],\n",
    "                        [0, 1, 0],\n",
    "                        [0, 0, 1],\n",
    "                        [1, 1, 0]])\n",
    "\n",
    "# Function for creating raster plots for Units group in NWB file \n",
    "def rasterPlot(units_df,neuron_start,neuron_end,start_time,end_time):\n",
    "    \n",
    "    # Set figure size\n",
    "    fig, ax = plt.subplots(figsize=(15,3))\n",
    "    \n",
    "    # Select your data \n",
    "    neural_data = units_df['spike_times'][neuron_start:neuron_end]\n",
    "    \n",
    "    # Plot our raster plot \n",
    "    plt.eventplot(neural_data, color = color_codes)\n",
    "\n",
    "    # Set our axis limits to only include points in our data\n",
    "    plt.xlim([start_time,end_time])\n",
    "    \n",
    "    # Label our firgure \n",
    "    plt.title('Spike raster plot')\n",
    "    plt.ylabel('Neurons')\n",
    "    plt.xlabel('Time (s)')\n",
    "    plt.yticks([])\n",
    "\n",
    "\n",
    "rasterPlot(units_df, neuron_start = 1, neuron_end = 6, start_time = 329.8, end_time = 332.8)\n",
    "\n",
    "# Show our plot \n",
    "plt.show()"
   ]
  },
  {
   "cell_type": "markdown",
   "metadata": {},
   "source": [
    "The plot above is only contains neural spikes from a 3 second time interval. While there are many spikes to consider in this one graph, each neuron has much more than 3 seconds worth of spike recordings. If we do not set an axis limit on the raster plot, all of our spike recordings will be displayed at once and the figure would be unreadable. Instead we can create a scollable figure that allows you to plot the entire raster plot and scroll through the x-axis in pre-determined time intervals. Below you will find the coded needed to create this type of plot. "
   ]
  },
  {
   "cell_type": "code",
   "execution_count": 6,
   "metadata": {},
   "outputs": [
    {
     "data": {
      "image/png": "[encoded data removed]",
      "text/plain": [
       "<Figure size 432x288 with 2 Axes>"
      ]
     },
     "metadata": {
      "filenames": {
       "image/png": "/Users/VictorMagdaleno/NeuralDataScience.github.io/_build/jupyter_execute/Chapter_3/Possible_Analyses_10_0.png"
      },
      "needs_background": "light"
     },
     "output_type": "display_data"
    }
   ],
   "source": [
    "# Import module needed for scrollable axes \n",
    "from matplotlib.widgets import Slider\n",
    "\n",
    "# Set up figure\n",
    "fig, ax = plt.subplots()\n",
    "plt.subplots_adjust(bottom=0.25)\n",
    "\n",
    "# Set colors for each neuron \n",
    "color_codes = np.array([[0, 0, 0],\n",
    "                        [1, 0, 0],\n",
    "                        [0, 1, 0],\n",
    "                        [0, 0, 1],\n",
    "                        [1, 1, 0]])\n",
    "\n",
    "# Plot raster plot with full axes \n",
    "plt.eventplot(neural_data, color = color_codes)\n",
    "\n",
    "# Set scroll bar dimensions and color \n",
    "axcolor = 'lightgoldenrodyellow'\n",
    "axpos = plt.axes([0.2, 0.1, 0.65, 0.03], facecolor=axcolor)\n",
    "\n",
    "# Create axis limits for scroll \n",
    "spos = Slider(axpos, 'Pos', 300.0, 2250.0)\n",
    "\n",
    "# Determine time interval used for scroll bar \n",
    "def update(val):\n",
    "    pos = spos.val\n",
    "    # pos = starting position \n",
    "    # pos + 3 = figure will move by 3 values per scroll\n",
    "    # 5, 0 = y-axis limits, \n",
    "    # Be sure to input a y-axis limit that will show all desired neurons\n",
    "    ax.axis([pos,pos+3, -1, 6]) \n",
    "    fig.canvas.draw_idle()\n",
    "\n",
    "spos.on_changed(update)\n",
    "\n",
    "plt.show()"
   ]
  },
  {
   "cell_type": "markdown",
   "metadata": {},
   "source": [
    "## Additional Resources "
   ]
  },
  {
   "cell_type": "code",
   "execution_count": null,
   "metadata": {},
   "outputs": [],
   "source": []
  }
 ],
 "metadata": {
  "kernelspec": {
   "display_name": "Python 3",
   "language": "python",
   "name": "python3"
  },
  "language_info": {
   "codemirror_mode": {
    "name": "ipython",
    "version": 3
   },
   "file_extension": ".py",
   "mimetype": "text/x-python",
   "name": "python",
   "nbconvert_exporter": "python",
   "pygments_lexer": "ipython3",
   "version": "3.7.6"
  }
 },
 "nbformat": 4,
 "nbformat_minor": 4
}