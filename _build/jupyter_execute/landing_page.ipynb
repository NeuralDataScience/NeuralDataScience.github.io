{
 "cells": [
  {
   "cell_type": "markdown",
   "metadata": {},
   "source": [
    "# A Hands-On Guide to Neural Data Science"
   ]
  },
  {
   "cell_type": "markdown",
   "metadata": {},
   "source": [
    "## Overview"
   ]
  },
  {
   "cell_type": "markdown",
   "metadata": {},
   "source": [
    "### This book is a work in progress.\n",
    "\n",
    "This online textbook will provide interactive resources for researchers, educators, and students who would like to use open neuroscience datasets for research and teaching. This book will provide tutorials in the form of interactive notebooks and videos for how to use Python to wrangle neuroscience datasets, with a focus on [Neuroscience Without Borders](https://www.nwb.org/) datasets. The emphasis is on data mining and wrangling rather than analysis. Soon, this will be built out into a fully comprehensive guide including all of these aspects of neural data science.\n",
    "\n"
   ]
  },
  {
   "cell_type": "markdown",
   "metadata": {},
   "source": [
    "## Contributors\n",
    "Ashley Juavinett, Victor Magdaleno-Garcia, Bradley Voytek, *and you?*\n",
    "\n",
    "If you'd like to contribute, get in touch: ajuavine(a)ucsd.edu.\n",
    "\n",
    "## Support\n",
    "<img src=\"https://upload.wikimedia.org/wikipedia/en/5/55/Logo_Kavli_Foundation.png\"\n",
    "     alt=\"Kavli Logo\"\n",
    "     style=\"float: left; margin-right: 10px;\" />\n",
    "<br /><br />\n",
    "\n",
    "This work is supported by a [Kavli Foundation Seed Grant](https://www.nwb.org/projects/) meant to increase the access to Neurodata Without Borders datasets."
   ]
  },
  {
   "cell_type": "markdown",
   "metadata": {},
   "source": [
    "## Similar Resources \n",
    "There are several great online resources for neural data science (listed below). The goal here is not to re-work the wheel — but rather to provide a coherent flow through many of these materials,  as well as additional practical materials for specific datasets. \n",
    "\n",
    "- [Data Science in Practice](https://datascienceinpractice.github.io/)\n",
    "- Neural Data Science by Nylen & Wallisch <a href=\"https://www.sciencedirect.com/book/9780128040430/neural-data-science\">[link]</a>\n",
    "- Foundations of Data Science <a href = \"https://www.inferentialthinking.com/chapters/intro.html\"> [link] </a>\n",
    "- Computational Neuroscience, open textbook written by students <a href = \"https://mrgreene09.github.io/computational-neuroscience-textbook/index.html\"> [link] </a>\n",
    "- Neuromatch Academy <a href = \"http://www.neuromatchacademy.org/syllabus/\"> [link] </a>"
   ]
  },
  {
   "cell_type": "markdown",
   "metadata": {},
   "source": [
    "\n",
    "```{toctree}\n",
    ":hidden:\n",
    ":titlesonly:\n",
    ":numbered: \n",
    "\n",
    "Chapter_1/Neural_Data_Science\n",
    "Chapter_2/Data_Science_In_Python\n",
    "Chapter_3/Neurodata_Without_Borders\n",
    "Chapter_4/The_Allen_SDK\n",
    "Chapter_5/Single-Cell_Electrophysiology\n",
    "Chapter_6/Large_Scale_Electrophysiology\n",
    "Chapter_7/Two-photon_Calcium_Imaging_Data\n",
    "Chapter_8/Connectivity_Atlas\n",
    "Chapter_9/Brain_Imaging_Data_Structures\n",
    "Chapter_10/Text_Analyses_of_Neuroscience_Literature\n",
    "Chapter_11/Approaches_to_Analyzing_Large_Datasets\n",
    "```\n"
   ]
  }
 ],
 "metadata": {
  "kernelspec": {
   "display_name": "Python 3",
   "language": "python",
   "name": "python3"
  },
  "language_info": {
   "codemirror_mode": {
    "name": "ipython",
    "version": 3
   },
   "file_extension": ".py",
   "mimetype": "text/x-python",
   "name": "python",
   "nbconvert_exporter": "python",
   "pygments_lexer": "ipython3",
   "version": "3.7.3"
  }
 },
 "nbformat": 4,
 "nbformat_minor": 4
}