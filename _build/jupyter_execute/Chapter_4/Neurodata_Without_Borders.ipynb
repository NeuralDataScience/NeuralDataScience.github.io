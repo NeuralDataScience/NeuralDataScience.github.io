{
 "cells": [
  {
   "cell_type": "markdown",
   "metadata": {},
   "source": [
    "# Neurodata Without Borders "
   ]
  },
  {
   "cell_type": "markdown",
   "metadata": {},
   "source": [
    "![](https://www.braininitiative.org/wp-content/uploads/2017/02/nwb.png)\n",
    "\n",
    "In neuroscience, and res there are many obstacles when it comes to data sharing with other labs. With a rapidly growing field comes the strain of there being too much data to work with, which makes the data difficult to analyze and share with other scientists around the world. The aim of Neurodata Without Borders is to standardize neuroscience data on an international scale. The creation of this standard dataset format will make sharing and contributing to open source projects easier, ultimatly accelerating discovery. "
   ]
  },
  {
   "cell_type": "markdown",
   "metadata": {},
   "source": [
    "**The goal of NWB**"
   ]
  },
  {
   "cell_type": "markdown",
   "metadata": {},
   "source": [
    "There is currently no standardized way to collect and share data in neuroscience. No standard makes it challenging for experimental results to be compared across labs, slowing down the overall progression of the field. The goal of Neurodata Without Bordersis to develop a unified, extensible, open-source data format for cellular-based neurophysiology data  to improve the collaboration of neuroscience projects around the world. For more information please visit <a href = 'https://www.nwb.org/'> nwb.org</a>."
   ]
  },
  {
   "cell_type": "markdown",
   "metadata": {},
   "source": [
    "**Neurodata Without Borders: Neurophysiology**"
   ]
  },
  {
   "cell_type": "markdown",
   "metadata": {},
   "source": [
    "[Neurodata Without Borders: Neurophysiolgy (NWB:N)](https://www.nwb.org/nwb-neurophysiology/) is the common standard to share, store, and build analysis tools for neuroscience data. NWB:N contains software to stadardize data, API's to read and write data, and important datasets in the neuroscience community that have been converted to NWB format. It also takes into account factors such as experimental design, experimental subjects, behavior, data aquisition, neural activity, and extensions."
   ]
  },
  {
   "cell_type": "code",
   "execution_count": 1,
   "metadata": {},
   "outputs": [
    {
     "ename": "NameError",
     "evalue": "name 'x' is not defined",
     "output_type": "error",
     "traceback": [
      "\u001b[0;31m---------------------------------------------------------------------------\u001b[0m",
      "\u001b[0;31mNameError\u001b[0m                                 Traceback (most recent call last)",
      "\u001b[0;32m<ipython-input-1-6fcf9dfbd479>\u001b[0m in \u001b[0;36m<module>\u001b[0;34m\u001b[0m\n\u001b[0;32m----> 1\u001b[0;31m \u001b[0mx\u001b[0m\u001b[0;34m\u001b[0m\u001b[0;34m\u001b[0m\u001b[0m\n\u001b[0m",
      "\u001b[0;31mNameError\u001b[0m: name 'x' is not defined"
     ]
    }
   ],
   "source": [
    "x"
   ]
  },
  {
   "cell_type": "markdown",
   "id": "2786fdb0",
   "metadata": {},
   "source": [
    "\n",
    "```{toctree}\n",
    ":hidden:\n",
    ":titlesonly:\n",
    "\n",
    "\n",
    "Obtaining_Datasets_with_DANDI\n",
    "Working_with_NWB_format_in_Python\n",
    "Sample_Analyses\n",
    "```\n"
   ]
  }
 ],
 "metadata": {
  "kernelspec": {
   "display_name": "Python 3",
   "language": "python",
   "name": "python3"
  },
  "language_info": {
   "codemirror_mode": {
    "name": "ipython",
    "version": 3
   },
   "file_extension": ".py",
   "mimetype": "text/x-python",
   "name": "python",
   "nbconvert_exporter": "python",
   "pygments_lexer": "ipython3",
   "version": "3.7.6"
  }
 },
 "nbformat": 4,
 "nbformat_minor": 4
}