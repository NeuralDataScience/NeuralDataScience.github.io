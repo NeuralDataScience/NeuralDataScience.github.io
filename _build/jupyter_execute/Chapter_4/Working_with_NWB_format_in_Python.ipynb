{
 "cells": [
  {
   "cell_type": "markdown",
   "metadata": {},
   "source": [
    "# Working with NWB in Python\n",
    "\n",
    "**Important**: This notebook will only work with the 2.10.0 version of the h5py package. The cell below will ensure that you have this version installed. If not, you should run the `!pip install` line."
   ]
  },
  {
   "cell_type": "code",
   "execution_count": 1,
   "metadata": {
    "scrolled": false
   },
   "outputs": [
    {
     "name": "stdout",
     "output_type": "stream",
     "text": [
      "h5py version 2.10.0 already installed\n"
     ]
    }
   ],
   "source": [
    "# This will ensure that the correct version of the h5py package is installed\n",
    "try:\n",
    "    import h5py\n",
    "    if h5py.__version__ == '2.10.0':\n",
    "         print('h5py version ' + h5py.__version__ + ' already installed')\n",
    "    else:\n",
    "        print('h5py installed with an older version. some features may not work.')\n",
    "except ImportError as e:\n",
    "    !pip install h5py == '2.10.0'"
   ]
  },
  {
   "cell_type": "code",
   "execution_count": 2,
   "metadata": {},
   "outputs": [
    {
     "name": "stdout",
     "output_type": "stream",
     "text": [
      "File downloaded.\n",
      "<class 'pynwb.file.NWBFile'>\n"
     ]
    }
   ],
   "source": [
    "# Import any necessary packages\n",
    "from pynwb import NWBHDF5IO\n",
    "\n",
    "# read the NWB file\n",
    "io = NWBHDF5IO('000006/sub-anm369962/sub-anm369962_ses-20170310.nwb', 'r')\n",
    "nwb_file = io.read()\n",
    "print('File downloaded.')\n",
    "print(type(nwb_file))"
   ]
  },
  {
   "cell_type": "markdown",
   "metadata": {},
   "source": [
    "## File Hierarchy: Groups, Datasets, and Attributes¶"
   ]
  },
  {
   "cell_type": "markdown",
   "metadata": {},
   "source": [
    "The NWB file is composed of various Groups, Datasets, and Attributes. The data/datasets and cooresponding meta-data are encapsulated within these Groups. The `fields` attribute returns a dictionary contiaining the the Groups of our nwb file. The dictionary keys are the various Groups within the file which we will use to access our datasets."
   ]
  },
  {
   "cell_type": "code",
   "execution_count": 3,
   "metadata": {},
   "outputs": [
    {
     "name": "stdout",
     "output_type": "stream",
     "text": [
      "dict_keys(['acquisition', 'analysis', 'scratch', 'stimulus', 'stimulus_template', 'processing', 'devices', 'electrode_groups', 'imaging_planes', 'icephys_electrodes', 'ogen_sites', 'intervals', 'lab_meta_data', 'session_description', 'identifier', 'session_start_time', 'timestamps_reference_time', 'file_create_date', 'keywords', 'epoch_tags', 'electrodes', 'subject', 'trials', 'units', 'experiment_description', 'institution', 'experimenter', 'related_publications'])\n"
     ]
    }
   ],
   "source": [
    "# Get the Groups for the nwb file \n",
    "nwb_fields = nwb_file.fields\n",
    "print(nwb_fields.keys())"
   ]
  },
  {
   "cell_type": "markdown",
   "metadata": {},
   "source": [
    "Each NWB file will have information on where the experiment was conducted, what lab conducted the experiment, as well as a description of the experiment. These Groups can be accessed using `institution`, `lab`, and `experiment_description`, attributes on our nwb_file, respectively."
   ]
  },
  {
   "cell_type": "code",
   "execution_count": 4,
   "metadata": {},
   "outputs": [
    {
     "name": "stdout",
     "output_type": "stream",
     "text": [
      "The experiment within this NWB file was conducted at Janelia Research Campus in the lab of None. The experiment is detailed as follows: Extracellular electrophysiology recordings performed on mouse anterior lateral motor cortex (ALM) in delay response task. Neural activity from two neuron populations, pyramidal track upper and lower, were characterized, in relation to movement execution.\n"
     ]
    }
   ],
   "source": [
    "# Get Meta-Data from NWB file \n",
    "print('The experiment within this NWB file was conducted at {} in the lab of {}. The experiment is detailed as follows: {}'.format(nwb_file.institution, nwb_file.lab, nwb_file.experiment_description))"
   ]
  },
  {
   "cell_type": "markdown",
   "metadata": {},
   "source": [
    "We can access datasets from each group in our nwb_file with the following syntax: `nwb_file.group`. This is no different than executing a method and/or attribute. Below we will demonstrate some of the useful groups within an `NWBFile` object. "
   ]
  },
  {
   "cell_type": "markdown",
   "metadata": {},
   "source": [
    "The `acquisition` group contains datasets of acquisition data, mainly `TimeSeries` objects belonging to this NWBFile. "
   ]
  },
  {
   "cell_type": "code",
   "execution_count": 5,
   "metadata": {},
   "outputs": [
    {
     "data": {
      "text/plain": [
       "{'lick_times': lick_times pynwb.behavior.BehavioralEvents at 0x140492891752272\n",
       " Fields:\n",
       "   time_series: {\n",
       "     lick_left_times <class 'pynwb.base.TimeSeries'>,\n",
       "     lick_right_times <class 'pynwb.base.TimeSeries'>\n",
       "   }}"
      ]
     },
     "execution_count": 5,
     "metadata": {},
     "output_type": "execute_result"
    }
   ],
   "source": [
    "nwb_file.acquisition"
   ]
  },
  {
   "cell_type": "markdown",
   "metadata": {},
   "source": [
    "In this file, the acquisition group contains two different `Fields`, `lick_left_times` and `lick_right_times` within the `lick_times` dataset. To access the actual data arrays of these fields we must first subset our dataset of interest from the group. We can then use `data[:]` to return our actual data array."
   ]
  },
  {
   "cell_type": "code",
   "execution_count": 6,
   "metadata": {},
   "outputs": [
    {
     "name": "stdout",
     "output_type": "stream",
     "text": [
      "[1. 1. 1. 1. 1. 1. 1. 1. 1. 1.]\n"
     ]
    }
   ],
   "source": [
    "# select our dataset of interest \n",
    "dataset = 'lick_times'\n",
    "field = 'lick_right_times'\n",
    "lick_r_dataset = nwb_file.acquisition[dataset][field]\n",
    "\n",
    "# return first 10 values in data array \n",
    "lick_r_data_array = lick_r_dataset.data[:10]\n",
    "\n",
    "print(lick_r_data_array)"
   ]
  },
  {
   "cell_type": "markdown",
   "metadata": {},
   "source": [
    "The `intervals` group contains all time interval tables from the experiemnt. We can look at the `description` field to understand what each dataset in contains."
   ]
  },
  {
   "cell_type": "code",
   "execution_count": 7,
   "metadata": {},
   "outputs": [
    {
     "data": {
      "text/plain": [
       "{'trials': trials pynwb.epoch.TimeIntervals at 0x140492892058320\n",
       " Fields:\n",
       "   colnames: ['start_time' 'stop_time' 'type' 'response' 'stim_present' 'is_good'\n",
       "  'cue_start_time' 'pole_in_time' 'pole_out_time']\n",
       "   columns: (\n",
       "     start_time <class 'hdmf.common.table.VectorData'>,\n",
       "     stop_time <class 'hdmf.common.table.VectorData'>,\n",
       "     type <class 'hdmf.common.table.VectorData'>,\n",
       "     response <class 'hdmf.common.table.VectorData'>,\n",
       "     stim_present <class 'hdmf.common.table.VectorData'>,\n",
       "     is_good <class 'hdmf.common.table.VectorData'>,\n",
       "     cue_start_time <class 'hdmf.common.table.VectorData'>,\n",
       "     pole_in_time <class 'hdmf.common.table.VectorData'>,\n",
       "     pole_out_time <class 'hdmf.common.table.VectorData'>\n",
       "   )\n",
       "   description: experimental trials\n",
       "   id: id <class 'hdmf.common.table.ElementIdentifiers'>}"
      ]
     },
     "execution_count": 7,
     "metadata": {},
     "output_type": "execute_result"
    }
   ],
   "source": [
    "# example showing how to return meta data from groups in nwb file \n",
    "nwb_file.intervals"
   ]
  },
  {
   "cell_type": "markdown",
   "metadata": {},
   "source": [
    "Within the intervals group is the `trials` dataset which is a `DynamicTable` contianing intervals from our experimental trials. Each column in `trials` is a `VectorData` object which can all be assigned to a dataframe using `to_dataframe()`."
   ]
  },
  {
   "cell_type": "code",
   "execution_count": 8,
   "metadata": {},
   "outputs": [
    {
     "data": {
      "text/html": [
       "<div>\n",
       "<style scoped>\n",
       "    .dataframe tbody tr th:only-of-type {\n",
       "        vertical-align: middle;\n",
       "    }\n",
       "\n",
       "    .dataframe tbody tr th {\n",
       "        vertical-align: top;\n",
       "    }\n",
       "\n",
       "    .dataframe thead th {\n",
       "        text-align: right;\n",
       "    }\n",
       "</style>\n",
       "<table border=\"1\" class=\"dataframe\">\n",
       "  <thead>\n",
       "    <tr style=\"text-align: right;\">\n",
       "      <th></th>\n",
       "      <th>start_time</th>\n",
       "      <th>stop_time</th>\n",
       "      <th>type</th>\n",
       "      <th>response</th>\n",
       "      <th>stim_present</th>\n",
       "      <th>is_good</th>\n",
       "      <th>cue_start_time</th>\n",
       "      <th>pole_in_time</th>\n",
       "      <th>pole_out_time</th>\n",
       "    </tr>\n",
       "    <tr>\n",
       "      <th>id</th>\n",
       "      <th></th>\n",
       "      <th></th>\n",
       "      <th></th>\n",
       "      <th></th>\n",
       "      <th></th>\n",
       "      <th></th>\n",
       "      <th></th>\n",
       "      <th></th>\n",
       "      <th></th>\n",
       "    </tr>\n",
       "  </thead>\n",
       "  <tbody>\n",
       "    <tr>\n",
       "      <th>1</th>\n",
       "      <td>323.171</td>\n",
       "      <td>NaN</td>\n",
       "      <td>lick right</td>\n",
       "      <td>early lick</td>\n",
       "      <td>0</td>\n",
       "      <td>1</td>\n",
       "      <td>7.49698</td>\n",
       "      <td>3.93949</td>\n",
       "      <td>5.12748</td>\n",
       "    </tr>\n",
       "    <tr>\n",
       "      <th>2</th>\n",
       "      <td>329.570</td>\n",
       "      <td>NaN</td>\n",
       "      <td>lick right</td>\n",
       "      <td>early lick</td>\n",
       "      <td>0</td>\n",
       "      <td>1</td>\n",
       "      <td>11.81280</td>\n",
       "      <td>4.94181</td>\n",
       "      <td>5.94198</td>\n",
       "    </tr>\n",
       "    <tr>\n",
       "      <th>3</th>\n",
       "      <td>335.971</td>\n",
       "      <td>NaN</td>\n",
       "      <td>lick right</td>\n",
       "      <td>incorrect</td>\n",
       "      <td>0</td>\n",
       "      <td>1</td>\n",
       "      <td>6.62964</td>\n",
       "      <td>4.12915</td>\n",
       "      <td>5.12931</td>\n",
       "    </tr>\n",
       "    <tr>\n",
       "      <th>4</th>\n",
       "      <td>342.371</td>\n",
       "      <td>NaN</td>\n",
       "      <td>lick right</td>\n",
       "      <td>incorrect</td>\n",
       "      <td>0</td>\n",
       "      <td>1</td>\n",
       "      <td>6.41964</td>\n",
       "      <td>3.91915</td>\n",
       "      <td>4.91931</td>\n",
       "    </tr>\n",
       "    <tr>\n",
       "      <th>5</th>\n",
       "      <td>348.289</td>\n",
       "      <td>NaN</td>\n",
       "      <td>lick right</td>\n",
       "      <td>incorrect</td>\n",
       "      <td>0</td>\n",
       "      <td>1</td>\n",
       "      <td>12.66990</td>\n",
       "      <td>10.16930</td>\n",
       "      <td>11.16950</td>\n",
       "    </tr>\n",
       "  </tbody>\n",
       "</table>\n",
       "</div>"
      ],
      "text/plain": [
       "    start_time  stop_time        type    response  stim_present  is_good  \\\n",
       "id                                                                         \n",
       "1      323.171        NaN  lick right  early lick             0        1   \n",
       "2      329.570        NaN  lick right  early lick             0        1   \n",
       "3      335.971        NaN  lick right   incorrect             0        1   \n",
       "4      342.371        NaN  lick right   incorrect             0        1   \n",
       "5      348.289        NaN  lick right   incorrect             0        1   \n",
       "\n",
       "    cue_start_time  pole_in_time  pole_out_time  \n",
       "id                                               \n",
       "1          7.49698       3.93949        5.12748  \n",
       "2         11.81280       4.94181        5.94198  \n",
       "3          6.62964       4.12915        5.12931  \n",
       "4          6.41964       3.91915        4.91931  \n",
       "5         12.66990      10.16930       11.16950  "
      ]
     },
     "execution_count": 8,
     "metadata": {},
     "output_type": "execute_result"
    }
   ],
   "source": [
    "# Select the group of interest from the nwb file \n",
    "intervals = nwb_file.intervals\n",
    "\n",
    "# Subset the dataset from the group and assign it as a dataframe\n",
    "interval_trials_df = intervals['trials'].to_dataframe()\n",
    "interval_trials_df.head()"
   ]
  },
  {
   "cell_type": "markdown",
   "metadata": {},
   "source": [
    "The `description` attribute provides a short description on each column of the dataframe."
   ]
  },
  {
   "cell_type": "code",
   "execution_count": 9,
   "metadata": {},
   "outputs": [
    {
     "name": "stdout",
     "output_type": "stream",
     "text": [
      "start_time:\n",
      "Start time of epoch, in seconds\n",
      "\n",
      "\n",
      "stop_time:\n",
      "Stop time of epoch, in seconds\n",
      "\n",
      "\n",
      "type:\n",
      "\n",
      "\n",
      "\n",
      "response:\n",
      "\n",
      "\n",
      "\n",
      "stim_present:\n",
      "is this a stim or no-stim trial\n",
      "\n",
      "\n",
      "is_good:\n",
      "good/bad status of trial (bad trials are not analyzed)\n",
      "\n",
      "\n",
      "cue_start_time:\n",
      "onset of response period\n",
      "\n",
      "\n",
      "pole_in_time:\n",
      "onset of sample period\n",
      "\n",
      "\n",
      "pole_out_time:\n",
      "onset of the delay period\n",
      "\n",
      "\n"
     ]
    }
   ],
   "source": [
    "# return the description of each col in our dataframe\n",
    "for col in intervals['trials'].to_dataframe():\n",
    "    print(col +':')\n",
    "    print(intervals['trials'][col].description)\n",
    "    print('\\n')"
   ]
  },
  {
   "cell_type": "markdown",
   "metadata": {},
   "source": [
    "The `units` group in our nwb_file contains the neural activity of our units, including spike data for scientific analysis. Much like the `intervals` group, `units` is also a `DynamicTable` that can be assigned to a dataframe."
   ]
  },
  {
   "cell_type": "code",
   "execution_count": 10,
   "metadata": {},
   "outputs": [
    {
     "data": {
      "text/html": [
       "<div>\n",
       "<style scoped>\n",
       "    .dataframe tbody tr th:only-of-type {\n",
       "        vertical-align: middle;\n",
       "    }\n",
       "\n",
       "    .dataframe tbody tr th {\n",
       "        vertical-align: top;\n",
       "    }\n",
       "\n",
       "    .dataframe thead th {\n",
       "        text-align: right;\n",
       "    }\n",
       "</style>\n",
       "<table border=\"1\" class=\"dataframe\">\n",
       "  <thead>\n",
       "    <tr style=\"text-align: right;\">\n",
       "      <th></th>\n",
       "      <th>depth</th>\n",
       "      <th>quality</th>\n",
       "      <th>cell_type</th>\n",
       "      <th>spike_times</th>\n",
       "      <th>electrodes</th>\n",
       "    </tr>\n",
       "    <tr>\n",
       "      <th>id</th>\n",
       "      <th></th>\n",
       "      <th></th>\n",
       "      <th></th>\n",
       "      <th></th>\n",
       "      <th></th>\n",
       "    </tr>\n",
       "  </thead>\n",
       "  <tbody>\n",
       "    <tr>\n",
       "      <th>1</th>\n",
       "      <td>665.0</td>\n",
       "      <td>Poor</td>\n",
       "      <td>unidentified</td>\n",
       "      <td>[933.873288, 948.2774710000008, 950.5357110000...</td>\n",
       "      <td>x      y      z     imp  \\\n",
       "id         ...</td>\n",
       "    </tr>\n",
       "    <tr>\n",
       "      <th>2</th>\n",
       "      <td>665.0</td>\n",
       "      <td>Fair</td>\n",
       "      <td>unidentified</td>\n",
       "      <td>[329.95417899999956, 330.01945899999953, 330.0...</td>\n",
       "      <td>x      y      z     imp  \\\n",
       "id         ...</td>\n",
       "    </tr>\n",
       "    <tr>\n",
       "      <th>3</th>\n",
       "      <td>715.0</td>\n",
       "      <td></td>\n",
       "      <td>unidentified</td>\n",
       "      <td>[329.94165899999956, 329.9998989999996, 330.00...</td>\n",
       "      <td>x      y      z     imp  \\\n",
       "id         ...</td>\n",
       "    </tr>\n",
       "    <tr>\n",
       "      <th>4</th>\n",
       "      <td>715.0</td>\n",
       "      <td>[]</td>\n",
       "      <td>unidentified</td>\n",
       "      <td>[329.93145899999956, 330.7492189999995, 330.77...</td>\n",
       "      <td>x      y      z     imp  \\\n",
       "id         ...</td>\n",
       "    </tr>\n",
       "    <tr>\n",
       "      <th>5</th>\n",
       "      <td>715.0</td>\n",
       "      <td>Fair</td>\n",
       "      <td>unidentified</td>\n",
       "      <td>[331.09961899999956, 332.14505899999955, 333.3...</td>\n",
       "      <td>x      y      z     imp  \\\n",
       "id         ...</td>\n",
       "    </tr>\n",
       "  </tbody>\n",
       "</table>\n",
       "</div>"
      ],
      "text/plain": [
       "    depth quality     cell_type  \\\n",
       "id                                \n",
       "1   665.0    Poor  unidentified   \n",
       "2   665.0    Fair  unidentified   \n",
       "3   715.0          unidentified   \n",
       "4   715.0      []  unidentified   \n",
       "5   715.0    Fair  unidentified   \n",
       "\n",
       "                                          spike_times  \\\n",
       "id                                                      \n",
       "1   [933.873288, 948.2774710000008, 950.5357110000...   \n",
       "2   [329.95417899999956, 330.01945899999953, 330.0...   \n",
       "3   [329.94165899999956, 329.9998989999996, 330.00...   \n",
       "4   [329.93145899999956, 330.7492189999995, 330.77...   \n",
       "5   [331.09961899999956, 332.14505899999955, 333.3...   \n",
       "\n",
       "                                           electrodes  \n",
       "id                                                     \n",
       "1           x      y      z     imp  \\\n",
       "id         ...  \n",
       "2           x      y      z     imp  \\\n",
       "id         ...  \n",
       "3           x      y      z     imp  \\\n",
       "id         ...  \n",
       "4           x      y      z     imp  \\\n",
       "id         ...  \n",
       "5           x      y      z     imp  \\\n",
       "id         ...  "
      ]
     },
     "execution_count": 10,
     "metadata": {},
     "output_type": "execute_result"
    }
   ],
   "source": [
    "units = nwb_file.units\n",
    "units_df = units.to_dataframe()\n",
    "units_df.head()"
   ]
  },
  {
   "cell_type": "markdown",
   "metadata": {},
   "source": [
    "The `electrodes` group contians metadata from the elctrodes used in the experimental trials. Also a `DynamicTable`, the data includes location of the electrodes, type of filtering, and the whats electrode group the electrode belongs to. "
   ]
  },
  {
   "cell_type": "code",
   "execution_count": 11,
   "metadata": {},
   "outputs": [
    {
     "data": {
      "text/html": [
       "<div>\n",
       "<style scoped>\n",
       "    .dataframe tbody tr th:only-of-type {\n",
       "        vertical-align: middle;\n",
       "    }\n",
       "\n",
       "    .dataframe tbody tr th {\n",
       "        vertical-align: top;\n",
       "    }\n",
       "\n",
       "    .dataframe thead th {\n",
       "        text-align: right;\n",
       "    }\n",
       "</style>\n",
       "<table border=\"1\" class=\"dataframe\">\n",
       "  <thead>\n",
       "    <tr style=\"text-align: right;\">\n",
       "      <th></th>\n",
       "      <th>x</th>\n",
       "      <th>y</th>\n",
       "      <th>z</th>\n",
       "      <th>imp</th>\n",
       "      <th>location</th>\n",
       "      <th>filtering</th>\n",
       "      <th>group</th>\n",
       "      <th>group_name</th>\n",
       "    </tr>\n",
       "    <tr>\n",
       "      <th>id</th>\n",
       "      <th></th>\n",
       "      <th></th>\n",
       "      <th></th>\n",
       "      <th></th>\n",
       "      <th></th>\n",
       "      <th></th>\n",
       "      <th></th>\n",
       "      <th></th>\n",
       "    </tr>\n",
       "  </thead>\n",
       "  <tbody>\n",
       "    <tr>\n",
       "      <th>1</th>\n",
       "      <td>0.0</td>\n",
       "      <td>0.0</td>\n",
       "      <td>0.0</td>\n",
       "      <td>-1.0</td>\n",
       "      <td>brain_region: ALM; brain_subregion: N/A; corti...</td>\n",
       "      <td>Bandpass filtered 300-6K Hz</td>\n",
       "      <td>H-129: 64 pynwb.ecephys.ElectrodeGroup at 0x14...</td>\n",
       "      <td>H-129: 64</td>\n",
       "    </tr>\n",
       "    <tr>\n",
       "      <th>2</th>\n",
       "      <td>0.0</td>\n",
       "      <td>0.0</td>\n",
       "      <td>0.0</td>\n",
       "      <td>-1.0</td>\n",
       "      <td>brain_region: ALM; brain_subregion: N/A; corti...</td>\n",
       "      <td>Bandpass filtered 300-6K Hz</td>\n",
       "      <td>H-129: 64 pynwb.ecephys.ElectrodeGroup at 0x14...</td>\n",
       "      <td>H-129: 64</td>\n",
       "    </tr>\n",
       "    <tr>\n",
       "      <th>3</th>\n",
       "      <td>0.0</td>\n",
       "      <td>0.0</td>\n",
       "      <td>0.0</td>\n",
       "      <td>-1.0</td>\n",
       "      <td>brain_region: ALM; brain_subregion: N/A; corti...</td>\n",
       "      <td>Bandpass filtered 300-6K Hz</td>\n",
       "      <td>H-129: 64 pynwb.ecephys.ElectrodeGroup at 0x14...</td>\n",
       "      <td>H-129: 64</td>\n",
       "    </tr>\n",
       "    <tr>\n",
       "      <th>4</th>\n",
       "      <td>0.0</td>\n",
       "      <td>0.0</td>\n",
       "      <td>0.0</td>\n",
       "      <td>-1.0</td>\n",
       "      <td>brain_region: ALM; brain_subregion: N/A; corti...</td>\n",
       "      <td>Bandpass filtered 300-6K Hz</td>\n",
       "      <td>H-129: 64 pynwb.ecephys.ElectrodeGroup at 0x14...</td>\n",
       "      <td>H-129: 64</td>\n",
       "    </tr>\n",
       "    <tr>\n",
       "      <th>5</th>\n",
       "      <td>0.0</td>\n",
       "      <td>0.0</td>\n",
       "      <td>0.0</td>\n",
       "      <td>-1.0</td>\n",
       "      <td>brain_region: ALM; brain_subregion: N/A; corti...</td>\n",
       "      <td>Bandpass filtered 300-6K Hz</td>\n",
       "      <td>H-129: 64 pynwb.ecephys.ElectrodeGroup at 0x14...</td>\n",
       "      <td>H-129: 64</td>\n",
       "    </tr>\n",
       "  </tbody>\n",
       "</table>\n",
       "</div>"
      ],
      "text/plain": [
       "      x    y    z  imp                                           location  \\\n",
       "id                                                                          \n",
       "1   0.0  0.0  0.0 -1.0  brain_region: ALM; brain_subregion: N/A; corti...   \n",
       "2   0.0  0.0  0.0 -1.0  brain_region: ALM; brain_subregion: N/A; corti...   \n",
       "3   0.0  0.0  0.0 -1.0  brain_region: ALM; brain_subregion: N/A; corti...   \n",
       "4   0.0  0.0  0.0 -1.0  brain_region: ALM; brain_subregion: N/A; corti...   \n",
       "5   0.0  0.0  0.0 -1.0  brain_region: ALM; brain_subregion: N/A; corti...   \n",
       "\n",
       "                      filtering  \\\n",
       "id                                \n",
       "1   Bandpass filtered 300-6K Hz   \n",
       "2   Bandpass filtered 300-6K Hz   \n",
       "3   Bandpass filtered 300-6K Hz   \n",
       "4   Bandpass filtered 300-6K Hz   \n",
       "5   Bandpass filtered 300-6K Hz   \n",
       "\n",
       "                                                group group_name  \n",
       "id                                                                \n",
       "1   H-129: 64 pynwb.ecephys.ElectrodeGroup at 0x14...  H-129: 64  \n",
       "2   H-129: 64 pynwb.ecephys.ElectrodeGroup at 0x14...  H-129: 64  \n",
       "3   H-129: 64 pynwb.ecephys.ElectrodeGroup at 0x14...  H-129: 64  \n",
       "4   H-129: 64 pynwb.ecephys.ElectrodeGroup at 0x14...  H-129: 64  \n",
       "5   H-129: 64 pynwb.ecephys.ElectrodeGroup at 0x14...  H-129: 64  "
      ]
     },
     "execution_count": 11,
     "metadata": {},
     "output_type": "execute_result"
    }
   ],
   "source": [
    "# electrode positions \n",
    "electrodes = nwb_file.electrodes\n",
    "electrodes_df = electrodes.to_dataframe()\n",
    "electrodes_df.head()"
   ]
  },
  {
   "cell_type": "markdown",
   "metadata": {},
   "source": [
    "## Additional Resources "
   ]
  },
  {
   "cell_type": "markdown",
   "metadata": {},
   "source": [
    "For an in depth explanation of all groups contained within an `NWBFile` object please visit the <a href = 'https://pynwb.readthedocs.io/en/stable/pynwb.file.html'> pynwb.file.NWBFile </a> section of the PyNWB documentation. "
   ]
  },
  {
   "cell_type": "code",
   "execution_count": null,
   "metadata": {},
   "outputs": [],
   "source": []
  }
 ],
 "metadata": {
  "kernelspec": {
   "display_name": "Python 3",
   "language": "python",
   "name": "python3"
  },
  "language_info": {
   "codemirror_mode": {
    "name": "ipython",
    "version": 3
   },
   "file_extension": ".py",
   "mimetype": "text/x-python",
   "name": "python",
   "nbconvert_exporter": "python",
   "pygments_lexer": "ipython3",
   "version": "3.7.6"
  }
 },
 "nbformat": 4,
 "nbformat_minor": 4
}