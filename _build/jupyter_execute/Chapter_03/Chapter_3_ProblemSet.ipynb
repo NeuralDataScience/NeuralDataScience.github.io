{
 "cells": [
  {
   "cell_type": "markdown",
   "id": "e7a70cc4",
   "metadata": {},
   "source": [
    "# Chapter 3 Problem Set\n",
    "\n",
    "1. Create a plot that compares the average firing rate for each brain area.\n",
    "2. Using the `spykes` package, create a plot that is a peristimulus histogram for all gabor stimuli at 90 degrees.\n",
    "3. Use the code provided in 3.3 to compare the waveforms of Sst+ cells with non-Sst+ cells and PV+ cells. Are they the same?"
   ]
  }
 ],
 "metadata": {
  "kernelspec": {
   "display_name": "Python 3",
   "language": "python",
   "name": "python3"
  },
  "language_info": {
   "codemirror_mode": {
    "name": "ipython",
    "version": 3
   },
   "file_extension": ".py",
   "mimetype": "text/x-python",
   "name": "python",
   "nbconvert_exporter": "python",
   "pygments_lexer": "ipython3",
   "version": "3.7.3"
  }
 },
 "nbformat": 4,
 "nbformat_minor": 5
}