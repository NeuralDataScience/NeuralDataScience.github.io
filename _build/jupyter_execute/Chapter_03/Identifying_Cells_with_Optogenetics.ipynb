{
 "cells": [
  {
   "cell_type": "markdown",
   "metadata": {},
   "source": [
    "# Identifying Cells with Optogenetics"
   ]
  },
  {
   "cell_type": "markdown",
   "metadata": {},
   "source": [
    "In this section, you will learn how to access the optogenetic data within the AllenSDK's Neuropixels dataset. In these experiments, light-gated ion channels were expressed in mice in a Cre-dependent manner. These ion channels can depolarize Cre+ cells when specific wavelengths of light are shined on the brain.\n",
    "\n",
    "Although it can be hard to identify cell types with extracellular electrophysiology, the integration of optogenetics into these experiments is one way to help identify subsets of cells. Only units with our cre-line of interest will respond to the light allowing for subgroups of neuronal untis to be identified and analyzed across differing genotypes. This technique is called **optotagging**.\n",
    "\n",
    "**Note**: the presence of light artifacts can create the appearance of false positives, and false negatives (cells that are Cre+ but do not respond to light) are nearly impossible to avoid. We will go over how to deal with these cases later in the notebook. "
   ]
  },
  {
   "cell_type": "code",
   "execution_count": 1,
   "metadata": {},
   "outputs": [
    {
     "name": "stdout",
     "output_type": "stream",
     "text": [
      "allensdk already installed.\n"
     ]
    }
   ],
   "source": [
    "# This will ensure that the AllenSDK is installed.\n",
    "# If not, it will install it for you.\n",
    "try:\n",
    "    import allensdk\n",
    "    if allensdk.__version__ == '2.11.2':\n",
    "        print('allensdk already installed.')\n",
    "    else: \n",
    "        print('incompatible version of allensdk installed')\n",
    "except ImportError as e:\n",
    "    !pip install allensdk"
   ]
  },
  {
   "cell_type": "code",
   "execution_count": 2,
   "metadata": {},
   "outputs": [
    {
     "name": "stderr",
     "output_type": "stream",
     "text": [
      "/Users/ashley/anaconda3/lib/python3.7/site-packages/dask/config.py:168: YAMLLoadWarning: calling yaml.load() without Loader=... is deprecated, as the default Loader is unsafe. Please read https://msg.pyyaml.org/load for full details.\n",
      "  data = yaml.load(f.read()) or {}\n"
     ]
    },
    {
     "name": "stderr",
     "output_type": "stream",
     "text": [
      "/Users/ashley/anaconda3/lib/python3.7/site-packages/distributed/config.py:20: YAMLLoadWarning: calling yaml.load() without Loader=... is deprecated, as the default Loader is unsafe. Please read https://msg.pyyaml.org/load for full details.\n",
      "  defaults = yaml.load(f)\n"
     ]
    },
    {
     "name": "stdout",
     "output_type": "stream",
     "text": [
      "Packages imported and cache instance created.\n"
     ]
    }
   ],
   "source": [
    "# Import necessary packages \n",
    "import numpy as np \n",
    "import pandas as pd\n",
    "import matplotlib.pyplot as plt\n",
    "import xarray as xr\n",
    "import warnings\n",
    "warnings.filterwarnings('ignore')\n",
    "\n",
    "# Import the Neuropixels Cache\n",
    "from allensdk.brain_observatory.ecephys.ecephys_project_cache import EcephysProjectCache\n",
    "from allensdk.brain_observatory.ecephys.ecephys_project_api import EcephysProjectWarehouseApi\n",
    "from allensdk.brain_observatory.ecephys.ecephys_project_api.rma_engine import RmaEngine\n",
    "\n",
    "# Assign where data will be stored\n",
    "manifest_path = 'manifest.json' \n",
    "\n",
    "# Create the EcephysProjectCache object\n",
    "cache = EcephysProjectCache(manifest=manifest_path,\n",
    "                            fetch_api=EcephysProjectWarehouseApi(RmaEngine(scheme=\"http\",host=\"api.brain-map.org\",timeout= 50 * 60)))          \n",
    "\n",
    "print('Packages imported and cache instance created.')"
   ]
  },
  {
   "cell_type": "markdown",
   "metadata": {},
   "source": [
    "Because optogenetic channels are expressed in a Cre-dependent manner, let's first see which Cre-lines are available."
   ]
  },
  {
   "cell_type": "code",
   "execution_count": 3,
   "metadata": {},
   "outputs": [
    {
     "data": {
      "text/plain": [
       "array(['Sst-IRES-Cre/wt;Ai32(RCL-ChR2(H134R)_EYFP)/wt',\n",
       "       'Pvalb-IRES-Cre/wt;Ai32(RCL-ChR2(H134R)_EYFP)/wt', 'wt/wt',\n",
       "       'Vip-IRES-Cre/wt;Ai32(RCL-ChR2(H134R)_EYFP)/wt'], dtype=object)"
      ]
     },
     "execution_count": 3,
     "metadata": {},
     "output_type": "execute_result"
    }
   ],
   "source": [
    "all_sessions = cache.get_session_table()\n",
    "col = 'full_genotype'\n",
    "all_sessions[col].unique()"
   ]
  },
  {
   "cell_type": "markdown",
   "metadata": {},
   "source": [
    "**About these transgenic mouse lines**\n",
    "\n",
    "At the time we created this notebook, there were three transgenic mouse lines available: Sst-IRES-Cre, Pvalb-IRES-Cre, and Vip-IRES-Cre. Each of these Cre-lines mark specific subsets of inhibitory neurons in the brain. You can find a brief description as well as two-photon images of these transgenic lines on the<a href = 'https://observatory.brain-map.org/visualcoding/transgenic'> Allen Brain Atlas website</a>.\n",
    "\n",
    "You might also notice that these lines are crossed with a mouse line called \"Ai32\" -- that's a mouse line that expresses a channelrhodopsin optogenetic channel (ChR2) in a cre-dependent manner. It also expresses yellow florescent protein (EYFP) so that researchers can see the cells expressing ChR2."
   ]
  },
  {
   "cell_type": "markdown",
   "metadata": {},
   "source": [
    "## Accessing Optogenetic Data"
   ]
  },
  {
   "cell_type": "markdown",
   "metadata": {},
   "source": [
    "Before we begin downloading data, it is important to mention that there were two different means of light stimulation used in these experiments. The light used to evoke the units' optogenetic response was switched from an LED light to a laser a little more than halfway through data collection to evoke a stronger response from the units. \n",
    "\n",
    "To ensure we can see clear optogenetic responses from our units, we will be working with a session that used a laser to evoke these responses. In the cell below, we will filter our dataframe down to Pvalb-IRES-Cre mice and laser sessions only, and then download a session from a Pvalb-Cre session because they fire at high rates and are the most common in the cortex."
   ]
  },
  {
   "cell_type": "code",
   "execution_count": 4,
   "metadata": {},
   "outputs": [
    {
     "data": {
      "text/html": [
       "<div>\n",
       "<style scoped>\n",
       "    .dataframe tbody tr th:only-of-type {\n",
       "        vertical-align: middle;\n",
       "    }\n",
       "\n",
       "    .dataframe tbody tr th {\n",
       "        vertical-align: top;\n",
       "    }\n",
       "\n",
       "    .dataframe thead th {\n",
       "        text-align: right;\n",
       "    }\n",
       "</style>\n",
       "<table border=\"1\" class=\"dataframe\">\n",
       "  <thead>\n",
       "    <tr style=\"text-align: right;\">\n",
       "      <th></th>\n",
       "      <th>published_at</th>\n",
       "      <th>specimen_id</th>\n",
       "      <th>session_type</th>\n",
       "      <th>age_in_days</th>\n",
       "      <th>sex</th>\n",
       "      <th>full_genotype</th>\n",
       "      <th>unit_count</th>\n",
       "      <th>channel_count</th>\n",
       "      <th>probe_count</th>\n",
       "      <th>ecephys_structure_acronyms</th>\n",
       "    </tr>\n",
       "    <tr>\n",
       "      <th>id</th>\n",
       "      <th></th>\n",
       "      <th></th>\n",
       "      <th></th>\n",
       "      <th></th>\n",
       "      <th></th>\n",
       "      <th></th>\n",
       "      <th></th>\n",
       "      <th></th>\n",
       "      <th></th>\n",
       "      <th></th>\n",
       "    </tr>\n",
       "  </thead>\n",
       "  <tbody>\n",
       "    <tr>\n",
       "      <th>797828357</th>\n",
       "      <td>2019-10-03T00:00:00Z</td>\n",
       "      <td>776061251</td>\n",
       "      <td>brain_observatory_1.1</td>\n",
       "      <td>107.0</td>\n",
       "      <td>M</td>\n",
       "      <td>Pvalb-IRES-Cre/wt;Ai32(RCL-ChR2(H134R)_EYFP)/wt</td>\n",
       "      <td>611</td>\n",
       "      <td>2232</td>\n",
       "      <td>6</td>\n",
       "      <td>[PPT, MB, APN, NOT, HPF, ProS, CA1, VISam, nan...</td>\n",
       "    </tr>\n",
       "    <tr>\n",
       "      <th>829720705</th>\n",
       "      <td>2019-10-03T00:00:00Z</td>\n",
       "      <td>811322619</td>\n",
       "      <td>functional_connectivity</td>\n",
       "      <td>112.0</td>\n",
       "      <td>M</td>\n",
       "      <td>Pvalb-IRES-Cre/wt;Ai32(RCL-ChR2(H134R)_EYFP)/wt</td>\n",
       "      <td>529</td>\n",
       "      <td>1841</td>\n",
       "      <td>5</td>\n",
       "      <td>[SCig, SCop, SCsg, SCzo, POST, VISp, nan, CA1,...</td>\n",
       "    </tr>\n",
       "    <tr>\n",
       "      <th>839557629</th>\n",
       "      <td>2019-10-03T00:00:00Z</td>\n",
       "      <td>821469666</td>\n",
       "      <td>functional_connectivity</td>\n",
       "      <td>115.0</td>\n",
       "      <td>M</td>\n",
       "      <td>Pvalb-IRES-Cre/wt;Ai32(RCL-ChR2(H134R)_EYFP)/wt</td>\n",
       "      <td>450</td>\n",
       "      <td>1853</td>\n",
       "      <td>5</td>\n",
       "      <td>[APN, NOT, MB, DG, CA1, VISam, nan, VISpm, LGd...</td>\n",
       "    </tr>\n",
       "    <tr>\n",
       "      <th>840012044</th>\n",
       "      <td>2019-10-03T00:00:00Z</td>\n",
       "      <td>820866121</td>\n",
       "      <td>functional_connectivity</td>\n",
       "      <td>116.0</td>\n",
       "      <td>M</td>\n",
       "      <td>Pvalb-IRES-Cre/wt;Ai32(RCL-ChR2(H134R)_EYFP)/wt</td>\n",
       "      <td>758</td>\n",
       "      <td>2298</td>\n",
       "      <td>6</td>\n",
       "      <td>[APN, DG, CA1, VISam, nan, LP, VISpm, VISp, LG...</td>\n",
       "    </tr>\n",
       "  </tbody>\n",
       "</table>\n",
       "</div>"
      ],
      "text/plain": [
       "                   published_at  specimen_id             session_type  \\\n",
       "id                                                                      \n",
       "797828357  2019-10-03T00:00:00Z    776061251    brain_observatory_1.1   \n",
       "829720705  2019-10-03T00:00:00Z    811322619  functional_connectivity   \n",
       "839557629  2019-10-03T00:00:00Z    821469666  functional_connectivity   \n",
       "840012044  2019-10-03T00:00:00Z    820866121  functional_connectivity   \n",
       "\n",
       "           age_in_days sex                                    full_genotype  \\\n",
       "id                                                                            \n",
       "797828357        107.0   M  Pvalb-IRES-Cre/wt;Ai32(RCL-ChR2(H134R)_EYFP)/wt   \n",
       "829720705        112.0   M  Pvalb-IRES-Cre/wt;Ai32(RCL-ChR2(H134R)_EYFP)/wt   \n",
       "839557629        115.0   M  Pvalb-IRES-Cre/wt;Ai32(RCL-ChR2(H134R)_EYFP)/wt   \n",
       "840012044        116.0   M  Pvalb-IRES-Cre/wt;Ai32(RCL-ChR2(H134R)_EYFP)/wt   \n",
       "\n",
       "           unit_count  channel_count  probe_count  \\\n",
       "id                                                  \n",
       "797828357         611           2232            6   \n",
       "829720705         529           1841            5   \n",
       "839557629         450           1853            5   \n",
       "840012044         758           2298            6   \n",
       "\n",
       "                                  ecephys_structure_acronyms  \n",
       "id                                                            \n",
       "797828357  [PPT, MB, APN, NOT, HPF, ProS, CA1, VISam, nan...  \n",
       "829720705  [SCig, SCop, SCsg, SCzo, POST, VISp, nan, CA1,...  \n",
       "839557629  [APN, NOT, MB, DG, CA1, VISam, nan, VISpm, LGd...  \n",
       "840012044  [APN, DG, CA1, VISam, nan, LP, VISpm, VISp, LG...  "
      ]
     },
     "execution_count": 4,
     "metadata": {},
     "output_type": "execute_result"
    }
   ],
   "source": [
    "# Laser experiments began on session 789848216\n",
    "laser_sessions = all_sessions.loc[all_sessions.index.values >= 789848216]\n",
    "\n",
    "# Filter for Pvalb mice\n",
    "pvalb_laser_sessions = laser_sessions[laser_sessions.full_genotype == 'Pvalb-IRES-Cre/wt;Ai32(RCL-ChR2(H134R)_EYFP)/wt']\n",
    "\n",
    "pvalb_laser_sessions"
   ]
  },
  {
   "cell_type": "markdown",
   "metadata": {},
   "source": [
    "Now, we can select one of these sessions to download the data. Below, we'll choose session `829720705`. Depending on the speed of your internet connection, the next cell will take ~5-10 minutes to run. Do not interrupt the notebook while the data is downloading."
   ]
  },
  {
   "cell_type": "code",
   "execution_count": 5,
   "metadata": {},
   "outputs": [
    {
     "name": "stdout",
     "output_type": "stream",
     "text": [
      "Session Downloaded.\n"
     ]
    }
   ],
   "source": [
    "# Download a Pvalb laser session\n",
    "session_id = 829720705\n",
    "session = cache.get_session_data(session_id)\n",
    "type(session)\n",
    "print('Session Downloaded.')"
   ]
  },
  {
   "cell_type": "markdown",
   "metadata": {},
   "source": [
    "The optotagging stimuli are different than the stimulation presentations that were used in the previous section. To access the table containing the optogenetic stimuli data, execute `optogenetic_stimulation_epochs` on the session object. The table contains the start, stop, and duration of each light pulse as well as the pulse's condition and level. The `level` column contains the power level of the light source defined by the peak voltage of the control signal delivered to the light source. The type of pulse used is stored in the `condition` column and each pulse is defined below. \n",
    "\n",
    "- single square pulse: 5ms or 10ms duration\n",
    "- half period of a cosine wave: 1 second duration\n",
    "- 2.5 ms pulses at 10 Hz: 1 second duration"
   ]
  },
  {
   "cell_type": "code",
   "execution_count": 6,
   "metadata": {},
   "outputs": [
    {
     "data": {
      "text/html": [
       "<div>\n",
       "<style scoped>\n",
       "    .dataframe tbody tr th:only-of-type {\n",
       "        vertical-align: middle;\n",
       "    }\n",
       "\n",
       "    .dataframe tbody tr th {\n",
       "        vertical-align: top;\n",
       "    }\n",
       "\n",
       "    .dataframe thead th {\n",
       "        text-align: right;\n",
       "    }\n",
       "</style>\n",
       "<table border=\"1\" class=\"dataframe\">\n",
       "  <thead>\n",
       "    <tr style=\"text-align: right;\">\n",
       "      <th></th>\n",
       "      <th>start_time</th>\n",
       "      <th>condition</th>\n",
       "      <th>level</th>\n",
       "      <th>stop_time</th>\n",
       "      <th>stimulus_name</th>\n",
       "      <th>duration</th>\n",
       "    </tr>\n",
       "    <tr>\n",
       "      <th>id</th>\n",
       "      <th></th>\n",
       "      <th></th>\n",
       "      <th></th>\n",
       "      <th></th>\n",
       "      <th></th>\n",
       "      <th></th>\n",
       "    </tr>\n",
       "  </thead>\n",
       "  <tbody>\n",
       "    <tr>\n",
       "      <th>0</th>\n",
       "      <td>9208.46044</td>\n",
       "      <td>a single square pulse</td>\n",
       "      <td>2.0</td>\n",
       "      <td>9208.46544</td>\n",
       "      <td>pulse</td>\n",
       "      <td>0.005</td>\n",
       "    </tr>\n",
       "    <tr>\n",
       "      <th>1</th>\n",
       "      <td>9210.64062</td>\n",
       "      <td>a single square pulse</td>\n",
       "      <td>1.7</td>\n",
       "      <td>9210.65062</td>\n",
       "      <td>pulse</td>\n",
       "      <td>0.010</td>\n",
       "    </tr>\n",
       "    <tr>\n",
       "      <th>2</th>\n",
       "      <td>9212.37064</td>\n",
       "      <td>2.5 ms pulses at 10 Hz</td>\n",
       "      <td>1.7</td>\n",
       "      <td>9213.37064</td>\n",
       "      <td>fast_pulses</td>\n",
       "      <td>1.000</td>\n",
       "    </tr>\n",
       "    <tr>\n",
       "      <th>3</th>\n",
       "      <td>9214.40076</td>\n",
       "      <td>2.5 ms pulses at 10 Hz</td>\n",
       "      <td>1.3</td>\n",
       "      <td>9215.40076</td>\n",
       "      <td>fast_pulses</td>\n",
       "      <td>1.000</td>\n",
       "    </tr>\n",
       "    <tr>\n",
       "      <th>4</th>\n",
       "      <td>9216.55091</td>\n",
       "      <td>2.5 ms pulses at 10 Hz</td>\n",
       "      <td>2.0</td>\n",
       "      <td>9217.55091</td>\n",
       "      <td>fast_pulses</td>\n",
       "      <td>1.000</td>\n",
       "    </tr>\n",
       "  </tbody>\n",
       "</table>\n",
       "</div>"
      ],
      "text/plain": [
       "    start_time               condition  level   stop_time stimulus_name  \\\n",
       "id                                                                        \n",
       "0   9208.46044   a single square pulse    2.0  9208.46544         pulse   \n",
       "1   9210.64062   a single square pulse    1.7  9210.65062         pulse   \n",
       "2   9212.37064  2.5 ms pulses at 10 Hz    1.7  9213.37064   fast_pulses   \n",
       "3   9214.40076  2.5 ms pulses at 10 Hz    1.3  9215.40076   fast_pulses   \n",
       "4   9216.55091  2.5 ms pulses at 10 Hz    2.0  9217.55091   fast_pulses   \n",
       "\n",
       "    duration  \n",
       "id            \n",
       "0      0.005  \n",
       "1      0.010  \n",
       "2      1.000  \n",
       "3      1.000  \n",
       "4      1.000  "
      ]
     },
     "execution_count": 6,
     "metadata": {},
     "output_type": "execute_result"
    }
   ],
   "source": [
    "opto_table = session.optogenetic_stimulation_epochs\n",
    "opto_table.head()"
   ]
  },
  {
   "cell_type": "markdown",
   "metadata": {},
   "source": [
    "## Aligning Spikes to Pulses "
   ]
  },
  {
   "cell_type": "markdown",
   "metadata": {},
   "source": [
    "Unlike the stimulus presentations that we covered in the previous section, there is no built in function for aligning spikes to light pulses in the Allen SDK. Below, we have copied a function from the <a href = 'https://github.com/jsiegle/AllenSDK/blob/opto-tutorial/doc_template/examples_root/examples/nb/ecephys_optotagging.ipynb'> Allen SDK Optotagging Analysis tutorial</a> that does this for you.\n",
    "\n",
    "The function below needs `bin edges`, `optogenetic trials`, and `units` in order to return the spike counts. For this reason, you must first specify your desired bins, optogenetic stimuli, and units of interest. We will be focusing units found in the `VISp` brain area. The Allen Institute has discovered that \"10 ms pulses are the most useful stimulus for finding true light-evoked activity\" so will subselect data with that stimulus."
   ]
  },
  {
   "cell_type": "code",
   "execution_count": 7,
   "metadata": {
    "scrolled": true
   },
   "outputs": [
    {
     "name": "stdout",
     "output_type": "stream",
     "text": [
      "Spike times successfully aligned.\n"
     ]
    }
   ],
   "source": [
    "# Assign optogenetic stimuli (trials)\n",
    "ss_10ms = opto_table[(opto_table['duration'] > 0.009) & (opto_table['duration'] < 0.02)]\n",
    "\n",
    "# Assign units in brain area of interest (units)\n",
    "units_df = session.units\n",
    "VISp_df = units_df[units_df['ecephys_structure_acronym'] == 'VISp']\n",
    "\n",
    "# Assign time bins (time bins)\n",
    "time_resolution = 0.0005 # 0.5 ms bins\n",
    "bin_edges = np.arange(-0.01, 0.025, time_resolution)\n",
    "\n",
    "\n",
    "\n",
    "def optotagging_spike_counts(bin_edges, trials, units):\n",
    "     \n",
    "    time_resolution = np.mean(np.diff(bin_edges))\n",
    "    \n",
    "    # list of lists of lists / each block is trial, each row in block is a unit\n",
    "    spike_matrix = np.zeros( (len(trials), len(bin_edges), len(units)) )\n",
    "\n",
    "    # unit_idx = 'index' for the list of unit_ids made from units.index.values\n",
    "    # will have index '0-n' instead of unit_id being the index\n",
    "    # unit_id =  actual unit_id from units_df\n",
    "    # looping for every unit_id that we specify interest in\n",
    "    for unit_idx, unit_id in enumerate(units.index.values):\n",
    "        \n",
    "        # get spike times for ONE unit by subselecting a unit id\n",
    "        spike_times = session.spike_times[unit_id]\n",
    "    \n",
    "        # for each unit, loop for each trial of the specified stimulus\n",
    "        for trial_idx, trial_start in enumerate(trials.start_time.values):\n",
    "            \n",
    "            # Determine what spike times for a unit fall with the duration of the trial \n",
    "            in_range = (spike_times > (trial_start + bin_edges[0])) * \\\n",
    "                       (spike_times < (trial_start + bin_edges[-1]))\n",
    "\n",
    "            binned_times = ((spike_times[in_range] - (trial_start + bin_edges[0])) / time_resolution).astype('int')\n",
    "            spike_matrix[trial_idx, binned_times, unit_idx] = 1\n",
    "\n",
    "    return xr.DataArray(\n",
    "        name='spike_counts',\n",
    "        data=spike_matrix,\n",
    "        coords={\n",
    "            'trial_id': trials.index.values, \n",
    "            'time_relative_to_stimulus_onset': bin_edges,\n",
    "            'unit_id': units.index.values\n",
    "        },\n",
    "        dims=['trial_id', 'time_relative_to_stimulus_onset', 'unit_id']\n",
    "    )\n",
    "\n",
    "da = optotagging_spike_counts(bin_edges, ss_10ms, VISp_df)\n",
    "print('Spike times successfully aligned.')"
   ]
  },
  {
   "cell_type": "markdown",
   "metadata": {},
   "source": [
    "The function returns an `xarray.DataArray` that contains the spikes counts of each units. The dimensions for the array are the `trial_id` (an individual pulse from `opto_table`) the `time_relative_to_stimulus_onset`, and the `unit_id`. \n",
    "\n",
    "Looking at the DataArray, we can see that in this session there were 75 different times that a 10ms single pulse was given and 46 different units we are focusing on based on brain area. \n",
    "\n",
    "We can use the DataArray to plot a heatmap of the units' response to the light pulses. The function below is also borrowed from the [Allen SDK Optogenetic Analysis tutorial](https://github.com/jsiegle/AllenSDK/blob/opto-tutorial/doc_template/examples_root/examples/nb/ecephys_optotagging.ipynb). The function takes our DataArray and reduces the data within by computing the mean spike counts across the `trial_id` dimension for every unit in the array. The reduced data is then plotted with respect to the time bins that we specified earlier. \n",
    "\n",
    "For more information on how to use `xarray.DataArray` objects, please visit the <a href = 'http://xarray.pydata.org/en/stable/generated/xarray.DataArray.mean.html#xarray.DataArray.mean'> xarray original documentation online</a>."
   ]
  },
  {
   "cell_type": "code",
   "execution_count": 8,
   "metadata": {},
   "outputs": [
    {
     "data": {
      "image/png": "[encoded data removed]",
      "text/plain": [
       "<Figure size 360x720 with 2 Axes>"
      ]
     },
     "metadata": {
      "filenames": {
       "image/png": "/Users/ashley/Documents/NeuralDataScience.github.io/_build/jupyter_execute/Chapter_03/Identifying_Cells_with_Optogenetics_18_0.png"
      },
      "needs_background": "light"
     },
     "output_type": "display_data"
    }
   ],
   "source": [
    "def plot_optotagging_response(da):\n",
    "\n",
    "    plt.figure(figsize=(5,10))\n",
    "    \n",
    "    # Plot mean firing rate of each unit across each trial\n",
    "    plt.imshow(da.mean(dim='trial_id').T / time_resolution, \n",
    "               extent=[np.min(bin_edges), np.max(bin_edges),\n",
    "                       0, len(VISp_df)],\n",
    "               aspect='auto', vmin=0, vmax=200)    # Does this have to be hard coded?\n",
    "    \n",
    "    # Plot Vertical lines indicating stimulus window \n",
    "    for bound in [0.0005, 0.0095]: # THIS IS HARD CODED; CAN WE FIX IT\n",
    "        plt.plot([bound, bound],[0, len(VISp_df)], ':', color='white', linewidth=1.0)\n",
    "\n",
    "    plt.xlabel('Time (s)')\n",
    "    plt.ylabel('Unit #')\n",
    "\n",
    "    cb = plt.colorbar(fraction=0.046, pad=0.04)\n",
    "    cb.set_label('Mean firing rate (Hz)')\n",
    "    \n",
    "plot_optotagging_response(da)\n",
    "plt.title('Pvalb-cre mice session')\n",
    "plt.show()"
   ]
  },
  {
   "cell_type": "code",
   "execution_count": 9,
   "metadata": {},
   "outputs": [
    {
     "data": {
      "image/png": "[encoded data removed]",
      "text/plain": [
       "<Figure size 360x720 with 2 Axes>"
      ]
     },
     "metadata": {
      "filenames": {
       "image/png": "/Users/ashley/Documents/NeuralDataScience.github.io/_build/jupyter_execute/Chapter_03/Identifying_Cells_with_Optogenetics_19_0.png"
      },
      "needs_background": "light"
     },
     "output_type": "display_data"
    }
   ],
   "source": [
    "# Removed function\n",
    "plt.figure(figsize=(5,10))\n",
    "    \n",
    "# Plot mean firing rate of each unit across each trial\n",
    "plt.imshow(da.mean(dim='trial_id').T / time_resolution, \n",
    "           extent=[np.min(bin_edges), np.max(bin_edges),\n",
    "                   0, len(VISp_df)],\n",
    "           aspect='auto')    # Removed hard coded color bar range\n",
    "    \n",
    "# Plot Vertical lines indicating stimulus window \n",
    "for bound in [0.0005, 0.0095]: # THIS IS HARD CODED; CAN WE FIX IT\n",
    "    plt.plot([bound, bound],[0, len(VISp_df)], ':', color='white', linewidth=1.0)\n",
    "\n",
    "plt.xlabel('Time (s)')\n",
    "plt.ylabel('Unit #')\n",
    "\n",
    "cb = plt.colorbar(fraction=0.046, pad=0.04)\n",
    "cb.set_label('Mean firing rate (Hz)')\n",
    "    \n",
    "plt.title('Pvalb-cre mice session')\n",
    "plt.show()"
   ]
  },
  {
   "cell_type": "markdown",
   "metadata": {},
   "source": [
    "A useful analysis with this data would be to compare the baseline firing rate (i.e. firing rate before stimulus) to the evoked firing rate. We can do this by first slicing our time bins into two timeframes, `baseline` and `evoked`. The `baseline` timeframe will begin at the start of our time bins and end just before the stimulus onset. The `evoked` timeframe will begin immediately after the onset of the stimulus and end right before the end of the stimulus suration. \n",
    "\n",
    "We will then reduce our data to only the mean firing rate of each unit within each time frame."
   ]
  },
  {
   "cell_type": "code",
   "execution_count": 10,
   "metadata": {},
   "outputs": [
    {
     "data": {
      "text/html": [
       "<pre>&lt;xarray.DataArray &#x27;spike_counts&#x27; (unit_id: 52)&gt;\n",
       "array([  0.        , 198.33333333,   0.        ,   1.66666667,\n",
       "         6.66666667,   0.        ,   5.        ,  15.        ,\n",
       "         6.66666667,   3.33333333,   0.        ,   6.66666667,\n",
       "         1.66666667, 131.66666667,  10.        ,  55.        ,\n",
       "         1.66666667,   0.        ,   1.66666667, 110.        ,\n",
       "         0.        ,   6.66666667,  13.33333333,  10.        ,\n",
       "         0.        ,   1.66666667,  81.66666667,  18.33333333,\n",
       "         1.66666667,   0.        ,   8.33333333,   1.66666667,\n",
       "        11.66666667,   0.        ,  38.33333333,  11.66666667,\n",
       "       235.        ,   1.66666667,  10.        ,   0.        ,\n",
       "        21.66666667,   0.        ,   3.33333333,   1.66666667,\n",
       "         0.        ,   0.        ,   0.        ,   0.        ,\n",
       "         0.        ,   3.33333333,   0.        ,   0.        ])\n",
       "Coordinates:\n",
       "  * unit_id  (unit_id) int64 951132060 951132054 ... 951132308 951132419</pre>"
      ],
      "text/plain": [
       "<xarray.DataArray 'spike_counts' (unit_id: 52)>\n",
       "array([  0.        , 198.33333333,   0.        ,   1.66666667,\n",
       "         6.66666667,   0.        ,   5.        ,  15.        ,\n",
       "         6.66666667,   3.33333333,   0.        ,   6.66666667,\n",
       "         1.66666667, 131.66666667,  10.        ,  55.        ,\n",
       "         1.66666667,   0.        ,   1.66666667, 110.        ,\n",
       "         0.        ,   6.66666667,  13.33333333,  10.        ,\n",
       "         0.        ,   1.66666667,  81.66666667,  18.33333333,\n",
       "         1.66666667,   0.        ,   8.33333333,   1.66666667,\n",
       "        11.66666667,   0.        ,  38.33333333,  11.66666667,\n",
       "       235.        ,   1.66666667,  10.        ,   0.        ,\n",
       "        21.66666667,   0.        ,   3.33333333,   1.66666667,\n",
       "         0.        ,   0.        ,   0.        ,   0.        ,\n",
       "         0.        ,   3.33333333,   0.        ,   0.        ])\n",
       "Coordinates:\n",
       "  * unit_id  (unit_id) int64 951132060 951132054 ... 951132308 951132419"
      ]
     },
     "execution_count": 10,
     "metadata": {},
     "output_type": "execute_result"
    }
   ],
   "source": [
    "# Assign time before stimulus occurs\n",
    "baseline = da.sel(time_relative_to_stimulus_onset=slice(-0.01,-0.002)) # ALSO HARD CODED\n",
    "\n",
    "# Calculate Mean firing rate of each unit for time before the stimulus window \n",
    "baseline_rate = baseline.sum(dim='time_relative_to_stimulus_onset').mean(dim='trial_id') / 0.008\n",
    "\n",
    "# Assign time within stimulus window\n",
    "evoked = da.sel(time_relative_to_stimulus_onset=slice(0.001,0.009))\n",
    "\n",
    "# Calculate Mean firing rate of each unit for time within the stimulus window \n",
    "evoked_rate = evoked.sum(dim='time_relative_to_stimulus_onset').mean(dim='trial_id') / 0.008\n",
    "\n",
    "evoked_rate"
   ]
  },
  {
   "cell_type": "markdown",
   "metadata": {},
   "source": [
    "We now have two DataArrays, one that contains the mean firing rate of the units at baseline, and one that contains the mean firing rate of the units during the pulse. Plotting a scatter plot with these two areas will show us how a unit's basline firing rate compares to its evoked firing rate. "
   ]
  },
  {
   "cell_type": "code",
   "execution_count": 11,
   "metadata": {},
   "outputs": [
    {
     "data": {
      "image/png": "[encoded data removed]",
      "text/plain": [
       "<Figure size 360x360 with 1 Axes>"
      ]
     },
     "metadata": {
      "filenames": {
       "image/png": "/Users/ashley/Documents/NeuralDataScience.github.io/_build/jupyter_execute/Chapter_03/Identifying_Cells_with_Optogenetics_23_0.png"
      },
      "needs_background": "light"
     },
     "output_type": "display_data"
    }
   ],
   "source": [
    "plt.figure(figsize=(5,5))\n",
    "\n",
    "plt.scatter(baseline_rate, evoked_rate, s=3)\n",
    "\n",
    "# Black line though center represents no change in rate (1:1)\n",
    "axis_limit = 50\n",
    "plt.plot([0,axis_limit],[0,axis_limit], ':k')\n",
    "\n",
    "# Red line represents a 2x change in rate (2:1)\n",
    "plt.plot([0,axis_limit],[0,axis_limit*2], ':r')\n",
    "\n",
    "# Restrict the axis for visualization\n",
    "plt.xlim([0,axis_limit])\n",
    "plt.ylim([0,axis_limit])\n",
    "\n",
    "plt.xlabel('Baseline rate (Hz)')\n",
    "plt.ylabel('Evoked rate (Hz)')\n",
    "\n",
    "plt.show()"
   ]
  },
  {
   "cell_type": "markdown",
   "metadata": {},
   "source": [
    "Each point represent a neural unit. The black line represents a 1:1 ratio in the evoked firing rate to the baseline firing rate of that unit. Any unit below that black line had a larger response at baseline than it did to the light pulse. The red line represents a 2:1 ratio in the evoked firing rate to the baseline firing rate of that unit. We can subselect units whose evoked firing rate is 2x larger than baseline to define the cre+ units."
   ]
  },
  {
   "cell_type": "markdown",
   "metadata": {},
   "source": [
    "## Identifying Fast-Paced Waveforms"
   ]
  },
  {
   "cell_type": "markdown",
   "metadata": {},
   "source": [
    "Defining what units are cre+ from those that are cre- is the first step in comparing optogenetic responses. Below we will create two lists, one with IDs of units who had an evoked firing rate 2x greater than baseline, and one with IDs of units whose evoked response was smaller than 2x the baseline. "
   ]
  },
  {
   "cell_type": "code",
   "execution_count": 12,
   "metadata": {},
   "outputs": [
    {
     "name": "stdout",
     "output_type": "stream",
     "text": [
      "Pvalb+ Cre units\n",
      "[951132054 951132138 951132140 951132159 951132184 951132212 951132205\n",
      " 951132224 951132236]\n",
      " \n",
      " Pvalb- Cre units\n",
      "[951132060 951132379 951132066 951132064 951132062 951132381 951132070\n",
      " 951132078 951132090 951132092 951132112 951132124 951132136 951132393\n",
      " 951132395 951132153 951132175 951132173 951132171 951132179 951132399\n",
      " 951132189 951132197 951132195 951132203 951132401 951132218 951132208\n",
      " 951132226 951132403 951132220 951132459 951132234 951132232 951132230\n",
      " 951132405 951132254 951132258 951132288 951132290 951132302 951132308\n",
      " 951132419]\n"
     ]
    }
   ],
   "source": [
    "# Return units whose firing rates doubled when light was on\n",
    "cre_pos_units = da.unit_id[(evoked_rate / (baseline_rate + 1)) > 2].values # add 1 to prevent divide-by-zero errors\n",
    "\n",
    "# also get cre neg units\n",
    "cre_neg_units = da.unit_id[(evoked_rate / (baseline_rate + 1)) < 2].values\n",
    "\n",
    "print(\"Pvalb+ Cre units\")\n",
    "print(cre_pos_units)\n",
    "\n",
    "print(' \\n Pvalb- Cre units')\n",
    "print(cre_neg_units)"
   ]
  },
  {
   "cell_type": "markdown",
   "metadata": {},
   "source": [
    "Lets take a look at the wavefroms of cre+ units and see how they compare to cre- units. "
   ]
  },
  {
   "cell_type": "code",
   "execution_count": 13,
   "metadata": {},
   "outputs": [
    {
     "data": {
      "image/png": "[encoded data removed]",
      "text/plain": [
       "<Figure size 360x360 with 1 Axes>"
      ]
     },
     "metadata": {
      "filenames": {
       "image/png": "/Users/ashley/Documents/NeuralDataScience.github.io/_build/jupyter_execute/Chapter_03/Identifying_Cells_with_Optogenetics_29_0.png"
      },
      "needs_background": "light"
     },
     "output_type": "display_data"
    }
   ],
   "source": [
    "plt.figure(figsize=(5,5))\n",
    "    \n",
    "for unit_id in cre_neg_units:\n",
    "    \n",
    "    peak_channel = session.units.loc[unit_id].peak_channel_id\n",
    "    wv = session.mean_waveforms[unit_id].sel(channel_id = peak_channel)    \n",
    "    plt.plot(wv.time * 1000, wv, 'k', alpha=0.2)    \n",
    "\n",
    "for unit_id in cre_pos_units:\n",
    "    \n",
    "    peak_channel = session.units.loc[unit_id].peak_channel_id\n",
    "    wv = session.mean_waveforms[unit_id].sel(channel_id = peak_channel)    \n",
    "    plt.plot(wv.time * 1000, wv, 'c', alpha=0.6)\n",
    "\n",
    "plt.xlabel('Time (ms)')\n",
    "plt.ylabel('Amplitude (uV)')\n",
    "plt.xlim([0,1.5]) # Plot just 1.5 ms\n",
    "\n",
    "# Create the legend\n",
    "plt.legend(['Pvalb- Waveforms','Pvalb+ Waveforms'])\n",
    "ax = plt.gca()\n",
    "leg = ax.get_legend()\n",
    "leg.legendHandles[0].set_color('k')\n",
    "leg.legendHandles[1].set_color('c')\n",
    "\n",
    "#plt.plot([1.0, 1.0],[-160, 100],':c') # REMOVING THIS UNTIL WE KNOW WHAT IT IS\n",
    "plt.show()"
   ]
  },
  {
   "cell_type": "markdown",
   "metadata": {},
   "source": [
    "As you can see, our Pvalb-positive waveforms (in cyan) are more narrow than the Pvalb-negative waveforms. These are indeed different cell types, marked by their ability to spike very fast!"
   ]
  },
  {
   "cell_type": "code",
   "execution_count": null,
   "metadata": {},
   "outputs": [],
   "source": []
  }
 ],
 "metadata": {
  "kernelspec": {
   "display_name": "Python 3",
   "language": "python",
   "name": "python3"
  },
  "language_info": {
   "codemirror_mode": {
    "name": "ipython",
    "version": 3
   },
   "file_extension": ".py",
   "mimetype": "text/x-python",
   "name": "python",
   "nbconvert_exporter": "python",
   "pygments_lexer": "ipython3",
   "version": "3.7.3"
  }
 },
 "nbformat": 4,
 "nbformat_minor": 4
}