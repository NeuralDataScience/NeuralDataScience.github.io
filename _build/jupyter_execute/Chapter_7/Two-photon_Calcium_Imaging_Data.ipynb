{
 "cells": [
  {
   "cell_type": "markdown",
   "metadata": {},
   "source": [
    "# Two-photon Calcium Imaging Data"
   ]
  },
  {
   "cell_type": "markdown",
   "metadata": {},
   "source": [
    "This section will serve as an introdution to retrieving Two-photon calcium imaging data from the Allen Brain Observatory Cache. By the end of this section you will know how to examine a 2-photon imaging dataset for a particular cell type, in a specific visual area."
   ]
  },
  {
   "cell_type": "code",
   "execution_count": 1,
   "metadata": {},
   "outputs": [
    {
     "name": "stdout",
     "output_type": "stream",
     "text": [
      "Packages installed.\n"
     ]
    }
   ],
   "source": [
    "# Allen specific toolboxes\n",
    "import allensdk.brain_observatory.stimulus_info as stim_info\n",
    "from allensdk.core.brain_observatory_cache import BrainObservatoryCache\n",
    "import pandas as pd \n",
    "import numpy as np \n",
    "import matplotlib.pyplot as plt\n",
    "print('Packages installed.')"
   ]
  },
  {
   "cell_type": "code",
   "execution_count": 2,
   "metadata": {},
   "outputs": [],
   "source": [
    "# Install the Allen SDK \n",
    "#!pip install allensdk"
   ]
  },
  {
   "cell_type": "markdown",
   "metadata": {},
   "source": [
    "## Get a list of all possible transgenic mouse lines and brain areas, and choose which to work with."
   ]
  },
  {
   "cell_type": "markdown",
   "metadata": {},
   "source": [
    "Similar to how we created an instance of the CellTypesCache, here we'll create an instance of the \"BrainObservatoryCache.\" The datahub already has a manifest file available in the directory you see below. This directory also has all of the data we need."
   ]
  },
  {
   "cell_type": "code",
   "execution_count": 3,
   "metadata": {},
   "outputs": [],
   "source": [
    "# We will create an instance of the Brain Observatory Cache as an object, \"boc.\"\n",
    "boc = BrainObservatoryCache(manifest_file='manifest.json')"
   ]
  },
  {
   "cell_type": "markdown",
   "metadata": {},
   "source": [
    "Next, we'll call `get_all_cre_lines()` on our \"boc\" instance to return all of the possible Cre lines and brain areas are that we can analyze. We can call `get_all_targeted_structures()` to return all brain areas in our dataset. "
   ]
  },
  {
   "cell_type": "code",
   "execution_count": 4,
   "metadata": {},
   "outputs": [
    {
     "name": "stdout",
     "output_type": "stream",
     "text": [
      "all cre lines: ['Cux2-CreERT2', 'Emx1-IRES-Cre', 'Fezf2-CreER', 'Nr5a1-Cre', 'Ntsr1-Cre_GN220', 'Pvalb-IRES-Cre', 'Rbp4-Cre_KL100', 'Rorb-IRES2-Cre', 'Scnn1a-Tg3-Cre', 'Slc17a7-IRES2-Cre', 'Sst-IRES-Cre', 'Tlx3-Cre_PL56', 'Vip-IRES-Cre']\n",
      "\n",
      "\n",
      "all brain regions: ['VISal', 'VISam', 'VISl', 'VISp', 'VISpm', 'VISrl']\n"
     ]
    }
   ],
   "source": [
    "# We'll save the list of cre lines as a variable, 'cre-lines'.\n",
    "cre_lines = boc.get_all_cre_lines()\n",
    "print(\"all cre lines: \" + str(cre_lines))\n",
    "\n",
    "print('\\n')\n",
    "\n",
    "# We'll save the list of possible structures as a variable, 'brain_areas'.\n",
    "brain_areas = boc.get_all_targeted_structures()\n",
    "print(\"all brain regions: \" + str(brain_areas))"
   ]
  },
  {
   "cell_type": "markdown",
   "metadata": {},
   "source": [
    "## Extract an experiment session"
   ]
  },
  {
   "cell_type": "markdown",
   "metadata": {},
   "source": [
    "With access to the cre lines and brain regions from the dataset, we can construct a dataframe of experiements from our desired cre lines and brain regions. We can use the `get_experiment_containers()` method of our `boc` object to get a list of experiments that are available. The method takes in the arguments `cre_lines` and `targeted_structures` which both require lists as inputs. \n",
    "\n",
    "You can find more info about the Cre-lines <a href=\"http://observatory.brain-map.org/visualcoding/transgenic\">here</a>. Refer back to the <a href=\"http://observatory.brain-map.org/visualcoding\">Brain Observatory landing page</a> to learn more about the different visual areas.\n",
    "\n",
    "**Note**: Not every cre line and brain region combination will have data. If no data is availabe for a certain combindation, an empty dataframe will be created. You can use the `empty` attribute on your new datafram to check if it is empty. "
   ]
  },
  {
   "cell_type": "code",
   "execution_count": 5,
   "metadata": {},
   "outputs": [
    {
     "name": "stdout",
     "output_type": "stream",
     "text": [
      "Data frame is empty: False\n"
     ]
    },
    {
     "data": {
      "text/html": [
       "<div>\n",
       "<style scoped>\n",
       "    .dataframe tbody tr th:only-of-type {\n",
       "        vertical-align: middle;\n",
       "    }\n",
       "\n",
       "    .dataframe tbody tr th {\n",
       "        vertical-align: top;\n",
       "    }\n",
       "\n",
       "    .dataframe thead th {\n",
       "        text-align: right;\n",
       "    }\n",
       "</style>\n",
       "<table border=\"1\" class=\"dataframe\">\n",
       "  <thead>\n",
       "    <tr style=\"text-align: right;\">\n",
       "      <th></th>\n",
       "      <th>imaging_depth</th>\n",
       "      <th>targeted_structure</th>\n",
       "      <th>cre_line</th>\n",
       "      <th>reporter_line</th>\n",
       "      <th>donor_name</th>\n",
       "      <th>specimen_name</th>\n",
       "      <th>tags</th>\n",
       "      <th>failed</th>\n",
       "    </tr>\n",
       "    <tr>\n",
       "      <th>id</th>\n",
       "      <th></th>\n",
       "      <th></th>\n",
       "      <th></th>\n",
       "      <th></th>\n",
       "      <th></th>\n",
       "      <th></th>\n",
       "      <th></th>\n",
       "      <th></th>\n",
       "    </tr>\n",
       "  </thead>\n",
       "  <tbody>\n",
       "    <tr>\n",
       "      <th>658854535</th>\n",
       "      <td>175</td>\n",
       "      <td>VISpm</td>\n",
       "      <td>Cux2-CreERT2</td>\n",
       "      <td>Ai93(TITL-GCaMP6f)</td>\n",
       "      <td>360566</td>\n",
       "      <td>Cux2-CreERT2;Camk2a-tTA;Ai93-360566</td>\n",
       "      <td>[]</td>\n",
       "      <td>False</td>\n",
       "    </tr>\n",
       "    <tr>\n",
       "      <th>511510645</th>\n",
       "      <td>175</td>\n",
       "      <td>VISpm</td>\n",
       "      <td>Cux2-CreERT2</td>\n",
       "      <td>Ai93(TITL-GCaMP6f)</td>\n",
       "      <td>225039</td>\n",
       "      <td>Cux2-CreERT2;Camk2a-tTA;Ai93-225039</td>\n",
       "      <td>[]</td>\n",
       "      <td>False</td>\n",
       "    </tr>\n",
       "    <tr>\n",
       "      <th>716655272</th>\n",
       "      <td>275</td>\n",
       "      <td>VISpm</td>\n",
       "      <td>Cux2-CreERT2</td>\n",
       "      <td>Ai93(TITL-GCaMP6f)</td>\n",
       "      <td>390323</td>\n",
       "      <td>Cux2-CreERT2;Camk2a-tTA;Ai93-390323</td>\n",
       "      <td>[]</td>\n",
       "      <td>False</td>\n",
       "    </tr>\n",
       "    <tr>\n",
       "      <th>511510817</th>\n",
       "      <td>175</td>\n",
       "      <td>VISpm</td>\n",
       "      <td>Cux2-CreERT2</td>\n",
       "      <td>Ai93(TITL-GCaMP6f)</td>\n",
       "      <td>222424</td>\n",
       "      <td>Cux2-CreERT2;Camk2a-tTA;Ai93-222424</td>\n",
       "      <td>[]</td>\n",
       "      <td>False</td>\n",
       "    </tr>\n",
       "    <tr>\n",
       "      <th>657470854</th>\n",
       "      <td>175</td>\n",
       "      <td>VISpm</td>\n",
       "      <td>Cux2-CreERT2</td>\n",
       "      <td>Ai93(TITL-GCaMP6f)</td>\n",
       "      <td>360565</td>\n",
       "      <td>Cux2-CreERT2;Camk2a-tTA;Ai93-360565</td>\n",
       "      <td>[]</td>\n",
       "      <td>False</td>\n",
       "    </tr>\n",
       "  </tbody>\n",
       "</table>\n",
       "</div>"
      ],
      "text/plain": [
       "           imaging_depth targeted_structure      cre_line       reporter_line  \\\n",
       "id                                                                              \n",
       "658854535            175              VISpm  Cux2-CreERT2  Ai93(TITL-GCaMP6f)   \n",
       "511510645            175              VISpm  Cux2-CreERT2  Ai93(TITL-GCaMP6f)   \n",
       "716655272            275              VISpm  Cux2-CreERT2  Ai93(TITL-GCaMP6f)   \n",
       "511510817            175              VISpm  Cux2-CreERT2  Ai93(TITL-GCaMP6f)   \n",
       "657470854            175              VISpm  Cux2-CreERT2  Ai93(TITL-GCaMP6f)   \n",
       "\n",
       "          donor_name                        specimen_name tags  failed  \n",
       "id                                                                      \n",
       "658854535     360566  Cux2-CreERT2;Camk2a-tTA;Ai93-360566   []   False  \n",
       "511510645     225039  Cux2-CreERT2;Camk2a-tTA;Ai93-225039   []   False  \n",
       "716655272     390323  Cux2-CreERT2;Camk2a-tTA;Ai93-390323   []   False  \n",
       "511510817     222424  Cux2-CreERT2;Camk2a-tTA;Ai93-222424   []   False  \n",
       "657470854     360565  Cux2-CreERT2;Camk2a-tTA;Ai93-360565   []   False  "
      ]
     },
     "execution_count": 5,
     "metadata": {},
     "output_type": "execute_result"
    }
   ],
   "source": [
    "# Assign visual area and cre line of interest for analysis \n",
    "visual_area = 'VISpm'\n",
    "cre_line = 'Cux2-CreERT2'\n",
    "\n",
    "# Get experiment contianers for visual area and cre line of interest \n",
    "exps = boc.get_experiment_containers(targeted_structures = [visual_area], \n",
    "                                     cre_lines = [cre_line])\n",
    "\n",
    "# Create an experiment dataframe \n",
    "exps_df = pd.DataFrame(exps)\n",
    "\n",
    "# Check if dataframe is empty \n",
    "is_empty = exps_df.empty\n",
    "print('Data frame is empty: ' + str(is_empty))\n",
    "\n",
    "# Assing id column as index and return dataframe\n",
    "exps_df = exps_df.set_index('id')\n",
    "exps_df.head()"
   ]
  },
  {
   "cell_type": "markdown",
   "metadata": {},
   "source": [
    "Let's look into one of these experiment containers, most of which have three different sessions for different types of visual stimuli. We can call `get_ophys_experiments()` on our boc object to return the container. The method takes in the arguments `experiment_container_ids` and `stimuli` which both require lists. We can select an id from our dataframe and choose a stimuli, in our case, the stimuli we are looking at is `natural_scenes`. "
   ]
  },
  {
   "cell_type": "code",
   "execution_count": 6,
   "metadata": {},
   "outputs": [
    {
     "name": "stdout",
     "output_type": "stream",
     "text": [
      "[{'id': 659749630, 'imaging_depth': 175, 'targeted_structure': 'VISpm', 'cre_line': 'Cux2-CreERT2', 'reporter_line': 'Ai93(TITL-GCaMP6f)', 'acquisition_age_days': 115, 'experiment_container_id': 658854535, 'session_type': 'three_session_B', 'donor_name': '360566', 'specimen_name': 'Cux2-CreERT2;Camk2a-tTA;Ai93-360566', 'fail_eye_tracking': False}]\n",
      "\n",
      "\n",
      "Look, it is a list object containing a dict.\n"
     ]
    }
   ],
   "source": [
    "# Assign experiment ontainer id and stimuli \n",
    "exp_container_id = 658854535\n",
    "stim = 'natural_scenes'\n",
    "\n",
    "# Call experiment contianer for our id and stimuli of interest\n",
    "expt_cont = boc.get_ophys_experiments(experiment_container_ids = [exp_container_id],\n",
    "                                   stimuli = [stim])\n",
    "\n",
    "# Print out our container \n",
    "print(expt_cont)\n",
    "print('\\n')\n",
    "print('Look, it is a list object containing a dict.')"
   ]
  },
  {
   "cell_type": "markdown",
   "metadata": {},
   "source": [
    "Now, let's get the id for this experiment and extract the data using the `get_ophys_experiment_data` method. If you look closley above, you can see that our experiment container is a list that contains a dictionary. We will need to input the session id of our experiment container into this method. "
   ]
  },
  {
   "cell_type": "code",
   "execution_count": 7,
   "metadata": {},
   "outputs": [
    {
     "name": "stdout",
     "output_type": "stream",
     "text": [
      "<allensdk.core.brain_observatory_nwb_data_set.BrainObservatoryNwbDataSet object at 0x7fe8517dfd50>\n"
     ]
    }
   ],
   "source": [
    "# Go into first entry in list, which is the dictionary \n",
    "# Then go within id of dictionary\n",
    "session_id = expt_cont[0]['id']\n",
    "data = boc.get_ophys_experiment_data(session_id)\n",
    "\n",
    "# Take a look at the kind of object data is \n",
    "print(data)"
   ]
  },
  {
   "cell_type": "code",
   "execution_count": null,
   "metadata": {},
   "outputs": [],
   "source": []
  }
 ],
 "metadata": {
  "kernelspec": {
   "display_name": "Python 3",
   "language": "python",
   "name": "python3"
  },
  "language_info": {
   "codemirror_mode": {
    "name": "ipython",
    "version": 3
   },
   "file_extension": ".py",
   "mimetype": "text/x-python",
   "name": "python",
   "nbconvert_exporter": "python",
   "pygments_lexer": "ipython3",
   "version": "3.7.6"
  }
 },
 "nbformat": 4,
 "nbformat_minor": 4
}