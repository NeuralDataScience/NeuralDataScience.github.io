{
 "cells": [
  {
   "cell_type": "markdown",
   "metadata": {},
   "source": [
    "# Large Scale Electrophysiology"
   ]
  },
  {
   "cell_type": "markdown",
   "metadata": {},
   "source": [
    "A single neuron can not carry out tasks such as reading by itself, it requires the surrounding, interconnected neurons to send and recieve signals as well to accomplish the simplest of tasks. In large scale electrophysiology, the activity of hundreds of neurons are recorded in an attempt to determime where neuron activity occurs and how these cells interplay with each other when presented with certain tasks.  "
   ]
  },
  {
   "cell_type": "markdown",
   "metadata": {},
   "source": [
    "**Neuropixel Probes and the Neuropixels Dataset**\n",
    "\n",
    "The technological advancement of the neural pixels probe has greatly preopelled neroscience reasearch in recent years. Each probe is miniscule in size and contians 960 recording sites allowing for hundreds of action potentials to be recorded simultaneously. The reduced size of these recording divces allows for mutliple probes to be inserted into the same brain giving us real time recordings of multiple brian areas."
   ]
  },
  {
   "attachments": {},
   "cell_type": "markdown",
   "metadata": {},
   "source": [
    "![](https://brainmapportal-live-4cc80a57cd6e400d854-f7fdcae.divio-media.net/filer_public/88/00/8800429b-8811-471f-9f04-82d19b3851b0/neuropixels_visual_coding_cms_images-04.png)"
   ]
  },
  {
   "cell_type": "markdown",
   "metadata": {},
   "source": [
    "The Visual Coding - Neuropixels dataset from the Allen Institute of Brain Sciences attempts to record spiking activity in the visual system of the mouse brain. The dataset contains a total of 58 experiment sessions from 6 neuropixel probes that targeted the cortex, hippocampus, and thalamus. There are three different trangenic mouse lines used in the experiments alongside the wild-type (Sst-IRES-Cre, Pvalb-IRES-Cre, Vip-IRES-Cre). Much like the Brain Observatory dataset, each mouse in this experiemnt is exposed to various visual stimuli to evoke responses in the mouse visual system. The presented stimuli range from natural scenes, Gabor patches, and drifting-gratings. \n",
    "\n",
    "In this chapter you will learn how to download and sort through the Neuropixels dataset. Once you learn the basics, you will learn how to perform possible analyses such as correlational and behaviroal studies, as well as optogenetics. "
   ]
  },
  {
   "cell_type": "markdown",
   "metadata": {},
   "source": [
    "**Additional Resources** \n",
    "\n",
    "For more information on the Neuropixels dataset, please visit <a href = 'https://portal.brain-map.org/explore/circuits/visual-coding-neuropixels'> here</a>. For more information on the Neuropixel probes, please visit <a href = 'https://www.neuropixels.org/'> neuralpixels.org</a>."
   ]
  },
  {
   "cell_type": "code",
   "execution_count": null,
   "metadata": {},
   "outputs": [],
   "source": []
  },
  {
   "cell_type": "markdown",
   "metadata": {},
   "source": [
    "\n",
    "```{toctree}\n",
    ":hidden:\n",
    ":titlesonly:\n",
    "\n",
    "\n",
    "Downloading_Large_Scale_Data\n",
    "Large_Scale_Electrophysiology_and_Behavior\n",
    "Identifying_Cells_with_Optogenetics\n",
    "Correlations\n",
    "```\n"
   ]
  }
 ],
 "metadata": {
  "kernelspec": {
   "display_name": "Python 3",
   "language": "python",
   "name": "python3"
  },
  "language_info": {
   "codemirror_mode": {
    "name": "ipython",
    "version": 3
   },
   "file_extension": ".py",
   "mimetype": "text/x-python",
   "name": "python",
   "nbconvert_exporter": "python",
   "pygments_lexer": "ipython3",
   "version": "3.7.6"
  }
 },
 "nbformat": 4,
 "nbformat_minor": 4
}