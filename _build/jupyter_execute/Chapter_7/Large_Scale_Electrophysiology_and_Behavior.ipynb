{
 "cells": [
  {
   "cell_type": "markdown",
   "metadata": {},
   "source": [
    "# Large Scale Single Cell Electrophysiology & Behavior"
   ]
  },
  {
   "cell_type": "code",
   "execution_count": 1,
   "metadata": {},
   "outputs": [
    {
     "name": "stdout",
     "output_type": "stream",
     "text": [
      "allensdk already installed.\n"
     ]
    }
   ],
   "source": [
    "import matplotlib.pyplot as plt\n",
    "import numpy as np\n",
    "\n",
    "# This will ensure that the AllenSDK is installed.\n",
    "# If not, it will install it for you.\n",
    "try:\n",
    "    import allensdk\n",
    "    print('allensdk already installed.')\n",
    "except ImportError as e:\n",
    "    !pip install allensdk"
   ]
  },
  {
   "cell_type": "code",
   "execution_count": 2,
   "metadata": {},
   "outputs": [
    {
     "name": "stdout",
     "output_type": "stream",
     "text": [
      "Session downloaded.\n"
     ]
    }
   ],
   "source": [
    "# Import the Neuropixels Cache\n",
    "from allensdk.brain_observatory.ecephys.ecephys_project_cache import EcephysProjectCache\n",
    "from allensdk.brain_observatory.ecephys.ecephys_project_api import EcephysProjectWarehouseApi\n",
    "from allensdk.brain_observatory.ecephys.ecephys_project_api.rma_engine import RmaEngine\n",
    "\n",
    "# Import 2-Photon Cache\n",
    "from allensdk.core.brain_observatory_cache import BrainObservatoryCache\n",
    "\n",
    "# Assign where neuropixels data and 2-photon data will be stored\n",
    "manifest_path = 'manifest.json' \n",
    "manifest_path2 = 'manifest2.json'\n",
    "\n",
    "# Create the EcephysProjectCache object\n",
    "cache = EcephysProjectCache(manifest=manifest_path,\n",
    "                            fetch_api=EcephysProjectWarehouseApi(RmaEngine(scheme=\"http\",host=\"api.brain-map.org\",timeout= 50 * 60)))          \n",
    "\n",
    "# Create an instance of the Brain Observatory cache\n",
    "boc = BrainObservatoryCache(manifest_file= manifest_path2)\n",
    "\n",
    "# Download our session data \n",
    "session = cache.get_session_data(719161530)\n",
    "print('Session downloaded.')"
   ]
  },
  {
   "cell_type": "markdown",
   "metadata": {},
   "source": [
    "## Units"
   ]
  },
  {
   "cell_type": "markdown",
   "metadata": {},
   "source": [
    "Now that we have downloaded the session file, we can begin to explore our session object. The `units` property of our session object returns a dataframe that contains the recorded activity of our individual neurons. There are many metrics stored within `units` that can be used in your potential analyses. Some key metrics include:\n",
    "\n",
    "- **firing rate**: mean spike rate during the entire session\n",
    "- **presence ratio**: fraction of session when spikes are present\n",
    "- **ISI violations**: rate of refractory period violations\n",
    "- **Isolation distances**: distance to nearest cluster in Mihalanobis space\n",
    "- **d'**: classification accuracy based on LDA\n",
    "- **SNR**: signal to noise ratio\n",
    "- **Maximum drift**: Maximum change in spike depth during recording\n",
    "- **Cumulative drift**: Cumulative change in spike depth during recording"
   ]
  },
  {
   "cell_type": "code",
   "execution_count": 3,
   "metadata": {},
   "outputs": [
    {
     "data": {
      "text/html": [
       "<div>\n",
       "<style scoped>\n",
       "    .dataframe tbody tr th:only-of-type {\n",
       "        vertical-align: middle;\n",
       "    }\n",
       "\n",
       "    .dataframe tbody tr th {\n",
       "        vertical-align: top;\n",
       "    }\n",
       "\n",
       "    .dataframe thead th {\n",
       "        text-align: right;\n",
       "    }\n",
       "</style>\n",
       "<table border=\"1\" class=\"dataframe\">\n",
       "  <thead>\n",
       "    <tr style=\"text-align: right;\">\n",
       "      <th></th>\n",
       "      <th>waveform_duration</th>\n",
       "      <th>cluster_id</th>\n",
       "      <th>peak_channel_id</th>\n",
       "      <th>cumulative_drift</th>\n",
       "      <th>amplitude_cutoff</th>\n",
       "      <th>snr</th>\n",
       "      <th>waveform_recovery_slope</th>\n",
       "      <th>isolation_distance</th>\n",
       "      <th>nn_miss_rate</th>\n",
       "      <th>silhouette_score</th>\n",
       "      <th>...</th>\n",
       "      <th>ecephys_structure_id</th>\n",
       "      <th>ecephys_structure_acronym</th>\n",
       "      <th>anterior_posterior_ccf_coordinate</th>\n",
       "      <th>dorsal_ventral_ccf_coordinate</th>\n",
       "      <th>left_right_ccf_coordinate</th>\n",
       "      <th>probe_description</th>\n",
       "      <th>location</th>\n",
       "      <th>probe_sampling_rate</th>\n",
       "      <th>probe_lfp_sampling_rate</th>\n",
       "      <th>probe_has_lfp_data</th>\n",
       "    </tr>\n",
       "    <tr>\n",
       "      <th>unit_id</th>\n",
       "      <th></th>\n",
       "      <th></th>\n",
       "      <th></th>\n",
       "      <th></th>\n",
       "      <th></th>\n",
       "      <th></th>\n",
       "      <th></th>\n",
       "      <th></th>\n",
       "      <th></th>\n",
       "      <th></th>\n",
       "      <th></th>\n",
       "      <th></th>\n",
       "      <th></th>\n",
       "      <th></th>\n",
       "      <th></th>\n",
       "      <th></th>\n",
       "      <th></th>\n",
       "      <th></th>\n",
       "      <th></th>\n",
       "      <th></th>\n",
       "      <th></th>\n",
       "    </tr>\n",
       "  </thead>\n",
       "  <tbody>\n",
       "    <tr>\n",
       "      <th>950916730</th>\n",
       "      <td>0.315913</td>\n",
       "      <td>0</td>\n",
       "      <td>850252273</td>\n",
       "      <td>421.99</td>\n",
       "      <td>0.010911</td>\n",
       "      <td>2.408535</td>\n",
       "      <td>-0.072013</td>\n",
       "      <td>115.066739</td>\n",
       "      <td>0.001010</td>\n",
       "      <td>NaN</td>\n",
       "      <td>...</td>\n",
       "      <td>215.0</td>\n",
       "      <td>APN</td>\n",
       "      <td>8369.0</td>\n",
       "      <td>3658.0</td>\n",
       "      <td>6985.0</td>\n",
       "      <td>probeA</td>\n",
       "      <td>See electrode locations</td>\n",
       "      <td>29999.967418</td>\n",
       "      <td>1249.998642</td>\n",
       "      <td>True</td>\n",
       "    </tr>\n",
       "    <tr>\n",
       "      <th>950916822</th>\n",
       "      <td>0.233501</td>\n",
       "      <td>7</td>\n",
       "      <td>850252319</td>\n",
       "      <td>294.57</td>\n",
       "      <td>0.000025</td>\n",
       "      <td>3.769478</td>\n",
       "      <td>-0.212549</td>\n",
       "      <td>160.983322</td>\n",
       "      <td>0.000000</td>\n",
       "      <td>0.115187</td>\n",
       "      <td>...</td>\n",
       "      <td>215.0</td>\n",
       "      <td>APN</td>\n",
       "      <td>8288.0</td>\n",
       "      <td>3464.0</td>\n",
       "      <td>7039.0</td>\n",
       "      <td>probeA</td>\n",
       "      <td>See electrode locations</td>\n",
       "      <td>29999.967418</td>\n",
       "      <td>1249.998642</td>\n",
       "      <td>True</td>\n",
       "    </tr>\n",
       "    <tr>\n",
       "      <th>950916845</th>\n",
       "      <td>0.192295</td>\n",
       "      <td>9</td>\n",
       "      <td>850252323</td>\n",
       "      <td>270.88</td>\n",
       "      <td>0.023245</td>\n",
       "      <td>3.087942</td>\n",
       "      <td>-0.216281</td>\n",
       "      <td>77.035531</td>\n",
       "      <td>0.002380</td>\n",
       "      <td>0.170339</td>\n",
       "      <td>...</td>\n",
       "      <td>215.0</td>\n",
       "      <td>APN</td>\n",
       "      <td>8281.0</td>\n",
       "      <td>3448.0</td>\n",
       "      <td>7044.0</td>\n",
       "      <td>probeA</td>\n",
       "      <td>See electrode locations</td>\n",
       "      <td>29999.967418</td>\n",
       "      <td>1249.998642</td>\n",
       "      <td>True</td>\n",
       "    </tr>\n",
       "    <tr>\n",
       "      <th>950916856</th>\n",
       "      <td>0.233501</td>\n",
       "      <td>10</td>\n",
       "      <td>850252325</td>\n",
       "      <td>219.19</td>\n",
       "      <td>0.011552</td>\n",
       "      <td>2.743504</td>\n",
       "      <td>-0.087931</td>\n",
       "      <td>291.708582</td>\n",
       "      <td>0.047256</td>\n",
       "      <td>0.141643</td>\n",
       "      <td>...</td>\n",
       "      <td>215.0</td>\n",
       "      <td>APN</td>\n",
       "      <td>8277.0</td>\n",
       "      <td>3440.0</td>\n",
       "      <td>7046.0</td>\n",
       "      <td>probeA</td>\n",
       "      <td>See electrode locations</td>\n",
       "      <td>29999.967418</td>\n",
       "      <td>1249.998642</td>\n",
       "      <td>True</td>\n",
       "    </tr>\n",
       "    <tr>\n",
       "      <th>950916892</th>\n",
       "      <td>0.343384</td>\n",
       "      <td>13</td>\n",
       "      <td>850252329</td>\n",
       "      <td>558.87</td>\n",
       "      <td>0.029890</td>\n",
       "      <td>2.428990</td>\n",
       "      <td>-0.005812</td>\n",
       "      <td>41.639547</td>\n",
       "      <td>0.000338</td>\n",
       "      <td>0.180152</td>\n",
       "      <td>...</td>\n",
       "      <td>215.0</td>\n",
       "      <td>APN</td>\n",
       "      <td>8270.0</td>\n",
       "      <td>3424.0</td>\n",
       "      <td>7051.0</td>\n",
       "      <td>probeA</td>\n",
       "      <td>See electrode locations</td>\n",
       "      <td>29999.967418</td>\n",
       "      <td>1249.998642</td>\n",
       "      <td>True</td>\n",
       "    </tr>\n",
       "  </tbody>\n",
       "</table>\n",
       "<p>5 rows × 89 columns</p>\n",
       "</div>"
      ],
      "text/plain": [
       "           waveform_duration  cluster_id  peak_channel_id  cumulative_drift  \\\n",
       "unit_id                                                                       \n",
       "950916730           0.315913           0        850252273            421.99   \n",
       "950916822           0.233501           7        850252319            294.57   \n",
       "950916845           0.192295           9        850252323            270.88   \n",
       "950916856           0.233501          10        850252325            219.19   \n",
       "950916892           0.343384          13        850252329            558.87   \n",
       "\n",
       "           amplitude_cutoff       snr  waveform_recovery_slope  \\\n",
       "unit_id                                                          \n",
       "950916730          0.010911  2.408535                -0.072013   \n",
       "950916822          0.000025  3.769478                -0.212549   \n",
       "950916845          0.023245  3.087942                -0.216281   \n",
       "950916856          0.011552  2.743504                -0.087931   \n",
       "950916892          0.029890  2.428990                -0.005812   \n",
       "\n",
       "           isolation_distance  nn_miss_rate  silhouette_score  ...  \\\n",
       "unit_id                                                        ...   \n",
       "950916730          115.066739      0.001010               NaN  ...   \n",
       "950916822          160.983322      0.000000          0.115187  ...   \n",
       "950916845           77.035531      0.002380          0.170339  ...   \n",
       "950916856          291.708582      0.047256          0.141643  ...   \n",
       "950916892           41.639547      0.000338          0.180152  ...   \n",
       "\n",
       "           ecephys_structure_id  ecephys_structure_acronym  \\\n",
       "unit_id                                                      \n",
       "950916730                 215.0                        APN   \n",
       "950916822                 215.0                        APN   \n",
       "950916845                 215.0                        APN   \n",
       "950916856                 215.0                        APN   \n",
       "950916892                 215.0                        APN   \n",
       "\n",
       "           anterior_posterior_ccf_coordinate  dorsal_ventral_ccf_coordinate  \\\n",
       "unit_id                                                                       \n",
       "950916730                             8369.0                         3658.0   \n",
       "950916822                             8288.0                         3464.0   \n",
       "950916845                             8281.0                         3448.0   \n",
       "950916856                             8277.0                         3440.0   \n",
       "950916892                             8270.0                         3424.0   \n",
       "\n",
       "           left_right_ccf_coordinate  probe_description  \\\n",
       "unit_id                                                   \n",
       "950916730                     6985.0             probeA   \n",
       "950916822                     7039.0             probeA   \n",
       "950916845                     7044.0             probeA   \n",
       "950916856                     7046.0             probeA   \n",
       "950916892                     7051.0             probeA   \n",
       "\n",
       "                          location  probe_sampling_rate  \\\n",
       "unit_id                                                   \n",
       "950916730  See electrode locations         29999.967418   \n",
       "950916822  See electrode locations         29999.967418   \n",
       "950916845  See electrode locations         29999.967418   \n",
       "950916856  See electrode locations         29999.967418   \n",
       "950916892  See electrode locations         29999.967418   \n",
       "\n",
       "           probe_lfp_sampling_rate  probe_has_lfp_data  \n",
       "unit_id                                                 \n",
       "950916730              1249.998642                True  \n",
       "950916822              1249.998642                True  \n",
       "950916845              1249.998642                True  \n",
       "950916856              1249.998642                True  \n",
       "950916892              1249.998642                True  \n",
       "\n",
       "[5 rows x 89 columns]"
      ]
     },
     "execution_count": 3,
     "metadata": {},
     "output_type": "execute_result"
    }
   ],
   "source": [
    "units_df = session.units\n",
    "units_df.head()"
   ]
  },
  {
   "cell_type": "markdown",
   "metadata": {},
   "source": [
    "Just like we did before in our sessions dataframe, we can return the brain structures that our session's data was recorded from as well as how many neurons were recorded per brain area. "
   ]
  },
  {
   "cell_type": "code",
   "execution_count": 4,
   "metadata": {},
   "outputs": [
    {
     "name": "stdout",
     "output_type": "stream",
     "text": [
      "Available Brain Structures:\n",
      "['APN' 'DG' 'CA1' 'VISam' 'TH' 'Eth' 'POL' 'LP' 'VISpm' 'NOT' 'SUB' 'VISp'\n",
      " 'grey' 'VL' 'CA3' 'VISl' 'PO' 'VPM' 'LGd' 'VISal' 'VISrl']\n",
      "\n",
      " Brain Structure Frequency:\n",
      "APN      176\n",
      "CA1      108\n",
      "LGd       71\n",
      "POL       55\n",
      "VISp      52\n",
      "SUB       42\n",
      "VISl      40\n",
      "VISam     37\n",
      "LP        28\n",
      "VPM       24\n",
      "grey      19\n",
      "VISpm     18\n",
      "NOT       16\n",
      "CA3       14\n",
      "DG        14\n",
      "VISrl     10\n",
      "TH         9\n",
      "VISal      9\n",
      "VL         7\n",
      "PO         5\n",
      "Eth        1\n",
      "Name: ecephys_structure_acronym, dtype: int64\n"
     ]
    }
   ],
   "source": [
    "col = 'ecephys_structure_acronym'\n",
    "\n",
    "print('Available Brain Structures:')\n",
    "print(units_df[col].unique())\n",
    "print('\\n Brain Structure Frequency:')\n",
    "print(units_df[col].value_counts())"
   ]
  },
  {
   "cell_type": "markdown",
   "metadata": {},
   "source": [
    "To ensure that the recordings we use in our analysis are all of good quality, we will filter the data according to the signal-to-noise ratio (`snr`) and the `ISI_Violations` of our neurons. Below we will plot the distributions of both."
   ]
  },
  {
   "cell_type": "code",
   "execution_count": 5,
   "metadata": {},
   "outputs": [
    {
     "data": {
      "image/png": "[encoded data removed]",
      "text/plain": [
       "<Figure size 432x288 with 1 Axes>"
      ]
     },
     "metadata": {
      "filenames": {
       "image/png": "/Users/VictorMagdaleno/NeuralDataScience.github.io/_build/jupyter_execute/Chapter_7/Large_Scale_Electrophysiology_and_Behavior_9_0.png"
      },
      "needs_background": "light"
     },
     "output_type": "display_data"
    }
   ],
   "source": [
    "# Signal to noise distribution\n",
    "col_1 = 'snr'\n",
    "plt.hist(units_df['snr'], bins=30)\n",
    "plt.title('Distribution of SNR')\n",
    "plt.xlabel('Signal to Noise Ratio')\n",
    "plt.ylabel('Frequency')\n",
    "plt.show()"
   ]
  },
  {
   "cell_type": "code",
   "execution_count": 6,
   "metadata": {},
   "outputs": [
    {
     "data": {
      "image/png": "[encoded data removed]",
      "text/plain": [
       "<Figure size 432x288 with 1 Axes>"
      ]
     },
     "metadata": {
      "filenames": {
       "image/png": "/Users/VictorMagdaleno/NeuralDataScience.github.io/_build/jupyter_execute/Chapter_7/Large_Scale_Electrophysiology_and_Behavior_10_0.png"
      },
      "needs_background": "light"
     },
     "output_type": "display_data"
    }
   ],
   "source": [
    "# ISI distribution \n",
    "col_2 = 'isi_violations'\n",
    "plt.hist(units_df[col_2], bins=30)\n",
    "plt.title('Distribution of ISI Violations')\n",
    "plt.xlabel('Rate of Refractory Period Violations')\n",
    "plt.ylabel('Frequency')\n",
    "plt.show()"
   ]
  },
  {
   "cell_type": "markdown",
   "metadata": {},
   "source": [
    "For the purposes of this tutorial, we will use `snr` values greater than 1 and `ISI_violation` values less than 0.1, define our quality neurons. "
   ]
  },
  {
   "cell_type": "code",
   "execution_count": 7,
   "metadata": {},
   "outputs": [
    {
     "name": "stdout",
     "output_type": "stream",
     "text": [
      "Number of Recordings with good SNR and Low ISI:\n",
      "555\n"
     ]
    },
    {
     "data": {
      "text/html": [
       "<div>\n",
       "<style scoped>\n",
       "    .dataframe tbody tr th:only-of-type {\n",
       "        vertical-align: middle;\n",
       "    }\n",
       "\n",
       "    .dataframe tbody tr th {\n",
       "        vertical-align: top;\n",
       "    }\n",
       "\n",
       "    .dataframe thead th {\n",
       "        text-align: right;\n",
       "    }\n",
       "</style>\n",
       "<table border=\"1\" class=\"dataframe\">\n",
       "  <thead>\n",
       "    <tr style=\"text-align: right;\">\n",
       "      <th></th>\n",
       "      <th>waveform_duration</th>\n",
       "      <th>cluster_id</th>\n",
       "      <th>peak_channel_id</th>\n",
       "      <th>cumulative_drift</th>\n",
       "      <th>amplitude_cutoff</th>\n",
       "      <th>snr</th>\n",
       "      <th>waveform_recovery_slope</th>\n",
       "      <th>isolation_distance</th>\n",
       "      <th>nn_miss_rate</th>\n",
       "      <th>silhouette_score</th>\n",
       "      <th>...</th>\n",
       "      <th>ecephys_structure_id</th>\n",
       "      <th>ecephys_structure_acronym</th>\n",
       "      <th>anterior_posterior_ccf_coordinate</th>\n",
       "      <th>dorsal_ventral_ccf_coordinate</th>\n",
       "      <th>left_right_ccf_coordinate</th>\n",
       "      <th>probe_description</th>\n",
       "      <th>location</th>\n",
       "      <th>probe_sampling_rate</th>\n",
       "      <th>probe_lfp_sampling_rate</th>\n",
       "      <th>probe_has_lfp_data</th>\n",
       "    </tr>\n",
       "  </thead>\n",
       "  <tbody>\n",
       "    <tr>\n",
       "      <th>0</th>\n",
       "      <td>0.315913</td>\n",
       "      <td>0</td>\n",
       "      <td>850252273</td>\n",
       "      <td>421.99</td>\n",
       "      <td>0.010911</td>\n",
       "      <td>2.408535</td>\n",
       "      <td>-0.072013</td>\n",
       "      <td>115.066739</td>\n",
       "      <td>0.001010</td>\n",
       "      <td>NaN</td>\n",
       "      <td>...</td>\n",
       "      <td>215.0</td>\n",
       "      <td>APN</td>\n",
       "      <td>8369.0</td>\n",
       "      <td>3658.0</td>\n",
       "      <td>6985.0</td>\n",
       "      <td>probeA</td>\n",
       "      <td>See electrode locations</td>\n",
       "      <td>29999.967418</td>\n",
       "      <td>1249.998642</td>\n",
       "      <td>True</td>\n",
       "    </tr>\n",
       "    <tr>\n",
       "      <th>1</th>\n",
       "      <td>0.233501</td>\n",
       "      <td>7</td>\n",
       "      <td>850252319</td>\n",
       "      <td>294.57</td>\n",
       "      <td>0.000025</td>\n",
       "      <td>3.769478</td>\n",
       "      <td>-0.212549</td>\n",
       "      <td>160.983322</td>\n",
       "      <td>0.000000</td>\n",
       "      <td>0.115187</td>\n",
       "      <td>...</td>\n",
       "      <td>215.0</td>\n",
       "      <td>APN</td>\n",
       "      <td>8288.0</td>\n",
       "      <td>3464.0</td>\n",
       "      <td>7039.0</td>\n",
       "      <td>probeA</td>\n",
       "      <td>See electrode locations</td>\n",
       "      <td>29999.967418</td>\n",
       "      <td>1249.998642</td>\n",
       "      <td>True</td>\n",
       "    </tr>\n",
       "    <tr>\n",
       "      <th>2</th>\n",
       "      <td>0.233501</td>\n",
       "      <td>10</td>\n",
       "      <td>850252325</td>\n",
       "      <td>219.19</td>\n",
       "      <td>0.011552</td>\n",
       "      <td>2.743504</td>\n",
       "      <td>-0.087931</td>\n",
       "      <td>291.708582</td>\n",
       "      <td>0.047256</td>\n",
       "      <td>0.141643</td>\n",
       "      <td>...</td>\n",
       "      <td>215.0</td>\n",
       "      <td>APN</td>\n",
       "      <td>8277.0</td>\n",
       "      <td>3440.0</td>\n",
       "      <td>7046.0</td>\n",
       "      <td>probeA</td>\n",
       "      <td>See electrode locations</td>\n",
       "      <td>29999.967418</td>\n",
       "      <td>1249.998642</td>\n",
       "      <td>True</td>\n",
       "    </tr>\n",
       "    <tr>\n",
       "      <th>3</th>\n",
       "      <td>0.467002</td>\n",
       "      <td>24</td>\n",
       "      <td>850252351</td>\n",
       "      <td>154.34</td>\n",
       "      <td>0.003052</td>\n",
       "      <td>2.084643</td>\n",
       "      <td>-0.059217</td>\n",
       "      <td>179.310426</td>\n",
       "      <td>0.013169</td>\n",
       "      <td>0.102770</td>\n",
       "      <td>...</td>\n",
       "      <td>215.0</td>\n",
       "      <td>APN</td>\n",
       "      <td>8229.0</td>\n",
       "      <td>3331.0</td>\n",
       "      <td>7079.0</td>\n",
       "      <td>probeA</td>\n",
       "      <td>See electrode locations</td>\n",
       "      <td>29999.967418</td>\n",
       "      <td>1249.998642</td>\n",
       "      <td>True</td>\n",
       "    </tr>\n",
       "    <tr>\n",
       "      <th>4</th>\n",
       "      <td>0.192295</td>\n",
       "      <td>21</td>\n",
       "      <td>850252349</td>\n",
       "      <td>184.14</td>\n",
       "      <td>0.003787</td>\n",
       "      <td>2.805553</td>\n",
       "      <td>-0.221815</td>\n",
       "      <td>68.033790</td>\n",
       "      <td>0.003977</td>\n",
       "      <td>0.054381</td>\n",
       "      <td>...</td>\n",
       "      <td>215.0</td>\n",
       "      <td>APN</td>\n",
       "      <td>8232.0</td>\n",
       "      <td>3339.0</td>\n",
       "      <td>7077.0</td>\n",
       "      <td>probeA</td>\n",
       "      <td>See electrode locations</td>\n",
       "      <td>29999.967418</td>\n",
       "      <td>1249.998642</td>\n",
       "      <td>True</td>\n",
       "    </tr>\n",
       "  </tbody>\n",
       "</table>\n",
       "<p>5 rows × 89 columns</p>\n",
       "</div>"
      ],
      "text/plain": [
       "   waveform_duration  cluster_id  peak_channel_id  cumulative_drift  \\\n",
       "0           0.315913           0        850252273            421.99   \n",
       "1           0.233501           7        850252319            294.57   \n",
       "2           0.233501          10        850252325            219.19   \n",
       "3           0.467002          24        850252351            154.34   \n",
       "4           0.192295          21        850252349            184.14   \n",
       "\n",
       "   amplitude_cutoff       snr  waveform_recovery_slope  isolation_distance  \\\n",
       "0          0.010911  2.408535                -0.072013          115.066739   \n",
       "1          0.000025  3.769478                -0.212549          160.983322   \n",
       "2          0.011552  2.743504                -0.087931          291.708582   \n",
       "3          0.003052  2.084643                -0.059217          179.310426   \n",
       "4          0.003787  2.805553                -0.221815           68.033790   \n",
       "\n",
       "   nn_miss_rate  silhouette_score  ...  ecephys_structure_id  \\\n",
       "0      0.001010               NaN  ...                 215.0   \n",
       "1      0.000000          0.115187  ...                 215.0   \n",
       "2      0.047256          0.141643  ...                 215.0   \n",
       "3      0.013169          0.102770  ...                 215.0   \n",
       "4      0.003977          0.054381  ...                 215.0   \n",
       "\n",
       "   ecephys_structure_acronym  anterior_posterior_ccf_coordinate  \\\n",
       "0                        APN                             8369.0   \n",
       "1                        APN                             8288.0   \n",
       "2                        APN                             8277.0   \n",
       "3                        APN                             8229.0   \n",
       "4                        APN                             8232.0   \n",
       "\n",
       "   dorsal_ventral_ccf_coordinate  left_right_ccf_coordinate  \\\n",
       "0                         3658.0                     6985.0   \n",
       "1                         3464.0                     7039.0   \n",
       "2                         3440.0                     7046.0   \n",
       "3                         3331.0                     7079.0   \n",
       "4                         3339.0                     7077.0   \n",
       "\n",
       "   probe_description                 location  probe_sampling_rate  \\\n",
       "0             probeA  See electrode locations         29999.967418   \n",
       "1             probeA  See electrode locations         29999.967418   \n",
       "2             probeA  See electrode locations         29999.967418   \n",
       "3             probeA  See electrode locations         29999.967418   \n",
       "4             probeA  See electrode locations         29999.967418   \n",
       "\n",
       "   probe_lfp_sampling_rate  probe_has_lfp_data  \n",
       "0              1249.998642                True  \n",
       "1              1249.998642                True  \n",
       "2              1249.998642                True  \n",
       "3              1249.998642                True  \n",
       "4              1249.998642                True  \n",
       "\n",
       "[5 rows x 89 columns]"
      ]
     },
     "execution_count": 7,
     "metadata": {},
     "output_type": "execute_result"
    }
   ],
   "source": [
    "good_snr = units_df[units_df['snr']>1]\n",
    "low_isi = units_df[units_df['isi_violations']<0.1]\n",
    "combined_df = low_isi.merge(good_snr)\n",
    "print('Number of Recordings with good SNR and Low ISI:')\n",
    "print(len(combined_df))\n",
    "combined_df.head()"
   ]
  },
  {
   "cell_type": "markdown",
   "metadata": {},
   "source": [
    "## Firing Rate"
   ]
  },
  {
   "cell_type": "markdown",
   "metadata": {},
   "source": [
    "*Explaining Firing Rate*"
   ]
  },
  {
   "cell_type": "code",
   "execution_count": 8,
   "metadata": {},
   "outputs": [],
   "source": [
    "import seaborn as sns"
   ]
  },
  {
   "cell_type": "code",
   "execution_count": 9,
   "metadata": {},
   "outputs": [
    {
     "data": {
      "image/png": "[encoded data removed]",
      "text/plain": [
       "<Figure size 720x360 with 1 Axes>"
      ]
     },
     "metadata": {
      "filenames": {
       "image/png": "/Users/VictorMagdaleno/NeuralDataScience.github.io/_build/jupyter_execute/Chapter_7/Large_Scale_Electrophysiology_and_Behavior_16_0.png"
      },
      "needs_background": "light"
     },
     "output_type": "display_data"
    }
   ],
   "source": [
    "plt.figure(figsize = (10,5))\n",
    "sns.violinplot(y='firing_rate', x='ecephys_structure_acronym',data = combined_df)\n",
    "plt.title('Violinplot of Firing Rates across Brain Structures')\n",
    "plt.show()"
   ]
  },
  {
   "cell_type": "markdown",
   "metadata": {},
   "source": [
    "## Running Speed "
   ]
  },
  {
   "cell_type": "markdown",
   "metadata": {},
   "source": [
    "*explain run speed and 2 photon/neuropixels connectivity*"
   ]
  },
  {
   "cell_type": "code",
   "execution_count": 10,
   "metadata": {},
   "outputs": [
    {
     "data": {
      "text/html": [
       "<div>\n",
       "<style scoped>\n",
       "    .dataframe tbody tr th:only-of-type {\n",
       "        vertical-align: middle;\n",
       "    }\n",
       "\n",
       "    .dataframe tbody tr th {\n",
       "        vertical-align: top;\n",
       "    }\n",
       "\n",
       "    .dataframe thead th {\n",
       "        text-align: right;\n",
       "    }\n",
       "</style>\n",
       "<table border=\"1\" class=\"dataframe\">\n",
       "  <thead>\n",
       "    <tr style=\"text-align: right;\">\n",
       "      <th></th>\n",
       "      <th>start_time</th>\n",
       "      <th>end_time</th>\n",
       "      <th>velocity</th>\n",
       "    </tr>\n",
       "  </thead>\n",
       "  <tbody>\n",
       "    <tr>\n",
       "      <th>0</th>\n",
       "      <td>29.77937</td>\n",
       "      <td>29.79390</td>\n",
       "      <td>-0.375017</td>\n",
       "    </tr>\n",
       "    <tr>\n",
       "      <th>1</th>\n",
       "      <td>29.79390</td>\n",
       "      <td>29.81039</td>\n",
       "      <td>3.825516</td>\n",
       "    </tr>\n",
       "    <tr>\n",
       "      <th>2</th>\n",
       "      <td>29.82680</td>\n",
       "      <td>29.84451</td>\n",
       "      <td>-0.942946</td>\n",
       "    </tr>\n",
       "    <tr>\n",
       "      <th>3</th>\n",
       "      <td>29.84451</td>\n",
       "      <td>29.85961</td>\n",
       "      <td>-1.594519</td>\n",
       "    </tr>\n",
       "    <tr>\n",
       "      <th>4</th>\n",
       "      <td>29.87652</td>\n",
       "      <td>29.89318</td>\n",
       "      <td>1.059689</td>\n",
       "    </tr>\n",
       "  </tbody>\n",
       "</table>\n",
       "</div>"
      ],
      "text/plain": [
       "   start_time  end_time  velocity\n",
       "0    29.77937  29.79390 -0.375017\n",
       "1    29.79390  29.81039  3.825516\n",
       "2    29.82680  29.84451 -0.942946\n",
       "3    29.84451  29.85961 -1.594519\n",
       "4    29.87652  29.89318  1.059689"
      ]
     },
     "execution_count": 10,
     "metadata": {},
     "output_type": "execute_result"
    }
   ],
   "source": [
    "rs = session.running_speed\n",
    "rs.head()"
   ]
  },
  {
   "cell_type": "code",
   "execution_count": 11,
   "metadata": {},
   "outputs": [
    {
     "data": {
      "image/png": "[encoded data removed]",
      "text/plain": [
       "<Figure size 1008x360 with 1 Axes>"
      ]
     },
     "metadata": {
      "filenames": {
       "image/png": "/Users/VictorMagdaleno/NeuralDataScience.github.io/_build/jupyter_execute/Chapter_7/Large_Scale_Electrophysiology_and_Behavior_20_0.png"
      },
      "needs_background": "light"
     },
     "output_type": "display_data"
    }
   ],
   "source": [
    "y = rs['velocity']\n",
    "x = rs['start_time']\n",
    "\n",
    "# Plot it\n",
    "plt.figure(figsize=(14,5))\n",
    "plt.plot(x,y)\n",
    "plt.xlabel('Time (seconds)')\n",
    "plt.ylabel('Speed')\n",
    "plt.show()"
   ]
  },
  {
   "cell_type": "code",
   "execution_count": 12,
   "metadata": {},
   "outputs": [
    {
     "name": "stdout",
     "output_type": "stream",
     "text": [
      "Data acquired.\n"
     ]
    }
   ],
   "source": [
    "# Assign previous container ID\n",
    "exp_container_id = 627823571\n",
    "stim = ['drifting_gratings']\n",
    "\n",
    "# Get experiments for our container id and stimuli of interest\n",
    "experiments = boc.get_ophys_experiments(experiment_container_ids = [exp_container_id],\n",
    "                                     stimuli = stim)\n",
    "\n",
    "# Assign the experiment id \n",
    "experiment_id = experiments[0]['id']\n",
    "experiment_data = boc.get_ophys_experiment_data(experiment_id)\n",
    "\n",
    "# Assign timestamps and deltaF/F\n",
    "ts, dff = experiment_data.get_dff_traces()\n",
    "dff_mean =np.mean(dff, axis = 0)\n",
    "dff_mean.shape\n",
    "\n",
    "print('Data acquired.')"
   ]
  },
  {
   "cell_type": "code",
   "execution_count": 13,
   "metadata": {},
   "outputs": [
    {
     "ename": "SyntaxError",
     "evalue": "invalid syntax (<ipython-input-13-1ef7f4665be5>, line 12)",
     "output_type": "error",
     "traceback": [
      "\u001b[0;36m  File \u001b[0;32m\"<ipython-input-13-1ef7f4665be5>\"\u001b[0;36m, line \u001b[0;32m12\u001b[0m\n\u001b[0;31m    response_bin[i] = dff_mean[np.where([(ts>i*bin_size), (ts<(i+1)*bin_size)].mean()\u001b[0m\n\u001b[0m               ^\u001b[0m\n\u001b[0;31mSyntaxError\u001b[0m\u001b[0;31m:\u001b[0m invalid syntax\n"
     ]
    }
   ],
   "source": [
    "bin_size = 5 \n",
    "bin_stamps = np.arange(0,ts.max(),bin_size)\n",
    "num_bins = len(bin_stamps)\n",
    "\n",
    "run_bin = np.empty(num_bins)\n",
    "response_bin = np.empty(num_bins)\n",
    "\n",
    "for i in range(num_bins):\n",
    "    \n",
    "    # Get the values within our time bin and take a mean\n",
    "    run_bin[i] = y[np.where([(ts>i*bin_size), (ts<(i+1)*bin_size)].mean() \n",
    "    response_bin[i] = dff_mean[np.where([(ts>i*bin_size), (ts<(i+1)*bin_size)].mean()"
   ]
  },
  {
   "cell_type": "code",
   "execution_count": null,
   "metadata": {},
   "outputs": [],
   "source": []
  }
 ],
 "metadata": {
  "kernelspec": {
   "display_name": "Python 3",
   "language": "python",
   "name": "python3"
  },
  "language_info": {
   "codemirror_mode": {
    "name": "ipython",
    "version": 3
   },
   "file_extension": ".py",
   "mimetype": "text/x-python",
   "name": "python",
   "nbconvert_exporter": "python",
   "pygments_lexer": "ipython3",
   "version": "3.7.6"
  }
 },
 "nbformat": 4,
 "nbformat_minor": 4
}