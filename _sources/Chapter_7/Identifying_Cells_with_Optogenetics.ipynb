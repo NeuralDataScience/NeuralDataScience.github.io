{
 "cells": [
  {
   "cell_type": "markdown",
   "metadata": {},
   "source": [
    "# Identifying Cells with Optogenetics"
   ]
  },
  {
   "cell_type": "markdown",
   "metadata": {},
   "source": [
    "In this section, you will learn how to access the optogenetic data within the AllenSDK's Neuropixels dataset. In these experiments, light-gated ion channels were expressed in mice in a Cre-dependent manner. These ion channels can depolarize Cre+ cells when specific wavelengths of light are shined on the brain.\n",
    "\n",
    "Although it can be hard to identify cell types with extracellular electrophysiology, the integration of optogenetics into these experiments is one way to help identify subsets of cells. Only units with our cre-line of interest will respond to the light allowing for subgroups of neuronal untis to be identified and analyzed across differing genotypes. This technique is called **optotagging**.\n",
    "\n",
    "**Note**: the presence of light artifacts can create the appearance of false positives, and false negatives (cells that are Cre+ but do not respond to light) are nearly impossible to avoid. We will go over how to deal with these cases later in the notebook. "
   ]
  },
  {
   "cell_type": "code",
   "execution_count": 1,
   "metadata": {},
   "outputs": [
    {
     "name": "stdout",
     "output_type": "stream",
     "text": [
      "Packages imported and cache instance created.\n"
     ]
    }
   ],
   "source": [
    "# Import necessary packages \n",
    "import numpy as np \n",
    "import matplotlib.pyplot as plt\n",
    "import xarray as xr\n",
    "import warnings\n",
    "warnings.filterwarnings('ignore')\n",
    "\n",
    "# Import the Neuropixels Cache\n",
    "from allensdk.brain_observatory.ecephys.ecephys_project_cache import EcephysProjectCache\n",
    "from allensdk.brain_observatory.ecephys.ecephys_project_api import EcephysProjectWarehouseApi\n",
    "from allensdk.brain_observatory.ecephys.ecephys_project_api.rma_engine import RmaEngine\n",
    "\n",
    "# Assign where data will be stored\n",
    "manifest_path = 'manifest.json' \n",
    "\n",
    "# Create the EcephysProjectCache object\n",
    "cache = EcephysProjectCache(manifest=manifest_path,\n",
    "                            fetch_api=EcephysProjectWarehouseApi(RmaEngine(scheme=\"http\",host=\"api.brain-map.org\",timeout= 50 * 60)))          \n",
    "\n",
    "print('Packages imported and cache instance created.')"
   ]
  },
  {
   "cell_type": "markdown",
   "metadata": {},
   "source": [
    "Because optogenetic channels are expressed in a Cre-dependent manner, let's first see which Cre-lines are available."
   ]
  },
  {
   "cell_type": "code",
   "execution_count": 2,
   "metadata": {},
   "outputs": [
    {
     "data": {
      "text/plain": [
       "array(['Sst-IRES-Cre/wt;Ai32(RCL-ChR2(H134R)_EYFP)/wt',\n",
       "       'Pvalb-IRES-Cre/wt;Ai32(RCL-ChR2(H134R)_EYFP)/wt', 'wt/wt',\n",
       "       'Vip-IRES-Cre/wt;Ai32(RCL-ChR2(H134R)_EYFP)/wt'], dtype=object)"
      ]
     },
     "execution_count": 2,
     "metadata": {},
     "output_type": "execute_result"
    }
   ],
   "source": [
    "all_sessions = cache.get_session_table()\n",
    "all_sessions['full_genotype'].unique()"
   ]
  },
  {
   "cell_type": "markdown",
   "metadata": {},
   "source": [
    "**About these Cre-lines**\n",
    "\n",
    "Each of these cre-lines mark specific subsets of inhibitory neurons in the brain. You can find a brief description, as well as Two-Photon tomography images, of these cre lines on the <a href = 'https://observatory.brain-map.org/visualcoding/transgenic'> Allen Brain Atlas website</a>."
   ]
  },
  {
   "cell_type": "markdown",
   "metadata": {},
   "source": [
    "## Accessing Optogenetic Data"
   ]
  },
  {
   "cell_type": "markdown",
   "metadata": {},
   "source": [
    "Before we begin downloading data, it is important to mention that the procedures in the optogenetic stimulation experiments have some inconsistencies. The light used to evoke the units' optogenetic response was switched from an LED light to a laser a little more than halfway through the experiments to evoke a stronger response from the units. The cell below will return a list containing the session id's of the sessions where a laser was used. "
   ]
  },
  {
   "cell_type": "code",
   "execution_count": 3,
   "metadata": {},
   "outputs": [
    {
     "name": "stdout",
     "output_type": "stream",
     "text": [
      " Sessions conducted with lasers: \n",
      " [789848216, 791319847, 793224716, 794812542, 797828357, 798911424, 799864342, 816200189, 819186360, 819701982, 821695405, 829720705, 831882777, 835479236, 839068429, 839557629, 840012044, 847657808]\n"
     ]
    }
   ],
   "source": [
    "# Halfway through expersiment, LED light was swapped for a laser to evoke stronger response\n",
    "laser = []\n",
    "first_laser_session = 789848216\n",
    "\n",
    "session_ids = all_sessions.index.values\n",
    "\n",
    "for i in session_ids:\n",
    "    if (i >= first_laser_session):\n",
    "        laser.append(i)\n",
    "print(f\" Sessions conducted with lasers: \\n {laser}\")"
   ]
  },
  {
   "cell_type": "markdown",
   "metadata": {},
   "source": [
    "To ensure we can see clear optogenetic responses from our units, we will be working with a session that used a laser to evoke these responses. We will download a session that untilizes parvalbumin cells because they fire at high rates and are the most common in the cortex."
   ]
  },
  {
   "cell_type": "code",
   "execution_count": 4,
   "metadata": {},
   "outputs": [
    {
     "name": "stdout",
     "output_type": "stream",
     "text": [
      "Session Downloaded.\n"
     ]
    }
   ],
   "source": [
    "# Return session ids for pvalb, laser sessions only\n",
    "pvalb_sessions = all_sessions[all_sessions.full_genotype == 'Pvalb-IRES-Cre/wt;Ai32(RCL-ChR2(H134R)_EYFP)/wt']\n",
    "pavalb_laser_sessions = pvalb_sessions[pvalb_sessions.index > first_laser_session] # this is where we'll filter by laser as index\n",
    "\n",
    "# Download first pvalb laser session\n",
    "pvalb_session_id = pavalb_laser_sessions.index[0]\n",
    "\n",
    "# Download a session for one of our cre lines using\n",
    "session = cache.get_session_data(pvalb_session_id)\n",
    "\n",
    "print('Session Downloaded.')"
   ]
  },
  {
   "cell_type": "markdown",
   "metadata": {},
   "source": [
    "The optotagging stimuli are different than the stimulation presentations that were used in the previous section. To access the table containing the optogenetic stimuli data, execute `optogenetic_stimulation_epochs` on the session object. The table contains the start, stop, and duration of each light pulse as well as the pulse's condition and level. The `level` column contains the power level of the light source defined by the peak voltage of the control signal delivered to the light source. The type of pulse used is stored in the `condition` column and each pulse is defined below. \n",
    "\n",
    "- single square pulse: 5ms or 10ms duration\n",
    "- half period of a cosine wave: 1 second duration\n",
    "- 2.5 ms pulses at 10 Hz: 1 second duration"
   ]
  },
  {
   "cell_type": "code",
   "execution_count": 5,
   "metadata": {},
   "outputs": [
    {
     "data": {
      "text/html": [
       "<div>\n",
       "<style scoped>\n",
       "    .dataframe tbody tr th:only-of-type {\n",
       "        vertical-align: middle;\n",
       "    }\n",
       "\n",
       "    .dataframe tbody tr th {\n",
       "        vertical-align: top;\n",
       "    }\n",
       "\n",
       "    .dataframe thead th {\n",
       "        text-align: right;\n",
       "    }\n",
       "</style>\n",
       "<table border=\"1\" class=\"dataframe\">\n",
       "  <thead>\n",
       "    <tr style=\"text-align: right;\">\n",
       "      <th></th>\n",
       "      <th>start_time</th>\n",
       "      <th>condition</th>\n",
       "      <th>level</th>\n",
       "      <th>stop_time</th>\n",
       "      <th>stimulus_name</th>\n",
       "      <th>duration</th>\n",
       "    </tr>\n",
       "    <tr>\n",
       "      <th>id</th>\n",
       "      <th></th>\n",
       "      <th></th>\n",
       "      <th></th>\n",
       "      <th></th>\n",
       "      <th></th>\n",
       "      <th></th>\n",
       "    </tr>\n",
       "  </thead>\n",
       "  <tbody>\n",
       "    <tr>\n",
       "      <th>0</th>\n",
       "      <td>9801.42498</td>\n",
       "      <td>2.5 ms pulses at 10 Hz</td>\n",
       "      <td>1.3</td>\n",
       "      <td>9802.42498</td>\n",
       "      <td>fast_pulses</td>\n",
       "      <td>1.000</td>\n",
       "    </tr>\n",
       "    <tr>\n",
       "      <th>1</th>\n",
       "      <td>9803.16508</td>\n",
       "      <td>a single square pulse</td>\n",
       "      <td>1.3</td>\n",
       "      <td>9803.17008</td>\n",
       "      <td>pulse</td>\n",
       "      <td>0.005</td>\n",
       "    </tr>\n",
       "    <tr>\n",
       "      <th>2</th>\n",
       "      <td>9804.92514</td>\n",
       "      <td>a single square pulse</td>\n",
       "      <td>2.0</td>\n",
       "      <td>9804.93514</td>\n",
       "      <td>pulse</td>\n",
       "      <td>0.010</td>\n",
       "    </tr>\n",
       "    <tr>\n",
       "      <th>3</th>\n",
       "      <td>9807.02526</td>\n",
       "      <td>a single square pulse</td>\n",
       "      <td>1.7</td>\n",
       "      <td>9807.03526</td>\n",
       "      <td>pulse</td>\n",
       "      <td>0.010</td>\n",
       "    </tr>\n",
       "    <tr>\n",
       "      <th>4</th>\n",
       "      <td>9809.05530</td>\n",
       "      <td>a single square pulse</td>\n",
       "      <td>1.7</td>\n",
       "      <td>9809.06530</td>\n",
       "      <td>pulse</td>\n",
       "      <td>0.010</td>\n",
       "    </tr>\n",
       "    <tr>\n",
       "      <th>...</th>\n",
       "      <td>...</td>\n",
       "      <td>...</td>\n",
       "      <td>...</td>\n",
       "      <td>...</td>\n",
       "      <td>...</td>\n",
       "      <td>...</td>\n",
       "    </tr>\n",
       "    <tr>\n",
       "      <th>295</th>\n",
       "      <td>10370.48981</td>\n",
       "      <td>half-period of a cosine wave</td>\n",
       "      <td>1.7</td>\n",
       "      <td>10371.48981</td>\n",
       "      <td>raised_cosine</td>\n",
       "      <td>1.000</td>\n",
       "    </tr>\n",
       "    <tr>\n",
       "      <th>296</th>\n",
       "      <td>10372.59990</td>\n",
       "      <td>half-period of a cosine wave</td>\n",
       "      <td>1.3</td>\n",
       "      <td>10373.59990</td>\n",
       "      <td>raised_cosine</td>\n",
       "      <td>1.000</td>\n",
       "    </tr>\n",
       "    <tr>\n",
       "      <th>297</th>\n",
       "      <td>10374.69996</td>\n",
       "      <td>a single square pulse</td>\n",
       "      <td>2.0</td>\n",
       "      <td>10374.70496</td>\n",
       "      <td>pulse</td>\n",
       "      <td>0.005</td>\n",
       "    </tr>\n",
       "    <tr>\n",
       "      <th>298</th>\n",
       "      <td>10376.75003</td>\n",
       "      <td>a single square pulse</td>\n",
       "      <td>1.3</td>\n",
       "      <td>10376.76003</td>\n",
       "      <td>pulse</td>\n",
       "      <td>0.010</td>\n",
       "    </tr>\n",
       "    <tr>\n",
       "      <th>299</th>\n",
       "      <td>10378.74014</td>\n",
       "      <td>a single square pulse</td>\n",
       "      <td>1.3</td>\n",
       "      <td>10378.75014</td>\n",
       "      <td>pulse</td>\n",
       "      <td>0.010</td>\n",
       "    </tr>\n",
       "  </tbody>\n",
       "</table>\n",
       "<p>300 rows × 6 columns</p>\n",
       "</div>"
      ],
      "text/plain": [
       "      start_time                     condition  level    stop_time  \\\n",
       "id                                                                   \n",
       "0     9801.42498        2.5 ms pulses at 10 Hz    1.3   9802.42498   \n",
       "1     9803.16508         a single square pulse    1.3   9803.17008   \n",
       "2     9804.92514         a single square pulse    2.0   9804.93514   \n",
       "3     9807.02526         a single square pulse    1.7   9807.03526   \n",
       "4     9809.05530         a single square pulse    1.7   9809.06530   \n",
       "..           ...                           ...    ...          ...   \n",
       "295  10370.48981  half-period of a cosine wave    1.7  10371.48981   \n",
       "296  10372.59990  half-period of a cosine wave    1.3  10373.59990   \n",
       "297  10374.69996         a single square pulse    2.0  10374.70496   \n",
       "298  10376.75003         a single square pulse    1.3  10376.76003   \n",
       "299  10378.74014         a single square pulse    1.3  10378.75014   \n",
       "\n",
       "     stimulus_name  duration  \n",
       "id                            \n",
       "0      fast_pulses     1.000  \n",
       "1            pulse     0.005  \n",
       "2            pulse     0.010  \n",
       "3            pulse     0.010  \n",
       "4            pulse     0.010  \n",
       "..             ...       ...  \n",
       "295  raised_cosine     1.000  \n",
       "296  raised_cosine     1.000  \n",
       "297          pulse     0.005  \n",
       "298          pulse     0.010  \n",
       "299          pulse     0.010  \n",
       "\n",
       "[300 rows x 6 columns]"
      ]
     },
     "execution_count": 5,
     "metadata": {},
     "output_type": "execute_result"
    }
   ],
   "source": [
    "opto_table = session.optogenetic_stimulation_epochs\n",
    "\n",
    "opto_table"
   ]
  },
  {
   "cell_type": "markdown",
   "metadata": {},
   "source": [
    "## Aligning Spikes to Pulses "
   ]
  },
  {
   "cell_type": "markdown",
   "metadata": {},
   "source": [
    "Unlike the stimulus presentations that we covered in the previous section, there is no built in function for aligning spikes to light pulses in the Allen SDK. Below, we have copied a function from the <a href = 'https://github.com/jsiegle/AllenSDK/blob/opto-tutorial/doc_template/examples_root/examples/nb/ecephys_optotagging.ipynb'> Allen SDK Optotagging Analysis tutorial</a> that does this for you.\n",
    "\n",
    "The funtion below needs bin edges, optogenetic trials, and units in order to return the spike counts. For this reason, you must first specify your desired bins, optogenetic stimuli, and units of interest. We will be focusing units found in the `VISp` brain area. The Allen Institute has discovered that \"10 ms pulses are the most useful stimulus for finding true light-evoked activity\" so will subselect data with that stimulus."
   ]
  },
  {
   "cell_type": "code",
   "execution_count": 6,
   "metadata": {
    "scrolled": false
   },
   "outputs": [
    {
     "name": "stdout",
     "output_type": "stream",
     "text": [
      "Data Array Succefully created.\n"
     ]
    }
   ],
   "source": [
    "# Assign optogenetic stimuli\n",
    "ss_10ms = opto_table[(opto_table['duration'] > 0.009) & (opto_table['duration'] < 0.02)]\n",
    "\n",
    "# Assign units in brain area of interest\n",
    "units_df = session.units\n",
    "VISp_df = units_df[units_df['ecephys_structure_acronym'] == 'VISp']\n",
    "\n",
    "# Assign time bins\n",
    "time_resolution = 0.0005 # 0.5 ms bins\n",
    "bin_edges = np.arange(-0.01, 0.025, time_resolution)\n",
    "\n",
    "\n",
    "def optotagging_spike_counts(bin_edges, trials, units):\n",
    "     \n",
    "    time_resolution = np.mean(np.diff(bin_edges))\n",
    "\n",
    "    spike_matrix = np.zeros( (len(trials), len(bin_edges), len(units)) )\n",
    "\n",
    "    for unit_idx, unit_id in enumerate(units.index.values):\n",
    "\n",
    "        spike_times = session.spike_times[unit_id]\n",
    "\n",
    "        for trial_idx, trial_start in enumerate(trials.start_time.values):\n",
    "\n",
    "            in_range = (spike_times > (trial_start + bin_edges[0])) * \\\n",
    "                       (spike_times < (trial_start + bin_edges[-1]))\n",
    "\n",
    "            binned_times = ((spike_times[in_range] - (trial_start + bin_edges[0])) / time_resolution).astype('int')\n",
    "            spike_matrix[trial_idx, binned_times, unit_idx] = 1\n",
    "\n",
    "    return xr.DataArray(\n",
    "        name='spike_counts',\n",
    "        data=spike_matrix,\n",
    "        coords={\n",
    "            'trial_id': trials.index.values,\n",
    "            'time_relative_to_stimulus_onset': bin_edges,\n",
    "            'unit_id': units.index.values\n",
    "        },\n",
    "        dims=['trial_id', 'time_relative_to_stimulus_onset', 'unit_id']\n",
    "    )\n",
    "\n",
    "da = optotagging_spike_counts(bin_edges, ss_10ms, VISp_df)\n",
    "print('Data Array Succefully created.')"
   ]
  },
  {
   "cell_type": "markdown",
   "metadata": {},
   "source": [
    "The function returns an `xarray.DataArray` that contains the spikes counts of each units. The dimensions for the array are the `trial_id` (an individual pulse from `opto_table`) the `time_relative_to_stimulus_onset`, and the `unit_id`. \n",
    "\n",
    "Looking at the DataArray, we can see that in this session there were 75 different times that a 10ms single pulse was given and 46 different units we are focusing on based on brain area. \n",
    "\n",
    "We can use the DataArray to plot a heatmap of the units' response to the light pulses. The funtion below was also copied from the Allen SDK Optogenetic Analysis tutortial. The funtion takes our DataArray and reduces the data within by computing the mean spike counts across the `trial_id` dimension for every unit in the array. The reduced data is then plotted with respect to the time bins that we specified earlier. \n",
    "\n",
    "For more information on how to use `xarray.DataArray` objects, please visit the <a href = 'http://xarray.pydata.org/en/stable/generated/xarray.DataArray.mean.html#xarray.DataArray.mean'> xarray original documentation online</a>."
   ]
  },
  {
   "cell_type": "code",
   "execution_count": 7,
   "metadata": {},
   "outputs": [
    {
     "data": {
      "image/png": "[encoded data removed]",
      "text/plain": [
       "<Figure size 360x720 with 2 Axes>"
      ]
     },
     "metadata": {
      "needs_background": "light"
     },
     "output_type": "display_data"
    }
   ],
   "source": [
    "def plot_optotagging_response(da):\n",
    "\n",
    "    plt.figure(figsize=(5,10))\n",
    "    \n",
    "    # Plot mean firing rate of each unit across each trial\n",
    "    plt.imshow(da.mean(dim='trial_id').T / time_resolution, \n",
    "               extent=[np.min(bin_edges), np.max(bin_edges),\n",
    "                       0, len(VISp_df)],\n",
    "               aspect='auto', vmin=0, vmax=200)    \n",
    "    \n",
    "    # Plot Vertical lines indicating stimulus window \n",
    "    for bound in [0.0005, 0.0095]:\n",
    "        plt.plot([bound, bound],[0, len(VISp_df)], ':', color='white', linewidth=1.0)\n",
    "\n",
    "    plt.xlabel('Time (s)')\n",
    "    plt.ylabel('Unit #')\n",
    "\n",
    "    cb = plt.colorbar(fraction=0.046, pad=0.04)\n",
    "    cb.set_label('Mean firing rate (Hz)')\n",
    "    \n",
    "plot_optotagging_response(da)\n",
    "plt.title('Pvalb-cre mice session')\n",
    "plt.show()"
   ]
  },
  {
   "cell_type": "markdown",
   "metadata": {},
   "source": [
    "A good way to use this data would be to comapare the baseline firing rate (i.e. firing rate before stimulus) to the evoked firing rate. We can do this by first slicing our time bins into two timeframes, `baseline` and `evoked`. The `baseline` timeframe will begin at the start of our time bins and end just before the stimulus onset. The `evoked` timeframe will begin immidiatley after the onset of the stimulus and end right before the end of the stimulus suration. \n",
    "\n",
    "We will then reduce our data to only the mean firing rate of each unit within each time frame."
   ]
  },
  {
   "cell_type": "code",
   "execution_count": 8,
   "metadata": {},
   "outputs": [
    {
     "data": {
      "text/html": [
       "<div><svg style=\"position: absolute; width: 0; height: 0; overflow: hidden\">\n",
       "<defs>\n",
       "<symbol id=\"icon-database\" viewBox=\"0 0 32 32\">\n",
       "<title>Show/Hide data repr</title>\n",
       "<path d=\"M16 0c-8.837 0-16 2.239-16 5v4c0 2.761 7.163 5 16 5s16-2.239 16-5v-4c0-2.761-7.163-5-16-5z\"></path>\n",
       "<path d=\"M16 17c-8.837 0-16-2.239-16-5v6c0 2.761 7.163 5 16 5s16-2.239 16-5v-6c0 2.761-7.163 5-16 5z\"></path>\n",
       "<path d=\"M16 26c-8.837 0-16-2.239-16-5v6c0 2.761 7.163 5 16 5s16-2.239 16-5v-6c0 2.761-7.163 5-16 5z\"></path>\n",
       "</symbol>\n",
       "<symbol id=\"icon-file-text2\" viewBox=\"0 0 32 32\">\n",
       "<title>Show/Hide attributes</title>\n",
       "<path d=\"M28.681 7.159c-0.694-0.947-1.662-2.053-2.724-3.116s-2.169-2.030-3.116-2.724c-1.612-1.182-2.393-1.319-2.841-1.319h-15.5c-1.378 0-2.5 1.121-2.5 2.5v27c0 1.378 1.122 2.5 2.5 2.5h23c1.378 0 2.5-1.122 2.5-2.5v-19.5c0-0.448-0.137-1.23-1.319-2.841zM24.543 5.457c0.959 0.959 1.712 1.825 2.268 2.543h-4.811v-4.811c0.718 0.556 1.584 1.309 2.543 2.268zM28 29.5c0 0.271-0.229 0.5-0.5 0.5h-23c-0.271 0-0.5-0.229-0.5-0.5v-27c0-0.271 0.229-0.5 0.5-0.5 0 0 15.499-0 15.5 0v7c0 0.552 0.448 1 1 1h7v19.5z\"></path>\n",
       "<path d=\"M23 26h-14c-0.552 0-1-0.448-1-1s0.448-1 1-1h14c0.552 0 1 0.448 1 1s-0.448 1-1 1z\"></path>\n",
       "<path d=\"M23 22h-14c-0.552 0-1-0.448-1-1s0.448-1 1-1h14c0.552 0 1 0.448 1 1s-0.448 1-1 1z\"></path>\n",
       "<path d=\"M23 18h-14c-0.552 0-1-0.448-1-1s0.448-1 1-1h14c0.552 0 1 0.448 1 1s-0.448 1-1 1z\"></path>\n",
       "</symbol>\n",
       "</defs>\n",
       "</svg>\n",
       "<style>/* CSS stylesheet for displaying xarray objects in jupyterlab.\n",
       " *\n",
       " */\n",
       "\n",
       ":root {\n",
       "  --xr-font-color0: var(--jp-content-font-color0, rgba(0, 0, 0, 1));\n",
       "  --xr-font-color2: var(--jp-content-font-color2, rgba(0, 0, 0, 0.54));\n",
       "  --xr-font-color3: var(--jp-content-font-color3, rgba(0, 0, 0, 0.38));\n",
       "  --xr-border-color: var(--jp-border-color2, #e0e0e0);\n",
       "  --xr-disabled-color: var(--jp-layout-color3, #bdbdbd);\n",
       "  --xr-background-color: var(--jp-layout-color0, white);\n",
       "  --xr-background-color-row-even: var(--jp-layout-color1, white);\n",
       "  --xr-background-color-row-odd: var(--jp-layout-color2, #eeeeee);\n",
       "}\n",
       "\n",
       ".xr-wrap {\n",
       "  min-width: 300px;\n",
       "  max-width: 700px;\n",
       "}\n",
       "\n",
       ".xr-header {\n",
       "  padding-top: 6px;\n",
       "  padding-bottom: 6px;\n",
       "  margin-bottom: 4px;\n",
       "  border-bottom: solid 1px var(--xr-border-color);\n",
       "}\n",
       "\n",
       ".xr-header > div,\n",
       ".xr-header > ul {\n",
       "  display: inline;\n",
       "  margin-top: 0;\n",
       "  margin-bottom: 0;\n",
       "}\n",
       "\n",
       ".xr-obj-type,\n",
       ".xr-array-name {\n",
       "  margin-left: 2px;\n",
       "  margin-right: 10px;\n",
       "}\n",
       "\n",
       ".xr-obj-type {\n",
       "  color: var(--xr-font-color2);\n",
       "}\n",
       "\n",
       ".xr-sections {\n",
       "  padding-left: 0 !important;\n",
       "  display: grid;\n",
       "  grid-template-columns: 150px auto auto 1fr 20px 20px;\n",
       "}\n",
       "\n",
       ".xr-section-item {\n",
       "  display: contents;\n",
       "}\n",
       "\n",
       ".xr-section-item input {\n",
       "  display: none;\n",
       "}\n",
       "\n",
       ".xr-section-item input + label {\n",
       "  color: var(--xr-disabled-color);\n",
       "}\n",
       "\n",
       ".xr-section-item input:enabled + label {\n",
       "  cursor: pointer;\n",
       "  color: var(--xr-font-color2);\n",
       "}\n",
       "\n",
       ".xr-section-item input:enabled + label:hover {\n",
       "  color: var(--xr-font-color0);\n",
       "}\n",
       "\n",
       ".xr-section-summary {\n",
       "  grid-column: 1;\n",
       "  color: var(--xr-font-color2);\n",
       "  font-weight: 500;\n",
       "}\n",
       "\n",
       ".xr-section-summary > span {\n",
       "  display: inline-block;\n",
       "  padding-left: 0.5em;\n",
       "}\n",
       "\n",
       ".xr-section-summary-in:disabled + label {\n",
       "  color: var(--xr-font-color2);\n",
       "}\n",
       "\n",
       ".xr-section-summary-in + label:before {\n",
       "  display: inline-block;\n",
       "  content: '►';\n",
       "  font-size: 11px;\n",
       "  width: 15px;\n",
       "  text-align: center;\n",
       "}\n",
       "\n",
       ".xr-section-summary-in:disabled + label:before {\n",
       "  color: var(--xr-disabled-color);\n",
       "}\n",
       "\n",
       ".xr-section-summary-in:checked + label:before {\n",
       "  content: '▼';\n",
       "}\n",
       "\n",
       ".xr-section-summary-in:checked + label > span {\n",
       "  display: none;\n",
       "}\n",
       "\n",
       ".xr-section-summary,\n",
       ".xr-section-inline-details {\n",
       "  padding-top: 4px;\n",
       "  padding-bottom: 4px;\n",
       "}\n",
       "\n",
       ".xr-section-inline-details {\n",
       "  grid-column: 2 / -1;\n",
       "}\n",
       "\n",
       ".xr-section-details {\n",
       "  display: none;\n",
       "  grid-column: 1 / -1;\n",
       "  margin-bottom: 5px;\n",
       "}\n",
       "\n",
       ".xr-section-summary-in:checked ~ .xr-section-details {\n",
       "  display: contents;\n",
       "}\n",
       "\n",
       ".xr-array-wrap {\n",
       "  grid-column: 1 / -1;\n",
       "  display: grid;\n",
       "  grid-template-columns: 20px auto;\n",
       "}\n",
       "\n",
       ".xr-array-wrap > label {\n",
       "  grid-column: 1;\n",
       "  vertical-align: top;\n",
       "}\n",
       "\n",
       ".xr-preview {\n",
       "  color: var(--xr-font-color3);\n",
       "}\n",
       "\n",
       ".xr-array-preview,\n",
       ".xr-array-data {\n",
       "  padding: 0 5px !important;\n",
       "  grid-column: 2;\n",
       "}\n",
       "\n",
       ".xr-array-data,\n",
       ".xr-array-in:checked ~ .xr-array-preview {\n",
       "  display: none;\n",
       "}\n",
       "\n",
       ".xr-array-in:checked ~ .xr-array-data,\n",
       ".xr-array-preview {\n",
       "  display: inline-block;\n",
       "}\n",
       "\n",
       ".xr-dim-list {\n",
       "  display: inline-block !important;\n",
       "  list-style: none;\n",
       "  padding: 0 !important;\n",
       "  margin: 0;\n",
       "}\n",
       "\n",
       ".xr-dim-list li {\n",
       "  display: inline-block;\n",
       "  padding: 0;\n",
       "  margin: 0;\n",
       "}\n",
       "\n",
       ".xr-dim-list:before {\n",
       "  content: '(';\n",
       "}\n",
       "\n",
       ".xr-dim-list:after {\n",
       "  content: ')';\n",
       "}\n",
       "\n",
       ".xr-dim-list li:not(:last-child):after {\n",
       "  content: ',';\n",
       "  padding-right: 5px;\n",
       "}\n",
       "\n",
       ".xr-has-index {\n",
       "  font-weight: bold;\n",
       "}\n",
       "\n",
       ".xr-var-list,\n",
       ".xr-var-item {\n",
       "  display: contents;\n",
       "}\n",
       "\n",
       ".xr-var-item > div,\n",
       ".xr-var-item label,\n",
       ".xr-var-item > .xr-var-name span {\n",
       "  background-color: var(--xr-background-color-row-even);\n",
       "  margin-bottom: 0;\n",
       "}\n",
       "\n",
       ".xr-var-item > .xr-var-name:hover span {\n",
       "  padding-right: 5px;\n",
       "}\n",
       "\n",
       ".xr-var-list > li:nth-child(odd) > div,\n",
       ".xr-var-list > li:nth-child(odd) > label,\n",
       ".xr-var-list > li:nth-child(odd) > .xr-var-name span {\n",
       "  background-color: var(--xr-background-color-row-odd);\n",
       "}\n",
       "\n",
       ".xr-var-name {\n",
       "  grid-column: 1;\n",
       "}\n",
       "\n",
       ".xr-var-dims {\n",
       "  grid-column: 2;\n",
       "}\n",
       "\n",
       ".xr-var-dtype {\n",
       "  grid-column: 3;\n",
       "  text-align: right;\n",
       "  color: var(--xr-font-color2);\n",
       "}\n",
       "\n",
       ".xr-var-preview {\n",
       "  grid-column: 4;\n",
       "}\n",
       "\n",
       ".xr-var-name,\n",
       ".xr-var-dims,\n",
       ".xr-var-dtype,\n",
       ".xr-preview,\n",
       ".xr-attrs dt {\n",
       "  white-space: nowrap;\n",
       "  overflow: hidden;\n",
       "  text-overflow: ellipsis;\n",
       "  padding-right: 10px;\n",
       "}\n",
       "\n",
       ".xr-var-name:hover,\n",
       ".xr-var-dims:hover,\n",
       ".xr-var-dtype:hover,\n",
       ".xr-attrs dt:hover {\n",
       "  overflow: visible;\n",
       "  width: auto;\n",
       "  z-index: 1;\n",
       "}\n",
       "\n",
       ".xr-var-attrs,\n",
       ".xr-var-data {\n",
       "  display: none;\n",
       "  background-color: var(--xr-background-color) !important;\n",
       "  padding-bottom: 5px !important;\n",
       "}\n",
       "\n",
       ".xr-var-attrs-in:checked ~ .xr-var-attrs,\n",
       ".xr-var-data-in:checked ~ .xr-var-data {\n",
       "  display: block;\n",
       "}\n",
       "\n",
       ".xr-var-data > table {\n",
       "  float: right;\n",
       "}\n",
       "\n",
       ".xr-var-name span,\n",
       ".xr-var-data,\n",
       ".xr-attrs {\n",
       "  padding-left: 25px !important;\n",
       "}\n",
       "\n",
       ".xr-attrs,\n",
       ".xr-var-attrs,\n",
       ".xr-var-data {\n",
       "  grid-column: 1 / -1;\n",
       "}\n",
       "\n",
       "dl.xr-attrs {\n",
       "  padding: 0;\n",
       "  margin: 0;\n",
       "  display: grid;\n",
       "  grid-template-columns: 125px auto;\n",
       "}\n",
       "\n",
       ".xr-attrs dt, dd {\n",
       "  padding: 0;\n",
       "  margin: 0;\n",
       "  float: left;\n",
       "  padding-right: 10px;\n",
       "  width: auto;\n",
       "}\n",
       "\n",
       ".xr-attrs dt {\n",
       "  font-weight: normal;\n",
       "  grid-column: 1;\n",
       "}\n",
       "\n",
       ".xr-attrs dt:hover span {\n",
       "  display: inline-block;\n",
       "  background: var(--xr-background-color);\n",
       "  padding-right: 10px;\n",
       "}\n",
       "\n",
       ".xr-attrs dd {\n",
       "  grid-column: 2;\n",
       "  white-space: pre-wrap;\n",
       "  word-break: break-all;\n",
       "}\n",
       "\n",
       ".xr-icon-database,\n",
       ".xr-icon-file-text2 {\n",
       "  display: inline-block;\n",
       "  vertical-align: middle;\n",
       "  width: 1em;\n",
       "  height: 1.5em !important;\n",
       "  stroke-width: 0;\n",
       "  stroke: currentColor;\n",
       "  fill: currentColor;\n",
       "}\n",
       "</style><div class='xr-wrap'><div class='xr-header'><div class='xr-obj-type'>xarray.DataArray</div><div class='xr-array-name'>'spike_counts'</div><ul class='xr-dim-list'><li><span class='xr-has-index'>unit_id</span>: 85</li></ul></div><ul class='xr-sections'><li class='xr-section-item'><div class='xr-array-wrap'><input id='section-27092d86-1113-43ae-937e-429dce83b492' class='xr-array-in' type='checkbox' ><label for='section-27092d86-1113-43ae-937e-429dce83b492' title='Show/hide data repr'><svg class='icon xr-icon-database'><use xlink:href='#icon-database'></use></svg></label><div class='xr-array-preview xr-preview'><span>1.667 10.0 0.0 0.0 0.0 0.0 18.33 ... 48.33 0.0 0.0 26.67 0.0 0.0 5.0</span></div><pre class='xr-array-data'>array([  1.66666667,  10.        ,   0.        ,   0.        ,\n",
       "         0.        ,   0.        ,  18.33333333,   0.        ,\n",
       "         0.        ,   0.        ,   0.        ,   0.        ,\n",
       "         0.        ,   0.        ,   1.66666667,   0.        ,\n",
       "         6.66666667,  33.33333333,  71.66666667,   0.        ,\n",
       "         0.        ,   1.66666667,   0.        ,   0.        ,\n",
       "        10.        , 110.        ,  10.        ,   1.66666667,\n",
       "         3.33333333,   1.66666667,   6.66666667,   5.        ,\n",
       "         1.66666667,   5.        ,   8.33333333,   6.66666667,\n",
       "         1.66666667,   0.        ,  11.66666667,   3.33333333,\n",
       "         1.66666667,   5.        ,   1.66666667,   3.33333333,\n",
       "       110.        ,  10.        ,   5.        ,   0.        ,\n",
       "         3.33333333,  28.33333333,   1.66666667,   1.66666667,\n",
       "        30.        ,  28.33333333,   1.66666667,   0.        ,\n",
       "        11.66666667,   1.66666667,   8.33333333, 131.66666667,\n",
       "        61.66666667,   1.66666667,   0.        ,   3.33333333,\n",
       "         0.        ,   0.        ,   0.        ,  60.        ,\n",
       "         0.        ,   0.        ,   0.        ,   0.        ,\n",
       "         1.66666667,   0.        ,   3.33333333,   0.        ,\n",
       "         0.        ,  11.66666667,  48.33333333,   0.        ,\n",
       "         0.        ,  26.66666667,   0.        ,   0.        ,\n",
       "         5.        ])</pre></div></li><li class='xr-section-item'><input id='section-68c4bda6-fbb3-48f7-812e-337ae3339912' class='xr-section-summary-in' type='checkbox'  checked><label for='section-68c4bda6-fbb3-48f7-812e-337ae3339912' class='xr-section-summary' >Coordinates: <span>(1)</span></label><div class='xr-section-inline-details'></div><div class='xr-section-details'><ul class='xr-var-list'><li class='xr-var-item'><div class='xr-var-name'><span class='xr-has-index'>unit_id</span></div><div class='xr-var-dims'>(unit_id)</div><div class='xr-var-dtype'>int64</div><div class='xr-var-preview xr-preview'>951091330 951091321 ... 951093093</div><input id='attrs-5cce6b86-8983-4bcf-9f1d-6c6721b47a43' class='xr-var-attrs-in' type='checkbox' disabled><label for='attrs-5cce6b86-8983-4bcf-9f1d-6c6721b47a43' title='Show/Hide attributes'><svg class='icon xr-icon-file-text2'><use xlink:href='#icon-file-text2'></use></svg></label><input id='data-86b0962c-01a3-4dfb-b852-d9e3877c1bd2' class='xr-var-data-in' type='checkbox'><label for='data-86b0962c-01a3-4dfb-b852-d9e3877c1bd2' title='Show/Hide data repr'><svg class='icon xr-icon-database'><use xlink:href='#icon-database'></use></svg></label><div class='xr-var-attrs'><dl class='xr-attrs'></dl></div><pre class='xr-var-data'>array([951091330, 951091321, 951091400, 951091392, 951091381, 951091372,\n",
       "       951091461, 951091434, 951091443, 951091568, 951091559, 951091521,\n",
       "       951091541, 951091588, 951091638, 951091630, 951091614, 951091707,\n",
       "       951091685, 951091771, 951091726, 951093445, 951091780, 951091808,\n",
       "       951091825, 951091866, 951091848, 951091832, 951093460, 951091891,\n",
       "       951091884, 951091875, 951091978, 951091953, 951091926, 951091916,\n",
       "       951091908, 951091997, 951091944, 951092220, 951091969, 951092061,\n",
       "       951092188, 951092085, 951092078, 951092203, 951092070, 951093476,\n",
       "       951092210, 951092169, 951092162, 951093487, 951092262, 951092245,\n",
       "       951092237, 951092370, 951092333, 951092339, 951092289, 951092354,\n",
       "       951092425, 951092530, 951092523, 951092506, 951093505, 951092575,\n",
       "       951092671, 951092652, 951093540, 951093533, 951093514, 951092679,\n",
       "       951092765, 951092815, 951093560, 951093549, 951092917, 951092717,\n",
       "       951092943, 951092925, 951093061, 951093075, 951093031, 951093594,\n",
       "       951093093])</pre></li></ul></div></li><li class='xr-section-item'><input id='section-3502dd9a-95b6-471f-a32d-3dbf3c930e56' class='xr-section-summary-in' type='checkbox' disabled ><label for='section-3502dd9a-95b6-471f-a32d-3dbf3c930e56' class='xr-section-summary'  title='Expand/collapse section'>Attributes: <span>(0)</span></label><div class='xr-section-inline-details'></div><div class='xr-section-details'><dl class='xr-attrs'></dl></div></li></ul></div></div>"
      ],
      "text/plain": [
       "<xarray.DataArray 'spike_counts' (unit_id: 85)>\n",
       "array([  1.66666667,  10.        ,   0.        ,   0.        ,\n",
       "         0.        ,   0.        ,  18.33333333,   0.        ,\n",
       "         0.        ,   0.        ,   0.        ,   0.        ,\n",
       "         0.        ,   0.        ,   1.66666667,   0.        ,\n",
       "         6.66666667,  33.33333333,  71.66666667,   0.        ,\n",
       "         0.        ,   1.66666667,   0.        ,   0.        ,\n",
       "        10.        , 110.        ,  10.        ,   1.66666667,\n",
       "         3.33333333,   1.66666667,   6.66666667,   5.        ,\n",
       "         1.66666667,   5.        ,   8.33333333,   6.66666667,\n",
       "         1.66666667,   0.        ,  11.66666667,   3.33333333,\n",
       "         1.66666667,   5.        ,   1.66666667,   3.33333333,\n",
       "       110.        ,  10.        ,   5.        ,   0.        ,\n",
       "         3.33333333,  28.33333333,   1.66666667,   1.66666667,\n",
       "        30.        ,  28.33333333,   1.66666667,   0.        ,\n",
       "        11.66666667,   1.66666667,   8.33333333, 131.66666667,\n",
       "        61.66666667,   1.66666667,   0.        ,   3.33333333,\n",
       "         0.        ,   0.        ,   0.        ,  60.        ,\n",
       "         0.        ,   0.        ,   0.        ,   0.        ,\n",
       "         1.66666667,   0.        ,   3.33333333,   0.        ,\n",
       "         0.        ,  11.66666667,  48.33333333,   0.        ,\n",
       "         0.        ,  26.66666667,   0.        ,   0.        ,\n",
       "         5.        ])\n",
       "Coordinates:\n",
       "  * unit_id  (unit_id) int64 951091330 951091321 ... 951093594 951093093"
      ]
     },
     "execution_count": 8,
     "metadata": {},
     "output_type": "execute_result"
    }
   ],
   "source": [
    "# Assign time before stimulus occurs\n",
    "baseline = da.sel(time_relative_to_stimulus_onset=slice(-0.01,-0.002))\n",
    "\n",
    "# Calculate Mean firing rate of each unit for time before the stimulus window \n",
    "baseline_rate = baseline.sum(dim='time_relative_to_stimulus_onset').mean(dim='trial_id') / 0.008\n",
    "\n",
    "# Assign time within stimulus window\n",
    "evoked = da.sel(time_relative_to_stimulus_onset=slice(0.001,0.009))\n",
    "\n",
    "# Calculate Mean firing rate of each unit for time within the stimulus window \n",
    "evoked_rate = evoked.sum(dim='time_relative_to_stimulus_onset').mean(dim='trial_id') / 0.008\n",
    "\n",
    "evoked_rate"
   ]
  },
  {
   "cell_type": "markdown",
   "metadata": {},
   "source": [
    "We now have two DataArrays, one that contains the mean firing rate of the units at baseline, and one that contains the mean firing rate of the units during the pulse. Plotting a scatter plot with these two areas will show us how a unit's basline firing rate compares to its evoked firing rate. "
   ]
  },
  {
   "cell_type": "code",
   "execution_count": 9,
   "metadata": {},
   "outputs": [
    {
     "data": {
      "image/png": "[encoded data removed]",
      "text/plain": [
       "<Figure size 360x360 with 1 Axes>"
      ]
     },
     "metadata": {
      "needs_background": "light"
     },
     "output_type": "display_data"
    }
   ],
   "source": [
    "plt.figure(figsize=(5,5))\n",
    "\n",
    "plt.scatter(baseline_rate, evoked_rate, s=3)\n",
    "\n",
    "axis_limit = 50\n",
    "\n",
    "# Black line though center represents no change in rate (1:1)\n",
    "plt.plot([0,axis_limit],[0,axis_limit], ':k')\n",
    "\n",
    "# Red line represents a 2x change in rate (2:1)\n",
    "plt.plot([0,axis_limit],[0,axis_limit*2], ':r')\n",
    "\n",
    "plt.xlim([0,axis_limit])\n",
    "plt.ylim([0,axis_limit])\n",
    "\n",
    "plt.xlabel('Baseline rate (Hz)')\n",
    "_ = plt.ylabel('Evoked rate (Hz)')"
   ]
  },
  {
   "cell_type": "markdown",
   "metadata": {},
   "source": [
    "Each point represent a neural unit. The black line represents a 1:1 ratio in the evoked firing rate to the baseline firing rate of that unit. Any unit below that black line had a larger response at baseline than it did to the light pulse. The red line represents a 2:1 ratio in the evoked firing rate to the baseline firing rate of that unit. We can subselect units whose evoked firing rate is 2x larger than baseline to define the cre+ units."
   ]
  },
  {
   "cell_type": "markdown",
   "metadata": {},
   "source": [
    "## Identifying Fast-Paced Waveforms"
   ]
  },
  {
   "cell_type": "markdown",
   "metadata": {},
   "source": [
    "Defining what units are cre+ from those that are cre- is the first step in comparing optogenetic responses. Below we will create two lists, one with IDs of units who had an evoked firing rate 2x greater than baseline, and one with IDs of units whose evoked response was smaller than 2x the baseline. "
   ]
  },
  {
   "cell_type": "code",
   "execution_count": 10,
   "metadata": {},
   "outputs": [
    {
     "name": "stdout",
     "output_type": "stream",
     "text": [
      "Pvalv+ Cre lines\n",
      "[951091685 951091848 951093460 951092078 951092169 951092262 951092354\n",
      " 951092425 951092652 951093560 951092943 951093075]\n",
      " \n",
      " Pvalb- Cre lines\n",
      "[951091330 951091321 951091400 951091392 951091381 951091372 951091461\n",
      " 951091434 951091443 951091568 951091559 951091521 951091541 951091588\n",
      " 951091638 951091630 951091614 951091707 951091771 951091726 951093445\n",
      " 951091780 951091808 951091825 951091866 951091832 951091891 951091884\n",
      " 951091875 951091978 951091953 951091926 951091916 951091908 951091997\n",
      " 951091944 951092220 951091969 951092061 951092188 951092085 951092203\n",
      " 951092070 951093476 951092210 951092162 951093487 951092245 951092237\n",
      " 951092370 951092333 951092339 951092289 951092530 951092523 951092506\n",
      " 951093505 951092575 951092671 951093540 951093533 951093514 951092679\n",
      " 951092765 951092815 951093549 951092917 951092717 951092925 951093061\n",
      " 951093031 951093594 951093093]\n"
     ]
    }
   ],
   "source": [
    "# Return units whose firing rates doubled when light was on\n",
    "cre_pos_units = da.unit_id[(evoked_rate / (baseline_rate + 1)) > 2].values # add 1 to prevent divide-by-zero errors\n",
    "\n",
    "# also get cre neg units\n",
    "cre_neg_units = da.unit_id[(evoked_rate / (baseline_rate + 1)) < 2].values\n",
    "\n",
    "print(\"Pvalv+ Cre lines\")\n",
    "print(cre_pos_units)\n",
    "\n",
    "print(' \\n Pvalb- Cre lines')\n",
    "print(cre_neg_units)"
   ]
  },
  {
   "cell_type": "markdown",
   "metadata": {},
   "source": [
    "Lets take a look at the wavefroms of cre+ units and see how they compare to cre- units. "
   ]
  },
  {
   "cell_type": "code",
   "execution_count": 11,
   "metadata": {},
   "outputs": [
    {
     "data": {
      "image/png": "[encoded data removed]",
      "text/plain": [
       "<Figure size 360x360 with 1 Axes>"
      ]
     },
     "metadata": {
      "needs_background": "light"
     },
     "output_type": "display_data"
    }
   ],
   "source": [
    "plt.figure(figsize=(5,5))\n",
    "\n",
    "for unit_id in cre_pos_units:\n",
    "    \n",
    "    peak_channel = session.units.loc[unit_id].peak_channel_id\n",
    "    wv = session.mean_waveforms[unit_id].sel(channel_id = peak_channel)\n",
    "    \n",
    "    plt.plot(wv.time * 1000, wv, 'k', alpha=0.3)\n",
    "\n",
    "plt.xlabel('Time (ms)')\n",
    "plt.ylabel('Amplitude (microvolts)')\n",
    "plt.title('Pvalb+ Waveforms')\n",
    "plt.plot([1.0, 1.0],[-160, 100],':c')\n",
    "plt.show()"
   ]
  },
  {
   "cell_type": "code",
   "execution_count": 12,
   "metadata": {},
   "outputs": [
    {
     "data": {
      "image/png": "[encoded data removed]",
      "text/plain": [
       "<Figure size 360x360 with 1 Axes>"
      ]
     },
     "metadata": {
      "needs_background": "light"
     },
     "output_type": "display_data"
    }
   ],
   "source": [
    "plt.figure(figsize=(5,5))\n",
    "\n",
    "for unit_id in cre_neg_units:\n",
    "    \n",
    "    peak_channel = session.units.loc[unit_id].peak_channel_id\n",
    "    wv = session.mean_waveforms[unit_id].sel(channel_id = peak_channel)\n",
    "    \n",
    "    plt.plot(wv.time * 1000, wv, 'k', alpha=0.3)\n",
    "\n",
    "plt.xlabel('Time (ms)')\n",
    "plt.ylabel('Amplitude (microvolts)')\n",
    "plt.title('Pvalb- Waveforms')\n",
    "plt.plot([1.0, 1.0],[-160, 100],':c')\n",
    "plt.show()"
   ]
  },
  {
   "cell_type": "code",
   "execution_count": null,
   "metadata": {},
   "outputs": [],
   "source": []
  }
 ],
 "metadata": {
  "kernelspec": {
   "display_name": "Python 3",
   "language": "python",
   "name": "python3"
  },
  "language_info": {
   "codemirror_mode": {
    "name": "ipython",
    "version": 3
   },
   "file_extension": ".py",
   "mimetype": "text/x-python",
   "name": "python",
   "nbconvert_exporter": "python",
   "pygments_lexer": "ipython3",
   "version": "3.7.6"
  }
 },
 "nbformat": 4,
 "nbformat_minor": 4
}
