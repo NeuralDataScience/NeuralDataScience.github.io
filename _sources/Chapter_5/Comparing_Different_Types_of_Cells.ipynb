{
 "cells": [
  {
   "cell_type": "markdown",
   "metadata": {},
   "source": [
    "# Comparing Different Types of Cells"
   ]
  },
  {
   "cell_type": "markdown",
   "metadata": {},
   "source": [
    "In this section we will discuss how to interact with different types of cells and take a look at how we can, analyze, draw connections, and plot differences between our cell types. We will be covering Humans vs Mice, how to utilize the Allens data of Cre lines, looking at diferences between differing dendrite types, and learn how to inspect the different layers of cortex. "
   ]
  },
  {
   "cell_type": "code",
   "execution_count": 2,
   "metadata": {},
   "outputs": [
    {
     "name": "stdout",
     "output_type": "stream",
     "text": [
      "Packages were successfully imported.\n"
     ]
    }
   ],
   "source": [
    "#Import the \"Cell Types Cache\" from the AllenSDK core package\n",
    "from allensdk.core.cell_types_cache import CellTypesCache\n",
    "\n",
    "#Import CellTypesApi, which will allow us to query the database.\n",
    "from allensdk.api.queries.cell_types_api import CellTypesApi\n",
    "\n",
    "# Import Toolkits \n",
    "import pandas as pd\n",
    "import numpy as np\n",
    "import matplotlib.pyplot as plt \n",
    "%matplotlib inline \n",
    "\n",
    "# We'll then initialize the cache as 'ctc' (cell types cache)\n",
    "ctc = CellTypesCache(manifest_file='cell_types/manifest.json')\n",
    "\n",
    "print('Packages were successfully imported.')"
   ]
  },
  {
   "cell_type": "markdown",
   "metadata": {},
   "source": [
    "## Humans vs Mice"
   ]
  },
  {
   "cell_type": "markdown",
   "metadata": {},
   "source": [
    "As stated in previous sections, the `get_cells` method downloads metadata for all cells in the database. By specifying a species within the method, `get_cells` will only retrieve the data from the species of interest. Our database has two species to work with; mice and humans.  To download our human cells you would need to specify `species = [CellTypesApi.HUMAN]` within `get_cells()`."
   ]
  },
  {
   "cell_type": "code",
   "execution_count": 3,
   "metadata": {},
   "outputs": [
    {
     "data": {
      "text/html": [
       "<div>\n",
       "<style scoped>\n",
       "    .dataframe tbody tr th:only-of-type {\n",
       "        vertical-align: middle;\n",
       "    }\n",
       "\n",
       "    .dataframe tbody tr th {\n",
       "        vertical-align: top;\n",
       "    }\n",
       "\n",
       "    .dataframe thead th {\n",
       "        text-align: right;\n",
       "    }\n",
       "</style>\n",
       "<table border=\"1\" class=\"dataframe\">\n",
       "  <thead>\n",
       "    <tr style=\"text-align: right;\">\n",
       "      <th></th>\n",
       "      <th>reporter_status</th>\n",
       "      <th>cell_soma_location</th>\n",
       "      <th>species</th>\n",
       "      <th>name</th>\n",
       "      <th>structure_layer_name</th>\n",
       "      <th>structure_area_id</th>\n",
       "      <th>structure_area_abbrev</th>\n",
       "      <th>transgenic_line</th>\n",
       "      <th>dendrite_type</th>\n",
       "      <th>apical</th>\n",
       "      <th>...</th>\n",
       "      <th>trough_t_ramp</th>\n",
       "      <th>trough_t_short_square</th>\n",
       "      <th>trough_v_long_square</th>\n",
       "      <th>trough_v_ramp</th>\n",
       "      <th>trough_v_short_square</th>\n",
       "      <th>upstroke_downstroke_ratio_long_square</th>\n",
       "      <th>upstroke_downstroke_ratio_ramp</th>\n",
       "      <th>upstroke_downstroke_ratio_short_square</th>\n",
       "      <th>vm_for_sag</th>\n",
       "      <th>vrest</th>\n",
       "    </tr>\n",
       "    <tr>\n",
       "      <th>id</th>\n",
       "      <th></th>\n",
       "      <th></th>\n",
       "      <th></th>\n",
       "      <th></th>\n",
       "      <th></th>\n",
       "      <th></th>\n",
       "      <th></th>\n",
       "      <th></th>\n",
       "      <th></th>\n",
       "      <th></th>\n",
       "      <th></th>\n",
       "      <th></th>\n",
       "      <th></th>\n",
       "      <th></th>\n",
       "      <th></th>\n",
       "      <th></th>\n",
       "      <th></th>\n",
       "      <th></th>\n",
       "      <th></th>\n",
       "      <th></th>\n",
       "      <th></th>\n",
       "    </tr>\n",
       "  </thead>\n",
       "  <tbody>\n",
       "    <tr>\n",
       "      <th>525011903</th>\n",
       "      <td>None</td>\n",
       "      <td>[273.0, 354.0, 216.0]</td>\n",
       "      <td>Homo Sapiens</td>\n",
       "      <td>H16.03.003.01.14.02</td>\n",
       "      <td>3</td>\n",
       "      <td>12113</td>\n",
       "      <td>FroL</td>\n",
       "      <td></td>\n",
       "      <td>spiny</td>\n",
       "      <td>intact</td>\n",
       "      <td>...</td>\n",
       "      <td>4.134987</td>\n",
       "      <td>1.375253</td>\n",
       "      <td>-53.968754</td>\n",
       "      <td>-59.510420</td>\n",
       "      <td>-71.197919</td>\n",
       "      <td>2.895461</td>\n",
       "      <td>2.559876</td>\n",
       "      <td>3.099787</td>\n",
       "      <td>-88.843758</td>\n",
       "      <td>-70.561035</td>\n",
       "    </tr>\n",
       "    <tr>\n",
       "      <th>528642047</th>\n",
       "      <td>None</td>\n",
       "      <td>[69.0, 254.0, 96.0]</td>\n",
       "      <td>Homo Sapiens</td>\n",
       "      <td>H16.06.009.01.02.06.05</td>\n",
       "      <td>5</td>\n",
       "      <td>12141</td>\n",
       "      <td>MTG</td>\n",
       "      <td></td>\n",
       "      <td>aspiny</td>\n",
       "      <td>NA</td>\n",
       "      <td>...</td>\n",
       "      <td>NaN</td>\n",
       "      <td>1.051160</td>\n",
       "      <td>-67.468758</td>\n",
       "      <td>NaN</td>\n",
       "      <td>-70.875002</td>\n",
       "      <td>1.891881</td>\n",
       "      <td>NaN</td>\n",
       "      <td>1.989616</td>\n",
       "      <td>-101.000000</td>\n",
       "      <td>-69.209610</td>\n",
       "    </tr>\n",
       "    <tr>\n",
       "      <th>537256313</th>\n",
       "      <td>None</td>\n",
       "      <td>[322.0, 255.0, 92.0]</td>\n",
       "      <td>Homo Sapiens</td>\n",
       "      <td>H16.03.006.01.05.02</td>\n",
       "      <td>4</td>\n",
       "      <td>12141</td>\n",
       "      <td>MTG</td>\n",
       "      <td></td>\n",
       "      <td>spiny</td>\n",
       "      <td>truncated</td>\n",
       "      <td>...</td>\n",
       "      <td>5.694547</td>\n",
       "      <td>1.389900</td>\n",
       "      <td>-52.125004</td>\n",
       "      <td>-51.520836</td>\n",
       "      <td>-72.900002</td>\n",
       "      <td>3.121182</td>\n",
       "      <td>3.464528</td>\n",
       "      <td>3.054681</td>\n",
       "      <td>-87.531250</td>\n",
       "      <td>-72.628105</td>\n",
       "    </tr>\n",
       "    <tr>\n",
       "      <th>519832676</th>\n",
       "      <td>None</td>\n",
       "      <td>[79.0, 273.0, 91.0]</td>\n",
       "      <td>Homo Sapiens</td>\n",
       "      <td>H16.03.001.01.09.01</td>\n",
       "      <td>3</td>\n",
       "      <td>12141</td>\n",
       "      <td>MTG</td>\n",
       "      <td></td>\n",
       "      <td>spiny</td>\n",
       "      <td>truncated</td>\n",
       "      <td>...</td>\n",
       "      <td>9.962780</td>\n",
       "      <td>1.211020</td>\n",
       "      <td>-53.875004</td>\n",
       "      <td>-52.416668</td>\n",
       "      <td>-73.693753</td>\n",
       "      <td>4.574865</td>\n",
       "      <td>3.817988</td>\n",
       "      <td>4.980603</td>\n",
       "      <td>-84.218758</td>\n",
       "      <td>-72.547661</td>\n",
       "    </tr>\n",
       "    <tr>\n",
       "      <th>596020931</th>\n",
       "      <td>None</td>\n",
       "      <td>[66.0, 220.0, 105.0]</td>\n",
       "      <td>Homo Sapiens</td>\n",
       "      <td>H17.06.009.11.04.02</td>\n",
       "      <td>4</td>\n",
       "      <td>12141</td>\n",
       "      <td>MTG</td>\n",
       "      <td></td>\n",
       "      <td>aspiny</td>\n",
       "      <td>NA</td>\n",
       "      <td>...</td>\n",
       "      <td>14.667340</td>\n",
       "      <td>1.336668</td>\n",
       "      <td>-63.593754</td>\n",
       "      <td>-63.239583</td>\n",
       "      <td>-75.518753</td>\n",
       "      <td>1.452890</td>\n",
       "      <td>1.441754</td>\n",
       "      <td>1.556087</td>\n",
       "      <td>-82.531250</td>\n",
       "      <td>-74.260269</td>\n",
       "    </tr>\n",
       "  </tbody>\n",
       "</table>\n",
       "<p>5 rows × 70 columns</p>\n",
       "</div>"
      ],
      "text/plain": [
       "          reporter_status     cell_soma_location       species  \\\n",
       "id                                                               \n",
       "525011903            None  [273.0, 354.0, 216.0]  Homo Sapiens   \n",
       "528642047            None    [69.0, 254.0, 96.0]  Homo Sapiens   \n",
       "537256313            None   [322.0, 255.0, 92.0]  Homo Sapiens   \n",
       "519832676            None    [79.0, 273.0, 91.0]  Homo Sapiens   \n",
       "596020931            None   [66.0, 220.0, 105.0]  Homo Sapiens   \n",
       "\n",
       "                             name structure_layer_name  structure_area_id  \\\n",
       "id                                                                          \n",
       "525011903     H16.03.003.01.14.02                    3              12113   \n",
       "528642047  H16.06.009.01.02.06.05                    5              12141   \n",
       "537256313     H16.03.006.01.05.02                    4              12141   \n",
       "519832676     H16.03.001.01.09.01                    3              12141   \n",
       "596020931     H17.06.009.11.04.02                    4              12141   \n",
       "\n",
       "          structure_area_abbrev transgenic_line dendrite_type     apical  ...  \\\n",
       "id                                                                        ...   \n",
       "525011903                  FroL                         spiny     intact  ...   \n",
       "528642047                   MTG                        aspiny         NA  ...   \n",
       "537256313                   MTG                         spiny  truncated  ...   \n",
       "519832676                   MTG                         spiny  truncated  ...   \n",
       "596020931                   MTG                        aspiny         NA  ...   \n",
       "\n",
       "          trough_t_ramp trough_t_short_square  trough_v_long_square  \\\n",
       "id                                                                    \n",
       "525011903      4.134987              1.375253            -53.968754   \n",
       "528642047           NaN              1.051160            -67.468758   \n",
       "537256313      5.694547              1.389900            -52.125004   \n",
       "519832676      9.962780              1.211020            -53.875004   \n",
       "596020931     14.667340              1.336668            -63.593754   \n",
       "\n",
       "          trough_v_ramp  trough_v_short_square  \\\n",
       "id                                               \n",
       "525011903    -59.510420             -71.197919   \n",
       "528642047           NaN             -70.875002   \n",
       "537256313    -51.520836             -72.900002   \n",
       "519832676    -52.416668             -73.693753   \n",
       "596020931    -63.239583             -75.518753   \n",
       "\n",
       "           upstroke_downstroke_ratio_long_square  \\\n",
       "id                                                 \n",
       "525011903                               2.895461   \n",
       "528642047                               1.891881   \n",
       "537256313                               3.121182   \n",
       "519832676                               4.574865   \n",
       "596020931                               1.452890   \n",
       "\n",
       "           upstroke_downstroke_ratio_ramp  \\\n",
       "id                                          \n",
       "525011903                        2.559876   \n",
       "528642047                             NaN   \n",
       "537256313                        3.464528   \n",
       "519832676                        3.817988   \n",
       "596020931                        1.441754   \n",
       "\n",
       "           upstroke_downstroke_ratio_short_square  vm_for_sag      vrest  \n",
       "id                                                                        \n",
       "525011903                                3.099787  -88.843758 -70.561035  \n",
       "528642047                                1.989616 -101.000000 -69.209610  \n",
       "537256313                                3.054681  -87.531250 -72.628105  \n",
       "519832676                                4.980603  -84.218758 -72.547661  \n",
       "596020931                                1.556087  -82.531250 -74.260269  \n",
       "\n",
       "[5 rows x 70 columns]"
      ]
     },
     "execution_count": 3,
     "metadata": {},
     "output_type": "execute_result"
    }
   ],
   "source": [
    "# Download meatadata for only human cells \n",
    "human_cells = pd.DataFrame(ctc.get_cells(species=[CellTypesApi.HUMAN])).set_index('id')\n",
    "\n",
    "# Download electrophysiology data \n",
    "ephys_df = pd.DataFrame(ctc.get_ephys_features()).set_index('specimen_id')\n",
    "\n",
    "# Combine our ephys data with our metadata for human cells \n",
    "human_ephys_df = human_cells.join(ephys_df)\n",
    "human_ephys_df.head()"
   ]
  },
  {
   "cell_type": "markdown",
   "metadata": {},
   "source": [
    "The dataset also includes metadata on mouse cells. To download our mouse cells you would need to specify `species = [CellTypesApi.MOUSE]` within `get_cells()`."
   ]
  },
  {
   "cell_type": "code",
   "execution_count": 4,
   "metadata": {},
   "outputs": [
    {
     "data": {
      "text/html": [
       "<div>\n",
       "<style scoped>\n",
       "    .dataframe tbody tr th:only-of-type {\n",
       "        vertical-align: middle;\n",
       "    }\n",
       "\n",
       "    .dataframe tbody tr th {\n",
       "        vertical-align: top;\n",
       "    }\n",
       "\n",
       "    .dataframe thead th {\n",
       "        text-align: right;\n",
       "    }\n",
       "</style>\n",
       "<table border=\"1\" class=\"dataframe\">\n",
       "  <thead>\n",
       "    <tr style=\"text-align: right;\">\n",
       "      <th></th>\n",
       "      <th>reporter_status</th>\n",
       "      <th>cell_soma_location</th>\n",
       "      <th>species</th>\n",
       "      <th>name</th>\n",
       "      <th>structure_layer_name</th>\n",
       "      <th>structure_area_id</th>\n",
       "      <th>structure_area_abbrev</th>\n",
       "      <th>transgenic_line</th>\n",
       "      <th>dendrite_type</th>\n",
       "      <th>apical</th>\n",
       "      <th>...</th>\n",
       "      <th>trough_t_ramp</th>\n",
       "      <th>trough_t_short_square</th>\n",
       "      <th>trough_v_long_square</th>\n",
       "      <th>trough_v_ramp</th>\n",
       "      <th>trough_v_short_square</th>\n",
       "      <th>upstroke_downstroke_ratio_long_square</th>\n",
       "      <th>upstroke_downstroke_ratio_ramp</th>\n",
       "      <th>upstroke_downstroke_ratio_short_square</th>\n",
       "      <th>vm_for_sag</th>\n",
       "      <th>vrest</th>\n",
       "    </tr>\n",
       "    <tr>\n",
       "      <th>id</th>\n",
       "      <th></th>\n",
       "      <th></th>\n",
       "      <th></th>\n",
       "      <th></th>\n",
       "      <th></th>\n",
       "      <th></th>\n",
       "      <th></th>\n",
       "      <th></th>\n",
       "      <th></th>\n",
       "      <th></th>\n",
       "      <th></th>\n",
       "      <th></th>\n",
       "      <th></th>\n",
       "      <th></th>\n",
       "      <th></th>\n",
       "      <th></th>\n",
       "      <th></th>\n",
       "      <th></th>\n",
       "      <th></th>\n",
       "      <th></th>\n",
       "      <th></th>\n",
       "    </tr>\n",
       "  </thead>\n",
       "  <tbody>\n",
       "    <tr>\n",
       "      <th>565871768</th>\n",
       "      <td>positive</td>\n",
       "      <td>[8966.56330957526, 1429.52689052075, 8567.3896...</td>\n",
       "      <td>Mus musculus</td>\n",
       "      <td>Oxtr-2A-Cre;Ai14-293837.03.01.02</td>\n",
       "      <td>5</td>\n",
       "      <td>385</td>\n",
       "      <td>VISp</td>\n",
       "      <td>Oxtr-T2A-Cre</td>\n",
       "      <td>aspiny</td>\n",
       "      <td>NA</td>\n",
       "      <td>...</td>\n",
       "      <td>14.738000</td>\n",
       "      <td>1.391268</td>\n",
       "      <td>-59.281254</td>\n",
       "      <td>-57.468754</td>\n",
       "      <td>-75.756252</td>\n",
       "      <td>1.564027</td>\n",
       "      <td>1.304349</td>\n",
       "      <td>1.679550</td>\n",
       "      <td>-87.906258</td>\n",
       "      <td>-74.926987</td>\n",
       "    </tr>\n",
       "    <tr>\n",
       "      <th>469801138</th>\n",
       "      <td>positive</td>\n",
       "      <td>[7872.53138541818, 993.212032389272, 3127.1530...</td>\n",
       "      <td>Mus musculus</td>\n",
       "      <td>Pvalb-IRES-Cre;Ai14-170927.05.02.01</td>\n",
       "      <td>4</td>\n",
       "      <td>385</td>\n",
       "      <td>VISp</td>\n",
       "      <td>Pvalb-IRES-Cre</td>\n",
       "      <td>aspiny</td>\n",
       "      <td>NA</td>\n",
       "      <td>...</td>\n",
       "      <td>11.763808</td>\n",
       "      <td>1.290815</td>\n",
       "      <td>-55.875000</td>\n",
       "      <td>-52.515627</td>\n",
       "      <td>-69.109379</td>\n",
       "      <td>1.162618</td>\n",
       "      <td>1.197155</td>\n",
       "      <td>1.369171</td>\n",
       "      <td>-80.156250</td>\n",
       "      <td>-72.042976</td>\n",
       "    </tr>\n",
       "    <tr>\n",
       "      <th>605889373</th>\n",
       "      <td>positive</td>\n",
       "      <td>[9400.0, 1520.74232706376, 2188.13845194139]</td>\n",
       "      <td>Mus musculus</td>\n",
       "      <td>Vipr2-IRES2-Cre;Slc32a1-T2A-FlpO;Ai65-337419.0...</td>\n",
       "      <td>2/3</td>\n",
       "      <td>385</td>\n",
       "      <td>VISp</td>\n",
       "      <td>Slc32a1-T2A-FlpO|Vipr2-IRES2-Cre</td>\n",
       "      <td>aspiny</td>\n",
       "      <td>NA</td>\n",
       "      <td>...</td>\n",
       "      <td>8.432940</td>\n",
       "      <td>1.315510</td>\n",
       "      <td>-48.187500</td>\n",
       "      <td>-54.364586</td>\n",
       "      <td>-72.640628</td>\n",
       "      <td>3.379321</td>\n",
       "      <td>4.108774</td>\n",
       "      <td>2.680139</td>\n",
       "      <td>-83.593758</td>\n",
       "      <td>-72.712036</td>\n",
       "    </tr>\n",
       "    <tr>\n",
       "      <th>485909730</th>\n",
       "      <td>positive</td>\n",
       "      <td>[8881.0, 953.839501299405, 7768.22695782726]</td>\n",
       "      <td>Mus musculus</td>\n",
       "      <td>Cux2-CreERT2;Ai14-205530.03.02.01</td>\n",
       "      <td>5</td>\n",
       "      <td>385</td>\n",
       "      <td>VISp</td>\n",
       "      <td>Cux2-CreERT2</td>\n",
       "      <td>spiny</td>\n",
       "      <td>intact</td>\n",
       "      <td>...</td>\n",
       "      <td>2.888133</td>\n",
       "      <td>1.520193</td>\n",
       "      <td>-54.031254</td>\n",
       "      <td>-57.385419</td>\n",
       "      <td>-77.750005</td>\n",
       "      <td>3.042933</td>\n",
       "      <td>3.517684</td>\n",
       "      <td>3.274181</td>\n",
       "      <td>-101.000000</td>\n",
       "      <td>-76.928391</td>\n",
       "    </tr>\n",
       "    <tr>\n",
       "      <th>323865917</th>\n",
       "      <td>positive</td>\n",
       "      <td>[8125.0, 904.841803028986, 7819.69986630448]</td>\n",
       "      <td>Mus musculus</td>\n",
       "      <td>Scnn1a-Tg3-Cre;Ai14-172530.06.01.01</td>\n",
       "      <td>5</td>\n",
       "      <td>385</td>\n",
       "      <td>VISp</td>\n",
       "      <td>Scnn1a-Tg3-Cre</td>\n",
       "      <td>spiny</td>\n",
       "      <td>intact</td>\n",
       "      <td>...</td>\n",
       "      <td>3.467847</td>\n",
       "      <td>1.317042</td>\n",
       "      <td>-57.281254</td>\n",
       "      <td>-56.895833</td>\n",
       "      <td>-70.218751</td>\n",
       "      <td>2.974194</td>\n",
       "      <td>3.156117</td>\n",
       "      <td>2.946463</td>\n",
       "      <td>-88.406250</td>\n",
       "      <td>-69.402855</td>\n",
       "    </tr>\n",
       "  </tbody>\n",
       "</table>\n",
       "<p>5 rows × 70 columns</p>\n",
       "</div>"
      ],
      "text/plain": [
       "          reporter_status                                 cell_soma_location  \\\n",
       "id                                                                             \n",
       "565871768        positive  [8966.56330957526, 1429.52689052075, 8567.3896...   \n",
       "469801138        positive  [7872.53138541818, 993.212032389272, 3127.1530...   \n",
       "605889373        positive       [9400.0, 1520.74232706376, 2188.13845194139]   \n",
       "485909730        positive       [8881.0, 953.839501299405, 7768.22695782726]   \n",
       "323865917        positive       [8125.0, 904.841803028986, 7819.69986630448]   \n",
       "\n",
       "                species                                               name  \\\n",
       "id                                                                           \n",
       "565871768  Mus musculus                   Oxtr-2A-Cre;Ai14-293837.03.01.02   \n",
       "469801138  Mus musculus                Pvalb-IRES-Cre;Ai14-170927.05.02.01   \n",
       "605889373  Mus musculus  Vipr2-IRES2-Cre;Slc32a1-T2A-FlpO;Ai65-337419.0...   \n",
       "485909730  Mus musculus                  Cux2-CreERT2;Ai14-205530.03.02.01   \n",
       "323865917  Mus musculus                Scnn1a-Tg3-Cre;Ai14-172530.06.01.01   \n",
       "\n",
       "          structure_layer_name  structure_area_id structure_area_abbrev  \\\n",
       "id                                                                        \n",
       "565871768                    5                385                  VISp   \n",
       "469801138                    4                385                  VISp   \n",
       "605889373                  2/3                385                  VISp   \n",
       "485909730                    5                385                  VISp   \n",
       "323865917                    5                385                  VISp   \n",
       "\n",
       "                            transgenic_line dendrite_type  apical  ...  \\\n",
       "id                                                                 ...   \n",
       "565871768                      Oxtr-T2A-Cre        aspiny      NA  ...   \n",
       "469801138                    Pvalb-IRES-Cre        aspiny      NA  ...   \n",
       "605889373  Slc32a1-T2A-FlpO|Vipr2-IRES2-Cre        aspiny      NA  ...   \n",
       "485909730                      Cux2-CreERT2         spiny  intact  ...   \n",
       "323865917                    Scnn1a-Tg3-Cre         spiny  intact  ...   \n",
       "\n",
       "          trough_t_ramp trough_t_short_square  trough_v_long_square  \\\n",
       "id                                                                    \n",
       "565871768     14.738000              1.391268            -59.281254   \n",
       "469801138     11.763808              1.290815            -55.875000   \n",
       "605889373      8.432940              1.315510            -48.187500   \n",
       "485909730      2.888133              1.520193            -54.031254   \n",
       "323865917      3.467847              1.317042            -57.281254   \n",
       "\n",
       "          trough_v_ramp  trough_v_short_square  \\\n",
       "id                                               \n",
       "565871768    -57.468754             -75.756252   \n",
       "469801138    -52.515627             -69.109379   \n",
       "605889373    -54.364586             -72.640628   \n",
       "485909730    -57.385419             -77.750005   \n",
       "323865917    -56.895833             -70.218751   \n",
       "\n",
       "           upstroke_downstroke_ratio_long_square  \\\n",
       "id                                                 \n",
       "565871768                               1.564027   \n",
       "469801138                               1.162618   \n",
       "605889373                               3.379321   \n",
       "485909730                               3.042933   \n",
       "323865917                               2.974194   \n",
       "\n",
       "           upstroke_downstroke_ratio_ramp  \\\n",
       "id                                          \n",
       "565871768                        1.304349   \n",
       "469801138                        1.197155   \n",
       "605889373                        4.108774   \n",
       "485909730                        3.517684   \n",
       "323865917                        3.156117   \n",
       "\n",
       "           upstroke_downstroke_ratio_short_square  vm_for_sag      vrest  \n",
       "id                                                                        \n",
       "565871768                                1.679550  -87.906258 -74.926987  \n",
       "469801138                                1.369171  -80.156250 -72.042976  \n",
       "605889373                                2.680139  -83.593758 -72.712036  \n",
       "485909730                                3.274181 -101.000000 -76.928391  \n",
       "323865917                                2.946463  -88.406250 -69.402855  \n",
       "\n",
       "[5 rows x 70 columns]"
      ]
     },
     "execution_count": 4,
     "metadata": {},
     "output_type": "execute_result"
    }
   ],
   "source": [
    "# Download meatadata for only mouse cells \n",
    "mouse_cells = pd.DataFrame(ctc.get_cells(species = [CellTypesApi.MOUSE])).set_index('id')\n",
    "\n",
    "# Combine our mouse metadata with electrophysiology data \n",
    "mouse_ephys_df = mouse_cells.join(ephys_df)\n",
    "mouse_ephys_df.head()"
   ]
  },
  {
   "cell_type": "markdown",
   "metadata": {},
   "source": [
    "If you are having trouble with `get_cells()`, look through <a href=\"https://allensdk.readthedocs.io/en/latest/allensdk.core.cell_types_cache.html\">the documentation for the CellTypesCache</a> for more information."
   ]
  },
  {
   "cell_type": "markdown",
   "metadata": {},
   "source": [
    "Let's get some information about our cells. We can use `len()` on a dataframe to get the number of rows. Alternatively, we can use the `count()` method on our dataframe to get the number of values each column contains. The number of rows is equivalent to the number of observations (i.e. length of the dataframe). "
   ]
  },
  {
   "cell_type": "code",
   "execution_count": 6,
   "metadata": {},
   "outputs": [
    {
     "name": "stdout",
     "output_type": "stream",
     "text": [
      "reporter_status            0\n",
      "cell_soma_location       413\n",
      "species                  413\n",
      "name                     413\n",
      "structure_layer_name     413\n",
      "structure_area_id        413\n",
      "structure_area_abbrev    413\n",
      "transgenic_line          413\n",
      "dendrite_type            413\n",
      "apical                   413\n",
      "reconstruction_type      158\n",
      "disease_state            413\n",
      "donor_id                 413\n",
      "structure_hemisphere     413\n",
      "normalized_depth         162\n",
      "dtype: int64\n",
      "\n",
      "Length of dataframe:\n",
      "413\n"
     ]
    }
   ],
   "source": [
    "print(human_cells_df.count())\n",
    "n_human_cells = len(human_cells_df)\n",
    "print('\\nLength of dataframe:')\n",
    "print(n_human_cells)"
   ]
  },
  {
   "cell_type": "code",
   "execution_count": 7,
   "metadata": {},
   "outputs": [
    {
     "name": "stdout",
     "output_type": "stream",
     "text": [
      "reporter_status          1920\n",
      "cell_soma_location       1920\n",
      "species                  1920\n",
      "name                     1920\n",
      "structure_layer_name     1920\n",
      "structure_area_id        1920\n",
      "structure_area_abbrev    1920\n",
      "transgenic_line          1920\n",
      "dendrite_type            1920\n",
      "apical                   1920\n",
      "reconstruction_type       509\n",
      "disease_state            1920\n",
      "donor_id                 1920\n",
      "structure_hemisphere     1920\n",
      "normalized_depth         1297\n",
      "dtype: int64\n",
      "\n",
      "Length of dataframe:\n",
      "1920\n"
     ]
    }
   ],
   "source": [
    "print(mouse_df.count())\n",
    "n_mouse_cells = len(mouse_df)\n",
    "print('\\nLength of dataframe:')\n",
    "print(n_mouse_cells)"
   ]
  },
  {
   "cell_type": "markdown",
   "metadata": {},
   "source": [
    "We can see that there are more mouse cells stored in the database than human cells."
   ]
  },
  {
   "cell_type": "markdown",
   "metadata": {},
   "source": [
    "Now that we have dataframes for both human and mouse cells, we can compare their electrophysiological properties and plot some graphs for data visualization. Lets start by comparing the resting membrane potential of human cells vs mouse cells using a boxplot. "
   ]
  },
  {
   "cell_type": "code",
   "execution_count": 5,
   "metadata": {},
   "outputs": [
    {
     "data": {
      "image/png": "[encoded data removed]",
      "text/plain": [
       "<Figure size 360x360 with 1 Axes>"
      ]
     },
     "metadata": {
      "needs_background": "light"
     },
     "output_type": "display_data"
    }
   ],
   "source": [
    "# Select feature we would like to plot \n",
    "feat = 'vrest'\n",
    "\n",
    "# Store our data \n",
    "data = ([mouse_ephys_df[feat], human_ephys_df[feat]])\n",
    "\n",
    "# Setup our figure\n",
    "plt.figure(figsize = (5,5))\n",
    "plt.boxplot(data)\n",
    "plt.ylabel('Resting Membrane Potential (mV)')\n",
    "plt.xticks([1,2],['Mouse', 'Human'])\n",
    "plt.title('Differnece in Resting Membrane Potential')\n",
    "\n",
    "# Show the plot\n",
    "plt.show()"
   ]
  },
  {
   "cell_type": "markdown",
   "metadata": {},
   "source": [
    "As you can see, the median and distribution of resting membrane potential between mouse cells and human cells is similar. This is good to know cosidering that mice are frequently used to conduct experiments to research human physiology. "
   ]
  },
  {
   "cell_type": "markdown",
   "metadata": {},
   "source": [
    "For more information on `matplotlib.pyplot` and the figures that you can build with it, please visit <a href=\"https://matplotlib.org/api/_as_gen/matplotlib.pyplot.html\">here</a>."
   ]
  },
  {
   "cell_type": "markdown",
   "metadata": {},
   "source": [
    "## Two Different Cre-Lines "
   ]
  },
  {
   "cell_type": "markdown",
   "metadata": {},
   "source": [
    "What if we want to know whether different genetically-identified cells have different intrinsic physiology? The Allen Institute for Brain Science uses transgenic mouse lines that have Cre-expressing cells to mark specific types of cells in the brain. Lets find out what cre-lines are availabe in our mouse data under the column `transgenic_line`. "
   ]
  },
  {
   "cell_type": "markdown",
   "metadata": {},
   "source": [
    "We can take a look at how many different values are stored within a column using the `.unique()` method."
   ]
  },
  {
   "cell_type": "code",
   "execution_count": 9,
   "metadata": {},
   "outputs": [
    {
     "data": {
      "text/plain": [
       "array(['Oxtr-T2A-Cre', 'Pvalb-IRES-Cre',\n",
       "       'Slc32a1-T2A-FlpO|Vipr2-IRES2-Cre', 'Cux2-CreERT2',\n",
       "       'Scnn1a-Tg3-Cre', 'Htr3a-Cre_NO152', 'Rorb-IRES2-Cre',\n",
       "       'Ctgf-T2A-dgCre', 'Nkx2-1-CreERT2', 'Vip-IRES-Cre',\n",
       "       'Chrna2-Cre_OE25', 'Nos1-CreERT2|Sst-IRES-FlpO', 'Scnn1a-Tg2-Cre',\n",
       "       'Nos1-CreERT2', 'Ntsr1-Cre_GN220', 'Esr2-IRES2-Cre',\n",
       "       'Tlx3-Cre_PL56', 'Vipr2-IRES2-Cre',\n",
       "       'Chrna2-Cre_OE25|Pvalb-T2A-Dre', 'Nr5a1-Cre', 'Ndnf-IRES2-dgCre',\n",
       "       'Sst-IRES-Cre', 'Gad2-IRES-Cre', 'Chat-IRES-Cre-neo',\n",
       "       'Slc17a6-IRES-Cre', 'Sim1-Cre_KJ18', 'Glt25d2-Cre_NF107',\n",
       "       'Rbp4-Cre_KL100', 'Penk-IRES2-Cre-neo',\n",
       "       'Htr3a-Cre_NO152|Pvalb-T2A-Dre', 'Esr2-IRES2-Cre|PhiC31-neo',\n",
       "       'Gng7-Cre_KH71', 'Pvalb-T2A-FlpO|Vipr2-IRES2-Cre',\n",
       "       'Pvalb-T2A-CreERT2', 'Esr2-IRES2-Cre-neo|PhiC31-neo',\n",
       "       'Esr2-IRES2-Cre-neo', 'Vipr2-IRES2-Cre-neo'], dtype=object)"
      ]
     },
     "execution_count": 9,
     "metadata": {},
     "output_type": "execute_result"
    }
   ],
   "source": [
    "mouse_ephys_df['transgenic_line'].unique()"
   ]
  },
  {
   "cell_type": "markdown",
   "metadata": {},
   "source": [
    "Next, lets select two different Cre lines from the dataset and create dataframes that only contain cells from those Cre lines. For more information on the Allen Cell Types Cre lines, please visit <a href=\"https://docs.google.com/document/d/1ZMMZgc7cS5BHhoWNqzjw95BdxOuj5wrYl9I7PV2HeUI/edit\">the Allen Cell Types Cre Lines Glossary</a> for a short description of the cortical expression patterns of the transgenic Cre lines available in the Allen Cell Types dataset."
   ]
  },
  {
   "cell_type": "markdown",
   "metadata": {},
   "source": [
    "**Note**: Be sure that you are using the entire name of the Cre line -- that means everything within the single quotes above."
   ]
  },
  {
   "cell_type": "code",
   "execution_count": 6,
   "metadata": {},
   "outputs": [
    {
     "name": "stdout",
     "output_type": "stream",
     "text": [
      "46 cells with cre line Oxtr-T2A-Cre\n",
      "217 cells with cre line Pvalb-IRES-Cre\n"
     ]
    }
   ],
   "source": [
    "# Choose your column of comparison \n",
    "column = 'transgenic_line'\n",
    "\n",
    "# Choose your Cre lines of interest \n",
    "cre_line_1 = 'Oxtr-T2A-Cre'\n",
    "cre_line_2 = 'Pvalb-IRES-Cre'\n",
    "\n",
    "# Create dataframes from the selected Cre lines above\n",
    "cre_line_1_df = mouse_ephys_df[mouse_ephys_df[column]==cre_line_1]\n",
    "cre_line_2_df = mouse_ephys_df[mouse_ephys_df[column]==cre_line_2]\n",
    "\n",
    "# Get the length of each dataframe\n",
    "print(str(len(cre_line_1_df)) + ' cells with cre line' + ' ' + cre_line_1 )\n",
    "print(str(len(cre_line_2_df)) + ' cells with cre line' + ' ' + cre_line_2 )"
   ]
  },
  {
   "cell_type": "markdown",
   "metadata": {},
   "source": [
    "Now that we have two Cre lines to compare, we can begin to plot their physiology and check for differneces. Let's start by plotting a distribution of the recorded resting membrane potential (vrest) for our two different Cre lines."
   ]
  },
  {
   "cell_type": "code",
   "execution_count": 7,
   "metadata": {},
   "outputs": [
    {
     "data": {
      "image/png": "[encoded data removed]",
      "text/plain": [
       "<Figure size 360x360 with 1 Axes>"
      ]
     },
     "metadata": {
      "needs_background": "light"
     },
     "output_type": "display_data"
    }
   ],
   "source": [
    "# Modify this line to change the dimensions of your plot\n",
    "plt.figure(figsize=(5,5))\n",
    "\n",
    "# Choose the parameter you would like to plot \n",
    "parameter = 'vrest'\n",
    "\n",
    "# Plot the histogram, with density = True \n",
    "plt.hist([cre_line_1_df[parameter],cre_line_2_df[parameter]],density = True)\n",
    "plt.xlabel('Resting Membrane Potential (mV)')\n",
    "plt.ylabel('Number of Cells')\n",
    "plt.legend([cre_line_1,cre_line_2])\n",
    "plt.title('Distribution of Cre line 1 vs Cre line 2')\n",
    "\n",
    "# Show the plot\n",
    "plt.show()"
   ]
  },
  {
   "cell_type": "markdown",
   "metadata": {},
   "source": [
    "Since the number of cells greatly differs between our cre lines, it would be more appropriate to plot a boxplot than plotting the distributions."
   ]
  },
  {
   "cell_type": "code",
   "execution_count": 8,
   "metadata": {},
   "outputs": [
    {
     "data": {
      "image/png": "[encoded data removed]",
      "text/plain": [
       "<Figure size 360x360 with 1 Axes>"
      ]
     },
     "metadata": {
      "needs_background": "light"
     },
     "output_type": "display_data"
    }
   ],
   "source": [
    "# Modify this line to change the dimensions of your plot\n",
    "plt.figure(figsize=(5,5))\n",
    "\n",
    "# Choose the parameter you would like to plot \n",
    "parameter = 'vrest'\n",
    "\n",
    "# Plot the Boxplot \n",
    "plt.boxplot([cre_line_1_df[parameter],cre_line_2_df[parameter]])\n",
    "plt.ylabel('Vrest (mV)')\n",
    "plt.xticks([1, 2], [cre_line_1,cre_line_2])\n",
    "plt.title('Vrest Boxplot')\n",
    "\n",
    "# Show the plot\n",
    "plt.show()"
   ]
  },
  {
   "cell_type": "markdown",
   "metadata": {},
   "source": [
    "## Spiny vs Aspiny "
   ]
  },
  {
   "cell_type": "markdown",
   "metadata": {},
   "source": [
    "The Allen cells contains cells of different dedrite types. To find out what dendrite types make up our cells, we can execute `unique()` on the `dendrite_type` column of our dataframe. "
   ]
  },
  {
   "cell_type": "code",
   "execution_count": 15,
   "metadata": {},
   "outputs": [
    {
     "name": "stdout",
     "output_type": "stream",
     "text": [
      "['spiny' 'aspiny' 'sparsely spiny']\n"
     ]
    }
   ],
   "source": [
    "print(human_cells_df['dendrite_type'].unique())"
   ]
  },
  {
   "cell_type": "markdown",
   "metadata": {},
   "source": [
    "We can plot some of the metrics for our different dendrite types. Let's look at the frequency of each dendrite type. `value_counts()` is a method that will count up the number of instances of each value.\n",
    "`plot()` is a Pandas method that will plot, depending on the `kind` argument you give it."
   ]
  },
  {
   "cell_type": "code",
   "execution_count": 9,
   "metadata": {},
   "outputs": [
    {
     "data": {
      "image/png": "[encoded data removed]",
      "text/plain": [
       "<Figure size 432x288 with 1 Axes>"
      ]
     },
     "metadata": {
      "needs_background": "light"
     },
     "output_type": "display_data"
    }
   ],
   "source": [
    "# For the different values in dendrite_type column, get the value_counts, \n",
    "# and plot as a bar plot\n",
    "mouse_ephys_df['dendrite_type'].value_counts().plot(kind='bar')\n",
    "\n",
    "plt.ylabel('Number of cells')\n",
    "plt.title('Frequency of Dendrite Type in Mouse Cells')\n",
    "\n",
    "# Show the plot\n",
    "plt.show()"
   ]
  },
  {
   "cell_type": "markdown",
   "metadata": {},
   "source": [
    "Let's see how the different dendrite types differ when it comes to their electrophysiological properties. Below we will filter out cells by dendrite type and assign them to their repective dataframe. "
   ]
  },
  {
   "cell_type": "code",
   "execution_count": 10,
   "metadata": {},
   "outputs": [
    {
     "name": "stdout",
     "output_type": "stream",
     "text": [
      "Dataframes successfully created.\n"
     ]
    }
   ],
   "source": [
    "# Select your cell types for comparison \n",
    "cell_type1 = 'spiny'\n",
    "cell_type2 = 'aspiny'\n",
    "cell_type3 = 'sparsely spiny'\n",
    "\n",
    "# Create your cell type specific daaframes \n",
    "spiny_df = mouse_ephys_df[mouse_ephys_df['dendrite_type']== cell_type1]\n",
    "aspiny_df = mouse_ephys_df[mouse_ephys_df['dendrite_type']== cell_type2]\n",
    "sparsely_spiny_df = mouse_ephys_df[mouse_ephys_df['dendrite_type']== cell_type3]\n",
    "\n",
    "print('Dataframes successfully created.')"
   ]
  },
  {
   "cell_type": "markdown",
   "metadata": {},
   "source": [
    "Next, we select an electrophysiological feature that we could like to compare across the three dendrite types. In this example, we will be taking a look at `fast_though_v_long_square` for each of our dendrite types and create a boxplot. "
   ]
  },
  {
   "cell_type": "code",
   "execution_count": 11,
   "metadata": {
    "scrolled": true
   },
   "outputs": [
    {
     "data": {
      "image/png": "[encoded data removed]",
      "text/plain": [
       "<Figure size 432x288 with 1 Axes>"
      ]
     },
     "metadata": {
      "needs_background": "light"
     },
     "output_type": "display_data"
    }
   ],
   "source": [
    "# Choose what you would like to compare between the cell types \n",
    "feature = 'fast_trough_v_long_square'\n",
    "spiny_ft = spiny_df[feature]\n",
    "aspiny_ft = aspiny_df[feature]\n",
    "sparsely_spiny_ft = sparsely_spiny_df[feature]\n",
    "\n",
    "# Store your data \n",
    "data = [spiny_ft,aspiny_ft,sparsely_spiny_ft]\n",
    "\n",
    "# Plot your figure \n",
    "fig,ax = plt.subplots()\n",
    "ax.boxplot(data)\n",
    "ax.set_title('Boxplot of Fast Trough')\n",
    "ax.set_xticklabels(['Spiny', 'Aspiny','Sparsely Spiny'])\n",
    "ax.set_ylabel('Voltage (mV)')\n",
    "\n",
    "# Show the plot\n",
    "plt.show()"
   ]
  },
  {
   "cell_type": "markdown",
   "metadata": {},
   "source": [
    "## Layers of Cortex: Depth "
   ]
  },
  {
   "cell_type": "markdown",
   "metadata": {},
   "source": [
    "The Allen also contains information from what layer of cortex the cells in the dataset are harvested from. Like before, we can execute `unique()` on our column of interest again to see what layers our mouse cells are coming from. "
   ]
  },
  {
   "cell_type": "code",
   "execution_count": 19,
   "metadata": {},
   "outputs": [
    {
     "name": "stdout",
     "output_type": "stream",
     "text": [
      "['5' '4' '2/3' '6a' '6b' '1']\n"
     ]
    }
   ],
   "source": [
    "print(mouse_ephys_df['structure_layer_name'].unique())"
   ]
  },
  {
   "cell_type": "markdown",
   "metadata": {},
   "source": [
    "Knowing what layers our cells are coming from allows us to check for any strong differences in electrophysiological, morphological features between different layers. Below we will walk through how to choose structure layers to compare, created our dataframes from our selcted structure layers, and eventually plot some metrics of these layers. "
   ]
  },
  {
   "cell_type": "code",
   "execution_count": 12,
   "metadata": {},
   "outputs": [
    {
     "name": "stdout",
     "output_type": "stream",
     "text": [
      "Dataframes successfully created.\n"
     ]
    }
   ],
   "source": [
    "# Select the structure layers you would like to compare\n",
    "layer_1 = '1'\n",
    "layer_2 = '4'\n",
    "\n",
    "# Setup the dataframes that only contain cells from our layers of interest \n",
    "mouse_1_df = mouse_ephys_df[mouse_ephys_df['structure_layer_name']==layer_1]\n",
    "mouse_4_df = mouse_ephys_df[mouse_ephys_df['structure_layer_name']==layer_2]\n",
    "\n",
    "print('Dataframes successfully created.')"
   ]
  },
  {
   "cell_type": "markdown",
   "metadata": {},
   "source": [
    "Once we have set up our dataframes, we are able to plot out some of the morphological and electrophysiological features and attempt to draw connections between the two layers. Below we will create boxplots that compares cells from layers 1 and 4 with respect to the rheobase, resting membrane potential, and membrane time constant."
   ]
  },
  {
   "cell_type": "code",
   "execution_count": 21,
   "metadata": {},
   "outputs": [
    {
     "data": {
      "image/png": "[encoded data removed]",
      "text/plain": [
       "<Figure size 1080x360 with 3 Axes>"
      ]
     },
     "metadata": {
      "needs_background": "light"
     },
     "output_type": "display_data"
    }
   ],
   "source": [
    "# Create a 1 by 3 figure for our boxplots \n",
    "fig, ax = plt.subplots(1,3, figsize = (15,5))\n",
    "\n",
    "# Setup our dataframes for rheobase\n",
    "bp1_feature = 'threshold_i_long_square'\n",
    "threshold_i_long_square_mouse_1_ft = mouse_1_df[bp1_feature]\n",
    "threshold_i_long_square_mouse_4_ft = mouse_4_df[bp1_feature]\n",
    "\n",
    "# Store our data for rheobase\n",
    "threshold_i_long_square_data = [threshold_i_long_square_mouse_1_ft,\n",
    "                                threshold_i_long_square_mouse_4_ft]\n",
    "\n",
    "# On the first graph, plot the rheobase\n",
    "ax[0].boxplot(threshold_i_long_square_data)\n",
    "ax[0].set_xticklabels(['Layer 1','Layer 4'])\n",
    "ax[0].set_ylabel('Rheobase (pA)')\n",
    "ax[0].set_title('Boxplot of Rheobase')\n",
    "\n",
    "# Setup our dataframes for resting membrane potential\n",
    "bp2_feature = 'vrest'\n",
    "vrest_mouse_1_ft = mouse_1_df[bp2_feature].dropna() # Drop missing values \n",
    "vrest_mouse_4_ft = mouse_4_df[bp2_feature].dropna() # Drop missing values \n",
    "\n",
    "# Store our data for vrest\n",
    "vrest_data = [vrest_mouse_1_ft,vrest_mouse_4_ft]\n",
    "\n",
    "# On the second graph, create the box plot of resting potential\n",
    "ax[1].boxplot(vrest_data)\n",
    "ax[1].set_xticklabels(['Layer 1','Layer 4'])\n",
    "ax[1].set_ylabel('Voltage (V)')\n",
    "ax[1].set_title('Boxplot of Resting Potentials')\n",
    "\n",
    "# Setup our dataframes for membrane time constant\n",
    "bp3_feature = 'tau'\n",
    "tau_mouse_1_ft = mouse_1_df[bp3_feature].dropna() # Drop missing values \n",
    "tau_mouse_4_ft = mouse_4_df[bp3_feature].dropna() # Drop missing values \n",
    "\n",
    "# Store our data for membrane time constant \n",
    "tau_data = [tau_mouse_1_ft,tau_mouse_4_ft]\n",
    "\n",
    "# On the third graph, create a box plot of Membrane Time Constant \n",
    "ax[2].boxplot(tau_data)\n",
    "ax[2].set_xticklabels(['Layer 1','Layer 4'])\n",
    "ax[2].set_ylabel('Membrane Time Constant (ms)')\n",
    "ax[2].set_title('Boxplot of Membrane Time Constant')\n",
    "\n",
    "# Show the plot\n",
    "plt.show()"
   ]
  }
 ],
 "metadata": {
  "kernelspec": {
   "display_name": "Python 3",
   "language": "python",
   "name": "python3"
  },
  "language_info": {
   "codemirror_mode": {
    "name": "ipython",
    "version": 3
   },
   "file_extension": ".py",
   "mimetype": "text/x-python",
   "name": "python",
   "nbconvert_exporter": "python",
   "pygments_lexer": "ipython3",
   "version": "3.7.6"
  }
 },
 "nbformat": 4,
 "nbformat_minor": 4
}
