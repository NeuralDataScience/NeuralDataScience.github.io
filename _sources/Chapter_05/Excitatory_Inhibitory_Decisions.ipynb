{
 "cells": [
  {
   "cell_type": "markdown",
   "id": "aba0f791",
   "metadata": {},
   "source": [
    "# Decision Making in Excitatory & Inhibitory Cells\n",
    "\n",
    "As our first introduction to two-photon imaging NWB datasets, we'll explore the power of simultaneously imaging hundreds of cells to decode brain activity.\n",
    "\n",
    "In this notebook, we'll use data from [Najafi et al. (2020)](https://www.cell.com/neuron/fulltext/S0896-6273(19)30848-7) to see if we can use the neural activity in excitatory and inhibitory neurons to predict the animal's decisions.\n",
    "\n",
    "### About this notebook\n",
    "This notebook is inspired by [these exercises](https://github.com/vathes/najafi-2018-nwb/blob/master/notebooks/Najafi-2018_example.ipynb) and is still under construction.\n",
    "\n",
    "<hr>\n",
    "\n",
    "## Setup"
   ]
  },
  {
   "cell_type": "code",
   "execution_count": 3,
   "id": "70368f90",
   "metadata": {},
   "outputs": [
    {
     "name": "stdout",
     "output_type": "stream",
     "text": [
      "Packages imported.\n"
     ]
    }
   ],
   "source": [
    "%matplotlib inline\n",
    "\n",
    "import os\n",
    "import matplotlib.pyplot as plt\n",
    "import numpy as np\n",
    "import pandas as pd\n",
    "import seaborn as sns\n",
    "from pynwb import NWBFile, NWBHDF5IO\n",
    "\n",
    "print('Packages imported.')"
   ]
  },
  {
   "cell_type": "markdown",
   "id": "db47146b",
   "metadata": {},
   "source": [
    "## Load the data"
   ]
  },
  {
   "cell_type": "code",
   "execution_count": 6,
   "id": "1029b781",
   "metadata": {},
   "outputs": [],
   "source": [
    "# This file has been preloaded into the github repository\n",
    "filename = 'sub-mouse1-fni16_ses-170808180842.nwb'\n",
    "\n",
    "# Read NWB 2.0 file\n",
    "nwb_io = NWBHDF5IO(os.path.join(filename), mode = 'r')\n",
    "nwbfile = nwb_io.read()"
   ]
  },
  {
   "cell_type": "markdown",
   "id": "598a0515",
   "metadata": {},
   "source": [
    "First, we'll define a few functions that will help us extract the data we need."
   ]
  },
  {
   "cell_type": "code",
   "execution_count": 17,
   "id": "1d419fb9",
   "metadata": {},
   "outputs": [],
   "source": [
    "# Extract all trial-based ROI time-series\n",
    "# ROI time-series has the shape of: (ROI count) x (time instances) x (trial count)`\n",
    "trial_seg_module = nwbfile.modules.get('Ophys').data_interfaces\n",
    "\n",
    "def get_trialsegmented_roi_timeseries(event_name, pre_stim_dur, post_stim_dur, trial_seg_module):\n",
    "    event_roi_timeseries = trial_seg_module.get(event_name).roi_response_series\n",
    "    tvec = event_roi_timeseries.get('Trial_00').timestamps.value  # timestamps from all trial are the same, so get one from trial_0\n",
    "    # check if pre/post stim duration is out of bound\n",
    "    pre_stim_dur = np.maximum(tvec[0], pre_stim_dur)\n",
    "    post_stim_dur = np.minimum(tvec[-1], post_stim_dur)   \n",
    "    # extract data\n",
    "    ix = np.logical_and(tvec >= pre_stim_dur, tvec <= post_stim_dur)\n",
    "    return np.dstack((d.data.value[:, ix] for d in event_roi_timeseries.values())), tvec[ix]    "
   ]
  },
  {
   "cell_type": "code",
   "execution_count": 18,
   "id": "3cfeeb62",
   "metadata": {},
   "outputs": [
    {
     "ename": "AttributeError",
     "evalue": "'NoneType' object has no attribute 'value'",
     "output_type": "error",
     "traceback": [
      "\u001b[0;31m---------------------------------------------------------------------------\u001b[0m",
      "\u001b[0;31mAttributeError\u001b[0m                            Traceback (most recent call last)",
      "\u001b[0;32m<ipython-input-18-e6d7053ab55f>\u001b[0m in \u001b[0;36m<module>\u001b[0;34m\u001b[0m\n\u001b[1;32m     10\u001b[0m \u001b[0;32mfor\u001b[0m \u001b[0msetting\u001b[0m \u001b[0;32min\u001b[0m \u001b[0msegmentation_settings\u001b[0m\u001b[0;34m:\u001b[0m\u001b[0;34m\u001b[0m\u001b[0;34m\u001b[0m\u001b[0m\n\u001b[1;32m     11\u001b[0m     \u001b[0;31m# extract segment\u001b[0m\u001b[0;34m\u001b[0m\u001b[0;34m\u001b[0m\u001b[0;34m\u001b[0m\u001b[0m\n\u001b[0;32m---> 12\u001b[0;31m     \u001b[0mout\u001b[0m \u001b[0;34m=\u001b[0m \u001b[0mget_trialsegmented_roi_timeseries\u001b[0m\u001b[0;34m(\u001b[0m\u001b[0msetting\u001b[0m\u001b[0;34m[\u001b[0m\u001b[0;34m'event'\u001b[0m\u001b[0;34m]\u001b[0m\u001b[0;34m,\u001b[0m \u001b[0msetting\u001b[0m\u001b[0;34m[\u001b[0m\u001b[0;34m'pre'\u001b[0m\u001b[0;34m]\u001b[0m\u001b[0;34m,\u001b[0m \u001b[0msetting\u001b[0m\u001b[0;34m[\u001b[0m\u001b[0;34m'post'\u001b[0m\u001b[0;34m]\u001b[0m\u001b[0;34m,\u001b[0m \u001b[0mtrial_seg_module\u001b[0m\u001b[0;34m)\u001b[0m\u001b[0;34m\u001b[0m\u001b[0;34m\u001b[0m\u001b[0m\n\u001b[0m\u001b[1;32m     13\u001b[0m     \u001b[0;31m# average over trial\u001b[0m\u001b[0;34m\u001b[0m\u001b[0;34m\u001b[0m\u001b[0;34m\u001b[0m\u001b[0m\n\u001b[1;32m     14\u001b[0m     \u001b[0mtrial_avg_segments\u001b[0m\u001b[0;34m[\u001b[0m\u001b[0msetting\u001b[0m\u001b[0;34m[\u001b[0m\u001b[0;34m'event'\u001b[0m\u001b[0;34m]\u001b[0m\u001b[0;34m]\u001b[0m \u001b[0;34m=\u001b[0m \u001b[0;34m(\u001b[0m\u001b[0mnp\u001b[0m\u001b[0;34m.\u001b[0m\u001b[0mnanmean\u001b[0m\u001b[0;34m(\u001b[0m\u001b[0mout\u001b[0m\u001b[0;34m[\u001b[0m\u001b[0;36m0\u001b[0m\u001b[0;34m]\u001b[0m\u001b[0;34m,\u001b[0m \u001b[0maxis\u001b[0m\u001b[0;34m=\u001b[0m\u001b[0;36m2\u001b[0m\u001b[0;34m)\u001b[0m\u001b[0;34m,\u001b[0m \u001b[0mout\u001b[0m\u001b[0;34m[\u001b[0m\u001b[0;36m1\u001b[0m\u001b[0;34m]\u001b[0m\u001b[0;34m)\u001b[0m\u001b[0;34m\u001b[0m\u001b[0;34m\u001b[0m\u001b[0m\n",
      "\u001b[0;32m<ipython-input-17-e81ffe923f6e>\u001b[0m in \u001b[0;36mget_trialsegmented_roi_timeseries\u001b[0;34m(event_name, pre_stim_dur, post_stim_dur, trial_seg_module)\u001b[0m\n\u001b[1;32m      5\u001b[0m \u001b[0;32mdef\u001b[0m \u001b[0mget_trialsegmented_roi_timeseries\u001b[0m\u001b[0;34m(\u001b[0m\u001b[0mevent_name\u001b[0m\u001b[0;34m,\u001b[0m \u001b[0mpre_stim_dur\u001b[0m\u001b[0;34m,\u001b[0m \u001b[0mpost_stim_dur\u001b[0m\u001b[0;34m,\u001b[0m \u001b[0mtrial_seg_module\u001b[0m\u001b[0;34m)\u001b[0m\u001b[0;34m:\u001b[0m\u001b[0;34m\u001b[0m\u001b[0;34m\u001b[0m\u001b[0m\n\u001b[1;32m      6\u001b[0m     \u001b[0mevent_roi_timeseries\u001b[0m \u001b[0;34m=\u001b[0m \u001b[0mtrial_seg_module\u001b[0m\u001b[0;34m.\u001b[0m\u001b[0mget\u001b[0m\u001b[0;34m(\u001b[0m\u001b[0mevent_name\u001b[0m\u001b[0;34m)\u001b[0m\u001b[0;34m.\u001b[0m\u001b[0mroi_response_series\u001b[0m\u001b[0;34m\u001b[0m\u001b[0;34m\u001b[0m\u001b[0m\n\u001b[0;32m----> 7\u001b[0;31m     \u001b[0mtvec\u001b[0m \u001b[0;34m=\u001b[0m \u001b[0mevent_roi_timeseries\u001b[0m\u001b[0;34m.\u001b[0m\u001b[0mget\u001b[0m\u001b[0;34m(\u001b[0m\u001b[0;34m'Trial_00'\u001b[0m\u001b[0;34m)\u001b[0m\u001b[0;34m.\u001b[0m\u001b[0mtimestamps\u001b[0m\u001b[0;34m.\u001b[0m\u001b[0mvalue\u001b[0m  \u001b[0;31m# timestamps from all trial are the same, so get one from trial_0\u001b[0m\u001b[0;34m\u001b[0m\u001b[0;34m\u001b[0m\u001b[0m\n\u001b[0m\u001b[1;32m      8\u001b[0m     \u001b[0;31m# check if pre/post stim duration is out of bound\u001b[0m\u001b[0;34m\u001b[0m\u001b[0;34m\u001b[0m\u001b[0;34m\u001b[0m\u001b[0m\n\u001b[1;32m      9\u001b[0m     \u001b[0mpre_stim_dur\u001b[0m \u001b[0;34m=\u001b[0m \u001b[0mnp\u001b[0m\u001b[0;34m.\u001b[0m\u001b[0mmaximum\u001b[0m\u001b[0;34m(\u001b[0m\u001b[0mtvec\u001b[0m\u001b[0;34m[\u001b[0m\u001b[0;36m0\u001b[0m\u001b[0;34m]\u001b[0m\u001b[0;34m,\u001b[0m \u001b[0mpre_stim_dur\u001b[0m\u001b[0;34m)\u001b[0m\u001b[0;34m\u001b[0m\u001b[0;34m\u001b[0m\u001b[0m\n",
      "\u001b[0;31mAttributeError\u001b[0m: 'NoneType' object has no attribute 'value'"
     ]
    }
   ],
   "source": [
    "# specify event of interest to extract trial data \n",
    "segmentation_settings = [\n",
    "    {'event':'dFoF_initToneAl', 'pre': -10000, 'post': 100},\n",
    "    {'event':'dFoF_stimAl_noEarlyDec', 'pre': -100, 'post': 10000},\n",
    "    {'event':'dFoF_firstSideTryAl', 'pre': -250, 'post': 250},\n",
    "    {'event':'dFoF_rewardAl', 'pre': -250, 'post': 10000}]\n",
    "\n",
    "# extract trial-based data and average over trial\n",
    "trial_avg_segments = {}\n",
    "for setting in segmentation_settings:\n",
    "    # extract segment\n",
    "    out = get_trialsegmented_roi_timeseries(setting['event'], setting['pre'], setting['post'], trial_seg_module)\n",
    "    # average over trial\n",
    "    trial_avg_segments[setting['event']] = (np.nanmean(out[0], axis=2), out[1])"
   ]
  },
  {
   "cell_type": "markdown",
   "id": "d095db95",
   "metadata": {},
   "source": [
    "** Under construction **"
   ]
  }
 ],
 "metadata": {
  "kernelspec": {
   "display_name": "Python 3",
   "language": "python",
   "name": "python3"
  },
  "language_info": {
   "codemirror_mode": {
    "name": "ipython",
    "version": 3
   },
   "file_extension": ".py",
   "mimetype": "text/x-python",
   "name": "python",
   "nbconvert_exporter": "python",
   "pygments_lexer": "ipython3",
   "version": "3.7.3"
  }
 },
 "nbformat": 4,
 "nbformat_minor": 5
}
