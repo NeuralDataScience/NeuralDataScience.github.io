{
 "cells": [
  {
   "cell_type": "markdown",
   "metadata": {},
   "source": [
    "# Obtaining Data for Single Cells "
   ]
  },
  {
   "cell_type": "markdown",
   "metadata": {},
   "source": [
    "This section will serve as an introduction to the Allen Cell Types database. We'll work with the AllenSDK to see what information we can gain about our cells.\n",
    "\n",
    "First, let's make sure you have an updated version of the Allen Institute Database installed. If you do not have the version below, this cell will install it for you. There is more information on installing the AllenSDK in the <a href=\"http://alleninstitute.github.io/AllenSDK/install.html\">install guide</a>. "
   ]
  },
  {
   "cell_type": "code",
   "execution_count": 22,
   "metadata": {},
   "outputs": [
    {
     "name": "stdout",
     "output_type": "stream",
     "text": [
      "allensdk already installed.\n"
     ]
    }
   ],
   "source": [
    "# This will ensure that the AllenSDK is installed.\n",
    "# If not, it will install it for you.\n",
    "try:\n",
    "    import allensdk\n",
    "    if allensdk.__version__ == '2.11.2':\n",
    "        print('allensdk already installed.')\n",
    "    else: \n",
    "        print('incompatible version of allensdk installed')\n",
    "        !pip install allensdk==2.11.2\n",
    "except ImportError as e:\n",
    "    !pip install allensdk==2.11.2"
   ]
  },
  {
   "cell_type": "markdown",
   "metadata": {},
   "source": [
    "Next, we'll `import` the CellTypesCache module. This module provides tools to allow us to access information from the Allen Cell Types database. We're passing it a **manifest** filename as well. CellTypesCache will store the data in the path specified by the manifest filename. You can look under cell_types in your directory, and take a look at the file.\n",
    "\n",
    "If you're curious, you can see the full source documentation for the core package on the <a href=\"https://allensdk.readthedocs.io/en/latest/allensdk.core.html\">Allen Brain Atlas website</a>"
   ]
  },
  {
   "cell_type": "code",
   "execution_count": 23,
   "metadata": {},
   "outputs": [
    {
     "name": "stdout",
     "output_type": "stream",
     "text": [
      "Packages were successfully imported.\n"
     ]
    }
   ],
   "source": [
    "# Import the \"Cell Types Cache\" from the AllenSDK core package\n",
    "from allensdk.core.cell_types_cache import CellTypesCache\n",
    "\n",
    "# Import CellTypesApi, which will allow us to query the database.\n",
    "from allensdk.api.queries.cell_types_api import CellTypesApi\n",
    "\n",
    "# Import packages \n",
    "import pandas as pd\n",
    "import numpy as np\n",
    "import matplotlib.pyplot as plt \n",
    "%matplotlib inline \n",
    "import warnings\n",
    "warnings.filterwarnings('ignore')\n",
    "\n",
    "# We'll then initialize the cache as 'ctc' (cell types cache)\n",
    "ctc = CellTypesCache(manifest_file='cell_types/manifest.json')\n",
    "\n",
    "print('Packages were successfully imported.')"
   ]
  },
  {
   "cell_type": "markdown",
   "metadata": {},
   "source": [
    "## Get Available Cells"
   ]
  },
  {
   "cell_type": "markdown",
   "metadata": {},
   "source": [
    "The `get_cells()` method downloads metadata for cells in the database. The database contains human cells and mouse cells. By default, `get_cells()` downloads metadata for *all* cells in the database. Alternatively, you can filter the database to only include cells collected from a certain species.\n",
    "Look through <a href=\"https://allensdk.readthedocs.io/en/latest/allensdk.core.cell_types_cache.html\">the documentation for the CellTypesCache</a> for more information on the `get_cells` method."
   ]
  },
  {
   "cell_type": "code",
   "execution_count": 24,
   "metadata": {},
   "outputs": [
    {
     "name": "stdout",
     "output_type": "stream",
     "text": [
      "Number of cells: 2333\n"
     ]
    },
    {
     "data": {
      "text/html": [
       "<div>\n",
       "<style scoped>\n",
       "    .dataframe tbody tr th:only-of-type {\n",
       "        vertical-align: middle;\n",
       "    }\n",
       "\n",
       "    .dataframe tbody tr th {\n",
       "        vertical-align: top;\n",
       "    }\n",
       "\n",
       "    .dataframe thead th {\n",
       "        text-align: right;\n",
       "    }\n",
       "</style>\n",
       "<table border=\"1\" class=\"dataframe\">\n",
       "  <thead>\n",
       "    <tr style=\"text-align: right;\">\n",
       "      <th></th>\n",
       "      <th>reporter_status</th>\n",
       "      <th>cell_soma_location</th>\n",
       "      <th>species</th>\n",
       "      <th>name</th>\n",
       "      <th>structure_layer_name</th>\n",
       "      <th>structure_area_id</th>\n",
       "      <th>structure_area_abbrev</th>\n",
       "      <th>transgenic_line</th>\n",
       "      <th>dendrite_type</th>\n",
       "      <th>apical</th>\n",
       "      <th>reconstruction_type</th>\n",
       "      <th>disease_state</th>\n",
       "      <th>donor_id</th>\n",
       "      <th>structure_hemisphere</th>\n",
       "      <th>normalized_depth</th>\n",
       "    </tr>\n",
       "    <tr>\n",
       "      <th>id</th>\n",
       "      <th></th>\n",
       "      <th></th>\n",
       "      <th></th>\n",
       "      <th></th>\n",
       "      <th></th>\n",
       "      <th></th>\n",
       "      <th></th>\n",
       "      <th></th>\n",
       "      <th></th>\n",
       "      <th></th>\n",
       "      <th></th>\n",
       "      <th></th>\n",
       "      <th></th>\n",
       "      <th></th>\n",
       "      <th></th>\n",
       "    </tr>\n",
       "  </thead>\n",
       "  <tbody>\n",
       "    <tr>\n",
       "      <th>525011903</th>\n",
       "      <td>None</td>\n",
       "      <td>[273.0, 354.0, 216.0]</td>\n",
       "      <td>Homo Sapiens</td>\n",
       "      <td>H16.03.003.01.14.02</td>\n",
       "      <td>3</td>\n",
       "      <td>12113</td>\n",
       "      <td>FroL</td>\n",
       "      <td></td>\n",
       "      <td>spiny</td>\n",
       "      <td>intact</td>\n",
       "      <td>None</td>\n",
       "      <td>epilepsy</td>\n",
       "      <td>524848408</td>\n",
       "      <td>right</td>\n",
       "      <td>NaN</td>\n",
       "    </tr>\n",
       "    <tr>\n",
       "      <th>565871768</th>\n",
       "      <td>positive</td>\n",
       "      <td>[8966.56330957526, 1429.52689052075, 8567.3896...</td>\n",
       "      <td>Mus musculus</td>\n",
       "      <td>Oxtr-2A-Cre;Ai14-293837.03.01.02</td>\n",
       "      <td>5</td>\n",
       "      <td>385</td>\n",
       "      <td>VISp</td>\n",
       "      <td>Oxtr-T2A-Cre</td>\n",
       "      <td>aspiny</td>\n",
       "      <td>NA</td>\n",
       "      <td>None</td>\n",
       "      <td></td>\n",
       "      <td>563340157</td>\n",
       "      <td>left</td>\n",
       "      <td>0.582057</td>\n",
       "    </tr>\n",
       "    <tr>\n",
       "      <th>469801138</th>\n",
       "      <td>positive</td>\n",
       "      <td>[7872.53138541818, 993.212032389272, 3127.1530...</td>\n",
       "      <td>Mus musculus</td>\n",
       "      <td>Pvalb-IRES-Cre;Ai14-170927.05.02.01</td>\n",
       "      <td>4</td>\n",
       "      <td>385</td>\n",
       "      <td>VISp</td>\n",
       "      <td>Pvalb-IRES-Cre</td>\n",
       "      <td>aspiny</td>\n",
       "      <td>NA</td>\n",
       "      <td>None</td>\n",
       "      <td></td>\n",
       "      <td>319194354</td>\n",
       "      <td>right</td>\n",
       "      <td>0.469578</td>\n",
       "    </tr>\n",
       "    <tr>\n",
       "      <th>528642047</th>\n",
       "      <td>None</td>\n",
       "      <td>[69.0, 254.0, 96.0]</td>\n",
       "      <td>Homo Sapiens</td>\n",
       "      <td>H16.06.009.01.02.06.05</td>\n",
       "      <td>5</td>\n",
       "      <td>12141</td>\n",
       "      <td>MTG</td>\n",
       "      <td></td>\n",
       "      <td>aspiny</td>\n",
       "      <td>NA</td>\n",
       "      <td>None</td>\n",
       "      <td>epilepsy</td>\n",
       "      <td>528574320</td>\n",
       "      <td>left</td>\n",
       "      <td>NaN</td>\n",
       "    </tr>\n",
       "    <tr>\n",
       "      <th>605889373</th>\n",
       "      <td>positive</td>\n",
       "      <td>[9400.0, 1520.74232706376, 2188.13845194139]</td>\n",
       "      <td>Mus musculus</td>\n",
       "      <td>Vipr2-IRES2-Cre;Slc32a1-T2A-FlpO;Ai65-337419.0...</td>\n",
       "      <td>2/3</td>\n",
       "      <td>385</td>\n",
       "      <td>VISp</td>\n",
       "      <td>Slc32a1-T2A-FlpO|Vipr2-IRES2-Cre</td>\n",
       "      <td>aspiny</td>\n",
       "      <td>NA</td>\n",
       "      <td>None</td>\n",
       "      <td></td>\n",
       "      <td>605622695</td>\n",
       "      <td>right</td>\n",
       "      <td>NaN</td>\n",
       "    </tr>\n",
       "  </tbody>\n",
       "</table>\n",
       "</div>"
      ],
      "text/plain": [
       "          reporter_status                                 cell_soma_location  \\\n",
       "id                                                                             \n",
       "525011903            None                              [273.0, 354.0, 216.0]   \n",
       "565871768        positive  [8966.56330957526, 1429.52689052075, 8567.3896...   \n",
       "469801138        positive  [7872.53138541818, 993.212032389272, 3127.1530...   \n",
       "528642047            None                                [69.0, 254.0, 96.0]   \n",
       "605889373        positive       [9400.0, 1520.74232706376, 2188.13845194139]   \n",
       "\n",
       "                species                                               name  \\\n",
       "id                                                                           \n",
       "525011903  Homo Sapiens                                H16.03.003.01.14.02   \n",
       "565871768  Mus musculus                   Oxtr-2A-Cre;Ai14-293837.03.01.02   \n",
       "469801138  Mus musculus                Pvalb-IRES-Cre;Ai14-170927.05.02.01   \n",
       "528642047  Homo Sapiens                             H16.06.009.01.02.06.05   \n",
       "605889373  Mus musculus  Vipr2-IRES2-Cre;Slc32a1-T2A-FlpO;Ai65-337419.0...   \n",
       "\n",
       "          structure_layer_name  structure_area_id structure_area_abbrev  \\\n",
       "id                                                                        \n",
       "525011903                    3              12113                  FroL   \n",
       "565871768                    5                385                  VISp   \n",
       "469801138                    4                385                  VISp   \n",
       "528642047                    5              12141                   MTG   \n",
       "605889373                  2/3                385                  VISp   \n",
       "\n",
       "                            transgenic_line dendrite_type  apical  \\\n",
       "id                                                                  \n",
       "525011903                                           spiny  intact   \n",
       "565871768                      Oxtr-T2A-Cre        aspiny      NA   \n",
       "469801138                    Pvalb-IRES-Cre        aspiny      NA   \n",
       "528642047                                          aspiny      NA   \n",
       "605889373  Slc32a1-T2A-FlpO|Vipr2-IRES2-Cre        aspiny      NA   \n",
       "\n",
       "          reconstruction_type disease_state   donor_id structure_hemisphere  \\\n",
       "id                                                                            \n",
       "525011903                None      epilepsy  524848408                right   \n",
       "565871768                None                563340157                 left   \n",
       "469801138                None                319194354                right   \n",
       "528642047                None      epilepsy  528574320                 left   \n",
       "605889373                None                605622695                right   \n",
       "\n",
       "           normalized_depth  \n",
       "id                           \n",
       "525011903               NaN  \n",
       "565871768          0.582057  \n",
       "469801138          0.469578  \n",
       "528642047               NaN  \n",
       "605889373               NaN  "
      ]
     },
     "execution_count": 24,
     "metadata": {},
     "output_type": "execute_result"
    }
   ],
   "source": [
    "# Download metadata for all cells in the database\n",
    "all_cells = ctc.get_cells()\n",
    "\n",
    "# Convert it to a dataframe with the cell id as the index\n",
    "all_cells_df = pd.DataFrame(all_cells).set_index('id')\n",
    "\n",
    "print('Number of cells:',len(all_cells_df))\n",
    "all_cells_df.head()"
   ]
  },
  {
   "cell_type": "markdown",
   "metadata": {},
   "source": [
    "The Allen Institute for Brain Science uses transgenic mouse lines that have Cre-expressing cells to mark specific types of cells in the brain. Lets find out what cre-lines are availabe in our mouse data under the column `transgenic_line`. \n",
    "\n",
    "We can take a look at how many different values are stored within a column using the `.unique()` method."
   ]
  },
  {
   "cell_type": "code",
   "execution_count": 25,
   "metadata": {},
   "outputs": [
    {
     "data": {
      "text/plain": [
       "array(['', 'Oxtr-T2A-Cre', 'Pvalb-IRES-Cre',\n",
       "       'Slc32a1-T2A-FlpO|Vipr2-IRES2-Cre', 'Cux2-CreERT2',\n",
       "       'Scnn1a-Tg3-Cre', 'Htr3a-Cre_NO152', 'Rorb-IRES2-Cre',\n",
       "       'Ctgf-T2A-dgCre', 'Nkx2-1-CreERT2', 'Vip-IRES-Cre',\n",
       "       'Chrna2-Cre_OE25', 'Nos1-CreERT2|Sst-IRES-FlpO', 'Scnn1a-Tg2-Cre',\n",
       "       'Nos1-CreERT2', 'Ntsr1-Cre_GN220', 'Esr2-IRES2-Cre',\n",
       "       'Tlx3-Cre_PL56', 'Vipr2-IRES2-Cre',\n",
       "       'Chrna2-Cre_OE25|Pvalb-T2A-Dre', 'Nr5a1-Cre', 'Ndnf-IRES2-dgCre',\n",
       "       'Sst-IRES-Cre', 'Gad2-IRES-Cre', 'Chat-IRES-Cre-neo',\n",
       "       'Slc17a6-IRES-Cre', 'Sim1-Cre_KJ18', 'Glt25d2-Cre_NF107',\n",
       "       'Rbp4-Cre_KL100', 'Penk-IRES2-Cre-neo',\n",
       "       'Htr3a-Cre_NO152|Pvalb-T2A-Dre', 'Esr2-IRES2-Cre|PhiC31-neo',\n",
       "       'Gng7-Cre_KH71', 'Pvalb-T2A-FlpO|Vipr2-IRES2-Cre',\n",
       "       'Pvalb-T2A-CreERT2', 'Esr2-IRES2-Cre-neo|PhiC31-neo',\n",
       "       'Esr2-IRES2-Cre-neo', 'Vipr2-IRES2-Cre-neo'], dtype=object)"
      ]
     },
     "execution_count": 25,
     "metadata": {},
     "output_type": "execute_result"
    }
   ],
   "source": [
    "all_cells_df['transgenic_line'].unique()"
   ]
  },
  {
   "cell_type": "markdown",
   "metadata": {},
   "source": [
    "For more information on the Allen Cell Types Cre lines, please visit <a href=\"https://docs.google.com/document/d/1ZMMZgc7cS5BHhoWNqzjw95BdxOuj5wrYl9I7PV2HeUI/edit\">the Allen Cell Types Cre Lines Glossary</a> for a short description of the cortical expression patterns of the transgenic Cre lines available in the Allen Cell Types dataset."
   ]
  },
  {
   "cell_type": "markdown",
   "metadata": {},
   "source": [
    "## Get Morphology data\n",
    "\n",
    "The dataframe above only contains metadeta about our cells and no information on the morphology or electrophysiology of our cells. In order to get information about the morphology of these cells, we need to use the `get_morphology_features()` method on our instance of the cell types cache. We will set the indices to be the `specimen_id` because these ids will align with those in `all_cells_df`."
   ]
  },
  {
   "cell_type": "code",
   "execution_count": 26,
   "metadata": {},
   "outputs": [
    {
     "name": "stdout",
     "output_type": "stream",
     "text": [
      "Length of dataframe: 701\n"
     ]
    },
    {
     "data": {
      "text/html": [
       "<div>\n",
       "<style scoped>\n",
       "    .dataframe tbody tr th:only-of-type {\n",
       "        vertical-align: middle;\n",
       "    }\n",
       "\n",
       "    .dataframe tbody tr th {\n",
       "        vertical-align: top;\n",
       "    }\n",
       "\n",
       "    .dataframe thead th {\n",
       "        text-align: right;\n",
       "    }\n",
       "</style>\n",
       "<table border=\"1\" class=\"dataframe\">\n",
       "  <thead>\n",
       "    <tr style=\"text-align: right;\">\n",
       "      <th></th>\n",
       "      <th>average_bifurcation_angle_local</th>\n",
       "      <th>average_bifurcation_angle_remote</th>\n",
       "      <th>average_contraction</th>\n",
       "      <th>average_diameter</th>\n",
       "      <th>average_fragmentation</th>\n",
       "      <th>average_parent_daughter_ratio</th>\n",
       "      <th>hausdorff_dimension</th>\n",
       "      <th>id</th>\n",
       "      <th>max_branch_order</th>\n",
       "      <th>max_euclidean_distance</th>\n",
       "      <th>...</th>\n",
       "      <th>overall_width</th>\n",
       "      <th>scale_factor_x</th>\n",
       "      <th>scale_factor_y</th>\n",
       "      <th>scale_factor_z</th>\n",
       "      <th>soma_surface</th>\n",
       "      <th>superseded</th>\n",
       "      <th>tags</th>\n",
       "      <th>total_length</th>\n",
       "      <th>total_surface</th>\n",
       "      <th>total_volume</th>\n",
       "    </tr>\n",
       "    <tr>\n",
       "      <th>specimen_id</th>\n",
       "      <th></th>\n",
       "      <th></th>\n",
       "      <th></th>\n",
       "      <th></th>\n",
       "      <th></th>\n",
       "      <th></th>\n",
       "      <th></th>\n",
       "      <th></th>\n",
       "      <th></th>\n",
       "      <th></th>\n",
       "      <th></th>\n",
       "      <th></th>\n",
       "      <th></th>\n",
       "      <th></th>\n",
       "      <th></th>\n",
       "      <th></th>\n",
       "      <th></th>\n",
       "      <th></th>\n",
       "      <th></th>\n",
       "      <th></th>\n",
       "      <th></th>\n",
       "    </tr>\n",
       "  </thead>\n",
       "  <tbody>\n",
       "    <tr>\n",
       "      <th>478107198</th>\n",
       "      <td>82.727781</td>\n",
       "      <td>NaN</td>\n",
       "      <td>0.864267</td>\n",
       "      <td>0.345092</td>\n",
       "      <td>20.723077</td>\n",
       "      <td>0.964510</td>\n",
       "      <td>NaN</td>\n",
       "      <td>491119743</td>\n",
       "      <td>6.0</td>\n",
       "      <td>99.779724</td>\n",
       "      <td>...</td>\n",
       "      <td>136.267522</td>\n",
       "      <td>0.1144</td>\n",
       "      <td>0.1144</td>\n",
       "      <td>0.28</td>\n",
       "      <td>435.740270</td>\n",
       "      <td>False</td>\n",
       "      <td>3D Neuron Reconstruction morphology</td>\n",
       "      <td>1666.082926</td>\n",
       "      <td>1803.875644</td>\n",
       "      <td>167.343086</td>\n",
       "    </tr>\n",
       "    <tr>\n",
       "      <th>502367941</th>\n",
       "      <td>82.506680</td>\n",
       "      <td>NaN</td>\n",
       "      <td>0.903890</td>\n",
       "      <td>0.634047</td>\n",
       "      <td>105.277778</td>\n",
       "      <td>0.862183</td>\n",
       "      <td>NaN</td>\n",
       "      <td>546781359</td>\n",
       "      <td>3.0</td>\n",
       "      <td>432.383110</td>\n",
       "      <td>...</td>\n",
       "      <td>370.170045</td>\n",
       "      <td>0.1144</td>\n",
       "      <td>0.1144</td>\n",
       "      <td>0.28</td>\n",
       "      <td>1446.587725</td>\n",
       "      <td>False</td>\n",
       "      <td>3D Neuron Reconstruction morphology</td>\n",
       "      <td>2277.259374</td>\n",
       "      <td>4543.139073</td>\n",
       "      <td>921.571895</td>\n",
       "    </tr>\n",
       "    <tr>\n",
       "      <th>515771244</th>\n",
       "      <td>77.536678</td>\n",
       "      <td>NaN</td>\n",
       "      <td>0.863104</td>\n",
       "      <td>0.417929</td>\n",
       "      <td>73.666667</td>\n",
       "      <td>0.926633</td>\n",
       "      <td>NaN</td>\n",
       "      <td>537042261</td>\n",
       "      <td>6.0</td>\n",
       "      <td>373.630444</td>\n",
       "      <td>...</td>\n",
       "      <td>381.015114</td>\n",
       "      <td>0.1144</td>\n",
       "      <td>0.1144</td>\n",
       "      <td>0.28</td>\n",
       "      <td>287.118123</td>\n",
       "      <td>False</td>\n",
       "      <td>3D Neuron Reconstruction morphology</td>\n",
       "      <td>3589.339062</td>\n",
       "      <td>4704.910407</td>\n",
       "      <td>582.285423</td>\n",
       "    </tr>\n",
       "    <tr>\n",
       "      <th>561435279</th>\n",
       "      <td>76.583222</td>\n",
       "      <td>NaN</td>\n",
       "      <td>0.900537</td>\n",
       "      <td>0.400396</td>\n",
       "      <td>95.979167</td>\n",
       "      <td>0.942049</td>\n",
       "      <td>NaN</td>\n",
       "      <td>689123605</td>\n",
       "      <td>11.0</td>\n",
       "      <td>943.382549</td>\n",
       "      <td>...</td>\n",
       "      <td>524.550156</td>\n",
       "      <td>0.1144</td>\n",
       "      <td>0.1144</td>\n",
       "      <td>0.28</td>\n",
       "      <td>180.994813</td>\n",
       "      <td>False</td>\n",
       "      <td>3D Neuron Reconstruction morphology</td>\n",
       "      <td>5416.228778</td>\n",
       "      <td>6814.933290</td>\n",
       "      <td>740.722806</td>\n",
       "    </tr>\n",
       "    <tr>\n",
       "      <th>591268268</th>\n",
       "      <td>72.019250</td>\n",
       "      <td>NaN</td>\n",
       "      <td>0.873518</td>\n",
       "      <td>0.227626</td>\n",
       "      <td>47.535714</td>\n",
       "      <td>1.000000</td>\n",
       "      <td>NaN</td>\n",
       "      <td>657879305</td>\n",
       "      <td>5.0</td>\n",
       "      <td>186.218009</td>\n",
       "      <td>...</td>\n",
       "      <td>261.459057</td>\n",
       "      <td>0.1144</td>\n",
       "      <td>0.1144</td>\n",
       "      <td>0.28</td>\n",
       "      <td>55.055236</td>\n",
       "      <td>False</td>\n",
       "      <td>3D Neuron Reconstruction morphology</td>\n",
       "      <td>1659.465869</td>\n",
       "      <td>1185.773462</td>\n",
       "      <td>69.144146</td>\n",
       "    </tr>\n",
       "  </tbody>\n",
       "</table>\n",
       "<p>5 rows × 29 columns</p>\n",
       "</div>"
      ],
      "text/plain": [
       "             average_bifurcation_angle_local  \\\n",
       "specimen_id                                    \n",
       "478107198                          82.727781   \n",
       "502367941                          82.506680   \n",
       "515771244                          77.536678   \n",
       "561435279                          76.583222   \n",
       "591268268                          72.019250   \n",
       "\n",
       "             average_bifurcation_angle_remote  average_contraction  \\\n",
       "specimen_id                                                          \n",
       "478107198                                 NaN             0.864267   \n",
       "502367941                                 NaN             0.903890   \n",
       "515771244                                 NaN             0.863104   \n",
       "561435279                                 NaN             0.900537   \n",
       "591268268                                 NaN             0.873518   \n",
       "\n",
       "             average_diameter  average_fragmentation  \\\n",
       "specimen_id                                            \n",
       "478107198            0.345092              20.723077   \n",
       "502367941            0.634047             105.277778   \n",
       "515771244            0.417929              73.666667   \n",
       "561435279            0.400396              95.979167   \n",
       "591268268            0.227626              47.535714   \n",
       "\n",
       "             average_parent_daughter_ratio  hausdorff_dimension         id  \\\n",
       "specimen_id                                                                  \n",
       "478107198                         0.964510                  NaN  491119743   \n",
       "502367941                         0.862183                  NaN  546781359   \n",
       "515771244                         0.926633                  NaN  537042261   \n",
       "561435279                         0.942049                  NaN  689123605   \n",
       "591268268                         1.000000                  NaN  657879305   \n",
       "\n",
       "             max_branch_order  max_euclidean_distance  ...  overall_width  \\\n",
       "specimen_id                                            ...                  \n",
       "478107198                 6.0               99.779724  ...     136.267522   \n",
       "502367941                 3.0              432.383110  ...     370.170045   \n",
       "515771244                 6.0              373.630444  ...     381.015114   \n",
       "561435279                11.0              943.382549  ...     524.550156   \n",
       "591268268                 5.0              186.218009  ...     261.459057   \n",
       "\n",
       "            scale_factor_x  scale_factor_y  scale_factor_z  soma_surface  \\\n",
       "specimen_id                                                                \n",
       "478107198           0.1144          0.1144            0.28    435.740270   \n",
       "502367941           0.1144          0.1144            0.28   1446.587725   \n",
       "515771244           0.1144          0.1144            0.28    287.118123   \n",
       "561435279           0.1144          0.1144            0.28    180.994813   \n",
       "591268268           0.1144          0.1144            0.28     55.055236   \n",
       "\n",
       "             superseded                                 tags  total_length  \\\n",
       "specimen_id                                                                  \n",
       "478107198         False  3D Neuron Reconstruction morphology   1666.082926   \n",
       "502367941         False  3D Neuron Reconstruction morphology   2277.259374   \n",
       "515771244         False  3D Neuron Reconstruction morphology   3589.339062   \n",
       "561435279         False  3D Neuron Reconstruction morphology   5416.228778   \n",
       "591268268         False  3D Neuron Reconstruction morphology   1659.465869   \n",
       "\n",
       "             total_surface  total_volume  \n",
       "specimen_id                               \n",
       "478107198      1803.875644    167.343086  \n",
       "502367941      4543.139073    921.571895  \n",
       "515771244      4704.910407    582.285423  \n",
       "561435279      6814.933290    740.722806  \n",
       "591268268      1185.773462     69.144146  \n",
       "\n",
       "[5 rows x 29 columns]"
      ]
     },
     "execution_count": 26,
     "metadata": {},
     "output_type": "execute_result"
    }
   ],
   "source": [
    "# Downloads the morphology features and sets up the dataframe all in one line\n",
    "morphology_df = pd.DataFrame(ctc.get_morphology_features()).set_index('specimen_id')\n",
    "print('Length of dataframe:',len(morphology_df))\n",
    "morphology_df.head()"
   ]
  },
  {
   "cell_type": "markdown",
   "metadata": {},
   "source": [
    "Now we have two dataframes, one with the metadata for our cells, indexed by id, and another with the morphology data for all cells, also indexed by id. Usefully, these ids are unique to each cell, meaning we can match them across dataframes.\n",
    "\n",
    "We'll use [join](https://pandas.pydata.org/pandas-docs/stable/reference/api/pandas.DataFrame.join.html) to unite our dataframes. Since for the moment we're only interested in cells that have morphology data, we'll **join** the dataframes \"on the right,\" effectively dropping all of the cells that are not in the morphology dataframe.\n",
    "\n",
    "**Note**: Above, in get the `get_cells()` method, you can also restrict to experiments with morphology data by usnig the `require_morphology = True` argument."
   ]
  },
  {
   "cell_type": "code",
   "execution_count": 27,
   "metadata": {},
   "outputs": [
    {
     "name": "stdout",
     "output_type": "stream",
     "text": [
      "Number of cells: 701\n"
     ]
    },
    {
     "data": {
      "text/html": [
       "<div>\n",
       "<style scoped>\n",
       "    .dataframe tbody tr th:only-of-type {\n",
       "        vertical-align: middle;\n",
       "    }\n",
       "\n",
       "    .dataframe tbody tr th {\n",
       "        vertical-align: top;\n",
       "    }\n",
       "\n",
       "    .dataframe thead th {\n",
       "        text-align: right;\n",
       "    }\n",
       "</style>\n",
       "<table border=\"1\" class=\"dataframe\">\n",
       "  <thead>\n",
       "    <tr style=\"text-align: right;\">\n",
       "      <th></th>\n",
       "      <th>reporter_status</th>\n",
       "      <th>cell_soma_location</th>\n",
       "      <th>species</th>\n",
       "      <th>name</th>\n",
       "      <th>structure_layer_name</th>\n",
       "      <th>structure_area_id</th>\n",
       "      <th>structure_area_abbrev</th>\n",
       "      <th>transgenic_line</th>\n",
       "      <th>dendrite_type</th>\n",
       "      <th>apical</th>\n",
       "      <th>...</th>\n",
       "      <th>overall_width</th>\n",
       "      <th>scale_factor_x</th>\n",
       "      <th>scale_factor_y</th>\n",
       "      <th>scale_factor_z</th>\n",
       "      <th>soma_surface</th>\n",
       "      <th>superseded</th>\n",
       "      <th>tags</th>\n",
       "      <th>total_length</th>\n",
       "      <th>total_surface</th>\n",
       "      <th>total_volume</th>\n",
       "    </tr>\n",
       "  </thead>\n",
       "  <tbody>\n",
       "    <tr>\n",
       "      <th>313861608</th>\n",
       "      <td>positive</td>\n",
       "      <td>[9349.44051500564, 1314.78991021449, 3245.6530...</td>\n",
       "      <td>Mus musculus</td>\n",
       "      <td>Pvalb-IRES-Cre;Ai14-165874.04.02.01</td>\n",
       "      <td>5</td>\n",
       "      <td>385</td>\n",
       "      <td>VISp</td>\n",
       "      <td>Pvalb-IRES-Cre</td>\n",
       "      <td>aspiny</td>\n",
       "      <td>NA</td>\n",
       "      <td>...</td>\n",
       "      <td>358.994232</td>\n",
       "      <td>0.1144</td>\n",
       "      <td>0.1144</td>\n",
       "      <td>0.28</td>\n",
       "      <td>514.500853</td>\n",
       "      <td>False</td>\n",
       "      <td>3D Neuron Reconstruction morphology</td>\n",
       "      <td>3538.876780</td>\n",
       "      <td>6041.095769</td>\n",
       "      <td>945.093080</td>\n",
       "    </tr>\n",
       "    <tr>\n",
       "      <th>313862022</th>\n",
       "      <td>positive</td>\n",
       "      <td>[9489.24257509068, 1423.65239028148, 2785.4430...</td>\n",
       "      <td>Mus musculus</td>\n",
       "      <td>Scnn1a-Tg2-Cre;Ai14-167081.03.02.01</td>\n",
       "      <td>4</td>\n",
       "      <td>385</td>\n",
       "      <td>VISp</td>\n",
       "      <td>Scnn1a-Tg2-Cre</td>\n",
       "      <td>spiny</td>\n",
       "      <td>intact</td>\n",
       "      <td>...</td>\n",
       "      <td>287.122628</td>\n",
       "      <td>0.1144</td>\n",
       "      <td>0.1144</td>\n",
       "      <td>0.28</td>\n",
       "      <td>268.777679</td>\n",
       "      <td>False</td>\n",
       "      <td>3D Neuron Reconstruction morphology</td>\n",
       "      <td>3498.090031</td>\n",
       "      <td>3523.606841</td>\n",
       "      <td>306.290931</td>\n",
       "    </tr>\n",
       "    <tr>\n",
       "      <th>313862167</th>\n",
       "      <td>positive</td>\n",
       "      <td>[9279.53948496313, 1831.03502009105, 2151.2443...</td>\n",
       "      <td>Mus musculus</td>\n",
       "      <td>Sst-IRES-Cre;Ai14-167638.05.02.01</td>\n",
       "      <td>4</td>\n",
       "      <td>409</td>\n",
       "      <td>VISl</td>\n",
       "      <td>Sst-IRES-Cre</td>\n",
       "      <td>aspiny</td>\n",
       "      <td>NA</td>\n",
       "      <td>...</td>\n",
       "      <td>327.150383</td>\n",
       "      <td>0.1144</td>\n",
       "      <td>0.1144</td>\n",
       "      <td>0.28</td>\n",
       "      <td>361.118559</td>\n",
       "      <td>False</td>\n",
       "      <td>3D Neuron Reconstruction morphology</td>\n",
       "      <td>2644.878298</td>\n",
       "      <td>3883.698604</td>\n",
       "      <td>512.836253</td>\n",
       "    </tr>\n",
       "    <tr>\n",
       "      <th>313862167</th>\n",
       "      <td>positive</td>\n",
       "      <td>[9279.53948496313, 1831.03502009105, 2151.2443...</td>\n",
       "      <td>Mus musculus</td>\n",
       "      <td>Sst-IRES-Cre;Ai14-167638.05.02.01</td>\n",
       "      <td>4</td>\n",
       "      <td>409</td>\n",
       "      <td>VISl</td>\n",
       "      <td>Sst-IRES-Cre</td>\n",
       "      <td>aspiny</td>\n",
       "      <td>NA</td>\n",
       "      <td>...</td>\n",
       "      <td>327.150383</td>\n",
       "      <td>0.1144</td>\n",
       "      <td>0.1144</td>\n",
       "      <td>0.28</td>\n",
       "      <td>361.118559</td>\n",
       "      <td>True</td>\n",
       "      <td>3D Neuron Reconstruction morphology</td>\n",
       "      <td>2644.878347</td>\n",
       "      <td>3883.699514</td>\n",
       "      <td>512.835043</td>\n",
       "    </tr>\n",
       "    <tr>\n",
       "      <th>313862306</th>\n",
       "      <td>positive</td>\n",
       "      <td>[8976.63502144556, 1878.14058922573, 8881.4968...</td>\n",
       "      <td>Mus musculus</td>\n",
       "      <td>Sst-IRES-Cre;Ai14-167636.04.01.01</td>\n",
       "      <td>6a</td>\n",
       "      <td>385</td>\n",
       "      <td>VISp</td>\n",
       "      <td>Sst-IRES-Cre</td>\n",
       "      <td>aspiny</td>\n",
       "      <td>NA</td>\n",
       "      <td>...</td>\n",
       "      <td>242.781213</td>\n",
       "      <td>0.1144</td>\n",
       "      <td>0.1144</td>\n",
       "      <td>0.28</td>\n",
       "      <td>94.306278</td>\n",
       "      <td>False</td>\n",
       "      <td>3D Neuron Reconstruction morphology</td>\n",
       "      <td>2502.160541</td>\n",
       "      <td>1994.902243</td>\n",
       "      <td>141.878464</td>\n",
       "    </tr>\n",
       "  </tbody>\n",
       "</table>\n",
       "<p>5 rows × 44 columns</p>\n",
       "</div>"
      ],
      "text/plain": [
       "          reporter_status                                 cell_soma_location  \\\n",
       "313861608        positive  [9349.44051500564, 1314.78991021449, 3245.6530...   \n",
       "313862022        positive  [9489.24257509068, 1423.65239028148, 2785.4430...   \n",
       "313862167        positive  [9279.53948496313, 1831.03502009105, 2151.2443...   \n",
       "313862167        positive  [9279.53948496313, 1831.03502009105, 2151.2443...   \n",
       "313862306        positive  [8976.63502144556, 1878.14058922573, 8881.4968...   \n",
       "\n",
       "                species                                 name  \\\n",
       "313861608  Mus musculus  Pvalb-IRES-Cre;Ai14-165874.04.02.01   \n",
       "313862022  Mus musculus  Scnn1a-Tg2-Cre;Ai14-167081.03.02.01   \n",
       "313862167  Mus musculus    Sst-IRES-Cre;Ai14-167638.05.02.01   \n",
       "313862167  Mus musculus    Sst-IRES-Cre;Ai14-167638.05.02.01   \n",
       "313862306  Mus musculus    Sst-IRES-Cre;Ai14-167636.04.01.01   \n",
       "\n",
       "          structure_layer_name  structure_area_id structure_area_abbrev  \\\n",
       "313861608                    5                385                  VISp   \n",
       "313862022                    4                385                  VISp   \n",
       "313862167                    4                409                  VISl   \n",
       "313862167                    4                409                  VISl   \n",
       "313862306                   6a                385                  VISp   \n",
       "\n",
       "          transgenic_line dendrite_type  apical  ... overall_width  \\\n",
       "313861608  Pvalb-IRES-Cre        aspiny      NA  ...    358.994232   \n",
       "313862022  Scnn1a-Tg2-Cre         spiny  intact  ...    287.122628   \n",
       "313862167    Sst-IRES-Cre        aspiny      NA  ...    327.150383   \n",
       "313862167    Sst-IRES-Cre        aspiny      NA  ...    327.150383   \n",
       "313862306    Sst-IRES-Cre        aspiny      NA  ...    242.781213   \n",
       "\n",
       "          scale_factor_x  scale_factor_y scale_factor_z  soma_surface  \\\n",
       "313861608         0.1144          0.1144           0.28    514.500853   \n",
       "313862022         0.1144          0.1144           0.28    268.777679   \n",
       "313862167         0.1144          0.1144           0.28    361.118559   \n",
       "313862167         0.1144          0.1144           0.28    361.118559   \n",
       "313862306         0.1144          0.1144           0.28     94.306278   \n",
       "\n",
       "           superseded                                 tags  total_length  \\\n",
       "313861608       False  3D Neuron Reconstruction morphology   3538.876780   \n",
       "313862022       False  3D Neuron Reconstruction morphology   3498.090031   \n",
       "313862167       False  3D Neuron Reconstruction morphology   2644.878298   \n",
       "313862167        True  3D Neuron Reconstruction morphology   2644.878347   \n",
       "313862306       False  3D Neuron Reconstruction morphology   2502.160541   \n",
       "\n",
       "           total_surface  total_volume  \n",
       "313861608    6041.095769    945.093080  \n",
       "313862022    3523.606841    306.290931  \n",
       "313862167    3883.698604    512.836253  \n",
       "313862167    3883.699514    512.835043  \n",
       "313862306    1994.902243    141.878464  \n",
       "\n",
       "[5 rows x 44 columns]"
      ]
     },
     "execution_count": 27,
     "metadata": {},
     "output_type": "execute_result"
    }
   ],
   "source": [
    "# Combine our metadata with our morphology data\n",
    "meta_morph_df = all_cells_df.join(morphology_df,how='right')\n",
    "print('Number of cells:',len(meta_morph_df))\n",
    "meta_morph_df.head()"
   ]
  },
  {
   "cell_type": "markdown",
   "metadata": {},
   "source": [
    "The Cell Types Database also contains 3D reconstructions of neuronal morphologies. You can create these single cell reconstructions by executing the `get_reconstruction()` method on your instance of the cells type cache. To do so, you must specify what cell you want to reconstruct by inputing a `specimen_id`. This method returns a class instance with methods for accessing morphology compartments. "
   ]
  },
  {
   "cell_type": "code",
   "execution_count": 28,
   "metadata": {},
   "outputs": [
    {
     "data": {
      "text/plain": [
       "{'id': 0,\n",
       " 'type': 1,\n",
       " 'x': 396.0425,\n",
       " 'y': 368.9697,\n",
       " 'z': 26.6608,\n",
       " 'radius': 6.4254,\n",
       " 'parent': -1,\n",
       " 'tree_id': 0,\n",
       " 'children': [1, 487, 982, 1101, 1664, 1872, 2379, 3077]}"
      ]
     },
     "execution_count": 28,
     "metadata": {},
     "output_type": "execute_result"
    }
   ],
   "source": [
    "# Get the cell_id for the first cell in our dataframe\n",
    "cell_id = meta_morph_df.index[0]\n",
    "\n",
    "# Call for recontruction of desired cell\n",
    "single_cell_morphology = ctc.get_reconstruction(specimen_id = cell_id)\n",
    "\n",
    "# Get summary of cell reconstruction \n",
    "single_cell_morphology.soma"
   ]
  },
  {
   "cell_type": "markdown",
   "metadata": {},
   "source": [
    "We now have a dictionary of our cell reconstruction. Note that the type field refers to the type of neuronal compartment. The values can be 1 for the soma, 2 for the axon, 3 for dendrites, and 4 for apical dendrites (if present). The x, y, and z, represent the spatial location of the cell soma.\n",
    "\n",
    "Morphologies also come with marker files, which contain points of interest in the reconstruction. The marker file contains locations where dendrites have been truncated due to slicing and when axons were not reconstructed. The `name` field indicates the type of marker (10 for dendrite truncation, 20 for no reconstruction)."
   ]
  },
  {
   "cell_type": "code",
   "execution_count": 29,
   "metadata": {},
   "outputs": [
    {
     "data": {
      "text/plain": [
       "[{'x': 417.1024, 'y': 252.13760000000002, 'z': 18.48, 'name': 10},\n",
       " {'x': 411.4968, 'y': 325.0104, 'z': 18.48, 'name': 10},\n",
       " {'x': 429.4576, 'y': 364.1352, 'z': 19.32, 'name': 10},\n",
       " {'x': 378.3208, 'y': 363.3344, 'z': 17.36, 'name': 10},\n",
       " {'x': 393.8792, 'y': 404.5184, 'z': 17.08, 'name': 10},\n",
       " {'x': 386.9008, 'y': 309.2232, 'z': 19.88, 'name': 10},\n",
       " {'x': 366.652, 'y': 503.5888, 'z': 24.08, 'name': 10},\n",
       " {'x': 546.2244999999999, 'y': 189.7084, 'z': 129.2262, 'name': 10},\n",
       " {'x': 529.3048, 'y': 413.3364, 'z': 99.47279999999999, 'name': 10},\n",
       " {'x': 442.8424, 'y': 473.616, 'z': 101.36, 'name': 10},\n",
       " {'x': 374.7744, 'y': 475.904, 'z': 86.24, 'name': 10},\n",
       " {'x': 541.3716999999999, 'y': 216.2698, 'z': 85.21379999999999, 'name': 10},\n",
       " {'x': 431.7868, 'y': 205.0448, 'z': 89.7428, 'name': 10},\n",
       " {'x': 614.0992, 'y': 300.9864, 'z': 83.44, 'name': 10},\n",
       " {'x': 383.09360000000004, 'y': 371.9785, 'z': 16.929599999999997, 'name': 20},\n",
       " {'x': 396.1077, 'y': 368.7706, 'z': 17.968999999999998, 'name': 30}]"
      ]
     },
     "execution_count": 29,
     "metadata": {},
     "output_type": "execute_result"
    }
   ],
   "source": [
    "# Download and store markers for 3D reconstruction \n",
    "markers = ctc.get_reconstruction_markers(cell_id) \n",
    "markers"
   ]
  },
  {
   "cell_type": "markdown",
   "metadata": {},
   "source": [
    "We can use this data to draw lines between each node and all its children to get a drawing of the cell. We'll reconstruct an image from the front and side view of our cell.\n",
    "\n",
    "**Note**: Since we're reconstructing what is likely to be a very complicated neuron, this might take a minute to plot."
   ]
  },
  {
   "cell_type": "code",
   "execution_count": 30,
   "metadata": {},
   "outputs": [
    {
     "data": {
      "image/png": "[encoded data removed]",
      "text/plain": [
       "<Figure size 720x720 with 2 Axes>"
      ]
     },
     "metadata": {
      "needs_background": "light"
     },
     "output_type": "display_data"
    }
   ],
   "source": [
    "# Import necessary toolboxes\n",
    "from allensdk.core.swc import Marker\n",
    "\n",
    "# Set up our plot\n",
    "fig, ax = plt.subplots(1, 2, sharey=True, sharex=True, figsize=(10,10))\n",
    "ax[0].set_aspect('equal')\n",
    "ax[1].set_aspect('equal')\n",
    "\n",
    "# Make a line drawing of x-y and y-z views\n",
    "for n in single_cell_morphology.compartment_list:\n",
    "    for c in single_cell_morphology.children_of(n):\n",
    "        ax[0].plot([n['x'], c['x']], [n['y'], c['y']], color='black')\n",
    "        ax[1].plot([n['z'], c['z']], [n['y'], c['y']], color='black')\n",
    "\n",
    "# Plot cut dendrite markers in red\n",
    "dm = [ m for m in markers if m['name'] == Marker.CUT_DENDRITE ]\n",
    "ax[0].scatter([m['x'] for m in dm], [m['y'] for m in dm], color='red')\n",
    "ax[1].scatter([m['z'] for m in dm], [m['y'] for m in dm], color='red')\n",
    "\n",
    "# Plot no reconstruction markers in blue\n",
    "nm = [ m for m in markers if m['name'] == Marker.NO_RECONSTRUCTION ]\n",
    "ax[0].scatter([m['x'] for m in nm], [m['y'] for m in nm], color='blue')\n",
    "ax[1].scatter([m['z'] for m in nm], [m['y'] for m in nm], color='blue')\n",
    "ax[0].set_ylabel('y')\n",
    "ax[0].set_xlabel('x')\n",
    "ax[1].set_xlabel('z')\n",
    "ax[0].set_title('Front View')\n",
    "ax[1].set_title('Side View')\n",
    "\n",
    "# Show the plot\n",
    "plt.show()"
   ]
  },
  {
   "cell_type": "markdown",
   "metadata": {},
   "source": [
    "## Get Electrophysiology Data\n",
    "\n",
    "Now that we know what our cell looks like, let's take a look at its action potentials. The `get_ephys_data()` method can download electrophysiology traces for a single cell in the database. This method returns a class instance with helper methods for retrieving stimulus and response traces out of an NWB file. If we take a look at `specimen_ephys_data` we can see that it is an NWBDataSet object.  In order to use `get_ephys_data()`, you must specify the id of the cell specimen whose electrophysiology you would like to download.\n",
    "\n",
    "Below we go over methods that can be used to access the electrophysiology data for single cells, the source documentation for all the methods we cover can be found on the <a href = 'https://allensdk.readthedocs.io/en/latest/allensdk.core.nwb_data_set.html'> Allen Brain Atlas website</a>. The `get_experiment_sweep_numbers()` method returns all of the sweep numbers for experiments in the file. Each sweep contains metadata and electrophysiology data."
   ]
  },
  {
   "cell_type": "code",
   "execution_count": 31,
   "metadata": {
    "scrolled": false
   },
   "outputs": [
    {
     "name": "stdout",
     "output_type": "stream",
     "text": [
      "<class 'allensdk.core.nwb_data_set.NwbDataSet'>\n",
      "[10, 100, 101, 102, 103, 104, 105, 108, 11, 12, 13, 14, 15, 17, 18, 19, 20, 21, 23, 24, 25, 26, 28, 29, 30, 31, 32, 33, 34, 35, 36, 37, 39, 4, 40, 41, 42, 43, 44, 45, 46, 47, 48, 49, 5, 50, 51, 52, 53, 54, 55, 57, 58, 59, 6, 60, 61, 62, 63, 64, 65, 66, 68, 69, 7, 71, 72, 73, 74, 75, 76, 77, 78, 79, 8, 80, 81, 82, 83, 84, 85, 86, 87, 88, 89, 9, 90, 91, 92, 93, 94, 95, 96, 97, 98, 99]\n"
     ]
    }
   ],
   "source": [
    "# Get electrophysiological traces of our cell\n",
    "specimen_ephys_data = ctc.get_ephys_data(specimen_id = cell_id)\n",
    "\n",
    "# Retrieve sweep numbers for cell\n",
    "sweep_numbers = specimen_ephys_data.get_experiment_sweep_numbers()\n",
    "\n",
    "print(type(specimen_ephys_data))\n",
    "print(sweep_numbers)"
   ]
  },
  {
   "cell_type": "markdown",
   "metadata": {},
   "source": [
    "Now that we have sweep numbers to choose from, we can take a look at a sweep's metadata by calling get_sweep_metadata(). This returns a dictionary containing information such as stimulus paramaters and recording quality."
   ]
  },
  {
   "cell_type": "code",
   "execution_count": 32,
   "metadata": {},
   "outputs": [
    {
     "name": "stdout",
     "output_type": "stream",
     "text": [
      "{'aibs_stimulus_amplitude_pa': 420.0, 'aibs_stimulus_name': 'Short Square - Triple', 'gain': 0.01, 'initial_access_resistance': 15.208168, 'seal': 1.4909363}\n"
     ]
    }
   ],
   "source": [
    "# Select a sweep number \n",
    "sweep_number = sweep_numbers[-1]\n",
    "\n",
    "# Retrieve metadata for selected sweep\n",
    "specimen_metadata = specimen_ephys_data.get_sweep_metadata(sweep_number)\n",
    "print(specimen_metadata)"
   ]
  },
  {
   "cell_type": "markdown",
   "metadata": {},
   "source": [
    "The `get_sweep()` method returns a dictionary containing the stimulus, response, index_range, and sampling rate for a particular sweep."
   ]
  },
  {
   "cell_type": "code",
   "execution_count": 33,
   "metadata": {},
   "outputs": [
    {
     "name": "stdout",
     "output_type": "stream",
     "text": [
      "{'stimulus': array([0., 0., 0., ..., 0., 0., 0.], dtype=float32), 'response': array([-0.07440625, -0.0744375 , -0.074375  , ..., -0.07428125,\n",
      "       -0.074375  , -0.07428125], dtype=float32), 'stimulus_unit': 'Amps', 'index_range': (150000, 618600), 'sampling_rate': 200000.0}\n"
     ]
    }
   ],
   "source": [
    "sweep_data = specimen_ephys_data.get_sweep(sweep_number)\n",
    "print(sweep_data)"
   ]
  },
  {
   "cell_type": "markdown",
   "metadata": {},
   "source": [
    "Now that you've pulled down some data, chosen a cell, and chosen a sweep number, let's plot that data. We can look closer at the action potential by plotting the raw recording. Our `sweep_data` variable has all the data we need to plot our sweep; the stimulus current injected into our cell, the cell's response, and sampling rate of the sweep. "
   ]
  },
  {
   "cell_type": "code",
   "execution_count": 34,
   "metadata": {},
   "outputs": [
    {
     "data": {
      "image/png": "[encoded data removed]",
      "text/plain": [
       "<Figure size 648x648 with 2 Axes>"
      ]
     },
     "metadata": {
      "needs_background": "light"
     },
     "output_type": "display_data"
    }
   ],
   "source": [
    "# Get the stimulus trace (in amps) and convert to pA\n",
    "stim_current = sweep_data['stimulus'] * 1e12\n",
    "\n",
    "# Get the voltage trace (in volts) and convert to mV\n",
    "response_voltage = sweep_data['response'] * 1e3\n",
    "\n",
    "# Get the sampling rate and can create a time axis for our data\n",
    "sampling_rate = sweep_data['sampling_rate'] # in Hz\n",
    "timestamps = (np.arange(0, len(response_voltage)) * (1.0 / sampling_rate))\n",
    "\n",
    "fig, ax = plt.subplots(2, 1, sharex=True, figsize=(9,9))\n",
    "\n",
    "ax[0].set_title('Cell: '+str(cell_id)+', Sweep: '+str(sweep_number))\n",
    "ax[0].plot(timestamps, response_voltage)\n",
    "ax[0].set_ylabel('Cell Response (mV)')\n",
    "ax[1].plot(timestamps, stim_current)\n",
    "ax[1].set_xlabel('Time (sec)')\n",
    "ax[1].set_ylabel('Input Current (nA)')\n",
    "ax[1].set_xlim([2,2.2])\n",
    "\n",
    "plt.show()"
   ]
  },
  {
   "cell_type": "markdown",
   "metadata": {},
   "source": [
    "That's how you can dig into the morphology and raw electrophysiology traces for single cells. In the next notebook, we'll take a look at some of the features of these action potentials."
   ]
  },
  {
   "cell_type": "code",
   "execution_count": null,
   "metadata": {},
   "outputs": [],
   "source": []
  }
 ],
 "metadata": {
  "kernelspec": {
   "display_name": "Python 3",
   "language": "python",
   "name": "python3"
  },
  "language_info": {
   "codemirror_mode": {
    "name": "ipython",
    "version": 3
   },
   "file_extension": ".py",
   "mimetype": "text/x-python",
   "name": "python",
   "nbconvert_exporter": "python",
   "pygments_lexer": "ipython3",
   "version": "3.7.6"
  }
 },
 "nbformat": 4,
 "nbformat_minor": 4
}
