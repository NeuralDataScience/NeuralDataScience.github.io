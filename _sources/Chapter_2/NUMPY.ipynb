{
 "cells": [
  {
   "cell_type": "markdown",
   "metadata": {},
   "source": [
    "# NumPy"
   ]
  },
  {
   "cell_type": "markdown",
   "metadata": {},
   "source": [
    "NumPy is a useful package that can help store and wrangle homogeneous data. Homogenous data refers to data that are of the same [data type],(https://jakevdp.github.io/PythonDataScienceHandbook/02.01-understanding-data-types.html) such as all **floats** or all **integers**.\n",
    "\n",
    "We strongly recommend working through the [\"NumPy Quickstart Tutorial\"](https://numpy.org/doc/stable/user/quickstart.html) for a more comprehensive introduction to NumPy. Here, we'll introduce some useful tools using the *NumPy* package to analyze large datasets."
   ]
  },
  {
   "cell_type": "markdown",
   "metadata": {},
   "source": [
    "Before we can use NumPy, we need to import the package. We can also nickname the modules when we import them. The convention is to import `numpy` as `np`. "
   ]
  },
  {
   "cell_type": "code",
   "execution_count": 3,
   "metadata": {},
   "outputs": [
    {
     "name": "stdout",
     "output_type": "stream",
     "text": [
      "NumPy imported.\n"
     ]
    }
   ],
   "source": [
    "# Import packages\n",
    "import numpy as np\n",
    "\n",
    "# Use whos to see available modules\n",
    "print('NumPy imported.')"
   ]
  },
  {
   "cell_type": "markdown",
   "metadata": {},
   "source": [
    "## NumPy Arrays"
   ]
  },
  {
   "cell_type": "markdown",
   "metadata": {},
   "source": [
    "The basis of the NumPy package is the **array**. A NumPy array is similar to a list of lists or a grid of values. You can create a [NumPy array](https://numpy.org/doc/stable/reference/generated/numpy.array.html) from a list using `np.array()`, by reading in a file, or through functions built into the NumPy package such as such as `arange`, `linspace`, `empty`, etc."
   ]
  },
  {
   "cell_type": "code",
   "execution_count": 4,
   "metadata": {},
   "outputs": [
    {
     "name": "stdout",
     "output_type": "stream",
     "text": [
      "[ 2  4  6  8 10 12]\n"
     ]
    }
   ],
   "source": [
    "# Create a random list \n",
    "list1 = [2, 4, 6, 8, 10, 12]\n",
    "\n",
    "# Store list as a numpy array \n",
    "array1 = np.array(list1)\n",
    "print(array1)"
   ]
  },
  {
   "cell_type": "markdown",
   "metadata": {},
   "source": [
    "What we have created is a one-dimensional array which is similar to a normal list. NumPy arrays however, can be multidimensional. If we input a list of lists into `np.array()`, the output would be a multidimensional array (i.e a grid/matrix)."
   ]
  },
  {
   "cell_type": "code",
   "execution_count": 5,
   "metadata": {},
   "outputs": [
    {
     "name": "stdout",
     "output_type": "stream",
     "text": [
      "[[ 2  4  6  8 10 12]\n",
      " [ 1  3  5  7  9 11]]\n"
     ]
    }
   ],
   "source": [
    "# Create a 2nd random list \n",
    "list2 = [1, 3, 5, 7, 9, 11]\n",
    "\n",
    "# Store list of lists as a NumPy array \n",
    "array1 = np.array([list1, list2])\n",
    "print(array1)"
   ]
  },
  {
   "cell_type": "markdown",
   "metadata": {},
   "source": [
    "## Accessing attributes of NumPy arrays"
   ]
  },
  {
   "cell_type": "markdown",
   "metadata": {},
   "source": [
    "We can return the shape and size of an array by using the attributes `size` and `shape`. The `shape` attribute returns a tuple for the number of rows and columns of an array. The `size` attribute returns the total number of values stored within an array. "
   ]
  },
  {
   "cell_type": "code",
   "execution_count": 6,
   "metadata": {},
   "outputs": [
    {
     "name": "stdout",
     "output_type": "stream",
     "text": [
      "Array1 has a shape of:\n",
      "(2, 6)\n",
      "\n",
      "Array1 has a size of:\n",
      "12\n"
     ]
    }
   ],
   "source": [
    "print('Array1 has a shape of:')\n",
    "print(array1.shape)\n",
    "\n",
    "print('\\nArray1 has a size of:')\n",
    "print(array1.size)"
   ]
  },
  {
   "cell_type": "markdown",
   "metadata": {},
   "source": [
    "Other attributes that might be of interest are `ndim` and `dtype` which  respectively return the number of dimensions of the array and the data types stored in the array. You can see the full list of ndarray attributes in the <a href = \"https://numpy.org/doc/stable/reference/arrays.ndarray.html#array-attributes\"> NumPy ndarray documentation</a>."
   ]
  },
  {
   "cell_type": "code",
   "execution_count": 7,
   "metadata": {},
   "outputs": [
    {
     "name": "stdout",
     "output_type": "stream",
     "text": [
      "Array1 dimensions:\n",
      "2\n",
      "\n",
      "Array1 contains values of data type:\n",
      "int64\n"
     ]
    }
   ],
   "source": [
    "print('Array1 dimensions:')\n",
    "print(array1.ndim)\n",
    "\n",
    "print('\\nArray1 contains values of data type:')\n",
    "print(array1.dtype)"
   ]
  },
  {
   "cell_type": "markdown",
   "metadata": {},
   "source": [
    "## Indexing & Slicing Arrays"
   ]
  },
  {
   "cell_type": "markdown",
   "metadata": {},
   "source": [
    "You can index NumPy arrays using `array_name[row,column]` to select a single value. If you omit the column, it will give you the entire row. You can also use `:` in place of either `row` or `column` to indicate you want to return all those values. We will demonstrate by indexing into `array1`. "
   ]
  },
  {
   "cell_type": "code",
   "execution_count": 8,
   "metadata": {},
   "outputs": [
    {
     "name": "stdout",
     "output_type": "stream",
     "text": [
      "The value stored in row 1, column 3 is:\n",
      "6\n",
      "The values stored in row 2 are:\n",
      "[ 1  3  5  7  9 11]\n"
     ]
    }
   ],
   "source": [
    "# Select the number 6 from our array \n",
    "print('The value stored in row 1, column 3 is:')\n",
    "print(array1[0,2])\n",
    "\n",
    "# Select the 2nd row from our array \n",
    "print('The values stored in row 2 are:')\n",
    "print(array1[1])"
   ]
  },
  {
   "cell_type": "markdown",
   "metadata": {},
   "source": [
    "You may want to look at a slice of columns or a slice of rows. You can slice your array like the following: `array(start_row:stop_row, start_col:end_col)`. "
   ]
  },
  {
   "cell_type": "code",
   "execution_count": 9,
   "metadata": {},
   "outputs": [
    {
     "name": "stdout",
     "output_type": "stream",
     "text": [
      "[[2 4 6]\n",
      " [1 3 5]]\n"
     ]
    }
   ],
   "source": [
    "# Print the first 3 columns of each row \n",
    "print(array1[: ,0:3])"
   ]
  },
  {
   "cell_type": "markdown",
   "metadata": {},
   "source": [
    "You can also select multiple, nonsequential columns by inputing a `list` as your `columns`. Lets try to index the first, third, and last column in `array1`."
   ]
  },
  {
   "cell_type": "code",
   "execution_count": 10,
   "metadata": {},
   "outputs": [
    {
     "name": "stdout",
     "output_type": "stream",
     "text": [
      "[[ 2  6 12]\n",
      " [ 1  5 11]]\n"
     ]
    }
   ],
   "source": [
    "# Choose your columns of interest \n",
    "columns = [0, 2, -1]\n",
    "print(array1[:, columns])"
   ]
  },
  {
   "cell_type": "markdown",
   "metadata": {},
   "source": [
    "We can also change values in an array similar to how we would change values in a list. The syntax we use is `array[row,column] = new_desired_value`."
   ]
  },
  {
   "cell_type": "code",
   "execution_count": 11,
   "metadata": {},
   "outputs": [
    {
     "name": "stdout",
     "output_type": "stream",
     "text": [
      "[[100 100 100 100 100 100]\n",
      " [  1   3   5   7   9  11]]\n"
     ]
    }
   ],
   "source": [
    "# Change the entire first row of array1 to 100\n",
    "array1[0,:] = 100\n",
    "print(array1)"
   ]
  },
  {
   "cell_type": "markdown",
   "metadata": {},
   "source": [
    "For further explanation of how to index Numpy arrays, please visit the <a href = \"https://numpy.org/doc/stable/reference/arrays.indexing.html\"> NumPy indexing documentation</a>."
   ]
  },
  {
   "cell_type": "markdown",
   "metadata": {},
   "source": [
    "## Subsetting "
   ]
  },
  {
   "cell_type": "markdown",
   "metadata": {},
   "source": [
    "We can also subet our original array to only include data that meets our criteria. We can think of this as *subsetting* the array by applying a condition to our array. The syntax for this would be `new_array = original_array[condition]`."
   ]
  },
  {
   "cell_type": "code",
   "execution_count": 12,
   "metadata": {},
   "outputs": [
    {
     "name": "stdout",
     "output_type": "stream",
     "text": [
      "[ 6  8 10 12  7  9 11]\n"
     ]
    }
   ],
   "source": [
    "# Reassign our original array \n",
    "array1 = np.array([list1, list2])\n",
    "\n",
    "# Return only values greater than 5 from our array \n",
    "condition = (array1 > 5)\n",
    "filtered_array = array1[condition]\n",
    "print(filtered_array)"
   ]
  },
  {
   "cell_type": "markdown",
   "metadata": {},
   "source": [
    "## Benefits of Using Arrays "
   ]
  },
  {
   "cell_type": "markdown",
   "metadata": {},
   "source": [
    "Using list of lists is not wrong per say, but it makes working with data more difficult. For example, if you were trying to add the numbers of the two lists together, simply adding the lists would only append one list at the end of the other. However, if you add two NumPy arrays together, the values of both arrays will be summed. "
   ]
  },
  {
   "cell_type": "code",
   "execution_count": 13,
   "metadata": {
    "scrolled": true
   },
   "outputs": [
    {
     "name": "stdout",
     "output_type": "stream",
     "text": [
      "[10, 20, 30, 40, 20, 40, 60, 80]\n",
      "\n",
      "\n",
      "[ 30  60  90 120]\n"
     ]
    }
   ],
   "source": [
    "# Add two lists together \n",
    "list3 = [10, 20, 30, 40]\n",
    "list4 = [20, 40, 60, 80]\n",
    "print(list3 + list4)\n",
    "print('\\n')\n",
    "\n",
    "# Add two arrays together \n",
    "array2 = np.array([10, 20, 30, 40])\n",
    "array3 = np.array([20, 40, 60, 80])\n",
    "print(array2 + array3)"
   ]
  },
  {
   "cell_type": "markdown",
   "metadata": {},
   "source": [
    "Alternitavely, you can use the `sum()` method to add all values in an array together. You can also specify whether you want to sum the values across rows or columns in a grid/matrix. If you specify you want to sum values in rows or columns, the output will be an array of the sums. "
   ]
  },
  {
   "cell_type": "code",
   "execution_count": 14,
   "metadata": {},
   "outputs": [
    {
     "name": "stdout",
     "output_type": "stream",
     "text": [
      "array4:\n",
      "[[ 5 10]\n",
      " [15 20]\n",
      " [25 30]]\n",
      "\n",
      "\n",
      "Array sum\n",
      "105\n",
      "\n",
      "\n",
      "Column sums\n",
      "[45 60]\n",
      "\n",
      "\n",
      "Row sums\n",
      "[15 35 55]\n"
     ]
    }
   ],
   "source": [
    "# Create a 2 by 3 array \n",
    "array4 = np.array([[5, 10], [15, 20], [25, 30]])\n",
    "print('array4:')\n",
    "print(array4)\n",
    "print('\\n')\n",
    "\n",
    "# Sum all values in array \n",
    "print('Array sum')\n",
    "print(array4.sum())\n",
    "print('\\n')\n",
    "\n",
    "# Sum the values across columns\n",
    "print('Column sums')\n",
    "print(array4.sum(axis = 0))\n",
    "print('\\n')\n",
    "\n",
    "# Sum the values across rows\n",
    "print('Row sums')\n",
    "print(array4.sum(axis = 1))"
   ]
  },
  {
   "cell_type": "markdown",
   "metadata": {},
   "source": [
    "For a full list of array methods, please visit the <a href = \"https://numpy.org/doc/stable/reference/arrays.ndarray.html#array-methods\"> NumPy array methods documentation</a>. You can also visit the <a href = \"\"> NumPy Reference</a> for more information on functions, modules, and objects in NumPy. "
   ]
  },
  {
   "cell_type": "markdown",
   "metadata": {},
   "source": [
    "## NumPy also includes some very useful array generating functions:\n",
    "\n",
    "* `arange`: like `range` but gives you a useful NumPy array, instead of an interator, and can use more than just integers)\n",
    "* `linspace` creates an array with given start and end points, and a desired number of points\n",
    "* `logspace` same as linspace, but in log.\n",
    "* `random` can create a random list (there are <a href=\"https://docs.scipy.org/doc/numpy-1.14.0/reference/routines.random.html\">many different ways to use this</a>)\n",
    "* `concatenate` which can concatenate two arrays along an existing axis [<a href=\"https://docs.scipy.org/doc/numpy/reference/generated/numpy.concatenate.html\">documentation</a>]\n",
    "* `hstack` and `vstack` which can horizontally or vertically stack arrays\n",
    "\n",
    "Whenever we call these, we need to use whatever name we imported `numpy` as (here, `np`). We will demonstrate some of these functions below. For a full list of funtions used to create arrays, please visit the <a href = \"https://numpy.org/doc/stable/reference/routines.array-creation.html\"> NumPy array creation documentaion</a>."
   ]
  },
  {
   "cell_type": "code",
   "execution_count": 15,
   "metadata": {},
   "outputs": [
    {
     "name": "stdout",
     "output_type": "stream",
     "text": [
      "[  0.          16.33333333  32.66666667  49.          65.33333333\n",
      "  81.66666667  98.         114.33333333 130.66666667 147.        ]\n"
     ]
    }
   ],
   "source": [
    "# When using linspace, both end points are included\n",
    "print(np.linspace(0,147,10))"
   ]
  },
  {
   "cell_type": "code",
   "execution_count": 16,
   "metadata": {},
   "outputs": [
    {
     "name": "stdout",
     "output_type": "stream",
     "text": [
      "[  1.  12.  23.  34.  45.  56.  67.  78.  89. 100.]\n",
      "[ 0 10 20 30 40 50 60 70 80 90]\n"
     ]
    }
   ],
   "source": [
    "# First array is  a list of 10 numbers that are evenly spaced, \n",
    "# and range from exactly 1 to 100\n",
    "first_array = np.linspace(1,100, 10)\n",
    "\n",
    "# Second row is a list of 10 numbers that begin \n",
    "# at 0 and are exactly 10 apart\n",
    "second_array = np.arange(0,100,10)\n",
    "\n",
    "print(first_array)\n",
    "print(second_array)"
   ]
  },
  {
   "cell_type": "code",
   "execution_count": 17,
   "metadata": {},
   "outputs": [
    {
     "name": "stdout",
     "output_type": "stream",
     "text": [
      "[[  1.  12.  23.  34.  45.  56.  67.  78.  89. 100.]\n",
      " [  0.  10.  20.  30.  40.  50.  60.  70.  80.  90.]]\n"
     ]
    }
   ],
   "source": [
    "# Create an array that has two rows \n",
    "# First row should be 'first_array'\n",
    "# Second row should be 'second_array'\n",
    "big_array = np.vstack([first_array, second_array])\n",
    "print(big_array)"
   ]
  },
  {
   "cell_type": "markdown",
   "metadata": {},
   "source": [
    "Numpy also has built in methods to save and load arrays: `np.save()` and `np.load()`. Numpy files have a .npy extension. See full documentation <a href=\"https://docs.scipy.org/doc/numpy/reference/generated/numpy.save.html\">here</a>."
   ]
  },
  {
   "cell_type": "code",
   "execution_count": 18,
   "metadata": {},
   "outputs": [],
   "source": [
    "# Save method takes arguments 'filename' and then 'array':\n",
    "np.save('big_array',big_array)"
   ]
  },
  {
   "cell_type": "code",
   "execution_count": 19,
   "metadata": {},
   "outputs": [
    {
     "name": "stdout",
     "output_type": "stream",
     "text": [
      "[[  1.  12.  23.  34.  45.  56.  67.  78.  89. 100.]\n",
      " [  0.  10.  20.  30.  40.  50.  60.  70.  80.  90.]]\n"
     ]
    }
   ],
   "source": [
    "my_new_matrix = np.load('big_array.npy')\n",
    "print(my_new_matrix)"
   ]
  },
  {
   "cell_type": "markdown",
   "metadata": {},
   "source": [
    "## Additional Resources\n",
    "See the [Python Data Science Handbook](https://jakevdp.github.io/PythonDataScienceHandbook/02.00-introduction-to-numpy.html) for a more in depth exploration of NumPy, and of course, <a href = \"https://numpy.org/doc/stable/contents.html#numpy-docs-mainpage\">the original documentation</a>."
   ]
  },
  {
   "cell_type": "code",
   "execution_count": null,
   "metadata": {},
   "outputs": [],
   "source": []
  }
 ],
 "metadata": {
  "kernelspec": {
   "display_name": "Python 3",
   "language": "python",
   "name": "python3"
  },
  "language_info": {
   "codemirror_mode": {
    "name": "ipython",
    "version": 3
   },
   "file_extension": ".py",
   "mimetype": "text/x-python",
   "name": "python",
   "nbconvert_exporter": "python",
   "pygments_lexer": "ipython3",
   "version": "3.7.6"
  }
 },
 "nbformat": 4,
 "nbformat_minor": 4
}
