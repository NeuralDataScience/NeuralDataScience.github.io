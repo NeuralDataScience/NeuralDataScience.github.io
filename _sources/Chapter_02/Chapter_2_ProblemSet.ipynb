{
 "cells": [
  {
   "cell_type": "markdown",
   "id": "148081b9",
   "metadata": {},
   "source": [
    "## Chapter 2 Problem Set\n",
    "\n",
    "1. In [Chapter 2.1](https://neuraldatascience.github.io/Chapter_02/Obtaining_Datasets_with_DANDI.html), we demonstrated how to download a particular DANDIset. Modify this code to download another dataset, and dig in to see what's there.\n",
    "2. In [Chapter 2.2](https://neuraldatascience.github.io/Chapter_02/Working_with_NWB_format_in_Python.html) we demonstrated how to create a dataframe with all of the units (possible neurons) that were recorded. How would you filter this dataframe for only \"good\" units?"
   ]
  }
 ],
 "metadata": {
  "kernelspec": {
   "display_name": "Python 3",
   "language": "python",
   "name": "python3"
  },
  "language_info": {
   "codemirror_mode": {
    "name": "ipython",
    "version": 3
   },
   "file_extension": ".py",
   "mimetype": "text/x-python",
   "name": "python",
   "nbconvert_exporter": "python",
   "pygments_lexer": "ipython3",
   "version": "3.7.3"
  }
 },
 "nbformat": 4,
 "nbformat_minor": 5
}
