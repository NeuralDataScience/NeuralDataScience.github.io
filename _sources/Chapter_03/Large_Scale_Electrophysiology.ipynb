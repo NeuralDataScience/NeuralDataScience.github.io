{
 "cells": [
  {
   "cell_type": "markdown",
   "metadata": {},
   "source": [
    "# Large Scale Electrophysiology\n",
    "\n",
    "A single neuron can not carry out tasks such as reading by itself -- it requires the surrounding, interconnected neurons to send and receive signals and accomplish the simplest of tasks. In modern large-scale electrophysiology, the activity of hundreds of neurons are recorded in an attempt to determine where neuron activity occurs and how these cells communicate with each other when presented with certain tasks.  \n",
    "\n",
    "<img src=\"https://brainmapportal-live-4cc80a57cd6e400d854-f7fdcae.divio-media.net/filer_public/88/00/8800429b-8811-471f-9f04-82d19b3851b0/neuropixels_visual_coding_cms_images-04.png\"\n",
    "     alt=\"Neuropixels Logo\"\n",
    "     align=\"right\"\n",
    "     float=\"left\"\n",
    "     width=\"250\"/>\n",
    "**Neuropixels Probes**\n",
    "\n",
    "The technological advancement of the Neuropixels probe has significantly propelled systems neuroscience research in recent years ([Jun et al., 2017](https://www.nature.com/articles/nature24636)). Each probe is approximately the size of a strand of hair and has 960 recording sites allowing for hundreds of neurons to be recorded simultaneously. The reduced size of these recording devices allows for mutliple probes to be inserted into the same brain, providing real time recordings of multiple brain areas.\n",
    "<br clear=\"left\"/>\n",
    "\n",
    "<hr>\n",
    "\n",
    "**Additional Resources** \n",
    "* To read more about the potential of Neuropixels probes, read this [Simons Foundation article](https://www.simonsfoundation.org/2018/01/04/neuropixels-offer-new-ways-to-map-cells/).\n",
    "* For technical information about the Neuropixel probes or to learn how to obtain them, please visit <a href = 'https://www.neuropixels.org/'> neuropixels.org</a>."
   ]
  }
 ],
 "metadata": {
  "kernelspec": {
   "display_name": "Python 3",
   "language": "python",
   "name": "python3"
  },
  "language_info": {
   "codemirror_mode": {
    "name": "ipython",
    "version": 3
   },
   "file_extension": ".py",
   "mimetype": "text/x-python",
   "name": "python",
   "nbconvert_exporter": "python",
   "pygments_lexer": "ipython3",
   "version": "3.7.3"
  }
 },
 "nbformat": 4,
 "nbformat_minor": 4
}
