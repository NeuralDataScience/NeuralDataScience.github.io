{
 "cells": [
  {
   "cell_type": "markdown",
   "metadata": {},
   "source": [
    "# A Hands-On Guide to Neural Data Science"
   ]
  },
  {
   "cell_type": "markdown",
   "metadata": {},
   "source": [
    "## Overview"
   ]
  },
  {
   "cell_type": "markdown",
   "metadata": {},
   "source": [
    "This online textbook will provide interactive resources for researchers, educators, and students who would like to use open neuroscience datasets for research and teaching. This book will provide tutorials in the form of interactive Jupyter/Colab notebooks and videos for how to use Python to wrangle neuroscience datasets, with a focus on Neuroscience Without Borders datasets. The emphasis is on data mining and wrangling rather than analysis — with the right folks on board, this could however be built out into a fully comprehensive guide including all of these aspects of neural data science.\n"
   ]
  },
  {
   "cell_type": "markdown",
   "metadata": {},
   "source": [
    "## Contributors "
   ]
  },
  {
   "cell_type": "markdown",
   "metadata": {},
   "source": [
    "Ashley Juavinett, Victor Magdaleno-Garcia, Bradley Voytek\n"
   ]
  },
  {
   "cell_type": "markdown",
   "metadata": {},
   "source": [
    "## Similar Resources "
   ]
  },
  {
   "cell_type": "markdown",
   "metadata": {},
   "source": [
    "There are several great online resources for neural data science (listed below). The goal here is not to re-work the wheel — but rather to provide a coherent flow through many of these materials,  as well as additional practical materials for specific datasets. \n",
    "\n",
    "- Neural Data Science by Nylen & Wallisch <a href=\"https://www.sciencedirect.com/book/9780128040430/neural-data-science\">[link]</a>\n",
    "- Foundations of Data Science <a href = \"https://www.inferentialthinking.com/chapters/intro.html\"> [link] </a>\n",
    "- Computational Neuroscience, open textbook written by students <a href = \"https://mrgreene09.github.io/computational-neuroscience-textbook/index.html\"> [link] </a>\n",
    "- Neuromatch Academy <a href = \"http://www.neuromatchacademy.org/syllabus/\"> [link] </a>\n"
   ]
  }
 ],
 "metadata": {
  "kernelspec": {
   "display_name": "Python 3",
   "language": "python",
   "name": "python3"
  },
  "language_info": {
   "codemirror_mode": {
    "name": "ipython",
    "version": 3
   },
   "file_extension": ".py",
   "mimetype": "text/x-python",
   "name": "python",
   "nbconvert_exporter": "python",
   "pygments_lexer": "ipython3",
   "version": "3.7.6"
  }
 },
 "nbformat": 4,
 "nbformat_minor": 4
}
