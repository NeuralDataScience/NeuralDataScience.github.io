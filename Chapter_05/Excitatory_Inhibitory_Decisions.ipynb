{
 "cells": [
  {
   "cell_type": "markdown",
   "id": "21cb067d",
   "metadata": {},
   "source": [
    "# Decision Making in Excitatory & Inhibitory Cells\n",
    "\n",
    "https://github.com/vathes/najafi-2018-nwb/blob/master/notebooks/Najafi-2018_example.ipynb"
   ]
  },
  {
   "cell_type": "code",
   "execution_count": null,
   "id": "14d1c073",
   "metadata": {},
   "outputs": [],
   "source": [
    "%matplotlib inline\n",
    "\n",
    "import os\n",
    "\n",
    "import matplotlib.pyplot as plt\n",
    "import numpy as np\n",
    "import pandas as pd\n",
    "import seaborn as sns\n",
    "from pynwb import NWBFile, NWBHDF5IO"
   ]
  }
 ],
 "metadata": {
  "kernelspec": {
   "display_name": "Python 3",
   "language": "python",
   "name": "python3"
  },
  "language_info": {
   "codemirror_mode": {
    "name": "ipython",
    "version": 3
   },
   "file_extension": ".py",
   "mimetype": "text/x-python",
   "name": "python",
   "nbconvert_exporter": "python",
   "pygments_lexer": "ipython3",
   "version": "3.7.3"
  }
 },
 "nbformat": 4,
 "nbformat_minor": 5
}
