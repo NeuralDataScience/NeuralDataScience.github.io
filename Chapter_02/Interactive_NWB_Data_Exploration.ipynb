{
 "cells": [
  {
   "cell_type": "markdown",
   "id": "375f6efa",
   "metadata": {},
   "source": [
    "# Interactive NWB Data Exploration\n",
    "\n",
    "As a first pass, it can be very useful to explore the dataset. This allows you to inspect the data for quality, and look for any interesting trends.\n",
    "\n",
    "Below, we'll take advantage of the [`nwbwidgets` package](https://github.com/NeurodataWithoutBorders/nwb-jupyter-widgets) to explore the data. This package usefully renders information and visualizations of the data, depending on what it is. "
   ]
  },
  {
   "cell_type": "code",
   "execution_count": 7,
   "id": "c6009154",
   "metadata": {},
   "outputs": [],
   "source": [
    "from pynwb import NWBHDF5IO\n",
    "from nwbwidgets import nwb2widget\n",
    "\n",
    "# read the NWB file\n",
    "#fpath = '000006/sub-anm369962/sub-anm369962_ses-20170310.nwb'\n",
    "fpath = '000025/001_140709EXP_A1_ndx_v3.nwb'\n",
    "nwb_file = NWBHDF5IO(fpath, 'r').read()"
   ]
  },
  {
   "cell_type": "code",
   "execution_count": 8,
   "id": "00ce1294",
   "metadata": {
    "scrolled": false
   },
   "outputs": [
    {
     "data": {
      "application/vnd.jupyter.widget-view+json": {
       "model_id": "27e67aa1599b4fabbb611350e4899f5b",
       "version_major": 2,
       "version_minor": 0
      },
      "text/plain": [
       "VBox(children=(HBox(children=(Label(value='session_description:', layout=Layout(max_height='40px', max_width='…"
      ]
     },
     "metadata": {},
     "output_type": "display_data"
    }
   ],
   "source": [
    "nwb2widget(nwb_file)"
   ]
  },
  {
   "cell_type": "markdown",
   "id": "b8c19a01",
   "metadata": {},
   "source": [
    "### Additional Resources\n",
    "* [Ben Dichter provides an overview of NWBWidgets](https://training.incf.org/lesson/nwbwidgets-inteactively-exploring-nwb-files)"
   ]
  }
 ],
 "metadata": {
  "kernelspec": {
   "display_name": "Python 3",
   "language": "python",
   "name": "python3"
  },
  "language_info": {
   "codemirror_mode": {
    "name": "ipython",
    "version": 3
   },
   "file_extension": ".py",
   "mimetype": "text/x-python",
   "name": "python",
   "nbconvert_exporter": "python",
   "pygments_lexer": "ipython3",
   "version": "3.7.3"
  }
 },
 "nbformat": 4,
 "nbformat_minor": 5
}
