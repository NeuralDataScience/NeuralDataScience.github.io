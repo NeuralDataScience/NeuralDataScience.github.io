{
 "cells": [
  {
   "cell_type": "markdown",
   "metadata": {},
   "source": [
    "# Obtaining and Working with NWB Datasets\n",
    "\n",
    "NWB datasets can be found in a few different places. In this textbook, we'll introduce two primary ways to obtain NWB datasets: through DANDI and through the Allen Institute SDK (Chapter 3). This chapter deals with obtaining and analyzing a sample dataset via DANDI.\n",
    "\n",
    "**About the Neurodata Without Borders: Neurophysiology File Format**\n",
    "All of the datasets that we'll work with here are in the [Neurodata Without Borders: Neurophysiology (NWB:N)](https://www.nwb.org/nwb-neurophysiology/) format. NWB:N is the common standard to share, store, and build analysis tools for neuroscience data. NWB:N contains software to stadardize data, APIs to read and write data, and important datasets in the neuroscience community that have been converted to NWB format. As we'll see in our first dataset, NWB:N also includes factors such as experimental design, experimental subjects, behavior, data aquisition, neural activity, and extensions.\n",
    "\n",
    "Several of the available NWB:N datasets are highlighted on the [NWB website](https://www.nwb.org/example-datasets/). \n",
    "\n",
    "In this chapter, we'll dig into one of the datasets that uses a technology known as Neuropixels to simultaneously record from many neurons. First, let's get the dataset."
   ]
  }
 ],
 "metadata": {
  "kernelspec": {
   "display_name": "Python 3",
   "language": "python",
   "name": "python3"
  },
  "language_info": {
   "codemirror_mode": {
    "name": "ipython",
    "version": 3
   },
   "file_extension": ".py",
   "mimetype": "text/x-python",
   "name": "python",
   "nbconvert_exporter": "python",
   "pygments_lexer": "ipython3",
   "version": "3.7.3"
  }
 },
 "nbformat": 4,
 "nbformat_minor": 4
}
