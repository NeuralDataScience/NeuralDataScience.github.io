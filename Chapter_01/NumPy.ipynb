{
 "cells": [
  {
   "cell_type": "markdown",
   "metadata": {},
   "source": [
    "# NumPy"
   ]
  },
  {
   "cell_type": "markdown",
   "metadata": {},
   "source": [
    "**NumPy** is a useful package that can help store and wrangle homogeneous data. \"Homogenous\" means that all data points within the data are of the same [data type](https://jakevdp.github.io/PythonDataScienceHandbook/02.01-understanding-data-types.html).\n",
    "\n",
    "We strongly recommend working through the [\"NumPy Quickstart Tutorial\"](https://numpy.org/doc/stable/user/quickstart.html) for a more comprehensive introduction to NumPy. Here, we'll introduce some useful tools using the *NumPy* package to analyze large datasets."
   ]
  },
  {
   "cell_type": "markdown",
   "metadata": {},
   "source": [
    "Before we can use NumPy, we need to import the package. We can also nickname the modules when we import them. The convention is to import `numpy` as `np`. "
   ]
  },
  {
   "cell_type": "code",
   "execution_count": 2,
   "metadata": {},
   "outputs": [
    {
     "name": "stdout",
     "output_type": "stream",
     "text": [
      "Variable   Type      Data/Info\n",
      "------------------------------\n",
      "np         module    <module 'numpy' from '/Us<...>kages/numpy/__init__.py'>\n"
     ]
    }
   ],
   "source": [
    "# Import packages\n",
    "import numpy as np\n",
    "\n",
    "# Use whos to see available modules\n",
    "%whos"
   ]
  },
  {
   "cell_type": "markdown",
   "metadata": {},
   "source": [
    "## NumPy Arrays"
   ]
  },
  {
   "cell_type": "markdown",
   "metadata": {},
   "source": [
    "The basis of the NumPy package is the **array**. A NumPy array is similar to a list of lists or a grid of values. You can create a [NumPy array](https://numpy.org/doc/stable/reference/generated/numpy.array.html) from a list using `np.array()`, by reading in a file, or through functions built into the NumPy package such as such as `arange`, `linspace`, `empty`, etc."
   ]
  },
  {
   "cell_type": "code",
   "execution_count": 4,
   "metadata": {},
   "outputs": [
    {
     "name": "stdout",
     "output_type": "stream",
     "text": [
      "[ 2  4  6  8 10 12]\n"
     ]
    }
   ],
   "source": [
    "# Create a list \n",
    "list_1 = [2, 4, 6, 8, 10, 12]\n",
    "\n",
    "# Store list as a numpy array \n",
    "array1 = np.array(list_1)\n",
    "print(array1)"
   ]
  },
  {
   "cell_type": "markdown",
   "metadata": {},
   "source": [
    "What we have created is a one-dimensional array which is similar to a normal list. NumPy arrays however, can be multidimensional. If we input a list of lists into `np.array()`, the output would be a multidimensional array (i.e a grid/matrix)."
   ]
  },
  {
   "cell_type": "code",
   "execution_count": 8,
   "metadata": {},
   "outputs": [
    {
     "name": "stdout",
     "output_type": "stream",
     "text": [
      "[[ 2  4  6  8 10 12]\n",
      " [ 1  3  5  7  9 11]]\n"
     ]
    }
   ],
   "source": [
    "# Create a 2nd list \n",
    "list_2 = [1, 3, 5, 7, 9, 11]\n",
    "\n",
    "# Store list of lists as a NumPy array \n",
    "my_array = np.array([list_1, list_2])\n",
    "print(my_array)"
   ]
  },
  {
   "cell_type": "markdown",
   "metadata": {},
   "source": [
    "## Accessing attributes of NumPy arrays"
   ]
  },
  {
   "cell_type": "markdown",
   "metadata": {},
   "source": [
    "We can return the shape and size of an array by using the attributes `size` and `shape`. The `shape` attribute returns a tuple for the number of rows and columns of an array. The `size` attribute returns the total number of values stored within an array. "
   ]
  },
  {
   "cell_type": "code",
   "execution_count": 9,
   "metadata": {},
   "outputs": [
    {
     "name": "stdout",
     "output_type": "stream",
     "text": [
      "My array has a shape of:\n",
      "(2, 6)\n",
      "\n",
      "My array has a size of:\n",
      "12\n"
     ]
    }
   ],
   "source": [
    "print('My array has a shape of:')\n",
    "print(my_array.shape)\n",
    "\n",
    "print('\\nMy array has a size of:')\n",
    "print(my_array.size)"
   ]
  },
  {
   "cell_type": "markdown",
   "metadata": {},
   "source": [
    "Other attributes that might be of interest are `ndim` and `dtype` which  respectively return the number of dimensions of the array and the data types stored in the array. You can see the full list of ndarray attributes in the <a href = \"https://numpy.org/doc/stable/reference/arrays.ndarray.html#array-attributes\"> NumPy ndarray documentation</a>."
   ]
  },
  {
   "cell_type": "code",
   "execution_count": 10,
   "metadata": {},
   "outputs": [
    {
     "name": "stdout",
     "output_type": "stream",
     "text": [
      "My array dimensions:\n",
      "2\n",
      "\n",
      "My array contains values of data type:\n",
      "int64\n"
     ]
    }
   ],
   "source": [
    "print('My array dimensions:')\n",
    "print(my_array.ndim)\n",
    "\n",
    "print('\\nMy array contains values of data type:')\n",
    "print(my_array.dtype)"
   ]
  },
  {
   "cell_type": "markdown",
   "metadata": {},
   "source": [
    "## Indexing & Slicing Arrays"
   ]
  },
  {
   "cell_type": "markdown",
   "metadata": {},
   "source": [
    "You can index NumPy arrays using `array_name[row,column]` to select a single value. If you omit the column, it will give you the entire row. You can also use `:` in place of either `row` or `column` to indicate you want to return all those values. We will demonstrate by indexing `my_array`. "
   ]
  },
  {
   "cell_type": "code",
   "execution_count": 11,
   "metadata": {},
   "outputs": [
    {
     "name": "stdout",
     "output_type": "stream",
     "text": [
      "The value stored in row 1, column 3 is:\n",
      "6\n",
      "The values stored in row 2 are:\n",
      "[ 1  3  5  7  9 11]\n"
     ]
    }
   ],
   "source": [
    "# Select the number 6 from our array \n",
    "print('The value stored in row 1, column 3 is:')\n",
    "print(my_array[0,2])\n",
    "\n",
    "# Select the 2nd row from our array \n",
    "print('The values stored in row 2 are:')\n",
    "print(my_array[1])"
   ]
  },
  {
   "cell_type": "markdown",
   "metadata": {},
   "source": [
    "You may want to look at a slice of columns or a slice of rows. You can slice your array like the following: `array(start_row:stop_row, start_col:end_col)`. "
   ]
  },
  {
   "cell_type": "code",
   "execution_count": 13,
   "metadata": {},
   "outputs": [
    {
     "name": "stdout",
     "output_type": "stream",
     "text": [
      "[[2 4 6]\n",
      " [1 3 5]]\n"
     ]
    }
   ],
   "source": [
    "# Print the first 3 columns of each row \n",
    "print(my_array[: ,0:3])"
   ]
  },
  {
   "cell_type": "markdown",
   "metadata": {},
   "source": [
    "You can also select multiple, nonsequential columns by inputing a `list` as your `columns`. Lets try to index the first, third, and last column in `array1`."
   ]
  },
  {
   "cell_type": "code",
   "execution_count": 14,
   "metadata": {},
   "outputs": [
    {
     "name": "stdout",
     "output_type": "stream",
     "text": [
      "[[ 2  6 12]\n",
      " [ 1  5 11]]\n"
     ]
    }
   ],
   "source": [
    "# Choose your columns of interest \n",
    "columns = [0, 2, -1]\n",
    "print(my_array[:, columns])"
   ]
  },
  {
   "cell_type": "markdown",
   "metadata": {},
   "source": [
    "We can also change values in an array similar to how we would change values in a list. The syntax we use is `array[row,column] = new_desired_value`."
   ]
  },
  {
   "cell_type": "code",
   "execution_count": 16,
   "metadata": {},
   "outputs": [
    {
     "name": "stdout",
     "output_type": "stream",
     "text": [
      "[[100 100 100 100 100 100]\n",
      " [  1   3   5   7   9  11]]\n"
     ]
    }
   ],
   "source": [
    "# Change the entire first row of array1 to 100\n",
    "my_array[0,:] = 100\n",
    "print(my_array)"
   ]
  },
  {
   "cell_type": "markdown",
   "metadata": {},
   "source": [
    "For further explanation of how to index NumPy arrays, please visit the <a href = \"https://numpy.org/doc/stable/reference/arrays.indexing.html\"> NumPy indexing documentation</a>."
   ]
  },
  {
   "cell_type": "markdown",
   "metadata": {},
   "source": [
    "## Subsetting "
   ]
  },
  {
   "cell_type": "markdown",
   "metadata": {},
   "source": [
    "We can also subet our original array to only include data that meets our criteria. We can think of this as *subsetting* the array by applying a condition to our array. The syntax for this would be `new_array = original_array[condition]`."
   ]
  },
  {
   "cell_type": "code",
   "execution_count": 17,
   "metadata": {},
   "outputs": [
    {
     "name": "stdout",
     "output_type": "stream",
     "text": [
      "[ 6  8 10 12  7  9 11]\n"
     ]
    }
   ],
   "source": [
    "# Reassign our original array \n",
    "my_array = np.array([list_1, list_2])\n",
    "\n",
    "# Return only values greater than 5 from our array \n",
    "condition = (my_array > 5)\n",
    "filtered_array = my_array[condition]\n",
    "print(filtered_array)"
   ]
  },
  {
   "cell_type": "markdown",
   "metadata": {},
   "source": [
    "## Benefits of Using Arrays "
   ]
  },
  {
   "cell_type": "markdown",
   "metadata": {},
   "source": [
    "If you were trying to add the numbers of the two lists together, simply adding the lists would only append one list at the end of the other. However, if you add two NumPy arrays together, the values of both arrays will be summed. "
   ]
  },
  {
   "cell_type": "code",
   "execution_count": 18,
   "metadata": {
    "scrolled": true
   },
   "outputs": [
    {
     "name": "stdout",
     "output_type": "stream",
     "text": [
      "[10, 20, 30, 40, 20, 40, 60, 80]\n",
      "\n",
      "\n",
      "[ 30  60  90 120]\n"
     ]
    }
   ],
   "source": [
    "# Add two lists together \n",
    "list_3 = [10, 20, 30, 40]\n",
    "list_4 = [20, 40, 60, 80]\n",
    "print(list_3 + list_4)\n",
    "print('\\n')\n",
    "\n",
    "# Add two arrays together \n",
    "array_1 = np.array([10, 20, 30, 40])\n",
    "array_2 = np.array([20, 40, 60, 80])\n",
    "print(array_1 + array_2)"
   ]
  },
  {
   "cell_type": "markdown",
   "metadata": {},
   "source": [
    "Alternatively, you can use the `sum()` method to add all values in an array together. You can also specify whether you want to sum the values across rows or columns in a grid/matrix. If you specify you want to sum values in rows or columns, the output will be an array of the sums. "
   ]
  },
  {
   "cell_type": "code",
   "execution_count": 23,
   "metadata": {},
   "outputs": [
    {
     "name": "stdout",
     "output_type": "stream",
     "text": [
      "Original array:\n",
      " [[ 5 10]\n",
      " [15 20]\n",
      " [25 30]]\n",
      "\n",
      "Array sum:  105\n",
      "\n",
      "Column sums:  [45 60]\n",
      "\n",
      "Row sums:  [15 35 55]\n"
     ]
    }
   ],
   "source": [
    "# Create a 2 by 3 array \n",
    "array_3 = np.array([[5, 10], [15, 20], [25, 30]])\n",
    "print('Original array:\\n', array_3)\n",
    "\n",
    "# Sum all values in array \n",
    "print('\\nArray sum: ', array_3.sum())\n",
    "\n",
    "# Sum the values across columns\n",
    "print('\\nColumn sums: ', array_3.sum(axis = 0))\n",
    "\n",
    "# Sum the values across rows\n",
    "print('\\nRow sums: ', array_3.sum(axis = 1))"
   ]
  },
  {
   "cell_type": "markdown",
   "metadata": {},
   "source": [
    "For a full list of array methods, please visit the <a href = \"https://numpy.org/doc/stable/reference/arrays.ndarray.html#array-methods\"> NumPy array methods documentation</a>. You can also visit the <a href = \"\"> NumPy Reference</a> for more information on functions, modules, and objects in NumPy. "
   ]
  },
  {
   "cell_type": "markdown",
   "metadata": {},
   "source": [
    "## NumPy also includes some very useful array generating functions:\n",
    "\n",
    "* `arange`: like `range` but gives you a useful NumPy array, instead of an interator, and can use more than just integers)\n",
    "* `linspace` creates an array with given start and end points, and a desired number of points\n",
    "* `logspace` same as linspace, but in log.\n",
    "* `random` can create a random list (there are <a href=\"https://docs.scipy.org/doc/numpy-1.14.0/reference/routines.random.html\">many different ways to use this</a>)\n",
    "* `concatenate` which can concatenate two arrays along an existing axis [<a href=\"https://docs.scipy.org/doc/numpy/reference/generated/numpy.concatenate.html\">documentation</a>]\n",
    "* `hstack` and `vstack` which can horizontally or vertically stack arrays\n",
    "* `save` and `load` can allow you to store and load your arrays\n",
    "\n",
    "Whenever we call these, we need to use whatever name we imported `numpy` as (here, `np`). We will demonstrate some of these functions below. For a full list of funtions used to create arrays, please visit the <a href = \"https://numpy.org/doc/stable/reference/routines.array-creation.html\"> NumPy array creation documentaion</a>."
   ]
  },
  {
   "cell_type": "code",
   "execution_count": 15,
   "metadata": {},
   "outputs": [
    {
     "name": "stdout",
     "output_type": "stream",
     "text": [
      "[  0.          16.33333333  32.66666667  49.          65.33333333\n",
      "  81.66666667  98.         114.33333333 130.66666667 147.        ]\n"
     ]
    }
   ],
   "source": [
    "# When using linspace, both end points are included\n",
    "print(np.linspace(0,147,10))"
   ]
  },
  {
   "cell_type": "code",
   "execution_count": 24,
   "metadata": {},
   "outputs": [
    {
     "name": "stdout",
     "output_type": "stream",
     "text": [
      "Linspace array:  [  1.  12.  23.  34.  45.  56.  67.  78.  89. 100.]\n",
      "Range array:  [ 0 10 20 30 40 50 60 70 80 90]\n"
     ]
    }
   ],
   "source": [
    "# First array is  a list of 10 numbers that are evenly spaced, \n",
    "# and range from exactly 1 to 100\n",
    "lin_array = np.linspace(1,100, 10)\n",
    "\n",
    "# Second row is a list of 10 numbers that begin \n",
    "# at 0 and are exactly 10 apart\n",
    "range_array = np.arange(0,100,10)\n",
    "\n",
    "print('Linspace array: ', lin_array)\n",
    "print('Range array: ', range_array)"
   ]
  },
  {
   "cell_type": "code",
   "execution_count": 25,
   "metadata": {},
   "outputs": [
    {
     "name": "stdout",
     "output_type": "stream",
     "text": [
      "[[  1.  12.  23.  34.  45.  56.  67.  78.  89. 100.]\n",
      " [  0.  10.  20.  30.  40.  50.  60.  70.  80.  90.]]\n"
     ]
    }
   ],
   "source": [
    "# Create an array that has two rows using np.vstack\n",
    "# First row should be 'first_array'\n",
    "# Second row should be 'second_array'\n",
    "big_array = np.vstack([lin_array, range_array])\n",
    "print(big_array)"
   ]
  },
  {
   "cell_type": "markdown",
   "metadata": {},
   "source": [
    "NumPy also has built in methods to save and load arrays: `np.save()` and `np.load()`. Numpy files have a .npy extension. See full documentation <a href=\"https://docs.scipy.org/doc/numpy/reference/generated/numpy.save.html\">here</a>."
   ]
  },
  {
   "cell_type": "code",
   "execution_count": 26,
   "metadata": {},
   "outputs": [],
   "source": [
    "# Save method takes arguments 'filename' and then 'array':\n",
    "np.save('big_array',big_array)"
   ]
  },
  {
   "cell_type": "code",
   "execution_count": 27,
   "metadata": {},
   "outputs": [
    {
     "name": "stdout",
     "output_type": "stream",
     "text": [
      "[[  1.  12.  23.  34.  45.  56.  67.  78.  89. 100.]\n",
      " [  0.  10.  20.  30.  40.  50.  60.  70.  80.  90.]]\n"
     ]
    }
   ],
   "source": [
    "my_new_matrix = np.load('big_array.npy')\n",
    "print(my_new_matrix)"
   ]
  },
  {
   "cell_type": "markdown",
   "metadata": {},
   "source": [
    "## Additional Resources\n",
    "See the [Python Data Science Handbook](https://jakevdp.github.io/PythonDataScienceHandbook/02.00-introduction-to-numpy.html) for a more in depth exploration of NumPy, and of course, <a href = \"https://numpy.org/doc/stable/contents.html#numpy-docs-mainpage\">the original documentation</a>."
   ]
  }
 ],
 "metadata": {
  "kernelspec": {
   "display_name": "Python 3",
   "language": "python",
   "name": "python3"
  },
  "language_info": {
   "codemirror_mode": {
    "name": "ipython",
    "version": 3
   },
   "file_extension": ".py",
   "mimetype": "text/x-python",
   "name": "python",
   "nbconvert_exporter": "python",
   "pygments_lexer": "ipython3",
   "version": "3.7.3"
  }
 },
 "nbformat": 4,
 "nbformat_minor": 4
}
