{
 "cells": [
  {
   "cell_type": "markdown",
   "id": "bfdbf0d0",
   "metadata": {},
   "source": [
    "<font color=\"red\">Placeholder for things that people should probably know about python in order to use this book.</font>"
   ]
  },
  {
   "cell_type": "markdown",
   "id": "47861a66",
   "metadata": {},
   "source": [
    "### Importing Packages"
   ]
  },
  {
   "cell_type": "markdown",
   "id": "86712ce7",
   "metadata": {},
   "source": [
    "### Methods vs. Attributes"
   ]
  },
  {
   "cell_type": "markdown",
   "id": "e238f4ff",
   "metadata": {},
   "source": [
    "### Dictionaries"
   ]
  },
  {
   "cell_type": "markdown",
   "id": "f02f6a02",
   "metadata": {},
   "source": [
    "### For Loops\n",
    "\n",
    "### Matplotlib & plotting"
   ]
  }
 ],
 "metadata": {
  "kernelspec": {
   "display_name": "Python 3",
   "language": "python",
   "name": "python3"
  },
  "language_info": {
   "codemirror_mode": {
    "name": "ipython",
    "version": 3
   },
   "file_extension": ".py",
   "mimetype": "text/x-python",
   "name": "python",
   "nbconvert_exporter": "python",
   "pygments_lexer": "ipython3",
   "version": "3.7.3"
  }
 },
 "nbformat": 4,
 "nbformat_minor": 5
}
