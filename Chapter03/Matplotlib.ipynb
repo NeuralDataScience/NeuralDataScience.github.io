{
 "cells": [
  {
   "cell_type": "markdown",
   "id": "38bebdd3",
   "metadata": {},
   "source": [
    "# Matplotlib\n",
    "\n",
    "The mathematician Richard Hamming once said, “The purpose of computing is insight, not numbers,” and the best way to develop insight is often to visualize data. Visualization deserves an entire book of its own, but we can explore a few features of Python’s `matplotlib` library here. While there is no official plotting library, `matplotlib` is the de facto standard. You'll see lots of matplotlib use throughout this book.\n",
    "\n",
    "### By the end of this notebook, you'll be able to:\n",
    "* Create plots using `matplotlib.pyplot`\n",
    "* Manipulate aspects of plots\n",
    "* Plot multiple graphs in a single figure"
   ]
  },
  {
   "cell_type": "markdown",
   "id": "04b5cdcd",
   "metadata": {},
   "source": [
    "<a id=\"one\"></a>\n",
    "\n",
    "## Setup\n",
    "First, let's get set up for plotting by importing the necessary tool boxes. Below, we will import the `pyplot` module from `matplotlib` as `plt`. "
   ]
  },
  {
   "cell_type": "code",
   "execution_count": 1,
   "id": "0c4eec98",
   "metadata": {},
   "outputs": [
    {
     "name": "stdout",
     "output_type": "stream",
     "text": [
      "Plotting packages imported.\n"
     ]
    }
   ],
   "source": [
    "# Import matplotlib pyplot, our main plotting module\n",
    "import matplotlib.pyplot as plt\n",
    "\n",
    "# Tell Jupyter to plot our plots inline \n",
    "%matplotlib inline\n",
    "\n",
    "print('Plotting packages imported.')"
   ]
  },
  {
   "cell_type": "markdown",
   "id": "456d2492",
   "metadata": {},
   "source": [
    "## Create & Plot a Random Line\n",
    "First, let's create a <a href=\"https://docs.scipy.org/doc/numpy-1.13.0/reference/routines.random.html\">random line</a> using our favorite scientific computing toolbox."
   ]
  },
  {
   "cell_type": "code",
   "execution_count": 2,
   "id": "090cacb7",
   "metadata": {},
   "outputs": [],
   "source": [
    "# Import numpy\n",
    "import numpy as np\n",
    "\n",
    "# Generate a random line from 1 to 100 with 100 values\n",
    "random_line = np.random.randint(1,100,100)\n"
   ]
  },
  {
   "cell_type": "markdown",
   "id": "3b0f864b",
   "metadata": {},
   "source": [
    "Now, we can use `matplotlib.pyplot` module (imported as `plt` above) to plot our random line.\n",
    "\n",
    "Useful functions:\n",
    "* `plt.plot()` create a plot from a list, array, pandas series, etc.\n",
    "* `plt.show()` show the plot (not strictly necessary in Jupyter, necessary in other IDEs)\n",
    "* `plt.xlabel()` and `plt.ylabel()` change x and y labels\n",
    "* `plt.title()` add a title"
   ]
  },
  {
   "cell_type": "code",
   "execution_count": null,
   "id": "7e30e632",
   "metadata": {},
   "outputs": [],
   "source": [
    "# 1 - Plot the data \n",
    "plt.plot()\n",
    "\n",
    "# 2 - Change plot attributes\n",
    "\n",
    "\n",
    "# 3 - Show the plot\n",
    "plt.show()"
   ]
  },
  {
   "cell_type": "markdown",
   "id": "70b91ffe",
   "metadata": {},
   "source": [
    "## Create & plot a histogram\n",
    "\n",
    "The `plt.hist()` function works really similarly (see documentation <a href=\"https://matplotlib.org/api/_as_gen/matplotlib.pyplot.hist.html\">here</a>).\n",
    "\n",
    "<div class=\"alert alert-success\"><b>Task</b>: In the cell below:\n",
    "    \n",
    "1. Generate a random list of 100 data points from a standard normal distribution (Hint: Use <code>np.random.standard_normal()</code>, documentation <a href=\"https://docs.scipy.org/doc/numpy-1.13.0/reference/generated/numpy.random.standard_normal.html#numpy.random.standard_normal\">here</a>).\n",
    "    \n",
    "2. Plot a histogram of the data. \n",
    "</div>"
   ]
  },
  {
   "cell_type": "code",
   "execution_count": null,
   "id": "fda611d4",
   "metadata": {},
   "outputs": [],
   "source": [
    "# Generate your plot here\n"
   ]
  },
  {
   "cell_type": "markdown",
   "id": "6ca2eb0b",
   "metadata": {},
   "source": [
    "## Subplots\n",
    "\n",
    "We can also set up multiple subplots on the same figure using `plt.subplots()`. This also creates separate **axes** (really, separate plots) which we can access and manipulate, particularly if you are plotting multiple lines. It's common to use the `subplots` command for easier access to axis attributes."
   ]
  },
  {
   "cell_type": "code",
   "execution_count": null,
   "id": "4fe08d88",
   "metadata": {},
   "outputs": [],
   "source": [
    "# Get information about subplots\n",
    "plt.subplots?"
   ]
  },
  {
   "cell_type": "markdown",
   "id": "12191985",
   "metadata": {},
   "source": [
    "**Side Note**: We can assign two things at the same time!"
   ]
  },
  {
   "cell_type": "code",
   "execution_count": null,
   "id": "45ef9ee1",
   "metadata": {},
   "outputs": [],
   "source": [
    "a , b = 2 , 3\n",
    "print(a)\n",
    "print(b)"
   ]
  },
  {
   "cell_type": "markdown",
   "id": "b466d793",
   "metadata": {},
   "source": [
    "Below, we'll generate our figure with multiple subplots."
   ]
  },
  {
   "cell_type": "code",
   "execution_count": null,
   "id": "4b070917",
   "metadata": {
    "scrolled": true
   },
   "outputs": [],
   "source": [
    "# 1 - Generate a figure with subplots\n",
    "fig, ax = plt.subplots(2,2,figsize=(15,5))\n",
    "\n",
    "# 2 - Plot our line on the first axis, [0,0]\n",
    "ax[0,0].plot(random_line)\n",
    "\n",
    "# 3 - Update axis parameters\n",
    "ax[0,0].set_ylabel('random values')\n",
    "\n",
    "# 4 - Update general plot parameters\n",
    "plt.ylabel('random values') # Compare what this does versus ax.set_ylabel\n",
    "\n",
    "plt.show()"
   ]
  },
  {
   "cell_type": "markdown",
   "id": "2a9e91a4",
   "metadata": {},
   "source": [
    "There are *many, many* different aspects of a figure that you could manipulate (and spend a lot of time manipulating). \n",
    "\n",
    "Style guides help with this a bit, they set a few good defaults. Below, we are setting figure parameters, and choosing a figure style (see all styles <a href=\"https://matplotlib.org/gallery/style_sheets/style_sheets_reference.html\">here</a>, or how to create your own style <a href=\"https://matplotlib.org/tutorials/introductory/customizing.html\">here</a>.)\n",
    "\n",
    "You can test how these parameters change our plots by going back and re-plotting the plots above."
   ]
  },
  {
   "cell_type": "code",
   "execution_count": null,
   "id": "d5c100eb",
   "metadata": {},
   "outputs": [],
   "source": [
    "# Import package that allows us to change plot resolution & default style\n",
    "import matplotlib as mpl        \n",
    "\n",
    "# Set the figure \"dots per inch\" to be higher than the default (optional, based on your personal preference)\n",
    "mpl.rcParams['figure.dpi'] = 100\n",
    "\n",
    "# (Optional) Choose a figure style\n",
    "print(plt.style.available)\n",
    "plt.style.use('fivethirtyeight')"
   ]
  },
  {
   "cell_type": "markdown",
   "id": "e4becf50",
   "metadata": {},
   "source": [
    "## Additional resources\n",
    "\n",
    "* [Matplotlib tutorial](https://matplotlib.org/stable/tutorials/index.html)\n",
    "* [Seaborn tutorial](https://seaborn.pydata.org/tutorial.html)\n",
    "* [CodeAcademy Seaborn Tutorial](https://www.codecademy.com/articles/seaborn-design-ii)"
   ]
  }
 ],
 "metadata": {
  "kernelspec": {
   "display_name": "Python 3",
   "language": "python",
   "name": "python3"
  },
  "language_info": {
   "codemirror_mode": {
    "name": "ipython",
    "version": 3
   },
   "file_extension": ".py",
   "mimetype": "text/x-python",
   "name": "python",
   "nbconvert_exporter": "python",
   "pygments_lexer": "ipython3",
   "version": "3.7.3"
  }
 },
 "nbformat": 4,
 "nbformat_minor": 5
}
