{
 "cells": [
  {
   "cell_type": "markdown",
   "metadata": {},
   "source": [
    "# Obtaining Datasets with DANDI\n",
    "\n",
    "- what is DANDI\n",
    "- relationship with NWB"
   ]
  },
  {
   "cell_type": "markdown",
   "metadata": {},
   "source": [
    "First, we need to ensure that you have the [`DANDI` client](https://pypi.org/project/dandi/) installed on your computer. The cell below will try to import dandi, and if that fails, it will install it. "
   ]
  },
  {
   "cell_type": "code",
   "execution_count": 1,
   "metadata": {},
   "outputs": [
    {
     "name": "stdout",
     "output_type": "stream",
     "text": [
      "DANDI imported.\n"
     ]
    }
   ],
   "source": [
    "try:\n",
    "    import dandi\n",
    "    print('DANDI imported.')\n",
    "except ImportError as e:\n",
    "    !pip install \"dandi>=0.6.0\""
   ]
  },
  {
   "cell_type": "markdown",
   "metadata": {},
   "source": [
    "The cell below will download [this dataset](https://gui.dandiarchive.org/#/dandiset/000006) from DANDI. It may take several minutes, depending on your internet connection."
   ]
  },
  {
   "cell_type": "code",
   "execution_count": 8,
   "metadata": {
    "scrolled": true
   },
   "outputs": [
    {
     "name": "stdout",
     "output_type": "stream",
     "text": [
      "2021-01-27 10:30:58,491 [    INFO] Traversing remote dandisets (000006) recursively\n",
      "PATH                                         SIZE      DONE            DONE% CHECKSUM STATUS          MESSAGE   \n",
      "dandiset.yaml                                                                         done            updated   \n",
      "sub-anm369962/sub-anm369962_ses-20170309.nwb 796.9 kB  796.9 kB         100%    -     done                      \n",
      "sub-anm369962/sub-anm369962_ses-20170310.nwb 6.6 MB    6.6 MB           100%    -     done                      \n",
      "sub-anm369962/sub-anm369962_ses-20170313.nwb 11.5 MB   11.5 MB          100%    -     done                      \n",
      "sub-anm369962/sub-anm369962_ses-20170314.nwb 7.5 MB    7.5 MB           100%    -     done                      \n",
      "sub-anm369962/sub-anm369962_ses-20170316.nwb 609.6 kB  609.6 kB         100%    -     done                      \n",
      "sub-anm369962/sub-anm369962_ses-20170317.nwb 8.2 MB    8.2 MB           100%    -     done                      \n",
      "sub-anm369963/sub-anm369963_ses-20170226.nwb 6.4 MB    6.4 MB           100%    -     done                      \n",
      "sub-anm369963/sub-anm369963_ses-20170227.nwb 6.5 MB    6.5 MB           100%    -     done                      \n",
      "sub-anm369963/sub-anm369963_ses-20170228.nwb 276.6 kB  276.6 kB         100%    -     done                      \n",
      "sub-anm369963/sub-anm369963_ses-20170301.nwb 493.5 kB  493.5 kB         100%    -     done                      \n",
      "sub-anm369963/sub-anm369963_ses-20170302.nwb 281.0 kB  281.0 kB         100%    -     done                      \n",
      "sub-anm369963/sub-anm369963_ses-20170306.nwb 6.7 MB    6.7 MB           100%    -     done                      \n",
      "sub-anm369963/sub-anm369963_ses-20170309.nwb 450.9 kB  450.9 kB         100%    -     done                      \n",
      "sub-anm369963/sub-anm369963_ses-20170310.nwb 604.8 kB  604.8 kB         100%    -     done                      \n",
      "sub-anm369964/sub-anm369964_ses-20170320.nwb 7.7 MB    7.7 MB           100%    -     done                      \n",
      "sub-anm369964/sub-anm369964_ses-20170321.nwb 499.9 kB  499.9 kB         100%    -     done                      \n",
      "sub-anm369964/sub-anm369964_ses-20170322.nwb 5.0 MB    5.0 MB           100%    -     done                      \n",
      "sub-anm369964/sub-anm369964_ses-20170323.nwb 426.4 kB  426.4 kB         100%    -     done                      \n",
      "sub-anm372793/sub-anm372793_ses-20170504.nwb 357.8 kB  357.8 kB         100%    -     done                      \n",
      "sub-anm372793/sub-anm372793_ses-20170508.nwb 357.4 kB  357.4 kB         100%    -     done                      \n",
      "sub-anm372793/sub-anm372793_ses-20170512.nwb 470.8 kB  470.8 kB         100%    -     done                      \n",
      "sub-anm372793/sub-anm372793_ses-20170513.nwb 5.5 MB    5.5 MB           100%    -     done                      \n",
      "sub-anm372793/sub-anm372793_ses-20170514.nwb 5.5 MB    5.5 MB           100%    -     done                      \n",
      "sub-anm372794/sub-anm372794_ses-20170621.nwb 654.2 kB  654.2 kB         100%    -     done                      \n",
      "sub-anm372794/sub-anm372794_ses-20170622.nwb 602.8 kB  602.8 kB         100%    -     done                      \n",
      "sub-anm372794/sub-anm372794_ses-20170624.nwb 4.8 MB    4.8 MB           100%    -     done                      \n",
      "sub-anm372794/sub-anm372794_ses-20170625.nwb 5.7 MB    5.7 MB           100%    -     done                      \n",
      "sub-anm372794/sub-anm372794_ses-20170626.nwb 4.9 MB    4.9 MB           100%    -     done                      \n",
      "sub-anm372794/sub-anm372794_ses-20170627.nwb 553.4 kB  553.4 kB         100%    -     done                      \n",
      "sub-anm372795/sub-anm372795_ses-20170714.nwb 465.5 kB  465.5 kB         100%    -     done                      \n",
      "sub-anm372795/sub-anm372795_ses-20170715.nwb 323.2 kB  323.2 kB         100%    -     done                      \n",
      "sub-anm372795/sub-anm372795_ses-20170716.nwb 813.2 kB  813.2 kB         100%    -     done                      \n",
      "sub-anm372795/sub-anm372795_ses-20170718.nwb 452.3 kB  452.3 kB         100%    -     done                      \n",
      "sub-anm372797/sub-anm372797_ses-20170615.nwb 6.0 MB    6.0 MB           100%    -     done                      \n",
      "sub-anm372797/sub-anm372797_ses-20170617.nwb 338.9 kB  338.9 kB         100%    -     done                      \n",
      "sub-anm372904/sub-anm372904_ses-20170615.nwb 388.2 kB  388.2 kB         100%    -     done                      \n",
      "sub-anm372904/sub-anm372904_ses-20170616.nwb 362.6 kB  362.6 kB         100%    -     done                      \n",
      "sub-anm372904/sub-anm372904_ses-20170617.nwb 384.9 kB  384.9 kB         100%    -     done                      \n",
      "sub-anm372904/sub-anm372904_ses-20170618.nwb 9.4 MB    9.4 MB           100%    -     done                      \n",
      "sub-anm372904/sub-anm372904_ses-20170619.nwb 4.1 MB    4.1 MB           100%    -     done                      \n",
      "sub-anm372905/sub-anm372905_ses-20170715.nwb 344.0 kB  344.0 kB         100%    -     done                      \n",
      "sub-anm372905/sub-anm372905_ses-20170716.nwb 554.0 kB  554.0 kB         100%    -     done                      \n",
      "sub-anm372905/sub-anm372905_ses-20170717.nwb 448.4 kB  448.4 kB         100%    -     done                      \n",
      "sub-anm372906/sub-anm372906_ses-20170608.nwb 6.9 MB    6.9 MB           100%    -     done                      \n",
      "sub-anm372906/sub-anm372906_ses-20170610.nwb 374.8 kB  374.8 kB         100%    -     done                      \n",
      "sub-anm372906/sub-anm372906_ses-20170611.nwb 338.7 kB  338.7 kB         100%    -     done                      \n",
      "sub-anm372906/sub-anm372906_ses-20170612.nwb 324.3 kB  324.3 kB         100%    -     done                      \n",
      "sub-anm372907/sub-anm372907_ses-20170608.nwb 438.9 kB  438.9 kB         100%    -     done                      \n",
      "sub-anm372907/sub-anm372907_ses-20170610.nwb 349.7 kB  349.7 kB         100%    -     done                      \n",
      "sub-anm372907/sub-anm372907_ses-20170612.nwb 444.5 kB  444.5 kB         100%    -     done                      \n",
      "sub-anm372907/sub-anm372907_ses-20170613.nwb 259.0 kB  259.0 kB         100%    -     done                      \n",
      "sub-anm372909/sub-anm372909_ses-20170520.nwb 352.9 kB  352.9 kB         100%    -     done                      \n",
      "sub-anm372909/sub-anm372909_ses-20170522.nwb 5.7 MB    5.7 MB           100%    -     done                      \n",
      "Summary:                                     139.6 MB  139.6 MB                       54 done         1 updated \n",
      "                                                       100.00%                                                  \n"
     ]
    }
   ],
   "source": [
    "!dandi download https://dandiarchive.org/dandiset/000006/draft"
   ]
  },
  {
   "cell_type": "code",
   "execution_count": 9,
   "metadata": {},
   "outputs": [
    {
     "name": "stdout",
     "output_type": "stream",
     "text": [
      "<class 'pynwb.file.NWBFile'>\n"
     ]
    }
   ],
   "source": [
    "from pynwb import NWBHDF5IO\n",
    "io = NWBHDF5IO('000006/sub-anm369962/sub-anm369962_ses-20170309.nwb', 'r')\n",
    "nwb_file = io.read()\n",
    "print(type(nwb_file))"
   ]
  },
  {
   "cell_type": "code",
   "execution_count": 11,
   "metadata": {},
   "outputs": [
    {
     "name": "stdout",
     "output_type": "stream",
     "text": [
      "dict_keys(['acquisition', 'analysis', 'scratch', 'stimulus', 'stimulus_template', 'processing', 'devices', 'electrode_groups', 'imaging_planes', 'icephys_electrodes', 'ogen_sites', 'intervals', 'lab_meta_data', 'session_description', 'identifier', 'session_start_time', 'timestamps_reference_time', 'file_create_date', 'keywords', 'epoch_tags', 'electrodes', 'subject', 'trials', 'units', 'experiment_description', 'institution', 'experimenter', 'related_publications'])\n"
     ]
    }
   ],
   "source": [
    "nwb_fields = nwb_file.fields\n",
    "print(nwb_fields.keys())"
   ]
  },
  {
   "cell_type": "code",
   "execution_count": 13,
   "metadata": {},
   "outputs": [
    {
     "data": {
      "text/plain": [
       "('doi:10.1038/s41586-018-0642-9',)"
      ]
     },
     "execution_count": 13,
     "metadata": {},
     "output_type": "execute_result"
    }
   ],
   "source": [
    "nwb_file.related_publications"
   ]
  }
 ],
 "metadata": {
  "kernelspec": {
   "display_name": "Python 3",
   "language": "python",
   "name": "python3"
  },
  "language_info": {
   "codemirror_mode": {
    "name": "ipython",
    "version": 3
   },
   "file_extension": ".py",
   "mimetype": "text/x-python",
   "name": "python",
   "nbconvert_exporter": "python",
   "pygments_lexer": "ipython3",
   "version": "3.7.3"
  }
 },
 "nbformat": 4,
 "nbformat_minor": 2
}
