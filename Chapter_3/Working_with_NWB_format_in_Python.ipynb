{
 "cells": [
  {
   "cell_type": "markdown",
   "metadata": {},
   "source": [
    "# Working with NWB files in Python \n",
    "\n",
    "Neurodata Without Borders files can be easily read into Python or MATLAB. Here, we'll use the PyNWB package to import a NWB dataset into our Jupyter Notebook. If you'd like more information, or would like to see how to import data in MATLAB, see the [NWB tutorials](https://www.nwb.org/how-to-use/).\n",
    "\n",
    "To get started, we'll import the `NWBHDF5IO` module from the `PyNWB` package. This module contains the tools to map our NWB file into a more general format, [HDF5](https://nwb-storage.readthedocs.io/en/latest/storage_hdf5.html). If you do not already have pynwb installed in your environment, this cell will also help you do so."
   ]
  },
  {
   "cell_type": "code",
   "execution_count": 3,
<<<<<<< HEAD
   "metadata": {},
   "outputs": [],
   "source": [
    "import numpy as np\n",
    "import pandas as pd \n",
    "from matplotlib import pyplot as plt\n",
    "from pynwb import NWBHDF5IO"
   ]
  },
  {
   "cell_type": "markdown",
=======
>>>>>>> 543a7a9e1021df15d6987b31915e10f51310bfc7
   "metadata": {},
   "outputs": [
    {
     "name": "stdout",
     "output_type": "stream",
     "text": [
      "NWBHDF5IO imported.\n"
     ]
    }
   ],
   "source": [
    "try:\n",
    "    from pynwb import NWBHDF5IO\n",
    "    print('NWBHDF5IO imported.')\n",
    "except ImportError as e:\n",
    "    !pip install pynwb"
   ]
  },
  {
   "cell_type": "markdown",
   "metadata": {},
   "source": [
    "## Reading our NWB file\n",
    "\n",
    "To access the data in our nwb file we must read the file. This is done in two steps:\n",
    "1. Assign our file as an `NWBHDF5IO` object\n",
    "2. Read our file \n",
    "\n",
    "The first step is done using the `NWBHDF5IO` class to create our `NWBHDF5IO` object and map our file to HDF5 format. Once we have done this, we can use the `read()` method to return our nwb file. For more information on how to read NWB files, please visit the *Reading data from an NWB file* section from the <a href = 'https://pynwb.readthedocs.io/en/latest/tutorials/general/file.html'> NWB Basics Tutorial</a>. For more information on the `NWBHDF5IO` class, please visit the <a href = 'https://pynwb.readthedocs.io/en/latest/pynwb.html#pynwb.NWBHDF5IO'> original documentation</a>.\n",
    "\n",
    "Below, we'll create an NWB object for one session of a electrophysiology experiment, retrieved via [DANDI](https://gui.dandiarchive.org/#/dandiset/000017)."
   ]
  },
  {
   "cell_type": "code",
<<<<<<< HEAD
   "execution_count": 30,
=======
   "execution_count": 36,
>>>>>>> 543a7a9e1021df15d6987b31915e10f51310bfc7
   "metadata": {},
   "outputs": [
    {
     "ename": "UnsupportedOperation",
     "evalue": "Unable to open file 00006/sub-anm369962/sub-anm369962_ses-20170309.nwb in 'r' mode. File does not exist.",
     "output_type": "error",
     "traceback": [
      "\u001b[0;31m---------------------------------------------------------------------------\u001b[0m",
      "\u001b[0;31mUnsupportedOperation\u001b[0m                      Traceback (most recent call last)",
      "\u001b[0;32m<ipython-input-36-c9bf122c52c4>\u001b[0m in \u001b[0;36m<module>\u001b[0;34m\u001b[0m\n\u001b[0;32m----> 1\u001b[0;31m \u001b[0mio\u001b[0m \u001b[0;34m=\u001b[0m \u001b[0mNWBHDF5IO\u001b[0m\u001b[0;34m(\u001b[0m\u001b[0;34m'00006/sub-anm369962/sub-anm369962_ses-20170309.nwb'\u001b[0m\u001b[0;34m,\u001b[0m \u001b[0;34m'r'\u001b[0m\u001b[0;34m)\u001b[0m\u001b[0;34m\u001b[0m\u001b[0;34m\u001b[0m\u001b[0m\n\u001b[0m\u001b[1;32m      2\u001b[0m \u001b[0mnwb_file\u001b[0m \u001b[0;34m=\u001b[0m \u001b[0mio\u001b[0m\u001b[0;34m.\u001b[0m\u001b[0mread\u001b[0m\u001b[0;34m(\u001b[0m\u001b[0;34m)\u001b[0m\u001b[0;34m\u001b[0m\u001b[0;34m\u001b[0m\u001b[0m\n\u001b[1;32m      3\u001b[0m \u001b[0mprint\u001b[0m\u001b[0;34m(\u001b[0m\u001b[0mtype\u001b[0m\u001b[0;34m(\u001b[0m\u001b[0mnwb_file\u001b[0m\u001b[0;34m)\u001b[0m\u001b[0;34m)\u001b[0m\u001b[0;34m\u001b[0m\u001b[0;34m\u001b[0m\u001b[0m\n",
      "\u001b[0;32m~/anaconda3/lib/python3.7/site-packages/hdmf/utils.py\u001b[0m in \u001b[0;36mfunc_call\u001b[0;34m(*args, **kwargs)\u001b[0m\n\u001b[1;32m    559\u001b[0m             \u001b[0;32mdef\u001b[0m \u001b[0mfunc_call\u001b[0m\u001b[0;34m(\u001b[0m\u001b[0;34m*\u001b[0m\u001b[0margs\u001b[0m\u001b[0;34m,\u001b[0m \u001b[0;34m**\u001b[0m\u001b[0mkwargs\u001b[0m\u001b[0;34m)\u001b[0m\u001b[0;34m:\u001b[0m\u001b[0;34m\u001b[0m\u001b[0;34m\u001b[0m\u001b[0m\n\u001b[1;32m    560\u001b[0m                 \u001b[0mpargs\u001b[0m \u001b[0;34m=\u001b[0m \u001b[0m_check_args\u001b[0m\u001b[0;34m(\u001b[0m\u001b[0margs\u001b[0m\u001b[0;34m,\u001b[0m \u001b[0mkwargs\u001b[0m\u001b[0;34m)\u001b[0m\u001b[0;34m\u001b[0m\u001b[0;34m\u001b[0m\u001b[0m\n\u001b[0;32m--> 561\u001b[0;31m                 \u001b[0;32mreturn\u001b[0m \u001b[0mfunc\u001b[0m\u001b[0;34m(\u001b[0m\u001b[0margs\u001b[0m\u001b[0;34m[\u001b[0m\u001b[0;36m0\u001b[0m\u001b[0;34m]\u001b[0m\u001b[0;34m,\u001b[0m \u001b[0;34m**\u001b[0m\u001b[0mpargs\u001b[0m\u001b[0;34m)\u001b[0m\u001b[0;34m\u001b[0m\u001b[0;34m\u001b[0m\u001b[0m\n\u001b[0m\u001b[1;32m    562\u001b[0m         \u001b[0;32melse\u001b[0m\u001b[0;34m:\u001b[0m\u001b[0;34m\u001b[0m\u001b[0;34m\u001b[0m\u001b[0m\n\u001b[1;32m    563\u001b[0m             \u001b[0;32mdef\u001b[0m \u001b[0mfunc_call\u001b[0m\u001b[0;34m(\u001b[0m\u001b[0;34m*\u001b[0m\u001b[0margs\u001b[0m\u001b[0;34m,\u001b[0m \u001b[0;34m**\u001b[0m\u001b[0mkwargs\u001b[0m\u001b[0;34m)\u001b[0m\u001b[0;34m:\u001b[0m\u001b[0;34m\u001b[0m\u001b[0;34m\u001b[0m\u001b[0m\n",
      "\u001b[0;32m~/anaconda3/lib/python3.7/site-packages/pynwb/__init__.py\u001b[0m in \u001b[0;36m__init__\u001b[0;34m(self, **kwargs)\u001b[0m\n\u001b[1;32m    244\u001b[0m             \u001b[0;32melif\u001b[0m \u001b[0mmanager\u001b[0m \u001b[0;32mis\u001b[0m \u001b[0;32mNone\u001b[0m\u001b[0;34m:\u001b[0m\u001b[0;34m\u001b[0m\u001b[0;34m\u001b[0m\u001b[0m\n\u001b[1;32m    245\u001b[0m                 \u001b[0mmanager\u001b[0m \u001b[0;34m=\u001b[0m \u001b[0mget_manager\u001b[0m\u001b[0;34m(\u001b[0m\u001b[0;34m)\u001b[0m\u001b[0;34m\u001b[0m\u001b[0;34m\u001b[0m\u001b[0m\n\u001b[0;32m--> 246\u001b[0;31m         \u001b[0msuper\u001b[0m\u001b[0;34m(\u001b[0m\u001b[0mNWBHDF5IO\u001b[0m\u001b[0;34m,\u001b[0m \u001b[0mself\u001b[0m\u001b[0;34m)\u001b[0m\u001b[0;34m.\u001b[0m\u001b[0m__init__\u001b[0m\u001b[0;34m(\u001b[0m\u001b[0mpath\u001b[0m\u001b[0;34m,\u001b[0m \u001b[0mmanager\u001b[0m\u001b[0;34m=\u001b[0m\u001b[0mmanager\u001b[0m\u001b[0;34m,\u001b[0m \u001b[0mmode\u001b[0m\u001b[0;34m=\u001b[0m\u001b[0mmode\u001b[0m\u001b[0;34m,\u001b[0m \u001b[0mfile\u001b[0m\u001b[0;34m=\u001b[0m\u001b[0mfile_obj\u001b[0m\u001b[0;34m,\u001b[0m \u001b[0mcomm\u001b[0m\u001b[0;34m=\u001b[0m\u001b[0mcomm\u001b[0m\u001b[0;34m)\u001b[0m\u001b[0;34m\u001b[0m\u001b[0;34m\u001b[0m\u001b[0m\n\u001b[0m\u001b[1;32m    247\u001b[0m \u001b[0;34m\u001b[0m\u001b[0m\n\u001b[1;32m    248\u001b[0m     @docval({'name': 'src_io', 'type': HDMFIO, 'doc': 'the HDMFIO object for reading the data to export'},\n",
      "\u001b[0;32m~/anaconda3/lib/python3.7/site-packages/hdmf/utils.py\u001b[0m in \u001b[0;36mfunc_call\u001b[0;34m(*args, **kwargs)\u001b[0m\n\u001b[1;32m    559\u001b[0m             \u001b[0;32mdef\u001b[0m \u001b[0mfunc_call\u001b[0m\u001b[0;34m(\u001b[0m\u001b[0;34m*\u001b[0m\u001b[0margs\u001b[0m\u001b[0;34m,\u001b[0m \u001b[0;34m**\u001b[0m\u001b[0mkwargs\u001b[0m\u001b[0;34m)\u001b[0m\u001b[0;34m:\u001b[0m\u001b[0;34m\u001b[0m\u001b[0;34m\u001b[0m\u001b[0m\n\u001b[1;32m    560\u001b[0m                 \u001b[0mpargs\u001b[0m \u001b[0;34m=\u001b[0m \u001b[0m_check_args\u001b[0m\u001b[0;34m(\u001b[0m\u001b[0margs\u001b[0m\u001b[0;34m,\u001b[0m \u001b[0mkwargs\u001b[0m\u001b[0;34m)\u001b[0m\u001b[0;34m\u001b[0m\u001b[0;34m\u001b[0m\u001b[0m\n\u001b[0;32m--> 561\u001b[0;31m                 \u001b[0;32mreturn\u001b[0m \u001b[0mfunc\u001b[0m\u001b[0;34m(\u001b[0m\u001b[0margs\u001b[0m\u001b[0;34m[\u001b[0m\u001b[0;36m0\u001b[0m\u001b[0;34m]\u001b[0m\u001b[0;34m,\u001b[0m \u001b[0;34m**\u001b[0m\u001b[0mpargs\u001b[0m\u001b[0;34m)\u001b[0m\u001b[0;34m\u001b[0m\u001b[0;34m\u001b[0m\u001b[0m\n\u001b[0m\u001b[1;32m    562\u001b[0m         \u001b[0;32melse\u001b[0m\u001b[0;34m:\u001b[0m\u001b[0;34m\u001b[0m\u001b[0;34m\u001b[0m\u001b[0m\n\u001b[1;32m    563\u001b[0m             \u001b[0;32mdef\u001b[0m \u001b[0mfunc_call\u001b[0m\u001b[0;34m(\u001b[0m\u001b[0;34m*\u001b[0m\u001b[0margs\u001b[0m\u001b[0;34m,\u001b[0m \u001b[0;34m**\u001b[0m\u001b[0mkwargs\u001b[0m\u001b[0;34m)\u001b[0m\u001b[0;34m:\u001b[0m\u001b[0;34m\u001b[0m\u001b[0;34m\u001b[0m\u001b[0m\n",
      "\u001b[0;32m~/anaconda3/lib/python3.7/site-packages/hdmf/backends/hdf5/h5tools.py\u001b[0m in \u001b[0;36m__init__\u001b[0;34m(self, **kwargs)\u001b[0m\n\u001b[1;32m     53\u001b[0m         \u001b[0;32mif\u001b[0m \u001b[0mfile_obj\u001b[0m \u001b[0;32mis\u001b[0m \u001b[0;32mNone\u001b[0m \u001b[0;32mand\u001b[0m \u001b[0;32mnot\u001b[0m \u001b[0mos\u001b[0m\u001b[0;34m.\u001b[0m\u001b[0mpath\u001b[0m\u001b[0;34m.\u001b[0m\u001b[0mexists\u001b[0m\u001b[0;34m(\u001b[0m\u001b[0mpath\u001b[0m\u001b[0;34m)\u001b[0m \u001b[0;32mand\u001b[0m \u001b[0;34m(\u001b[0m\u001b[0mmode\u001b[0m \u001b[0;34m==\u001b[0m \u001b[0;34m'r'\u001b[0m \u001b[0;32mor\u001b[0m \u001b[0mmode\u001b[0m \u001b[0;34m==\u001b[0m \u001b[0;34m'r+'\u001b[0m\u001b[0;34m)\u001b[0m\u001b[0;34m:\u001b[0m\u001b[0;34m\u001b[0m\u001b[0;34m\u001b[0m\u001b[0m\n\u001b[1;32m     54\u001b[0m             \u001b[0mmsg\u001b[0m \u001b[0;34m=\u001b[0m \u001b[0;34m\"Unable to open file %s in '%s' mode. File does not exist.\"\u001b[0m \u001b[0;34m%\u001b[0m \u001b[0;34m(\u001b[0m\u001b[0mpath\u001b[0m\u001b[0;34m,\u001b[0m \u001b[0mmode\u001b[0m\u001b[0;34m)\u001b[0m\u001b[0;34m\u001b[0m\u001b[0;34m\u001b[0m\u001b[0m\n\u001b[0;32m---> 55\u001b[0;31m             \u001b[0;32mraise\u001b[0m \u001b[0mUnsupportedOperation\u001b[0m\u001b[0;34m(\u001b[0m\u001b[0mmsg\u001b[0m\u001b[0;34m)\u001b[0m\u001b[0;34m\u001b[0m\u001b[0;34m\u001b[0m\u001b[0m\n\u001b[0m\u001b[1;32m     56\u001b[0m \u001b[0;34m\u001b[0m\u001b[0m\n\u001b[1;32m     57\u001b[0m         \u001b[0;32mif\u001b[0m \u001b[0mfile_obj\u001b[0m \u001b[0;32mis\u001b[0m \u001b[0;32mNone\u001b[0m \u001b[0;32mand\u001b[0m \u001b[0mos\u001b[0m\u001b[0;34m.\u001b[0m\u001b[0mpath\u001b[0m\u001b[0;34m.\u001b[0m\u001b[0mexists\u001b[0m\u001b[0;34m(\u001b[0m\u001b[0mpath\u001b[0m\u001b[0;34m)\u001b[0m \u001b[0;32mand\u001b[0m \u001b[0;34m(\u001b[0m\u001b[0mmode\u001b[0m \u001b[0;34m==\u001b[0m \u001b[0;34m'w-'\u001b[0m \u001b[0;32mor\u001b[0m \u001b[0mmode\u001b[0m \u001b[0;34m==\u001b[0m \u001b[0;34m'x'\u001b[0m\u001b[0;34m)\u001b[0m\u001b[0;34m:\u001b[0m\u001b[0;34m\u001b[0m\u001b[0;34m\u001b[0m\u001b[0m\n",
      "\u001b[0;31mUnsupportedOperation\u001b[0m: Unable to open file 00006/sub-anm369962/sub-anm369962_ses-20170309.nwb in 'r' mode. File does not exist."
     ]
    }
   ],
   "source": [
<<<<<<< HEAD
    "# first read the file \n",
    "io = NWBHDF5IO('000006/sub-anm369962/sub-anm369962_ses-20170310.nwb', 'r')\n",
=======
    "io = NWBHDF5IO('00006/sub-anm369962/sub-anm369962_ses-20170309.nwb', 'r')\n",
>>>>>>> 543a7a9e1021df15d6987b31915e10f51310bfc7
    "nwb_file = io.read()\n",
    "print(type(nwb_file))"
   ]
  },
  {
   "cell_type": "markdown",
   "metadata": {},
   "source": [
<<<<<<< HEAD
    "## File Hierarchy: Groups, Datasets, and Attributes"
   ]
  },
  {
   "cell_type": "markdown",
   "metadata": {},
   "source": [
    "The NWB file is composed of various Groups, Datasets, and Attributes. The data/datasets and cooresponding meta-data are encapsulated within these Groups. The `fields` attribute returns a dictionary contiaining the metadata of the Groups of our nwb file. The dictionary `keys` are the various Groups within the file which we will use to access our datasets."
   ]
  },
  {
   "cell_type": "code",
   "execution_count": 5,
   "metadata": {},
   "outputs": [],
   "source": [
    "# nwb_file.fields"
=======
    "We can now use this `nwb_file` that we've created to extract metadata about the experiment. Each NWB file will have information on where the experiment was conducted, what lab conducted the experiment, as well as a description of the experiment. This information can be accessed using `institution`, `lab`, and `description`, attributes on our `nwb_file`, respectively. "
>>>>>>> 543a7a9e1021df15d6987b31915e10f51310bfc7
   ]
  },
  {
   "cell_type": "code",
<<<<<<< HEAD
   "execution_count": 6,
=======
   "execution_count": 11,
>>>>>>> 543a7a9e1021df15d6987b31915e10f51310bfc7
   "metadata": {},
   "outputs": [
    {
     "name": "stdout",
     "output_type": "stream",
     "text": [
<<<<<<< HEAD
      "dict_keys(['acquisition', 'analysis', 'scratch', 'stimulus', 'stimulus_template', 'processing', 'devices', 'electrode_groups', 'imaging_planes', 'icephys_electrodes', 'ogen_sites', 'intervals', 'lab_meta_data', 'session_description', 'identifier', 'session_start_time', 'timestamps_reference_time', 'file_create_date', 'keywords', 'epoch_tags', 'electrodes', 'subject', 'trials', 'units', 'experiment_description', 'institution', 'experimenter', 'related_publications'])\n"
=======
      "The experiment within this NWB file was conducted at University College London in the lab of The Carandini and Harris Lab.     The experiment is detailed as follows: Large-scale Neuropixels recordings across brain regions of mice during a head-fixed visual discrimination task. \n"
>>>>>>> 543a7a9e1021df15d6987b31915e10f51310bfc7
     ]
    }
   ],
   "source": [
    "# Get Meta-Data from NWB file \n",
    "print('The experiment within this NWB file was conducted at {} in the lab of {}. \\\n",
    "    The experiment is detailed as follows: {}'. \\\n",
    "    format(nwb_file.institution, nwb_file.lab, \\\n",
    "    nwb_file.experiment_description))"
   ]
  },
  {
   "cell_type": "markdown",
   "metadata": {},
   "source": [
    "## NWB File Hierarchy: Groups, Datasets, and Attributes"
   ]
  },
  {
   "cell_type": "markdown",
   "metadata": {},
   "source": [
    "The NWB file is composed of various Groups, Datasets, and Attributes. The data and corresponding meta-data are encapsulated within these Groups. The `fields` attribute returns a dictionary containing the metadata of the Groups of our nwb file. The dictionary `keys` are the various Groups within the file which we will use to access the information within our dataset."
   ]
  },
  {
   "cell_type": "code",
<<<<<<< HEAD
   "execution_count": 7,
=======
   "execution_count": 12,
>>>>>>> 543a7a9e1021df15d6987b31915e10f51310bfc7
   "metadata": {},
   "outputs": [
    {
     "name": "stdout",
     "output_type": "stream",
     "text": [
<<<<<<< HEAD
      "The experiment within this NWB file was conducted at Janelia Research Campus in the lab of None. The experiment is detailed as follows: Extracellular electrophysiology recordings performed on mouse anterior lateral motor cortex (ALM) in delay response task. Neural activity from two neuron populations, pyramidal track upper and lower, were characterized, in relation to movement execution.\n"
=======
      "dict_keys(['acquisition', 'analysis', 'scratch', 'stimulus', 'stimulus_template', 'processing', 'devices', 'electrode_groups', 'imaging_planes', 'icephys_electrodes', 'ogen_sites', 'intervals', 'lab_meta_data', 'session_description', 'identifier', 'session_start_time', 'timestamps_reference_time', 'file_create_date', 'keywords', 'epoch_tags', 'electrodes', 'subject', 'trials', 'units', 'experiment_description', 'lab', 'institution', 'experimenter', 'related_publications'])\n"
>>>>>>> 543a7a9e1021df15d6987b31915e10f51310bfc7
     ]
    }
   ],
   "source": [
    "# Get the Groups for the nwb file \n",
    "nwb_fields = nwb_file.fields\n",
    "print(nwb_fields.keys())"
   ]
  },
  {
   "cell_type": "markdown",
   "metadata": {},
   "source": [
    "We can access metadata from each group in our `nwb_file` with the following syntax: `nwb_file.group`, just as we would normally access an attribute. \n",
    "\n",
    "The `acquisition` group contains datasets of acquisition data. We can look at the look at the `description` field in the metadata to understand what each dataset in the group contains. "
   ]
  },
  {
   "cell_type": "code",
<<<<<<< HEAD
   "execution_count": 14,
=======
   "execution_count": 15,
>>>>>>> 543a7a9e1021df15d6987b31915e10f51310bfc7
   "metadata": {},
   "outputs": [
    {
     "data": {
      "text/plain": [
<<<<<<< HEAD
       "{'lick_times': lick_times pynwb.behavior.BehavioralEvents at 0x140609270652880\n",
=======
       "{'lickPiezo': lickPiezo pynwb.base.TimeSeries at 0x140493853076280\n",
       " Fields:\n",
       "   comments: no comments\n",
       "   conversion: 1.0\n",
       "   data: <HDF5 dataset \"data\": shape (1314000,), type \"<f8\">\n",
       "   description: Voltage values from a thin-film piezo connected to the lick spout, so that values are proportional to deflection of the spout and licks can be detected as peaks of the signal.\n",
       "   rate: 0.002000031887945625\n",
       "   resolution: -1.0\n",
       "   starting_time: 33.65250410481991\n",
       "   starting_time_unit: seconds\n",
       "   unit: V,\n",
       " 'wheel_position': wheel_position pynwb.base.TimeSeries at 0x140493853076728\n",
>>>>>>> 543a7a9e1021df15d6987b31915e10f51310bfc7
       " Fields:\n",
       "   time_series: {\n",
       "     lick_left_times <class 'pynwb.base.TimeSeries'>,\n",
       "     lick_right_times <class 'pynwb.base.TimeSeries'>\n",
       "   }}"
      ]
     },
<<<<<<< HEAD
     "execution_count": 14,
=======
     "execution_count": 15,
>>>>>>> 543a7a9e1021df15d6987b31915e10f51310bfc7
     "metadata": {},
     "output_type": "execute_result"
    }
   ],
   "source": [
    "# example showing how to return meta data from groups in nwb file \n",
    "# 'acquisition' is the first group in our file \n",
    "nwb_file.acquisition"
   ]
  },
  {
   "cell_type": "markdown",
   "metadata": {},
   "source": [
    "In this file, the acquisition group contains two different dataets, `lickPiezo` and `wheel_position`. To access the actual data array of these datasets we must first subset our dataset of interest from the group. We can then use `data[:]` to return our actual data array. "
   ]
  },
  {
   "cell_type": "code",
   "execution_count": 18,
   "metadata": {},
   "outputs": [
    {
     "name": "stdout",
     "output_type": "stream",
     "text": [
      "[1. 1. 1. 1. 1. 1. 1. 1. 1. 1.]\n"
     ]
    }
   ],
   "source": [
    "# select our dataset of interest \n",
    "sub_group = 'lick_times'\n",
    "lick_times = nwb_file.acquisition[sub_group]\n",
    "lick_left_ds = lick_times['lick_left_times']\n",
    "\n",
    "# return first 20 values in data array \n",
    "lick_left_times_data_array = lick_left_ds.data[:10]\n",
    "\n",
    "print(lick_left_times_data_array)"
   ]
  },
  {
   "cell_type": "markdown",
   "metadata": {},
   "source": [
    "The `processing` group in our `nwb_file` contains all of our processed data for scientific analysis. Within the processing group there are mulitple subgroups that belong to the `behavior` module. `BehavioralEpochs`, `BehavioralEvents`, `BehavioralEvents`, and `PupilTracking` are seperate groups encapsulated within `behavior` and contain their own datasets. "
   ]
  },
  {
   "cell_type": "code",
   "execution_count": 19,
   "metadata": {},
   "outputs": [
    {
     "data": {
      "text/plain": [
       "{}"
      ]
     },
     "execution_count": 19,
     "metadata": {},
     "output_type": "execute_result"
    }
   ],
   "source": [
    "# return meta data for prcessing group\n",
    "nwb_file.processing"
   ]
  },
  {
   "cell_type": "markdown",
   "metadata": {},
   "source": [
    "If we subset `PupilTracking` from `behavior` we can see that it contains two datasets. We can do as we did before and subset our dataset of interst and return the actual data array by executing `data[:]`."
   ]
  },
  {
   "cell_type": "code",
   "execution_count": null,
   "metadata": {},
   "outputs": [],
   "source": [
    "# assign behavior group to variable \n",
    "behavior = nwb_file.processing['behavior']\n",
    "\n",
    "# subset PupilTracking group from behavior group \n",
    "pupil_tracking = behavior['PupilTracking']\n",
    "print(pupil_tracking)"
   ]
  },
  {
   "cell_type": "code",
   "execution_count": null,
   "metadata": {},
   "outputs": [],
   "source": [
    "# subset the eye_xy_positions dataset\n",
    "eye_xy_positions = pupil_tracking['eye_xy_positions']\n",
    "print(eye_xy_positions)\n",
    "\n",
    "# return firsy 10 entires in actual data array\n",
    "print('\\n Eye (x,y) positions:')\n",
    "print(eye_xy_positions.data[:10])"
   ]
  },
  {
   "cell_type": "markdown",
   "metadata": {},
   "source": [
    "The `intervals` Group contains datasets from trials of our experiment, sub-experiments that were conducted, and/or epochs. For the example below, we will look into the `trials` dataset. You can return the `trials` data as a dataframe by using the `to_dataframe` method."
   ]
  },
  {
   "cell_type": "code",
   "execution_count": 60,
   "metadata": {},
   "outputs": [
    {
     "data": {
      "text/html": [
       "<div>\n",
       "<style scoped>\n",
       "    .dataframe tbody tr th:only-of-type {\n",
       "        vertical-align: middle;\n",
       "    }\n",
       "\n",
       "    .dataframe tbody tr th {\n",
       "        vertical-align: top;\n",
       "    }\n",
       "\n",
       "    .dataframe thead th {\n",
       "        text-align: right;\n",
       "    }\n",
       "</style>\n",
       "<table border=\"1\" class=\"dataframe\">\n",
       "  <thead>\n",
       "    <tr style=\"text-align: right;\">\n",
       "      <th></th>\n",
       "      <th>start_time</th>\n",
       "      <th>stop_time</th>\n",
       "      <th>type</th>\n",
       "      <th>response</th>\n",
       "      <th>stim_present</th>\n",
       "      <th>is_good</th>\n",
       "      <th>cue_start_time</th>\n",
       "      <th>pole_in_time</th>\n",
       "      <th>pole_out_time</th>\n",
       "    </tr>\n",
       "    <tr>\n",
       "      <th>id</th>\n",
       "      <th></th>\n",
       "      <th></th>\n",
       "      <th></th>\n",
       "      <th></th>\n",
       "      <th></th>\n",
       "      <th></th>\n",
       "      <th></th>\n",
       "      <th></th>\n",
       "      <th></th>\n",
       "    </tr>\n",
       "  </thead>\n",
       "  <tbody>\n",
       "    <tr>\n",
       "      <th>1</th>\n",
       "      <td>323.171</td>\n",
       "      <td>NaN</td>\n",
       "      <td>lick right</td>\n",
       "      <td>early lick</td>\n",
       "      <td>0</td>\n",
       "      <td>1</td>\n",
       "      <td>7.49698</td>\n",
       "      <td>3.93949</td>\n",
       "      <td>5.12748</td>\n",
       "    </tr>\n",
       "    <tr>\n",
       "      <th>2</th>\n",
       "      <td>329.570</td>\n",
       "      <td>NaN</td>\n",
       "      <td>lick right</td>\n",
       "      <td>early lick</td>\n",
       "      <td>0</td>\n",
       "      <td>1</td>\n",
       "      <td>11.81280</td>\n",
       "      <td>4.94181</td>\n",
       "      <td>5.94198</td>\n",
       "    </tr>\n",
       "    <tr>\n",
       "      <th>3</th>\n",
       "      <td>335.971</td>\n",
       "      <td>NaN</td>\n",
       "      <td>lick right</td>\n",
       "      <td>incorrect</td>\n",
       "      <td>0</td>\n",
       "      <td>1</td>\n",
       "      <td>6.62964</td>\n",
       "      <td>4.12915</td>\n",
       "      <td>5.12931</td>\n",
       "    </tr>\n",
       "    <tr>\n",
       "      <th>4</th>\n",
       "      <td>342.371</td>\n",
       "      <td>NaN</td>\n",
       "      <td>lick right</td>\n",
       "      <td>incorrect</td>\n",
       "      <td>0</td>\n",
       "      <td>1</td>\n",
       "      <td>6.41964</td>\n",
       "      <td>3.91915</td>\n",
       "      <td>4.91931</td>\n",
       "    </tr>\n",
       "    <tr>\n",
       "      <th>5</th>\n",
       "      <td>348.289</td>\n",
       "      <td>NaN</td>\n",
       "      <td>lick right</td>\n",
       "      <td>incorrect</td>\n",
       "      <td>0</td>\n",
       "      <td>1</td>\n",
       "      <td>12.66990</td>\n",
       "      <td>10.16930</td>\n",
       "      <td>11.16950</td>\n",
       "    </tr>\n",
       "  </tbody>\n",
       "</table>\n",
       "</div>"
      ],
      "text/plain": [
       "    start_time  stop_time        type    response  stim_present  is_good  \\\n",
       "id                                                                         \n",
       "1      323.171        NaN  lick right  early lick             0        1   \n",
       "2      329.570        NaN  lick right  early lick             0        1   \n",
       "3      335.971        NaN  lick right   incorrect             0        1   \n",
       "4      342.371        NaN  lick right   incorrect             0        1   \n",
       "5      348.289        NaN  lick right   incorrect             0        1   \n",
       "\n",
       "    cue_start_time  pole_in_time  pole_out_time  \n",
       "id                                               \n",
       "1          7.49698       3.93949        5.12748  \n",
       "2         11.81280       4.94181        5.94198  \n",
       "3          6.62964       4.12915        5.12931  \n",
       "4          6.41964       3.91915        4.91931  \n",
       "5         12.66990      10.16930       11.16950  "
      ]
     },
     "execution_count": 60,
     "metadata": {},
     "output_type": "execute_result"
    }
   ],
   "source": [
    "# Select the group of interest \n",
    "intervals = nwb_file.intervals\n",
    "\n",
    "# Subset the dataset from the group and assign it as a dataframe\n",
    "interval_trials_df = intervals['trials'].to_dataframe()\n",
    "interval_trials_df.head()"
   ]
  },
  {
   "cell_type": "markdown",
   "metadata": {},
   "source": [
    "The `description` attribute provides a short description on each column of the dataframe. "
   ]
  },
  {
   "cell_type": "code",
   "execution_count": null,
   "metadata": {},
   "outputs": [],
   "source": [
    "print(intervals['trials']['response_choice'].description)"
   ]
  },
  {
   "cell_type": "markdown",
   "metadata": {},
   "source": [
    "For more information on all the different Groups and hierarchal structure of an NWB file, please visit the <a href = 'https://nwb-schema.readthedocs.io/en/latest/format.html#nwb-n-file'> NWB:N file section</a> of the NWB Format documentation. For a list of all the attributes and methods for a `pynwb.file.NWBfile` obeject, please visit the <a href = 'https://pynwb.readthedocs.io/en/stable/pynwb.file.html'> module documentation</a>."
   ]
  },
  {
   "cell_type": "markdown",
   "metadata": {},
   "source": [
    "## Possible Analyses \n",
    "\n",
    "A raster plot (this needs to be fixed)"
   ]
  },
  {
   "cell_type": "code",
   "execution_count": 37,
   "metadata": {},
<<<<<<< HEAD
   "outputs": [],
   "source": []
  },
  {
   "cell_type": "code",
   "execution_count": 47,
   "metadata": {},
   "outputs": [
    {
     "data": {
      "text/plain": [
       "lick_right_times pynwb.base.TimeSeries at 0x140609270732048\n",
       "Fields:\n",
       "  comments: no comments\n",
       "  conversion: 1.0\n",
       "  data: <HDF5 dataset \"data\": shape (1511,), type \"<f8\">\n",
       "  description: no description\n",
       "  interval: 1\n",
       "  resolution: 0.0\n",
       "  timestamps: <HDF5 dataset \"timestamps\": shape (1511,), type \"<f8\">\n",
       "  timestamps_unit: seconds\n",
       "  unit: a.u."
      ]
     },
     "execution_count": 47,
     "metadata": {},
     "output_type": "execute_result"
    }
   ],
   "source": [
    "lick_right_ds = lick_times['lick_right_times']\n",
    "lick_right_ds"
   ]
  },
  {
   "cell_type": "code",
   "execution_count": 43,
   "metadata": {},
   "outputs": [
    {
     "data": {
      "text/plain": [
       "lick_left_times pynwb.base.TimeSeries at 0x140609270617808\n",
       "Fields:\n",
       "  comments: no comments\n",
       "  conversion: 1.0\n",
       "  data: <HDF5 dataset \"data\": shape (1379,), type \"<f8\">\n",
       "  description: no description\n",
       "  interval: 1\n",
       "  resolution: 0.0\n",
       "  timestamps: <HDF5 dataset \"timestamps\": shape (1379,), type \"<f8\">\n",
       "  timestamps_unit: seconds\n",
       "  unit: a.u."
      ]
     },
     "execution_count": 43,
     "metadata": {},
     "output_type": "execute_result"
    }
   ],
   "source": [
    "lick_left_ds"
   ]
  },
  {
   "cell_type": "code",
   "execution_count": 37,
   "metadata": {},
   "outputs": [
    {
     "data": {
      "text/plain": [
       "\"Index for VectorData 'spike_times'\""
      ]
     },
     "execution_count": 37,
     "metadata": {},
     "output_type": "execute_result"
    }
   ],
   "source": [
    "units = nwb_file.units\n",
    "units['spike_times'].description"
   ]
  },
  {
   "cell_type": "code",
   "execution_count": 50,
   "metadata": {},
   "outputs": [
    {
     "data": {
      "text/plain": [
       "array([ 933.873288,  948.277471,  950.535711, ..., 2087.87896 ,\n",
       "       2088.7114  , 2088.98616 ])"
      ]
     },
     "execution_count": 50,
     "metadata": {},
     "output_type": "execute_result"
    }
   ],
   "source": [
    "# nwb_file\n",
    "units_df = nwb_file.units.to_dataframe()\n",
    "units_df.loc[1, 'spike_times']"
=======
   "outputs": [
    {
     "data": {
      "image/png": "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\n",
      "text/plain": [
       "<Figure size 432x288 with 1 Axes>"
      ]
     },
     "metadata": {
      "needs_background": "light"
     },
     "output_type": "display_data"
    }
   ],
   "source": [
    "import matplotlib.pyplot as plt\n",
    "import numpy as np\n",
    "\n",
    "for unit in range(len(nwb_file.units['spike_times'])):\n",
    "    spike_times = nwb_file.units['spike_times'][unit][:100]\n",
    "    y_unit = np.ones(100)*unit\n",
    "    plt.eventplot(spike_times)\n",
    "\n",
    "plt.show()"
>>>>>>> 543a7a9e1021df15d6987b31915e10f51310bfc7
   ]
  },
  {
   "cell_type": "code",
   "execution_count": 52,
   "metadata": {},
   "outputs": [
    {
     "data": {
      "text/html": [
       "<div>\n",
       "<style scoped>\n",
       "    .dataframe tbody tr th:only-of-type {\n",
       "        vertical-align: middle;\n",
       "    }\n",
       "\n",
       "    .dataframe tbody tr th {\n",
       "        vertical-align: top;\n",
       "    }\n",
       "\n",
       "    .dataframe thead th {\n",
       "        text-align: right;\n",
       "    }\n",
       "</style>\n",
       "<table border=\"1\" class=\"dataframe\">\n",
       "  <thead>\n",
       "    <tr style=\"text-align: right;\">\n",
       "      <th></th>\n",
       "      <th>depth</th>\n",
       "      <th>quality</th>\n",
       "      <th>cell_type</th>\n",
       "      <th>spike_times</th>\n",
       "      <th>electrodes</th>\n",
       "    </tr>\n",
       "    <tr>\n",
       "      <th>id</th>\n",
       "      <th></th>\n",
       "      <th></th>\n",
       "      <th></th>\n",
       "      <th></th>\n",
       "      <th></th>\n",
       "    </tr>\n",
       "  </thead>\n",
       "  <tbody>\n",
       "    <tr>\n",
       "      <th>1</th>\n",
       "      <td>665.0</td>\n",
       "      <td>Poor</td>\n",
       "      <td>unidentified</td>\n",
       "      <td>[933.873288, 948.2774710000008, 950.5357110000...</td>\n",
       "      <td>x        y        z       imp  \\\n",
       "id ...</td>\n",
       "    </tr>\n",
       "    <tr>\n",
       "      <th>2</th>\n",
       "      <td>665.0</td>\n",
       "      <td>Fair</td>\n",
       "      <td>unidentified</td>\n",
       "      <td>[329.95417899999956, 330.01945899999953, 330.0...</td>\n",
       "      <td>x        y        z       imp  \\\n",
       "id ...</td>\n",
       "    </tr>\n",
       "    <tr>\n",
       "      <th>3</th>\n",
       "      <td>715.0</td>\n",
       "      <td></td>\n",
       "      <td>unidentified</td>\n",
       "      <td>[329.94165899999956, 329.9998989999996, 330.00...</td>\n",
       "      <td>x        y        z       imp  \\\n",
       "id ...</td>\n",
       "    </tr>\n",
       "    <tr>\n",
       "      <th>4</th>\n",
       "      <td>715.0</td>\n",
       "      <td>[]</td>\n",
       "      <td>unidentified</td>\n",
       "      <td>[329.93145899999956, 330.7492189999995, 330.77...</td>\n",
       "      <td>x        y        z       imp  \\\n",
       "id ...</td>\n",
       "    </tr>\n",
       "    <tr>\n",
       "      <th>5</th>\n",
       "      <td>715.0</td>\n",
       "      <td>Fair</td>\n",
       "      <td>unidentified</td>\n",
       "      <td>[331.09961899999956, 332.14505899999955, 333.3...</td>\n",
       "      <td>x        y        z       imp  \\\n",
       "id ...</td>\n",
       "    </tr>\n",
       "    <tr>\n",
       "      <th>...</th>\n",
       "      <td>...</td>\n",
       "      <td>...</td>\n",
       "      <td>...</td>\n",
       "      <td>...</td>\n",
       "      <td>...</td>\n",
       "    </tr>\n",
       "    <tr>\n",
       "      <th>1001</th>\n",
       "      <td>840.0</td>\n",
       "      <td>Excellent</td>\n",
       "      <td>PTlower</td>\n",
       "      <td>[330.0389389999996, 330.46297899999956, 330.65...</td>\n",
       "      <td>x        y        z       imp  \\\n",
       "id ...</td>\n",
       "    </tr>\n",
       "    <tr>\n",
       "      <th>1002</th>\n",
       "      <td>890.0</td>\n",
       "      <td>Excellent</td>\n",
       "      <td>PTlower</td>\n",
       "      <td>[330.47641899999957, 331.24353899999954, 331.3...</td>\n",
       "      <td>x        y        z       imp  \\\n",
       "id ...</td>\n",
       "    </tr>\n",
       "    <tr>\n",
       "      <th>1003</th>\n",
       "      <td>865.0</td>\n",
       "      <td>Good</td>\n",
       "      <td>PTlower</td>\n",
       "      <td>[330.43165899999957, 330.43701899999957, 330.4...</td>\n",
       "      <td>x        y        z       imp  \\\n",
       "id ...</td>\n",
       "    </tr>\n",
       "    <tr>\n",
       "      <th>1004</th>\n",
       "      <td>940.0</td>\n",
       "      <td>Excellent</td>\n",
       "      <td>PTlower</td>\n",
       "      <td>[329.9436989999996, 329.96745899999956, 329.99...</td>\n",
       "      <td>x        y        z       imp  \\\n",
       "id ...</td>\n",
       "    </tr>\n",
       "    <tr>\n",
       "      <th>1005</th>\n",
       "      <td>815.0</td>\n",
       "      <td>Fair</td>\n",
       "      <td>PTlower</td>\n",
       "      <td>[329.99225899999954, 330.05621899999954, 330.5...</td>\n",
       "      <td>x        y        z       imp  \\\n",
       "id ...</td>\n",
       "    </tr>\n",
       "  </tbody>\n",
       "</table>\n",
       "<p>79 rows × 5 columns</p>\n",
       "</div>"
      ],
      "text/plain": [
       "      depth    quality     cell_type  \\\n",
       "id                                     \n",
       "1     665.0       Poor  unidentified   \n",
       "2     665.0       Fair  unidentified   \n",
       "3     715.0             unidentified   \n",
       "4     715.0         []  unidentified   \n",
       "5     715.0       Fair  unidentified   \n",
       "...     ...        ...           ...   \n",
       "1001  840.0  Excellent       PTlower   \n",
       "1002  890.0  Excellent       PTlower   \n",
       "1003  865.0       Good       PTlower   \n",
       "1004  940.0  Excellent       PTlower   \n",
       "1005  815.0       Fair       PTlower   \n",
       "\n",
       "                                            spike_times  \\\n",
       "id                                                        \n",
       "1     [933.873288, 948.2774710000008, 950.5357110000...   \n",
       "2     [329.95417899999956, 330.01945899999953, 330.0...   \n",
       "3     [329.94165899999956, 329.9998989999996, 330.00...   \n",
       "4     [329.93145899999956, 330.7492189999995, 330.77...   \n",
       "5     [331.09961899999956, 332.14505899999955, 333.3...   \n",
       "...                                                 ...   \n",
       "1001  [330.0389389999996, 330.46297899999956, 330.65...   \n",
       "1002  [330.47641899999957, 331.24353899999954, 331.3...   \n",
       "1003  [330.43165899999957, 330.43701899999957, 330.4...   \n",
       "1004  [329.9436989999996, 329.96745899999956, 329.99...   \n",
       "1005  [329.99225899999954, 330.05621899999954, 330.5...   \n",
       "\n",
       "                                             electrodes  \n",
       "id                                                       \n",
       "1               x        y        z       imp  \\\n",
       "id ...  \n",
       "2               x        y        z       imp  \\\n",
       "id ...  \n",
       "3               x        y        z       imp  \\\n",
       "id ...  \n",
       "4               x        y        z       imp  \\\n",
       "id ...  \n",
       "5               x        y        z       imp  \\\n",
       "id ...  \n",
       "...                                                 ...  \n",
       "1001            x        y        z       imp  \\\n",
       "id ...  \n",
       "1002            x        y        z       imp  \\\n",
       "id ...  \n",
       "1003            x        y        z       imp  \\\n",
       "id ...  \n",
       "1004            x        y        z       imp  \\\n",
       "id ...  \n",
       "1005            x        y        z       imp  \\\n",
       "id ...  \n",
       "\n",
       "[79 rows x 5 columns]"
      ]
     },
     "execution_count": 52,
     "metadata": {},
     "output_type": "execute_result"
    }
   ],
   "source": [
    "units_df"
   ]
  },
  {
   "cell_type": "code",
   "execution_count": 77,
   "metadata": {},
   "outputs": [
    {
     "data": {
      "text/plain": [
       "array([ 933.873288,  948.277471,  950.535711, ..., 2087.87896 ,\n",
       "       2088.7114  , 2088.98616 ])"
      ]
     },
     "execution_count": 77,
     "metadata": {},
     "output_type": "execute_result"
    }
   ],
   "source": [
    "(units_df.loc[1,'spike_times'])"
   ]
  },
  {
   "cell_type": "code",
   "execution_count": 83,
   "metadata": {},
   "outputs": [
    {
     "data": {
      "image/png": "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\n",
      "text/plain": [
       "<Figure size 432x288 with 1 Axes>"
      ]
     },
     "metadata": {
      "needs_background": "light"
     },
     "output_type": "display_data"
    }
   ],
   "source": [
    "# test cell \n",
    "first_neuron = units_df.loc[1,'spike_times']\n",
    "counter = 0 \n",
    "\n",
    "for spk in first_neuron:\n",
    "    spike_time = first_neuron[counter]\n",
    "    y_unit = np.ones(1)\n",
    "    plt.plot(spike_time, y_unit)\n",
    "    counter +=1\n",
    "\n",
    "plt.show()"
   ]
  },
  {
   "cell_type": "code",
   "execution_count": 42,
   "metadata": {},
   "outputs": [
    {
     "data": {
      "text/plain": [
       "'Extracellular electrophysiology recordings performed on mouse anterior lateral motor cortex (ALM) in delay response task. Neural activity from two neuron populations, pyramidal track upper and lower, were characterized, in relation to movement execution.'"
      ]
     },
     "execution_count": 42,
     "metadata": {},
     "output_type": "execute_result"
    }
   ],
   "source": [
    "nwb_file.experiment_description"
   ]
  },
  {
   "cell_type": "code",
   "execution_count": 21,
   "metadata": {},
   "outputs": [],
   "source": [
    "# test cell\n",
    "stimulus_dict = nwb_file.stimulus \n",
    "for key in stimulus_dict:\n",
    "    print(key +':')\n",
    "    print(stimulus_dict[key].description)\n",
    "    print('\\n')"
   ]
  },
  {
   "cell_type": "code",
   "execution_count": 53,
   "metadata": {},
   "outputs": [
    {
     "name": "stdout",
     "output_type": "stream",
     "text": [
      "H-129: 64:\n",
      "N/A\n",
      "brain_region: ALM; brain_subregion: N/A; cortical_layer: 5; hemisphere: right; brain_location_full_name: N/A\n",
      "\n",
      "\n"
     ]
    }
   ],
   "source": [
    "electrode_groups = nwb_file.electrode_groups\n",
    "\n",
    "for key in electrode_groups:\n",
    "    print(key + ':')\n",
    "    print(electrode_groups[key].description)\n",
    "    print(electrode_groups[key].location)\n",
    "    print('\\n')"
   ]
  },
  {
   "cell_type": "code",
   "execution_count": 54,
   "metadata": {},
   "outputs": [
    {
     "data": {
      "text/html": [
       "<div>\n",
       "<style scoped>\n",
       "    .dataframe tbody tr th:only-of-type {\n",
       "        vertical-align: middle;\n",
       "    }\n",
       "\n",
       "    .dataframe tbody tr th {\n",
       "        vertical-align: top;\n",
       "    }\n",
       "\n",
       "    .dataframe thead th {\n",
       "        text-align: right;\n",
       "    }\n",
       "</style>\n",
       "<table border=\"1\" class=\"dataframe\">\n",
       "  <thead>\n",
       "    <tr style=\"text-align: right;\">\n",
       "      <th></th>\n",
       "      <th>x</th>\n",
       "      <th>y</th>\n",
       "      <th>z</th>\n",
       "      <th>imp</th>\n",
       "      <th>location</th>\n",
       "      <th>filtering</th>\n",
       "      <th>group</th>\n",
       "      <th>group_name</th>\n",
       "    </tr>\n",
       "    <tr>\n",
       "      <th>id</th>\n",
       "      <th></th>\n",
       "      <th></th>\n",
       "      <th></th>\n",
       "      <th></th>\n",
       "      <th></th>\n",
       "      <th></th>\n",
       "      <th></th>\n",
       "      <th></th>\n",
       "    </tr>\n",
       "  </thead>\n",
       "  <tbody>\n",
       "    <tr>\n",
       "      <th>1</th>\n",
       "      <td>0.0</td>\n",
       "      <td>0.0</td>\n",
       "      <td>0.0</td>\n",
       "      <td>-1.0</td>\n",
       "      <td>brain_region: ALM; brain_subregion: N/A; corti...</td>\n",
       "      <td>Bandpass filtered 300-6K Hz</td>\n",
       "      <td>H-129: 64 pynwb.ecephys.ElectrodeGroup at 0x14...</td>\n",
       "      <td>H-129: 64</td>\n",
       "    </tr>\n",
       "    <tr>\n",
       "      <th>2</th>\n",
       "      <td>0.0</td>\n",
       "      <td>0.0</td>\n",
       "      <td>0.0</td>\n",
       "      <td>-1.0</td>\n",
       "      <td>brain_region: ALM; brain_subregion: N/A; corti...</td>\n",
       "      <td>Bandpass filtered 300-6K Hz</td>\n",
       "      <td>H-129: 64 pynwb.ecephys.ElectrodeGroup at 0x14...</td>\n",
       "      <td>H-129: 64</td>\n",
       "    </tr>\n",
       "    <tr>\n",
       "      <th>3</th>\n",
       "      <td>0.0</td>\n",
       "      <td>0.0</td>\n",
       "      <td>0.0</td>\n",
       "      <td>-1.0</td>\n",
       "      <td>brain_region: ALM; brain_subregion: N/A; corti...</td>\n",
       "      <td>Bandpass filtered 300-6K Hz</td>\n",
       "      <td>H-129: 64 pynwb.ecephys.ElectrodeGroup at 0x14...</td>\n",
       "      <td>H-129: 64</td>\n",
       "    </tr>\n",
       "    <tr>\n",
       "      <th>4</th>\n",
       "      <td>0.0</td>\n",
       "      <td>0.0</td>\n",
       "      <td>0.0</td>\n",
       "      <td>-1.0</td>\n",
       "      <td>brain_region: ALM; brain_subregion: N/A; corti...</td>\n",
       "      <td>Bandpass filtered 300-6K Hz</td>\n",
       "      <td>H-129: 64 pynwb.ecephys.ElectrodeGroup at 0x14...</td>\n",
       "      <td>H-129: 64</td>\n",
       "    </tr>\n",
       "    <tr>\n",
       "      <th>5</th>\n",
       "      <td>0.0</td>\n",
       "      <td>0.0</td>\n",
       "      <td>0.0</td>\n",
       "      <td>-1.0</td>\n",
       "      <td>brain_region: ALM; brain_subregion: N/A; corti...</td>\n",
       "      <td>Bandpass filtered 300-6K Hz</td>\n",
       "      <td>H-129: 64 pynwb.ecephys.ElectrodeGroup at 0x14...</td>\n",
       "      <td>H-129: 64</td>\n",
       "    </tr>\n",
       "  </tbody>\n",
       "</table>\n",
       "</div>"
      ],
      "text/plain": [
       "      x    y    z  imp                                           location  \\\n",
       "id                                                                          \n",
       "1   0.0  0.0  0.0 -1.0  brain_region: ALM; brain_subregion: N/A; corti...   \n",
       "2   0.0  0.0  0.0 -1.0  brain_region: ALM; brain_subregion: N/A; corti...   \n",
       "3   0.0  0.0  0.0 -1.0  brain_region: ALM; brain_subregion: N/A; corti...   \n",
       "4   0.0  0.0  0.0 -1.0  brain_region: ALM; brain_subregion: N/A; corti...   \n",
       "5   0.0  0.0  0.0 -1.0  brain_region: ALM; brain_subregion: N/A; corti...   \n",
       "\n",
       "                      filtering  \\\n",
       "id                                \n",
       "1   Bandpass filtered 300-6K Hz   \n",
       "2   Bandpass filtered 300-6K Hz   \n",
       "3   Bandpass filtered 300-6K Hz   \n",
       "4   Bandpass filtered 300-6K Hz   \n",
       "5   Bandpass filtered 300-6K Hz   \n",
       "\n",
       "                                                group group_name  \n",
       "id                                                                \n",
       "1   H-129: 64 pynwb.ecephys.ElectrodeGroup at 0x14...  H-129: 64  \n",
       "2   H-129: 64 pynwb.ecephys.ElectrodeGroup at 0x14...  H-129: 64  \n",
       "3   H-129: 64 pynwb.ecephys.ElectrodeGroup at 0x14...  H-129: 64  \n",
       "4   H-129: 64 pynwb.ecephys.ElectrodeGroup at 0x14...  H-129: 64  \n",
       "5   H-129: 64 pynwb.ecephys.ElectrodeGroup at 0x14...  H-129: 64  "
      ]
     },
     "execution_count": 54,
     "metadata": {},
     "output_type": "execute_result"
    }
   ],
   "source": [
    "# electrode positions \n",
    "electrodes = nwb_file.electrodes\n",
    "electrodes.to_dataframe().head()"
   ]
  },
  {
   "cell_type": "code",
   "execution_count": 55,
   "metadata": {},
   "outputs": [
    {
     "name": "stdout",
     "output_type": "stream",
     "text": [
      "x:\n",
      "the x coordinate of the channel location\n",
      "\n",
      "\n",
      "y:\n",
      "the y coordinate of the channel location\n",
      "\n",
      "\n",
      "z:\n",
      "the z coordinate of the channel location\n",
      "\n",
      "\n",
      "imp:\n",
      "the impedance of the channel\n",
      "\n",
      "\n",
      "location:\n",
      "the location of channel within the subject e.g. brain region\n",
      "\n",
      "\n",
      "filtering:\n",
      "description of hardware filtering\n",
      "\n",
      "\n",
      "group:\n",
      "a reference to the ElectrodeGroup this electrode is a part of\n",
      "\n",
      "\n",
      "group_name:\n",
      "the name of the ElectrodeGroup this electrode is a part of\n",
      "\n",
      "\n"
     ]
    }
   ],
   "source": [
    "# description of each column in electrodes \n",
    "for col in electrodes.to_dataframe():\n",
    "    print(col + ':')\n",
    "    print(electrodes[col].description)\n",
    "    print('\\n')"
   ]
  },
  {
   "cell_type": "code",
   "execution_count": 56,
   "metadata": {},
   "outputs": [
    {
     "name": "stdout",
     "output_type": "stream",
     "text": [
      "['brain_region: ALM; brain_subregion: N/A; cortical_layer: 5; hemisphere: right; brain_location_full_name: N/A']\n"
     ]
    }
   ],
   "source": [
    "# all electrode locations \n",
    "electrode_df = electrodes.to_dataframe()\n",
    "print(electrode_df['location'].unique())"
   ]
  },
  {
   "cell_type": "code",
   "execution_count": null,
   "metadata": {},
   "outputs": [],
   "source": []
  },
  {
   "cell_type": "code",
   "execution_count": 57,
   "metadata": {},
   "outputs": [
    {
     "ename": "NameError",
     "evalue": "name 'intervals' is not defined",
     "output_type": "error",
     "traceback": [
      "\u001b[0;31m---------------------------------------------------------------------------\u001b[0m",
      "\u001b[0;31mNameError\u001b[0m                                 Traceback (most recent call last)",
      "\u001b[0;32m<ipython-input-57-91752ff9e1c3>\u001b[0m in \u001b[0;36m<module>\u001b[0;34m\u001b[0m\n\u001b[1;32m      1\u001b[0m \u001b[0;31m# test cell\u001b[0m\u001b[0;34m\u001b[0m\u001b[0;34m\u001b[0m\u001b[0;34m\u001b[0m\u001b[0m\n\u001b[0;32m----> 2\u001b[0;31m \u001b[0;32mfor\u001b[0m \u001b[0mcol\u001b[0m \u001b[0;32min\u001b[0m \u001b[0mintervals\u001b[0m\u001b[0;34m[\u001b[0m\u001b[0;34m'trials'\u001b[0m\u001b[0;34m]\u001b[0m\u001b[0;34m.\u001b[0m\u001b[0mto_dataframe\u001b[0m\u001b[0;34m(\u001b[0m\u001b[0;34m)\u001b[0m\u001b[0;34m:\u001b[0m\u001b[0;34m\u001b[0m\u001b[0;34m\u001b[0m\u001b[0m\n\u001b[0m\u001b[1;32m      3\u001b[0m     \u001b[0mprint\u001b[0m\u001b[0;34m(\u001b[0m\u001b[0mcol\u001b[0m \u001b[0;34m+\u001b[0m\u001b[0;34m':'\u001b[0m\u001b[0;34m)\u001b[0m\u001b[0;34m\u001b[0m\u001b[0;34m\u001b[0m\u001b[0m\n\u001b[1;32m      4\u001b[0m     \u001b[0mprint\u001b[0m\u001b[0;34m(\u001b[0m\u001b[0mintervals\u001b[0m\u001b[0;34m[\u001b[0m\u001b[0;34m'trials'\u001b[0m\u001b[0;34m]\u001b[0m\u001b[0;34m[\u001b[0m\u001b[0mcol\u001b[0m\u001b[0;34m]\u001b[0m\u001b[0;34m.\u001b[0m\u001b[0mdescription\u001b[0m\u001b[0;34m)\u001b[0m\u001b[0;34m\u001b[0m\u001b[0;34m\u001b[0m\u001b[0m\n\u001b[1;32m      5\u001b[0m     \u001b[0mprint\u001b[0m\u001b[0;34m(\u001b[0m\u001b[0;34m'\\n'\u001b[0m\u001b[0;34m)\u001b[0m\u001b[0;34m\u001b[0m\u001b[0;34m\u001b[0m\u001b[0m\n",
      "\u001b[0;31mNameError\u001b[0m: name 'intervals' is not defined"
     ]
    }
   ],
   "source": [
    "# test cell\n",
    "for col in intervals['trials'].to_dataframe():\n",
    "    print(col +':')\n",
    "    print(intervals['trials'][col].description)\n",
    "    print('\\n')"
   ]
  },
  {
   "cell_type": "code",
   "execution_count": null,
   "metadata": {},
   "outputs": [],
   "source": []
  }
 ],
 "metadata": {
  "kernelspec": {
   "display_name": "Python 3",
   "language": "python",
   "name": "python3"
  },
  "language_info": {
   "codemirror_mode": {
    "name": "ipython",
    "version": 3
   },
   "file_extension": ".py",
   "mimetype": "text/x-python",
   "name": "python",
   "nbconvert_exporter": "python",
   "pygments_lexer": "ipython3",
   "version": "3.7.3"
  }
 },
 "nbformat": 4,
 "nbformat_minor": 4
}
