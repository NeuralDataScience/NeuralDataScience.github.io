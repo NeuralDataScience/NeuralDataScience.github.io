{
 "cells": [
  {
   "cell_type": "markdown",
   "metadata": {},
   "source": [
    "# Working with NWB in Python "
   ]
  },
  {
   "cell_type": "code",
   "execution_count": 1,
   "metadata": {},
   "outputs": [],
   "source": [
    "import numpy as np\n",
    "import pandas as pd \n",
    "from matplotlib import pyplot as plt\n",
    "from pynwb import NWBHDF5IO"
   ]
  },
  {
   "cell_type": "markdown",
   "metadata": {},
   "source": [
    "## Reading our NWB file"
   ]
  },
  {
   "cell_type": "markdown",
   "metadata": {},
   "source": [
    "To access the data in our nwb file we must read the file. This is done in two steps:\n",
    "- assign our file as an `NWBHDF5IO` object\n",
    "- read our file \n",
    "\n",
    "The first step is done using the `NWBHDF5IO` class to create our `NWBHDF5IO` object and map our file to HDF5 format. Once we have done this, we can use the `read()` method to return our nwb file. For more information on how to read NWB files, please visit the *Reading data from an NWB file* section from the <a href = 'https://pynwb.readthedocs.io/en/latest/tutorials/general/file.html'> NWB Basics Tutorial</a>. For more information on the `NWBHDF5IO` class, please visit the <a href = 'https://pynwb.readthedocs.io/en/latest/pynwb.html#pynwb.NWBHDF5IO'> original documentation</a>."
   ]
  },
  {
   "cell_type": "code",
   "execution_count": 2,
   "metadata": {},
   "outputs": [
    {
     "name": "stdout",
     "output_type": "stream",
     "text": [
      "File read.\n"
     ]
    }
   ],
   "source": [
    "# first read the file \n",
    "io = NWBHDF5IO('000017/sub-Cori/sub-Cori_ses-20161214T120000.nwb', 'r')\n",
    "nwb_file = io.read()\n",
    "print('File read.')"
   ]
  },
  {
   "cell_type": "markdown",
   "metadata": {},
   "source": [
    "## File Hierarchy: Groups, Datasets, and Attributes"
   ]
  },
  {
   "cell_type": "markdown",
   "metadata": {},
   "source": [
    "The NWB file is composed of various Groups, Datasets, and Attributes. The data/datasets and cooresponding meta-data are encapsulated within these Groups. The `fields` attribute returns a dictionary contiaining the metadata of the Groups of our nwb file. The dictionary `keys` are the various Groups within the file which we will use to access our datasets."
   ]
  },
  {
   "cell_type": "code",
   "execution_count": 3,
   "metadata": {},
   "outputs": [],
   "source": [
    "# nwb_file.fields"
   ]
  },
  {
   "cell_type": "code",
   "execution_count": 4,
   "metadata": {},
   "outputs": [
    {
     "name": "stdout",
     "output_type": "stream",
     "text": [
      "dict_keys(['acquisition', 'analysis', 'scratch', 'stimulus', 'stimulus_template', 'processing', 'devices', 'electrode_groups', 'imaging_planes', 'icephys_electrodes', 'ogen_sites', 'intervals', 'lab_meta_data', 'session_description', 'identifier', 'session_start_time', 'timestamps_reference_time', 'file_create_date', 'keywords', 'epoch_tags', 'electrodes', 'subject', 'trials', 'units', 'experiment_description', 'lab', 'institution', 'experimenter', 'related_publications'])\n"
     ]
    }
   ],
   "source": [
    "# Get the Groups for the nwb file \n",
    "nwb_fields = nwb_file.fields\n",
    "print(nwb_fields.keys())"
   ]
  },
  {
   "cell_type": "markdown",
   "metadata": {},
   "source": [
    "Each NWB file will have information on where the experiment was conducted, what lab conducted the experiment, as well as a description of the experiment. This information can be accessed using `institution`, `lab`, and `description`, attributes on our `nwb_file`, respectively. "
   ]
  },
  {
   "cell_type": "code",
   "execution_count": 5,
   "metadata": {},
   "outputs": [
    {
     "name": "stdout",
     "output_type": "stream",
     "text": [
      "The experiment within this NWB file was conducted at University College London in the lab of The Carandini and Harris Lab. The experiment is detailed as follows: Large-scale Neuropixels recordings across brain regions of mice during a head-fixed visual discrimination task. \n"
     ]
    }
   ],
   "source": [
    "# Get Meta-Data from NWB file \n",
    "print('The experiment within this NWB file was conducted at {} in the lab of {}. The experiment is detailed as follows: {}'.format(nwb_file.institution, nwb_file.lab, nwb_file.experiment_description))"
   ]
  },
  {
   "cell_type": "markdown",
   "metadata": {},
   "source": [
    "We can access metadata from each group in our `nwb_file` with the following syntax: `nwb_file.group`. This is no different than executing a method and/or attribute. The `acquisition` group contains datasets of acquisition data. We can look at the look at the `description` field in the metadata to understand what each dataset in the group contains. "
   ]
  },
  {
   "cell_type": "code",
   "execution_count": 37,
   "metadata": {},
   "outputs": [
    {
     "data": {
      "text/plain": [
       "{'lickPiezo': lickPiezo pynwb.base.TimeSeries at 0x140477258920848\n",
       " Fields:\n",
       "   comments: no comments\n",
       "   conversion: 1.0\n",
       "   data: <HDF5 dataset \"data\": shape (1314000,), type \"<f8\">\n",
       "   description: Voltage values from a thin-film piezo connected to the lick spout, so that values are proportional to deflection of the spout and licks can be detected as peaks of the signal.\n",
       "   rate: 0.002000031887945625\n",
       "   resolution: -1.0\n",
       "   starting_time: 33.65250410481991\n",
       "   starting_time_unit: seconds\n",
       "   unit: V,\n",
       " 'wheel_position': wheel_position pynwb.base.TimeSeries at 0x140477258920976\n",
       " Fields:\n",
       "   comments: The wheel has radius 31 mm and 1440 ticks per revolution, so multiply by 2*pi*r/tpr=0.135 to convert to millimeters. Positive velocity (increasing numbers) correspond to clockwise turns (if looking at the wheel from behind the mouse), i.e. turns that are in the correct direction for stimuli presented to the left. Likewise negative velocity corresponds to right choices.\n",
       "   conversion: 0.135\n",
       "   data: <HDF5 dataset \"data\": shape (6570000,), type \"<f8\">\n",
       "   description: The position reading of the rotary encoder attached to the rubber wheel that the mouse pushes left and right with his forelimbs.\n",
       "   rate: 0.00040000637758912496\n",
       "   resolution: -1.0\n",
       "   starting_time: 33.65250410481991\n",
       "   starting_time_unit: seconds\n",
       "   unit: mm}"
      ]
     },
     "execution_count": 37,
     "metadata": {},
     "output_type": "execute_result"
    }
   ],
   "source": [
    "# example showing how to return meta data from groups in nwb file \n",
    "# 'acquisition' is the first group in our file \n",
    "nwb_file.acquisition"
   ]
  },
  {
   "cell_type": "markdown",
   "metadata": {},
   "source": [
    "In this file, the acquisition group contains two different dataets, `lickPiezo` and `wheel_position`. To access the actual data array of these datasets we must first subset our dataset of interest from the group. We can then use `data[:]` to return our actual data array. "
   ]
  },
  {
   "cell_type": "code",
   "execution_count": 7,
   "metadata": {},
   "outputs": [
    {
     "name": "stdout",
     "output_type": "stream",
     "text": [
      "[3.18436567 3.4575181  3.63766762 3.71285813 3.68129979 3.55107522\n",
      " 3.33830297 3.06425065 2.75209663 2.42396281 2.09870512 1.7906713\n",
      " 1.50938029 1.25993802 1.04387904 0.85846741 0.69874522 0.56921781\n",
      " 0.46425845 0.37914098]\n"
     ]
    }
   ],
   "source": [
    "# select our dataset of interest \n",
    "dataset = 'lickPiezo'\n",
    "lickPiezo_ds = nwb_file.acquisition[dataset]\n",
    "\n",
    "# return first 20 values in data array \n",
    "lickPiezo_data_array = lickPiezo_ds.data[:20]\n",
    "\n",
    "print(lickPiezo_data_array)"
   ]
  },
  {
   "cell_type": "markdown",
   "metadata": {},
   "source": [
    "The `processing` group in our `nwb_file` contains all of our processed data for scientific analysis. Within the procesing group there are mulitple subgroups that belong to the `behavior` datasets. `BehavioralEpochs`, `BehavioralEvents`, `BehavioralEvents`, and `PupilTracking` are seperate groups encapsulated within `behavior` and contain their own datasets. "
   ]
  },
  {
   "cell_type": "code",
   "execution_count": 8,
   "metadata": {},
   "outputs": [
    {
     "data": {
      "text/plain": [
       "{'behavior': behavior pynwb.base.ProcessingModule at 0x140477258921296\n",
       " Fields:\n",
       "   data_interfaces: {\n",
       "     BehavioralEpochs <class 'pynwb.behavior.BehavioralEpochs'>,\n",
       "     BehavioralEvents <class 'pynwb.behavior.BehavioralEvents'>,\n",
       "     BehavioralTimeSeries <class 'pynwb.behavior.BehavioralTimeSeries'>,\n",
       "     PupilTracking <class 'pynwb.behavior.PupilTracking'>\n",
       "   }\n",
       "   description: behavior module}"
      ]
     },
     "execution_count": 8,
     "metadata": {},
     "output_type": "execute_result"
    }
   ],
   "source": [
    "# return meta data for prcessing group\n",
    "nwb_file.processing"
   ]
  },
  {
   "cell_type": "code",
   "execution_count": null,
   "metadata": {},
   "outputs": [],
   "source": []
  },
  {
   "cell_type": "markdown",
   "metadata": {},
   "source": [
    "If we subset `PupilTracking` from `behavior` we can see that it contains two datasets. We can do as we did before and subset our dataset of interst and return the actual data array by executing `data[:]`."
   ]
  },
  {
   "cell_type": "code",
   "execution_count": 9,
   "metadata": {},
   "outputs": [
    {
     "name": "stdout",
     "output_type": "stream",
     "text": [
      "PupilTracking pynwb.behavior.PupilTracking at 0x140477260165776\n",
      "Fields:\n",
      "  time_series: {\n",
      "    eye_area <class 'pynwb.base.TimeSeries'>,\n",
      "    eye_xy_positions <class 'pynwb.base.TimeSeries'>\n",
      "  }\n",
      "\n"
     ]
    }
   ],
   "source": [
    "# assign behavior group to variable \n",
    "behavior = nwb_file.processing['behavior']\n",
    "\n",
    "# subset PupilTracking group from behavior group \n",
    "pupil_tracking = behavior['PupilTracking']\n",
    "print(pupil_tracking)"
   ]
  },
  {
   "cell_type": "code",
   "execution_count": 10,
   "metadata": {},
   "outputs": [
    {
     "name": "stdout",
     "output_type": "stream",
     "text": [
      "eye_xy_positions pynwb.base.TimeSeries at 0x140477260166224\n",
      "Fields:\n",
      "  comments: The 2D position of the center of the pupil in the video frame. This is not registered to degrees visual angle, but could be used to detect saccades or other changes in eye position.\n",
      "  conversion: 1.0\n",
      "  data: <HDF5 dataset \"data\": shape (267759, 2), type \"<f8\">\n",
      "  description: Features extracted from the video of the right eye.\n",
      "  interval: 1\n",
      "  resolution: -1.0\n",
      "  timestamps: <HDF5 dataset \"timestamps\": shape (267759,), type \"<f8\">\n",
      "  timestamps_unit: seconds\n",
      "  unit: arb. unit\n",
      "\n",
      "\n",
      " Eye (x,y) positions:\n",
      "[[1.56599408 0.06802196]\n",
      " [1.58213078 0.05515582]\n",
      " [1.5796662  0.14542675]\n",
      " [1.57286532 0.13382707]\n",
      " [1.57185696 0.01200337]\n",
      " [1.58985626 0.08226199]\n",
      " [1.62204413 0.26782588]\n",
      " [1.59213104 0.13432399]\n",
      " [1.6127692  0.33010592]\n",
      " [1.63706748 0.28426869]]\n"
     ]
    }
   ],
   "source": [
    "# subset the eye_xy_positions dataset\n",
    "eye_xy_positions = pupil_tracking['eye_xy_positions']\n",
    "print(eye_xy_positions)\n",
    "\n",
    "# return firsy 10 entires in actual data array\n",
    "print('\\n Eye (x,y) positions:')\n",
    "print(eye_xy_positions.data[:10])"
   ]
  },
  {
   "cell_type": "markdown",
   "metadata": {},
   "source": [
    "The `intervals` Group contains datasets from trials of our experiment, sub-experiments that were conducted, and/or epochs. For the example below, we will look into the `trials` dataset. You can return the `trials` data as a dataframe by using the `to_dataframe` method."
   ]
  },
  {
   "cell_type": "code",
   "execution_count": 11,
   "metadata": {},
   "outputs": [
    {
     "data": {
      "text/html": [
       "<div>\n",
       "<style scoped>\n",
       "    .dataframe tbody tr th:only-of-type {\n",
       "        vertical-align: middle;\n",
       "    }\n",
       "\n",
       "    .dataframe tbody tr th {\n",
       "        vertical-align: top;\n",
       "    }\n",
       "\n",
       "    .dataframe thead th {\n",
       "        text-align: right;\n",
       "    }\n",
       "</style>\n",
       "<table border=\"1\" class=\"dataframe\">\n",
       "  <thead>\n",
       "    <tr style=\"text-align: right;\">\n",
       "      <th></th>\n",
       "      <th>start_time</th>\n",
       "      <th>stop_time</th>\n",
       "      <th>included</th>\n",
       "      <th>go_cue</th>\n",
       "      <th>visual_stimulus_time</th>\n",
       "      <th>visual_stimulus_left_contrast</th>\n",
       "      <th>visual_stimulus_right_contrast</th>\n",
       "      <th>response_time</th>\n",
       "      <th>response_choice</th>\n",
       "      <th>feedback_time</th>\n",
       "      <th>feedback_type</th>\n",
       "      <th>rep_num</th>\n",
       "    </tr>\n",
       "    <tr>\n",
       "      <th>id</th>\n",
       "      <th></th>\n",
       "      <th></th>\n",
       "      <th></th>\n",
       "      <th></th>\n",
       "      <th></th>\n",
       "      <th></th>\n",
       "      <th></th>\n",
       "      <th></th>\n",
       "      <th></th>\n",
       "      <th></th>\n",
       "      <th></th>\n",
       "      <th></th>\n",
       "    </tr>\n",
       "  </thead>\n",
       "  <tbody>\n",
       "    <tr>\n",
       "      <th>0</th>\n",
       "      <td>62.900284</td>\n",
       "      <td>67.423484</td>\n",
       "      <td>True</td>\n",
       "      <td>66.296625</td>\n",
       "      <td>65.269408</td>\n",
       "      <td>1.0</td>\n",
       "      <td>0.0</td>\n",
       "      <td>66.419612</td>\n",
       "      <td>1.0</td>\n",
       "      <td>66.456227</td>\n",
       "      <td>1</td>\n",
       "      <td>1.0</td>\n",
       "    </tr>\n",
       "    <tr>\n",
       "      <th>1</th>\n",
       "      <td>68.420838</td>\n",
       "      <td>73.604476</td>\n",
       "      <td>True</td>\n",
       "      <td>72.077117</td>\n",
       "      <td>71.202703</td>\n",
       "      <td>0.0</td>\n",
       "      <td>0.5</td>\n",
       "      <td>72.602206</td>\n",
       "      <td>-1.0</td>\n",
       "      <td>72.640326</td>\n",
       "      <td>1</td>\n",
       "      <td>1.0</td>\n",
       "    </tr>\n",
       "    <tr>\n",
       "      <th>2</th>\n",
       "      <td>74.602902</td>\n",
       "      <td>78.006757</td>\n",
       "      <td>True</td>\n",
       "      <td>76.877593</td>\n",
       "      <td>76.052380</td>\n",
       "      <td>1.0</td>\n",
       "      <td>0.5</td>\n",
       "      <td>77.001671</td>\n",
       "      <td>1.0</td>\n",
       "      <td>77.038396</td>\n",
       "      <td>1</td>\n",
       "      <td>1.0</td>\n",
       "    </tr>\n",
       "    <tr>\n",
       "      <th>3</th>\n",
       "      <td>79.003653</td>\n",
       "      <td>84.506778</td>\n",
       "      <td>True</td>\n",
       "      <td>81.996875</td>\n",
       "      <td>81.235263</td>\n",
       "      <td>0.0</td>\n",
       "      <td>0.0</td>\n",
       "      <td>83.502065</td>\n",
       "      <td>0.0</td>\n",
       "      <td>83.531699</td>\n",
       "      <td>1</td>\n",
       "      <td>1.0</td>\n",
       "    </tr>\n",
       "    <tr>\n",
       "      <th>4</th>\n",
       "      <td>85.501795</td>\n",
       "      <td>88.621336</td>\n",
       "      <td>True</td>\n",
       "      <td>87.462962</td>\n",
       "      <td>86.800952</td>\n",
       "      <td>0.5</td>\n",
       "      <td>1.0</td>\n",
       "      <td>87.617727</td>\n",
       "      <td>1.0</td>\n",
       "      <td>87.628565</td>\n",
       "      <td>-1</td>\n",
       "      <td>1.0</td>\n",
       "    </tr>\n",
       "  </tbody>\n",
       "</table>\n",
       "</div>"
      ],
      "text/plain": [
       "    start_time  stop_time  included     go_cue  visual_stimulus_time  \\\n",
       "id                                                                     \n",
       "0    62.900284  67.423484      True  66.296625             65.269408   \n",
       "1    68.420838  73.604476      True  72.077117             71.202703   \n",
       "2    74.602902  78.006757      True  76.877593             76.052380   \n",
       "3    79.003653  84.506778      True  81.996875             81.235263   \n",
       "4    85.501795  88.621336      True  87.462962             86.800952   \n",
       "\n",
       "    visual_stimulus_left_contrast  visual_stimulus_right_contrast  \\\n",
       "id                                                                  \n",
       "0                             1.0                             0.0   \n",
       "1                             0.0                             0.5   \n",
       "2                             1.0                             0.5   \n",
       "3                             0.0                             0.0   \n",
       "4                             0.5                             1.0   \n",
       "\n",
       "    response_time  response_choice  feedback_time  feedback_type  rep_num  \n",
       "id                                                                         \n",
       "0       66.419612              1.0      66.456227              1      1.0  \n",
       "1       72.602206             -1.0      72.640326              1      1.0  \n",
       "2       77.001671              1.0      77.038396              1      1.0  \n",
       "3       83.502065              0.0      83.531699              1      1.0  \n",
       "4       87.617727              1.0      87.628565             -1      1.0  "
      ]
     },
     "execution_count": 11,
     "metadata": {},
     "output_type": "execute_result"
    }
   ],
   "source": [
    "# Select the group of interest \n",
    "intervals = nwb_file.intervals\n",
    "\n",
    "# Subset the dataset from the group and assign it as a dataframe\n",
    "interval_trials_df = intervals['trials'].to_dataframe()\n",
    "interval_trials_df.head()"
   ]
  },
  {
   "cell_type": "markdown",
   "metadata": {},
   "source": [
    "The `description` attribute provides a short description on each column of the dataframe. "
   ]
  },
  {
   "cell_type": "code",
   "execution_count": 32,
   "metadata": {},
   "outputs": [
    {
     "name": "stdout",
     "output_type": "stream",
     "text": [
      "Start time of epoch, in seconds\n"
     ]
    }
   ],
   "source": [
    "print(intervals['trials']['start_time'].description)"
   ]
  },
  {
   "cell_type": "markdown",
   "metadata": {},
   "source": [
    "For more information on all the different Groups and hierarchal structure of an NWB file, please visit the <a href = 'https://nwb-schema.readthedocs.io/en/latest/format.html#nwb-n-file'> NWB:N file section</a> of the NWB Format documentation.  "
   ]
  },
  {
   "cell_type": "markdown",
   "metadata": {},
   "source": [
    "## Possible Analyses "
   ]
  },
  {
   "cell_type": "code",
   "execution_count": null,
   "metadata": {},
   "outputs": [],
   "source": []
  },
  {
   "cell_type": "code",
   "execution_count": null,
   "metadata": {},
   "outputs": [],
   "source": []
  },
  {
   "cell_type": "code",
   "execution_count": null,
   "metadata": {},
   "outputs": [],
   "source": []
  },
  {
   "cell_type": "code",
   "execution_count": 54,
   "metadata": {},
   "outputs": [],
   "source": [
    "# test cell \n",
    "io2 = NWBHDF5IO('000017/sub-Cori/sub-Cori_ses-20161217T120000.nwb', 'r')\n",
    "io3 = NWBHDF5IO('000017/sub-Cori/sub-Cori_ses-20161218T120000.nwb', 'r')\n",
    "\n",
    "nwb_file2 = io2.read()\n",
    "nwb_file3 = io3.read()"
   ]
  },
  {
   "cell_type": "code",
   "execution_count": null,
   "metadata": {},
   "outputs": [],
   "source": []
  },
  {
   "cell_type": "code",
   "execution_count": null,
   "metadata": {},
   "outputs": [],
   "source": []
  }
 ],
 "metadata": {
  "kernelspec": {
   "display_name": "Python 3",
   "language": "python",
   "name": "python3"
  },
  "language_info": {
   "codemirror_mode": {
    "name": "ipython",
    "version": 3
   },
   "file_extension": ".py",
   "mimetype": "text/x-python",
   "name": "python",
   "nbconvert_exporter": "python",
   "pygments_lexer": "ipython3",
   "version": "3.7.6"
  }
 },
 "nbformat": 4,
 "nbformat_minor": 4
}
