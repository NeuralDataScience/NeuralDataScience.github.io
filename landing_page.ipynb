{
 "cells": [
  {
   "cell_type": "markdown",
   "metadata": {},
   "source": [
    "# Teaching and Learning with NWB Datasets"
   ]
  },
  {
   "cell_type": "markdown",
   "metadata": {},
   "source": [
    "## Overview"
   ]
  },
  {
   "cell_type": "markdown",
   "metadata": {},
   "source": [
    "### This is a work in progress.\n",
    "\n",
    "This online textbook will provide interactive resources for researchers, educators, and students who would like to use open neuroscience datasets for research and teaching. This book will provide tutorials in the form of interactive notebooks and videos for how to use Python to wrangle neuroscience datasets, with a focus on [Neurodata Without Borders](https://www.nwb.org/) datasets."
   ]
  },
  {
   "cell_type": "markdown",
   "metadata": {},
   "source": [
    "## Contributors\n",
    "Ashley Juavinett & Victor Magdaleno-Garcia\n",
    "\n",
    "## Support\n",
    "<img src=\"https://upload.wikimedia.org/wikipedia/en/5/55/Logo_Kavli_Foundation.png\"\n",
    "     alt=\"Kavli Logo\"\n",
    "     style=\"float: left; margin-right: 10px;\" />\n",
    "<br /><br />\n",
    "\n",
    "This work is supported by a [Kavli Foundation Seed Grant](https://www.nwb.org/projects/) meant to increase the access to Neurodata Without Borders datasets.\n",
    "\n",
    "<img src=\"https://www.braininitiative.org/wp-content/uploads/2017/02/nwb.png\"\n",
    "     alt=\"Kavli Logo\"\n",
    "     style=\"float: left; margin-right: 10px;\" />\n",
    "<br /><br />\n",
    "<br /><br />\n",
    "\n",
    "Many thanks to the NWB team for their feedback and input."
   ]
  },
  {
   "cell_type": "markdown",
   "metadata": {},
   "source": [
    "## Additional Resources \n",
    "There are several great online resources for neural data science beyond NWB formats:\n",
    "\n",
    "- [Data Science in Practice](https://datascienceinpractice.github.io/)\n",
    "- [Neural Data Science by Nylen & Wallisch](https://www.sciencedirect.com/book/9780128040430/neural-data-science)\n",
    "- [Foundations of Data Science](https://www.inferentialthinking.com/chapters/intro.html)\n",
    "- [Computational Neuroscience](https://mrgreene09.github.io/computational-neuroscience-textbook/index.html), open textbook written by students\n",
    "- [Neuromatch Academy](http://www.neuromatchacademy.org/syllabus), online computational neuroscience course"
   ]
  }
 ],
 "metadata": {
  "kernelspec": {
   "display_name": "Python 3",
   "language": "python",
   "name": "python3"
  },
  "language_info": {
   "codemirror_mode": {
    "name": "ipython",
    "version": 3
   },
   "file_extension": ".py",
   "mimetype": "text/x-python",
   "name": "python",
   "nbconvert_exporter": "python",
   "pygments_lexer": "ipython3",
   "version": "3.7.3"
  }
 },
 "nbformat": 4,
 "nbformat_minor": 4
}
