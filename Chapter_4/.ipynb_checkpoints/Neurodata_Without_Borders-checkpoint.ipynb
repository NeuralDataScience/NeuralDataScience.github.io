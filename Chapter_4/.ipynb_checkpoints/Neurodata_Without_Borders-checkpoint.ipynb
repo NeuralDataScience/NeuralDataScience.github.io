{
 "cells": [
  {
   "cell_type": "markdown",
   "metadata": {},
   "source": [
    "# Neurodata Without Borders "
   ]
  },
  {
   "cell_type": "markdown",
   "metadata": {},
   "source": [
    "**About NWB**"
   ]
  },
  {
   "cell_type": "markdown",
   "metadata": {},
   "source": [
    "In neuroscience there are many obstacles when it comes to data sharing with other labs. With a rapidly growing feild comes the strain of there being too much data to work with, which makes the data difficult to anyalzye and share with other scientists around the world. The aim of Neurodata Without Borders is to standardize neuroscience data on an international scale. The creation of this standard dataset format will make sharing and contributing to open source project easier, ultimatly accelerating discovery. "
   ]
  },
  {
   "cell_type": "markdown",
   "metadata": {},
   "source": [
    "**Goal**"
   ]
  },
  {
   "cell_type": "markdown",
   "metadata": {},
   "source": [
    "There is currently no standardized way to collect and share data in neuroscience. No standard makes it challenging for experimental reults to be compared with others and also makes it difficult for other labs to replicate said experiment, which slows down the overall progression of the field. The goal of Neurodata Without Bordersis to develop a unified, extensible, open-source data format for cellular-based neurophysiology data  to imporve the collaboration of neuroscience projects around the world. "
   ]
  },
  {
   "cell_type": "markdown",
   "metadata": {},
   "source": [
    "**Neurodata Without Borders: Neurophysiolgy**"
   ]
  },
  {
   "cell_type": "markdown",
   "metadata": {},
   "source": [
    "Neurodata Without Borders: Neurophysiolgy (NWB:N) is the common standard to share, store, and build analysis tools for neuroscience data. NWB:N contains software to stadardize data, API's to read and write data, and important datasets in the neuroscience community that have been converted to NWB format. It also takes into account factors such as experimental design, experimental subjects, behavior, data aquisition, neural activity, and extensions. For more information please visit <a href = 'https://www.nwb.org/'> nwb.org</a>."
   ]
  }
 ],
 "metadata": {
  "kernelspec": {
   "display_name": "Python 3",
   "language": "python",
   "name": "python3"
  },
  "language_info": {
   "codemirror_mode": {
    "name": "ipython",
    "version": 3
   },
   "file_extension": ".py",
   "mimetype": "text/x-python",
   "name": "python",
   "nbconvert_exporter": "python",
   "pygments_lexer": "ipython3",
   "version": "3.7.6"
  }
 },
 "nbformat": 4,
 "nbformat_minor": 4
}
